{
 "cells": [
  {
   "cell_type": "markdown",
   "source": [
    "# Chapter 01. 금융 데이터로 소득구간 예측하기\r\n",
    "- 21.0915"
   ],
   "metadata": {}
  },
  {
   "cell_type": "markdown",
   "source": [
    "금융 데이터의 속성\r\n",
    "금융 데이터는 주로 아래의 특성을 띄게 됩니다.\r\n",
    "\r\n",
    "1) 이종(heterogeneous) 데이터의 결합: 데이터의 원천·형태·스케일 등이 서로 다른 성격을 가짐\r\n",
    "2) 분포의 편향성(skewedness): 예측값과 정답이 멀리 떨어져 있으면 학습 결과의 편향(bias)이 높을 수 있음\r\n",
    "3) 분류 레이블의 불명확성: 소득구간·신용등급·상품종류 등은 비즈니스 로직을 포함하므로 분류가 임의적 → 분석가의 해석력이 중요\r\n",
    "4) 변수의 다중공선성(multicollinearity): 변수간 상호의존이나 상관관계가 강하게 나타날 수 있음\r\n",
    "5) 변수의 비선형성: 변수의 영향력이 선형적이지 않을 수 있음, e.g.) 나이가 소득에 미치는 영향은?\r\n",
    "그 외 현실적인 규제·수집·저장 등의 한계 때문에 데이터가 불완전(missing, truncated, censored)할 수 있음\r\n",
    "\r\n",
    "다중분류와 소득구간 예측\r\n",
    "예측할 클래스(레이블 혹은 레벨이라고도 합니다)가 3개 이상인 경우를 다중분류 문제라고 합니다. 단순하게는 Multiclass classification, 회귀방법론을 쓴다면 Multinomial logistic regression 이라는 명칭으로 불립니다. 클래스간 위계관계(포함관계)는 동등하다고 가정하겠습니다.\r\n",
    "\r\n",
    "소득구간 예측은 전형적인 다중분류 문제입니다. 분석에 앞서 다음과 같은 사항을 생각해 봅시다.\r\n",
    "\r\n",
    "1) 클래스간 구분이 명확하지 않을 경우: 소득구간 구분은 어떻게 지어야 하며, 클래스는 몇 개로 결정해야 할까요?\r\n",
    "2) 클래스간 구분에 순서가 있을 경우: 정확하게 말하자면 각 소득구간은 순서가 있는(ordinal) 클래스로 보아야 할 것입니다.\r\n",
    "3) 특정 클래스에 해당하는 값이 부족할 경우: 고소득 구간 고객 수와 중소득 구간 고객의 수가 현저히 차이가 날 때 어떻게 해결할까요?\r\n",
    "다중분류 문제는 이진분류 대비 아래와 같은 추가 고려사항이 있습니다.\r\n",
    "\r\n",
    "1) 모델 구현할 때 주의사항: 변수의 원-핫-인코딩 처리, 목적함수의 결정 등\r\n",
    "2) 결과 해석할 때 주의사항: 정확도(Accuracy), F1 스코어, Confusion Matrix 등\r\n",
    "실제 분석에서 자세히 다루도록 하겠습니다.\r\n",
    "학습목표\r\n",
    "1) 이진분류·다중분류 모델의 이해\r\n",
    "2) 선형 기반·트리 기반 분류모델의 이해\r\n",
    "3) 변수 처리 방법에 대한 이해\r\n",
    "4) 분류모델 결과를 해석하는 방법 습득\r\n",
    "5) 평가결과를 바탕으로 모델을 개선하는 방법 습득"
   ],
   "metadata": {}
  },
  {
   "cell_type": "markdown",
   "source": [
    "## Step 1. 예측할 데이터 불러오기\r\n",
    "### 데이터 소개<br>\r\n",
    "이번 주제는 US Census Bureau에서 수집하고 UCI에서 배포한 US Adult Income 데이터셋에 강사가 자체 제작한 모의 변수를 추가·수정한 데이터를 사용합니다.<br>\r\n",
    "첫번째로 사용할 데이터는 US Adult Income 데이터셋이며 컬럼은 아래와 같습니다.<br>\r\n",
    "- age : 나이\r\n",
    "- workclass: 직업구분\r\n",
    "- education: 교육수준\r\n",
    "- education.num: 교육수준(numerically coded)\r\n",
    "- marital.status: 혼인상태\r\n",
    "- occupation : 직업\r\n",
    "- relationship: 가족관계\r\n",
    "- race: 인종\r\n",
    "- sex: 성별\r\n",
    "- capital.gain: 자본이득\r\n",
    "- capital.loss: 자본손실\r\n",
    "- hours.per.week: 주당 근로시간\r\n",
    "- income : 소득 구분"
   ],
   "metadata": {}
  },
  {
   "cell_type": "code",
   "execution_count": 3,
   "source": [
    "import numpy as np  \r\n",
    "import pandas as pd\r\n",
    "import matplotlib.pyplot as plt\r\n",
    "import seaborn as sns \r\n",
    "%matplotlib inline\r\n",
    "\r\n",
    "import warnings\r\n",
    "warnings.filterwarnings('ignore')"
   ],
   "outputs": [],
   "metadata": {}
  },
  {
   "cell_type": "code",
   "execution_count": 4,
   "source": [
    "datapath = 'https://github.com/mchoimis/financialML/raw/main/income/'\r\n",
    "df = pd.io.parsers.read_csv(datapath + 'income.csv')        # 미국 성인 소득\r\n",
    "df.head()"
   ],
   "outputs": [
    {
     "output_type": "execute_result",
     "data": {
      "text/html": [
       "<div>\n",
       "<style scoped>\n",
       "    .dataframe tbody tr th:only-of-type {\n",
       "        vertical-align: middle;\n",
       "    }\n",
       "\n",
       "    .dataframe tbody tr th {\n",
       "        vertical-align: top;\n",
       "    }\n",
       "\n",
       "    .dataframe thead th {\n",
       "        text-align: right;\n",
       "    }\n",
       "</style>\n",
       "<table border=\"1\" class=\"dataframe\">\n",
       "  <thead>\n",
       "    <tr style=\"text-align: right;\">\n",
       "      <th></th>\n",
       "      <th>age</th>\n",
       "      <th>workclass</th>\n",
       "      <th>fnlwgt</th>\n",
       "      <th>education</th>\n",
       "      <th>education.num</th>\n",
       "      <th>marital.status</th>\n",
       "      <th>occupation</th>\n",
       "      <th>relationship</th>\n",
       "      <th>race</th>\n",
       "      <th>sex</th>\n",
       "      <th>capital.gain</th>\n",
       "      <th>capital.loss</th>\n",
       "      <th>hours.per.week</th>\n",
       "      <th>native.country</th>\n",
       "      <th>income</th>\n",
       "    </tr>\n",
       "  </thead>\n",
       "  <tbody>\n",
       "    <tr>\n",
       "      <th>0</th>\n",
       "      <td>90</td>\n",
       "      <td>?</td>\n",
       "      <td>77053</td>\n",
       "      <td>HS-grad</td>\n",
       "      <td>9</td>\n",
       "      <td>Widowed</td>\n",
       "      <td>?</td>\n",
       "      <td>Not-in-family</td>\n",
       "      <td>White</td>\n",
       "      <td>Female</td>\n",
       "      <td>0</td>\n",
       "      <td>4356</td>\n",
       "      <td>40</td>\n",
       "      <td>United-States</td>\n",
       "      <td>&lt;=50K</td>\n",
       "    </tr>\n",
       "    <tr>\n",
       "      <th>1</th>\n",
       "      <td>82</td>\n",
       "      <td>Private</td>\n",
       "      <td>132870</td>\n",
       "      <td>HS-grad</td>\n",
       "      <td>9</td>\n",
       "      <td>Widowed</td>\n",
       "      <td>Exec-managerial</td>\n",
       "      <td>Not-in-family</td>\n",
       "      <td>White</td>\n",
       "      <td>Female</td>\n",
       "      <td>0</td>\n",
       "      <td>4356</td>\n",
       "      <td>18</td>\n",
       "      <td>United-States</td>\n",
       "      <td>&lt;=50K</td>\n",
       "    </tr>\n",
       "    <tr>\n",
       "      <th>2</th>\n",
       "      <td>66</td>\n",
       "      <td>?</td>\n",
       "      <td>186061</td>\n",
       "      <td>Some-college</td>\n",
       "      <td>10</td>\n",
       "      <td>Widowed</td>\n",
       "      <td>?</td>\n",
       "      <td>Unmarried</td>\n",
       "      <td>Black</td>\n",
       "      <td>Female</td>\n",
       "      <td>0</td>\n",
       "      <td>4356</td>\n",
       "      <td>40</td>\n",
       "      <td>United-States</td>\n",
       "      <td>&lt;=50K</td>\n",
       "    </tr>\n",
       "    <tr>\n",
       "      <th>3</th>\n",
       "      <td>54</td>\n",
       "      <td>Private</td>\n",
       "      <td>140359</td>\n",
       "      <td>7th-8th</td>\n",
       "      <td>4</td>\n",
       "      <td>Divorced</td>\n",
       "      <td>Machine-op-inspct</td>\n",
       "      <td>Unmarried</td>\n",
       "      <td>White</td>\n",
       "      <td>Female</td>\n",
       "      <td>0</td>\n",
       "      <td>3900</td>\n",
       "      <td>40</td>\n",
       "      <td>United-States</td>\n",
       "      <td>&lt;=50K</td>\n",
       "    </tr>\n",
       "    <tr>\n",
       "      <th>4</th>\n",
       "      <td>41</td>\n",
       "      <td>Private</td>\n",
       "      <td>264663</td>\n",
       "      <td>Some-college</td>\n",
       "      <td>10</td>\n",
       "      <td>Separated</td>\n",
       "      <td>Prof-specialty</td>\n",
       "      <td>Own-child</td>\n",
       "      <td>White</td>\n",
       "      <td>Female</td>\n",
       "      <td>0</td>\n",
       "      <td>3900</td>\n",
       "      <td>40</td>\n",
       "      <td>United-States</td>\n",
       "      <td>&lt;=50K</td>\n",
       "    </tr>\n",
       "  </tbody>\n",
       "</table>\n",
       "</div>"
      ],
      "text/plain": [
       "   age workclass  fnlwgt     education  education.num marital.status  \\\n",
       "0   90         ?   77053       HS-grad              9        Widowed   \n",
       "1   82   Private  132870       HS-grad              9        Widowed   \n",
       "2   66         ?  186061  Some-college             10        Widowed   \n",
       "3   54   Private  140359       7th-8th              4       Divorced   \n",
       "4   41   Private  264663  Some-college             10      Separated   \n",
       "\n",
       "          occupation   relationship   race     sex  capital.gain  \\\n",
       "0                  ?  Not-in-family  White  Female             0   \n",
       "1    Exec-managerial  Not-in-family  White  Female             0   \n",
       "2                  ?      Unmarried  Black  Female             0   \n",
       "3  Machine-op-inspct      Unmarried  White  Female             0   \n",
       "4     Prof-specialty      Own-child  White  Female             0   \n",
       "\n",
       "   capital.loss  hours.per.week native.country income  \n",
       "0          4356              40  United-States  <=50K  \n",
       "1          4356              18  United-States  <=50K  \n",
       "2          4356              40  United-States  <=50K  \n",
       "3          3900              40  United-States  <=50K  \n",
       "4          3900              40  United-States  <=50K  "
      ]
     },
     "metadata": {},
     "execution_count": 4
    }
   ],
   "metadata": {}
  },
  {
   "cell_type": "code",
   "execution_count": 5,
   "source": [
    "df['marital.status'].unique()\r\n",
    "#'Widowed', 'Divorced', 'Separated','Never-married','Married-civ-spouse''Married-spouse-absent''Married-AF-spouse'\r\n",
    "#'사별',    '이혼',     '별거',     '미혼',         '결혼-시민-배우자', '결혼 배우자 부재',     '기혼-AF-배우자'"
   ],
   "outputs": [
    {
     "output_type": "execute_result",
     "data": {
      "text/plain": [
       "array(['Widowed', 'Divorced', 'Separated', 'Never-married',\n",
       "       'Married-civ-spouse', 'Married-spouse-absent', 'Married-AF-spouse'],\n",
       "      dtype=object)"
      ]
     },
     "metadata": {},
     "execution_count": 5
    }
   ],
   "metadata": {}
  },
  {
   "cell_type": "code",
   "execution_count": 6,
   "source": [
    "df['relationship'].unique()"
   ],
   "outputs": [
    {
     "output_type": "execute_result",
     "data": {
      "text/plain": [
       "array(['Not-in-family', 'Unmarried', 'Own-child', 'Other-relative',\n",
       "       'Husband', 'Wife'], dtype=object)"
      ]
     },
     "metadata": {},
     "execution_count": 6
    }
   ],
   "metadata": {}
  },
  {
   "cell_type": "code",
   "execution_count": 7,
   "source": [
    "df['race'].unique()"
   ],
   "outputs": [
    {
     "output_type": "execute_result",
     "data": {
      "text/plain": [
       "array(['White', 'Black', 'Asian-Pac-Islander', 'Other',\n",
       "       'Amer-Indian-Eskimo'], dtype=object)"
      ]
     },
     "metadata": {},
     "execution_count": 7
    }
   ],
   "metadata": {}
  },
  {
   "cell_type": "code",
   "execution_count": 8,
   "source": [
    "df.describe()"
   ],
   "outputs": [
    {
     "output_type": "execute_result",
     "data": {
      "text/html": [
       "<div>\n",
       "<style scoped>\n",
       "    .dataframe tbody tr th:only-of-type {\n",
       "        vertical-align: middle;\n",
       "    }\n",
       "\n",
       "    .dataframe tbody tr th {\n",
       "        vertical-align: top;\n",
       "    }\n",
       "\n",
       "    .dataframe thead th {\n",
       "        text-align: right;\n",
       "    }\n",
       "</style>\n",
       "<table border=\"1\" class=\"dataframe\">\n",
       "  <thead>\n",
       "    <tr style=\"text-align: right;\">\n",
       "      <th></th>\n",
       "      <th>age</th>\n",
       "      <th>fnlwgt</th>\n",
       "      <th>education.num</th>\n",
       "      <th>capital.gain</th>\n",
       "      <th>capital.loss</th>\n",
       "      <th>hours.per.week</th>\n",
       "    </tr>\n",
       "  </thead>\n",
       "  <tbody>\n",
       "    <tr>\n",
       "      <th>count</th>\n",
       "      <td>32561.000000</td>\n",
       "      <td>3.256100e+04</td>\n",
       "      <td>32561.000000</td>\n",
       "      <td>32561.000000</td>\n",
       "      <td>32561.000000</td>\n",
       "      <td>32561.000000</td>\n",
       "    </tr>\n",
       "    <tr>\n",
       "      <th>mean</th>\n",
       "      <td>38.581647</td>\n",
       "      <td>1.897784e+05</td>\n",
       "      <td>10.080679</td>\n",
       "      <td>1077.648844</td>\n",
       "      <td>87.303830</td>\n",
       "      <td>40.437456</td>\n",
       "    </tr>\n",
       "    <tr>\n",
       "      <th>std</th>\n",
       "      <td>13.640433</td>\n",
       "      <td>1.055500e+05</td>\n",
       "      <td>2.572720</td>\n",
       "      <td>7385.292085</td>\n",
       "      <td>402.960219</td>\n",
       "      <td>12.347429</td>\n",
       "    </tr>\n",
       "    <tr>\n",
       "      <th>min</th>\n",
       "      <td>17.000000</td>\n",
       "      <td>1.228500e+04</td>\n",
       "      <td>1.000000</td>\n",
       "      <td>0.000000</td>\n",
       "      <td>0.000000</td>\n",
       "      <td>1.000000</td>\n",
       "    </tr>\n",
       "    <tr>\n",
       "      <th>25%</th>\n",
       "      <td>28.000000</td>\n",
       "      <td>1.178270e+05</td>\n",
       "      <td>9.000000</td>\n",
       "      <td>0.000000</td>\n",
       "      <td>0.000000</td>\n",
       "      <td>40.000000</td>\n",
       "    </tr>\n",
       "    <tr>\n",
       "      <th>50%</th>\n",
       "      <td>37.000000</td>\n",
       "      <td>1.783560e+05</td>\n",
       "      <td>10.000000</td>\n",
       "      <td>0.000000</td>\n",
       "      <td>0.000000</td>\n",
       "      <td>40.000000</td>\n",
       "    </tr>\n",
       "    <tr>\n",
       "      <th>75%</th>\n",
       "      <td>48.000000</td>\n",
       "      <td>2.370510e+05</td>\n",
       "      <td>12.000000</td>\n",
       "      <td>0.000000</td>\n",
       "      <td>0.000000</td>\n",
       "      <td>45.000000</td>\n",
       "    </tr>\n",
       "    <tr>\n",
       "      <th>max</th>\n",
       "      <td>90.000000</td>\n",
       "      <td>1.484705e+06</td>\n",
       "      <td>16.000000</td>\n",
       "      <td>99999.000000</td>\n",
       "      <td>4356.000000</td>\n",
       "      <td>99.000000</td>\n",
       "    </tr>\n",
       "  </tbody>\n",
       "</table>\n",
       "</div>"
      ],
      "text/plain": [
       "                age        fnlwgt  education.num  capital.gain  capital.loss  \\\n",
       "count  32561.000000  3.256100e+04   32561.000000  32561.000000  32561.000000   \n",
       "mean      38.581647  1.897784e+05      10.080679   1077.648844     87.303830   \n",
       "std       13.640433  1.055500e+05       2.572720   7385.292085    402.960219   \n",
       "min       17.000000  1.228500e+04       1.000000      0.000000      0.000000   \n",
       "25%       28.000000  1.178270e+05       9.000000      0.000000      0.000000   \n",
       "50%       37.000000  1.783560e+05      10.000000      0.000000      0.000000   \n",
       "75%       48.000000  2.370510e+05      12.000000      0.000000      0.000000   \n",
       "max       90.000000  1.484705e+06      16.000000  99999.000000   4356.000000   \n",
       "\n",
       "       hours.per.week  \n",
       "count    32561.000000  \n",
       "mean        40.437456  \n",
       "std         12.347429  \n",
       "min          1.000000  \n",
       "25%         40.000000  \n",
       "50%         40.000000  \n",
       "75%         45.000000  \n",
       "max         99.000000  "
      ]
     },
     "metadata": {},
     "execution_count": 8
    }
   ],
   "metadata": {}
  },
  {
   "cell_type": "code",
   "execution_count": 9,
   "source": [
    "# 데이터 형태 확인\r\n",
    "\r\n",
    "print(df.shape)\r\n",
    "print(df.columns)"
   ],
   "outputs": [
    {
     "output_type": "stream",
     "name": "stdout",
     "text": [
      "(32561, 15)\n",
      "Index(['age', 'workclass', 'fnlwgt', 'education', 'education.num',\n",
      "       'marital.status', 'occupation', 'relationship', 'race', 'sex',\n",
      "       'capital.gain', 'capital.loss', 'hours.per.week', 'native.country',\n",
      "       'income'],\n",
      "      dtype='object')\n"
     ]
    }
   ],
   "metadata": {}
  },
  {
   "cell_type": "code",
   "execution_count": 10,
   "source": [
    "df.info()"
   ],
   "outputs": [
    {
     "output_type": "stream",
     "name": "stdout",
     "text": [
      "<class 'pandas.core.frame.DataFrame'>\n",
      "RangeIndex: 32561 entries, 0 to 32560\n",
      "Data columns (total 15 columns):\n",
      " #   Column          Non-Null Count  Dtype \n",
      "---  ------          --------------  ----- \n",
      " 0   age             32561 non-null  int64 \n",
      " 1   workclass       32561 non-null  object\n",
      " 2   fnlwgt          32561 non-null  int64 \n",
      " 3   education       32561 non-null  object\n",
      " 4   education.num   32561 non-null  int64 \n",
      " 5   marital.status  32561 non-null  object\n",
      " 6   occupation      32561 non-null  object\n",
      " 7   relationship    32561 non-null  object\n",
      " 8   race            32561 non-null  object\n",
      " 9   sex             32561 non-null  object\n",
      " 10  capital.gain    32561 non-null  int64 \n",
      " 11  capital.loss    32561 non-null  int64 \n",
      " 12  hours.per.week  32561 non-null  int64 \n",
      " 13  native.country  32561 non-null  object\n",
      " 14  income          32561 non-null  object\n",
      "dtypes: int64(6), object(9)\n",
      "memory usage: 3.7+ MB\n"
     ]
    }
   ],
   "metadata": {}
  },
  {
   "cell_type": "markdown",
   "source": [
    "## 문제 03. 데이터 확인하기"
   ],
   "metadata": {}
  },
  {
   "cell_type": "code",
   "execution_count": 11,
   "source": [
    "df.isna().sum()"
   ],
   "outputs": [
    {
     "output_type": "execute_result",
     "data": {
      "text/plain": [
       "age               0\n",
       "workclass         0\n",
       "fnlwgt            0\n",
       "education         0\n",
       "education.num     0\n",
       "marital.status    0\n",
       "occupation        0\n",
       "relationship      0\n",
       "race              0\n",
       "sex               0\n",
       "capital.gain      0\n",
       "capital.loss      0\n",
       "hours.per.week    0\n",
       "native.country    0\n",
       "income            0\n",
       "dtype: int64"
      ]
     },
     "metadata": {},
     "execution_count": 11
    }
   ],
   "metadata": {}
  },
  {
   "cell_type": "code",
   "execution_count": 12,
   "source": [
    "# 결측치를 NaN으로 바꾸기\r\n",
    "df[df=='?'] = np.nan"
   ],
   "outputs": [],
   "metadata": {}
  },
  {
   "cell_type": "code",
   "execution_count": 13,
   "source": [
    "# 최빈값으로 결측치 채우기\r\n",
    "for col in ['workclass', 'occupation', 'native.country']:\r\n",
    "    # 이어서 작성해주세요\r\n",
    "    df[col].fillna(df[col].mode()[0], inplace=True)"
   ],
   "outputs": [],
   "metadata": {}
  },
  {
   "cell_type": "code",
   "execution_count": 14,
   "source": [
    "# 결과 확인하기\r\n",
    "\r\n",
    "df.head()"
   ],
   "outputs": [
    {
     "output_type": "execute_result",
     "data": {
      "text/html": [
       "<div>\n",
       "<style scoped>\n",
       "    .dataframe tbody tr th:only-of-type {\n",
       "        vertical-align: middle;\n",
       "    }\n",
       "\n",
       "    .dataframe tbody tr th {\n",
       "        vertical-align: top;\n",
       "    }\n",
       "\n",
       "    .dataframe thead th {\n",
       "        text-align: right;\n",
       "    }\n",
       "</style>\n",
       "<table border=\"1\" class=\"dataframe\">\n",
       "  <thead>\n",
       "    <tr style=\"text-align: right;\">\n",
       "      <th></th>\n",
       "      <th>age</th>\n",
       "      <th>workclass</th>\n",
       "      <th>fnlwgt</th>\n",
       "      <th>education</th>\n",
       "      <th>education.num</th>\n",
       "      <th>marital.status</th>\n",
       "      <th>occupation</th>\n",
       "      <th>relationship</th>\n",
       "      <th>race</th>\n",
       "      <th>sex</th>\n",
       "      <th>capital.gain</th>\n",
       "      <th>capital.loss</th>\n",
       "      <th>hours.per.week</th>\n",
       "      <th>native.country</th>\n",
       "      <th>income</th>\n",
       "    </tr>\n",
       "  </thead>\n",
       "  <tbody>\n",
       "    <tr>\n",
       "      <th>0</th>\n",
       "      <td>90</td>\n",
       "      <td>Private</td>\n",
       "      <td>77053</td>\n",
       "      <td>HS-grad</td>\n",
       "      <td>9</td>\n",
       "      <td>Widowed</td>\n",
       "      <td>Prof-specialty</td>\n",
       "      <td>Not-in-family</td>\n",
       "      <td>White</td>\n",
       "      <td>Female</td>\n",
       "      <td>0</td>\n",
       "      <td>4356</td>\n",
       "      <td>40</td>\n",
       "      <td>United-States</td>\n",
       "      <td>&lt;=50K</td>\n",
       "    </tr>\n",
       "    <tr>\n",
       "      <th>1</th>\n",
       "      <td>82</td>\n",
       "      <td>Private</td>\n",
       "      <td>132870</td>\n",
       "      <td>HS-grad</td>\n",
       "      <td>9</td>\n",
       "      <td>Widowed</td>\n",
       "      <td>Exec-managerial</td>\n",
       "      <td>Not-in-family</td>\n",
       "      <td>White</td>\n",
       "      <td>Female</td>\n",
       "      <td>0</td>\n",
       "      <td>4356</td>\n",
       "      <td>18</td>\n",
       "      <td>United-States</td>\n",
       "      <td>&lt;=50K</td>\n",
       "    </tr>\n",
       "    <tr>\n",
       "      <th>2</th>\n",
       "      <td>66</td>\n",
       "      <td>Private</td>\n",
       "      <td>186061</td>\n",
       "      <td>Some-college</td>\n",
       "      <td>10</td>\n",
       "      <td>Widowed</td>\n",
       "      <td>Prof-specialty</td>\n",
       "      <td>Unmarried</td>\n",
       "      <td>Black</td>\n",
       "      <td>Female</td>\n",
       "      <td>0</td>\n",
       "      <td>4356</td>\n",
       "      <td>40</td>\n",
       "      <td>United-States</td>\n",
       "      <td>&lt;=50K</td>\n",
       "    </tr>\n",
       "    <tr>\n",
       "      <th>3</th>\n",
       "      <td>54</td>\n",
       "      <td>Private</td>\n",
       "      <td>140359</td>\n",
       "      <td>7th-8th</td>\n",
       "      <td>4</td>\n",
       "      <td>Divorced</td>\n",
       "      <td>Machine-op-inspct</td>\n",
       "      <td>Unmarried</td>\n",
       "      <td>White</td>\n",
       "      <td>Female</td>\n",
       "      <td>0</td>\n",
       "      <td>3900</td>\n",
       "      <td>40</td>\n",
       "      <td>United-States</td>\n",
       "      <td>&lt;=50K</td>\n",
       "    </tr>\n",
       "    <tr>\n",
       "      <th>4</th>\n",
       "      <td>41</td>\n",
       "      <td>Private</td>\n",
       "      <td>264663</td>\n",
       "      <td>Some-college</td>\n",
       "      <td>10</td>\n",
       "      <td>Separated</td>\n",
       "      <td>Prof-specialty</td>\n",
       "      <td>Own-child</td>\n",
       "      <td>White</td>\n",
       "      <td>Female</td>\n",
       "      <td>0</td>\n",
       "      <td>3900</td>\n",
       "      <td>40</td>\n",
       "      <td>United-States</td>\n",
       "      <td>&lt;=50K</td>\n",
       "    </tr>\n",
       "  </tbody>\n",
       "</table>\n",
       "</div>"
      ],
      "text/plain": [
       "   age workclass  fnlwgt     education  education.num marital.status  \\\n",
       "0   90   Private   77053       HS-grad              9        Widowed   \n",
       "1   82   Private  132870       HS-grad              9        Widowed   \n",
       "2   66   Private  186061  Some-college             10        Widowed   \n",
       "3   54   Private  140359       7th-8th              4       Divorced   \n",
       "4   41   Private  264663  Some-college             10      Separated   \n",
       "\n",
       "          occupation   relationship   race     sex  capital.gain  \\\n",
       "0     Prof-specialty  Not-in-family  White  Female             0   \n",
       "1    Exec-managerial  Not-in-family  White  Female             0   \n",
       "2     Prof-specialty      Unmarried  Black  Female             0   \n",
       "3  Machine-op-inspct      Unmarried  White  Female             0   \n",
       "4     Prof-specialty      Own-child  White  Female             0   \n",
       "\n",
       "   capital.loss  hours.per.week native.country income  \n",
       "0          4356              40  United-States  <=50K  \n",
       "1          4356              18  United-States  <=50K  \n",
       "2          4356              40  United-States  <=50K  \n",
       "3          3900              40  United-States  <=50K  \n",
       "4          3900              40  United-States  <=50K  "
      ]
     },
     "metadata": {},
     "execution_count": 14
    }
   ],
   "metadata": {}
  },
  {
   "cell_type": "code",
   "execution_count": 15,
   "source": [
    "df.isnull().sum()"
   ],
   "outputs": [
    {
     "output_type": "execute_result",
     "data": {
      "text/plain": [
       "age               0\n",
       "workclass         0\n",
       "fnlwgt            0\n",
       "education         0\n",
       "education.num     0\n",
       "marital.status    0\n",
       "occupation        0\n",
       "relationship      0\n",
       "race              0\n",
       "sex               0\n",
       "capital.gain      0\n",
       "capital.loss      0\n",
       "hours.per.week    0\n",
       "native.country    0\n",
       "income            0\n",
       "dtype: int64"
      ]
     },
     "metadata": {},
     "execution_count": 15
    }
   ],
   "metadata": {}
  },
  {
   "cell_type": "markdown",
   "source": [
    "## Step 2. Feature Engineering\r\n",
    "### 문제 04. 인풋 피처와 타겟값 만들기"
   ],
   "metadata": {}
  },
  {
   "cell_type": "code",
   "execution_count": 16,
   "source": [
    "X =  df.drop(['income', 'education', 'fnlwgt'], axis = 1)\r\n",
    "y =  df['income']\r\n"
   ],
   "outputs": [],
   "metadata": {}
  },
  {
   "cell_type": "code",
   "execution_count": 17,
   "source": [
    "X.head()"
   ],
   "outputs": [
    {
     "output_type": "execute_result",
     "data": {
      "text/html": [
       "<div>\n",
       "<style scoped>\n",
       "    .dataframe tbody tr th:only-of-type {\n",
       "        vertical-align: middle;\n",
       "    }\n",
       "\n",
       "    .dataframe tbody tr th {\n",
       "        vertical-align: top;\n",
       "    }\n",
       "\n",
       "    .dataframe thead th {\n",
       "        text-align: right;\n",
       "    }\n",
       "</style>\n",
       "<table border=\"1\" class=\"dataframe\">\n",
       "  <thead>\n",
       "    <tr style=\"text-align: right;\">\n",
       "      <th></th>\n",
       "      <th>age</th>\n",
       "      <th>workclass</th>\n",
       "      <th>education.num</th>\n",
       "      <th>marital.status</th>\n",
       "      <th>occupation</th>\n",
       "      <th>relationship</th>\n",
       "      <th>race</th>\n",
       "      <th>sex</th>\n",
       "      <th>capital.gain</th>\n",
       "      <th>capital.loss</th>\n",
       "      <th>hours.per.week</th>\n",
       "      <th>native.country</th>\n",
       "    </tr>\n",
       "  </thead>\n",
       "  <tbody>\n",
       "    <tr>\n",
       "      <th>0</th>\n",
       "      <td>90</td>\n",
       "      <td>Private</td>\n",
       "      <td>9</td>\n",
       "      <td>Widowed</td>\n",
       "      <td>Prof-specialty</td>\n",
       "      <td>Not-in-family</td>\n",
       "      <td>White</td>\n",
       "      <td>Female</td>\n",
       "      <td>0</td>\n",
       "      <td>4356</td>\n",
       "      <td>40</td>\n",
       "      <td>United-States</td>\n",
       "    </tr>\n",
       "    <tr>\n",
       "      <th>1</th>\n",
       "      <td>82</td>\n",
       "      <td>Private</td>\n",
       "      <td>9</td>\n",
       "      <td>Widowed</td>\n",
       "      <td>Exec-managerial</td>\n",
       "      <td>Not-in-family</td>\n",
       "      <td>White</td>\n",
       "      <td>Female</td>\n",
       "      <td>0</td>\n",
       "      <td>4356</td>\n",
       "      <td>18</td>\n",
       "      <td>United-States</td>\n",
       "    </tr>\n",
       "    <tr>\n",
       "      <th>2</th>\n",
       "      <td>66</td>\n",
       "      <td>Private</td>\n",
       "      <td>10</td>\n",
       "      <td>Widowed</td>\n",
       "      <td>Prof-specialty</td>\n",
       "      <td>Unmarried</td>\n",
       "      <td>Black</td>\n",
       "      <td>Female</td>\n",
       "      <td>0</td>\n",
       "      <td>4356</td>\n",
       "      <td>40</td>\n",
       "      <td>United-States</td>\n",
       "    </tr>\n",
       "    <tr>\n",
       "      <th>3</th>\n",
       "      <td>54</td>\n",
       "      <td>Private</td>\n",
       "      <td>4</td>\n",
       "      <td>Divorced</td>\n",
       "      <td>Machine-op-inspct</td>\n",
       "      <td>Unmarried</td>\n",
       "      <td>White</td>\n",
       "      <td>Female</td>\n",
       "      <td>0</td>\n",
       "      <td>3900</td>\n",
       "      <td>40</td>\n",
       "      <td>United-States</td>\n",
       "    </tr>\n",
       "    <tr>\n",
       "      <th>4</th>\n",
       "      <td>41</td>\n",
       "      <td>Private</td>\n",
       "      <td>10</td>\n",
       "      <td>Separated</td>\n",
       "      <td>Prof-specialty</td>\n",
       "      <td>Own-child</td>\n",
       "      <td>White</td>\n",
       "      <td>Female</td>\n",
       "      <td>0</td>\n",
       "      <td>3900</td>\n",
       "      <td>40</td>\n",
       "      <td>United-States</td>\n",
       "    </tr>\n",
       "  </tbody>\n",
       "</table>\n",
       "</div>"
      ],
      "text/plain": [
       "   age workclass  education.num marital.status         occupation  \\\n",
       "0   90   Private              9        Widowed     Prof-specialty   \n",
       "1   82   Private              9        Widowed    Exec-managerial   \n",
       "2   66   Private             10        Widowed     Prof-specialty   \n",
       "3   54   Private              4       Divorced  Machine-op-inspct   \n",
       "4   41   Private             10      Separated     Prof-specialty   \n",
       "\n",
       "    relationship   race     sex  capital.gain  capital.loss  hours.per.week  \\\n",
       "0  Not-in-family  White  Female             0          4356              40   \n",
       "1  Not-in-family  White  Female             0          4356              18   \n",
       "2      Unmarried  Black  Female             0          4356              40   \n",
       "3      Unmarried  White  Female             0          3900              40   \n",
       "4      Own-child  White  Female             0          3900              40   \n",
       "\n",
       "  native.country  \n",
       "0  United-States  \n",
       "1  United-States  \n",
       "2  United-States  \n",
       "3  United-States  \n",
       "4  United-States  "
      ]
     },
     "metadata": {},
     "execution_count": 17
    }
   ],
   "metadata": {}
  },
  {
   "cell_type": "code",
   "execution_count": 18,
   "source": [
    "X.info()"
   ],
   "outputs": [
    {
     "output_type": "stream",
     "name": "stdout",
     "text": [
      "<class 'pandas.core.frame.DataFrame'>\n",
      "RangeIndex: 32561 entries, 0 to 32560\n",
      "Data columns (total 12 columns):\n",
      " #   Column          Non-Null Count  Dtype \n",
      "---  ------          --------------  ----- \n",
      " 0   age             32561 non-null  int64 \n",
      " 1   workclass       32561 non-null  object\n",
      " 2   education.num   32561 non-null  int64 \n",
      " 3   marital.status  32561 non-null  object\n",
      " 4   occupation      32561 non-null  object\n",
      " 5   relationship    32561 non-null  object\n",
      " 6   race            32561 non-null  object\n",
      " 7   sex             32561 non-null  object\n",
      " 8   capital.gain    32561 non-null  int64 \n",
      " 9   capital.loss    32561 non-null  int64 \n",
      " 10  hours.per.week  32561 non-null  int64 \n",
      " 11  native.country  32561 non-null  object\n",
      "dtypes: int64(5), object(7)\n",
      "memory usage: 3.0+ MB\n"
     ]
    }
   ],
   "metadata": {}
  },
  {
   "cell_type": "code",
   "execution_count": 19,
   "source": [
    "y.head()"
   ],
   "outputs": [
    {
     "output_type": "execute_result",
     "data": {
      "text/plain": [
       "0    <=50K\n",
       "1    <=50K\n",
       "2    <=50K\n",
       "3    <=50K\n",
       "4    <=50K\n",
       "Name: income, dtype: object"
      ]
     },
     "metadata": {},
     "execution_count": 19
    }
   ],
   "metadata": {}
  },
  {
   "cell_type": "markdown",
   "source": [
    "### 문제 05. 원 데이터를 training set과 test set으로 나누기"
   ],
   "metadata": {}
  },
  {
   "cell_type": "code",
   "execution_count": 20,
   "source": [
    "from sklearn.model_selection import train_test_split\r\n",
    "\r\n",
    "X_train, X_test, y_train, y_test =  train_test_split(X, y, test_size = 0.3, random_state = 0)\r\n",
    "X_train.head()"
   ],
   "outputs": [
    {
     "output_type": "execute_result",
     "data": {
      "text/html": [
       "<div>\n",
       "<style scoped>\n",
       "    .dataframe tbody tr th:only-of-type {\n",
       "        vertical-align: middle;\n",
       "    }\n",
       "\n",
       "    .dataframe tbody tr th {\n",
       "        vertical-align: top;\n",
       "    }\n",
       "\n",
       "    .dataframe thead th {\n",
       "        text-align: right;\n",
       "    }\n",
       "</style>\n",
       "<table border=\"1\" class=\"dataframe\">\n",
       "  <thead>\n",
       "    <tr style=\"text-align: right;\">\n",
       "      <th></th>\n",
       "      <th>age</th>\n",
       "      <th>workclass</th>\n",
       "      <th>education.num</th>\n",
       "      <th>marital.status</th>\n",
       "      <th>occupation</th>\n",
       "      <th>relationship</th>\n",
       "      <th>race</th>\n",
       "      <th>sex</th>\n",
       "      <th>capital.gain</th>\n",
       "      <th>capital.loss</th>\n",
       "      <th>hours.per.week</th>\n",
       "      <th>native.country</th>\n",
       "    </tr>\n",
       "  </thead>\n",
       "  <tbody>\n",
       "    <tr>\n",
       "      <th>32098</th>\n",
       "      <td>40</td>\n",
       "      <td>State-gov</td>\n",
       "      <td>13</td>\n",
       "      <td>Married-civ-spouse</td>\n",
       "      <td>Exec-managerial</td>\n",
       "      <td>Wife</td>\n",
       "      <td>White</td>\n",
       "      <td>Female</td>\n",
       "      <td>0</td>\n",
       "      <td>0</td>\n",
       "      <td>20</td>\n",
       "      <td>United-States</td>\n",
       "    </tr>\n",
       "    <tr>\n",
       "      <th>25206</th>\n",
       "      <td>39</td>\n",
       "      <td>Local-gov</td>\n",
       "      <td>9</td>\n",
       "      <td>Married-civ-spouse</td>\n",
       "      <td>Machine-op-inspct</td>\n",
       "      <td>Husband</td>\n",
       "      <td>White</td>\n",
       "      <td>Male</td>\n",
       "      <td>0</td>\n",
       "      <td>0</td>\n",
       "      <td>38</td>\n",
       "      <td>United-States</td>\n",
       "    </tr>\n",
       "    <tr>\n",
       "      <th>23491</th>\n",
       "      <td>42</td>\n",
       "      <td>Private</td>\n",
       "      <td>10</td>\n",
       "      <td>Never-married</td>\n",
       "      <td>Exec-managerial</td>\n",
       "      <td>Not-in-family</td>\n",
       "      <td>White</td>\n",
       "      <td>Female</td>\n",
       "      <td>0</td>\n",
       "      <td>0</td>\n",
       "      <td>40</td>\n",
       "      <td>United-States</td>\n",
       "    </tr>\n",
       "    <tr>\n",
       "      <th>12367</th>\n",
       "      <td>27</td>\n",
       "      <td>Local-gov</td>\n",
       "      <td>9</td>\n",
       "      <td>Never-married</td>\n",
       "      <td>Farming-fishing</td>\n",
       "      <td>Own-child</td>\n",
       "      <td>White</td>\n",
       "      <td>Male</td>\n",
       "      <td>0</td>\n",
       "      <td>0</td>\n",
       "      <td>40</td>\n",
       "      <td>United-States</td>\n",
       "    </tr>\n",
       "    <tr>\n",
       "      <th>7054</th>\n",
       "      <td>38</td>\n",
       "      <td>Federal-gov</td>\n",
       "      <td>14</td>\n",
       "      <td>Married-civ-spouse</td>\n",
       "      <td>Exec-managerial</td>\n",
       "      <td>Husband</td>\n",
       "      <td>White</td>\n",
       "      <td>Male</td>\n",
       "      <td>0</td>\n",
       "      <td>0</td>\n",
       "      <td>40</td>\n",
       "      <td>United-States</td>\n",
       "    </tr>\n",
       "  </tbody>\n",
       "</table>\n",
       "</div>"
      ],
      "text/plain": [
       "       age    workclass  education.num      marital.status         occupation  \\\n",
       "32098   40    State-gov             13  Married-civ-spouse    Exec-managerial   \n",
       "25206   39    Local-gov              9  Married-civ-spouse  Machine-op-inspct   \n",
       "23491   42      Private             10       Never-married    Exec-managerial   \n",
       "12367   27    Local-gov              9       Never-married    Farming-fishing   \n",
       "7054    38  Federal-gov             14  Married-civ-spouse    Exec-managerial   \n",
       "\n",
       "        relationship   race     sex  capital.gain  capital.loss  \\\n",
       "32098           Wife  White  Female             0             0   \n",
       "25206        Husband  White    Male             0             0   \n",
       "23491  Not-in-family  White  Female             0             0   \n",
       "12367      Own-child  White    Male             0             0   \n",
       "7054         Husband  White    Male             0             0   \n",
       "\n",
       "       hours.per.week native.country  \n",
       "32098              20  United-States  \n",
       "25206              38  United-States  \n",
       "23491              40  United-States  \n",
       "12367              40  United-States  \n",
       "7054               40  United-States  "
      ]
     },
     "metadata": {},
     "execution_count": 20
    }
   ],
   "metadata": {}
  },
  {
   "cell_type": "code",
   "execution_count": 21,
   "source": [
    "X_train, X_test, y_train, y_test =  train_test_split(X, y, test_size = 0.3, random_state = 0)\r\n",
    "X_train.head()"
   ],
   "outputs": [
    {
     "output_type": "execute_result",
     "data": {
      "text/html": [
       "<div>\n",
       "<style scoped>\n",
       "    .dataframe tbody tr th:only-of-type {\n",
       "        vertical-align: middle;\n",
       "    }\n",
       "\n",
       "    .dataframe tbody tr th {\n",
       "        vertical-align: top;\n",
       "    }\n",
       "\n",
       "    .dataframe thead th {\n",
       "        text-align: right;\n",
       "    }\n",
       "</style>\n",
       "<table border=\"1\" class=\"dataframe\">\n",
       "  <thead>\n",
       "    <tr style=\"text-align: right;\">\n",
       "      <th></th>\n",
       "      <th>age</th>\n",
       "      <th>workclass</th>\n",
       "      <th>education.num</th>\n",
       "      <th>marital.status</th>\n",
       "      <th>occupation</th>\n",
       "      <th>relationship</th>\n",
       "      <th>race</th>\n",
       "      <th>sex</th>\n",
       "      <th>capital.gain</th>\n",
       "      <th>capital.loss</th>\n",
       "      <th>hours.per.week</th>\n",
       "      <th>native.country</th>\n",
       "    </tr>\n",
       "  </thead>\n",
       "  <tbody>\n",
       "    <tr>\n",
       "      <th>32098</th>\n",
       "      <td>40</td>\n",
       "      <td>State-gov</td>\n",
       "      <td>13</td>\n",
       "      <td>Married-civ-spouse</td>\n",
       "      <td>Exec-managerial</td>\n",
       "      <td>Wife</td>\n",
       "      <td>White</td>\n",
       "      <td>Female</td>\n",
       "      <td>0</td>\n",
       "      <td>0</td>\n",
       "      <td>20</td>\n",
       "      <td>United-States</td>\n",
       "    </tr>\n",
       "    <tr>\n",
       "      <th>25206</th>\n",
       "      <td>39</td>\n",
       "      <td>Local-gov</td>\n",
       "      <td>9</td>\n",
       "      <td>Married-civ-spouse</td>\n",
       "      <td>Machine-op-inspct</td>\n",
       "      <td>Husband</td>\n",
       "      <td>White</td>\n",
       "      <td>Male</td>\n",
       "      <td>0</td>\n",
       "      <td>0</td>\n",
       "      <td>38</td>\n",
       "      <td>United-States</td>\n",
       "    </tr>\n",
       "    <tr>\n",
       "      <th>23491</th>\n",
       "      <td>42</td>\n",
       "      <td>Private</td>\n",
       "      <td>10</td>\n",
       "      <td>Never-married</td>\n",
       "      <td>Exec-managerial</td>\n",
       "      <td>Not-in-family</td>\n",
       "      <td>White</td>\n",
       "      <td>Female</td>\n",
       "      <td>0</td>\n",
       "      <td>0</td>\n",
       "      <td>40</td>\n",
       "      <td>United-States</td>\n",
       "    </tr>\n",
       "    <tr>\n",
       "      <th>12367</th>\n",
       "      <td>27</td>\n",
       "      <td>Local-gov</td>\n",
       "      <td>9</td>\n",
       "      <td>Never-married</td>\n",
       "      <td>Farming-fishing</td>\n",
       "      <td>Own-child</td>\n",
       "      <td>White</td>\n",
       "      <td>Male</td>\n",
       "      <td>0</td>\n",
       "      <td>0</td>\n",
       "      <td>40</td>\n",
       "      <td>United-States</td>\n",
       "    </tr>\n",
       "    <tr>\n",
       "      <th>7054</th>\n",
       "      <td>38</td>\n",
       "      <td>Federal-gov</td>\n",
       "      <td>14</td>\n",
       "      <td>Married-civ-spouse</td>\n",
       "      <td>Exec-managerial</td>\n",
       "      <td>Husband</td>\n",
       "      <td>White</td>\n",
       "      <td>Male</td>\n",
       "      <td>0</td>\n",
       "      <td>0</td>\n",
       "      <td>40</td>\n",
       "      <td>United-States</td>\n",
       "    </tr>\n",
       "  </tbody>\n",
       "</table>\n",
       "</div>"
      ],
      "text/plain": [
       "       age    workclass  education.num      marital.status         occupation  \\\n",
       "32098   40    State-gov             13  Married-civ-spouse    Exec-managerial   \n",
       "25206   39    Local-gov              9  Married-civ-spouse  Machine-op-inspct   \n",
       "23491   42      Private             10       Never-married    Exec-managerial   \n",
       "12367   27    Local-gov              9       Never-married    Farming-fishing   \n",
       "7054    38  Federal-gov             14  Married-civ-spouse    Exec-managerial   \n",
       "\n",
       "        relationship   race     sex  capital.gain  capital.loss  \\\n",
       "32098           Wife  White  Female             0             0   \n",
       "25206        Husband  White    Male             0             0   \n",
       "23491  Not-in-family  White  Female             0             0   \n",
       "12367      Own-child  White    Male             0             0   \n",
       "7054         Husband  White    Male             0             0   \n",
       "\n",
       "       hours.per.week native.country  \n",
       "32098              20  United-States  \n",
       "25206              38  United-States  \n",
       "23491              40  United-States  \n",
       "12367              40  United-States  \n",
       "7054               40  United-States  "
      ]
     },
     "metadata": {},
     "execution_count": 21
    }
   ],
   "metadata": {}
  },
  {
   "cell_type": "markdown",
   "source": [
    "### 문제 06. 범주변수 처리하기"
   ],
   "metadata": {}
  },
  {
   "cell_type": "code",
   "execution_count": 22,
   "source": [
    "from sklearn import preprocessing\r\n",
    "\r\n",
    "categorical = ['workclass', 'marital.status', 'occupation', 'relationship', 'race', 'sex', 'native.country']\r\n",
    "for feature in categorical:\r\n",
    "        le =  preprocessing.LabelEncoder()\r\n",
    "        X_train[feature] =  le.fit_transform(X_train[feature]) \r\n",
    "        X_test[feature] =   le.transform(X_test[feature]) "
   ],
   "outputs": [],
   "metadata": {}
  },
  {
   "cell_type": "markdown",
   "source": [
    "### 문제 07. 범주변수 처리 결과 확인하기\r\n",
    "\r\n",
    "참고: 범주변수의 처리<br>\r\n",
    "범주변수의 처리 방법은 크게 2가지로 나눌 수 있습니다.\r\n",
    "\r\n",
    "- 클래스를 숫자로 변환\r\n",
    "- 원-핫-인코딩(더미코딩)"
   ],
   "metadata": {}
  },
  {
   "cell_type": "code",
   "execution_count": 23,
   "source": [
    "# 변환된 범주변수 컬럼 확인하기(X_train)\r\n",
    "X_train[categorical].head(3)"
   ],
   "outputs": [
    {
     "output_type": "execute_result",
     "data": {
      "text/html": [
       "<div>\n",
       "<style scoped>\n",
       "    .dataframe tbody tr th:only-of-type {\n",
       "        vertical-align: middle;\n",
       "    }\n",
       "\n",
       "    .dataframe tbody tr th {\n",
       "        vertical-align: top;\n",
       "    }\n",
       "\n",
       "    .dataframe thead th {\n",
       "        text-align: right;\n",
       "    }\n",
       "</style>\n",
       "<table border=\"1\" class=\"dataframe\">\n",
       "  <thead>\n",
       "    <tr style=\"text-align: right;\">\n",
       "      <th></th>\n",
       "      <th>workclass</th>\n",
       "      <th>marital.status</th>\n",
       "      <th>occupation</th>\n",
       "      <th>relationship</th>\n",
       "      <th>race</th>\n",
       "      <th>sex</th>\n",
       "      <th>native.country</th>\n",
       "    </tr>\n",
       "  </thead>\n",
       "  <tbody>\n",
       "    <tr>\n",
       "      <th>32098</th>\n",
       "      <td>6</td>\n",
       "      <td>2</td>\n",
       "      <td>3</td>\n",
       "      <td>5</td>\n",
       "      <td>4</td>\n",
       "      <td>0</td>\n",
       "      <td>38</td>\n",
       "    </tr>\n",
       "    <tr>\n",
       "      <th>25206</th>\n",
       "      <td>1</td>\n",
       "      <td>2</td>\n",
       "      <td>6</td>\n",
       "      <td>0</td>\n",
       "      <td>4</td>\n",
       "      <td>1</td>\n",
       "      <td>38</td>\n",
       "    </tr>\n",
       "    <tr>\n",
       "      <th>23491</th>\n",
       "      <td>3</td>\n",
       "      <td>4</td>\n",
       "      <td>3</td>\n",
       "      <td>1</td>\n",
       "      <td>4</td>\n",
       "      <td>0</td>\n",
       "      <td>38</td>\n",
       "    </tr>\n",
       "  </tbody>\n",
       "</table>\n",
       "</div>"
      ],
      "text/plain": [
       "       workclass  marital.status  occupation  relationship  race  sex  \\\n",
       "32098          6               2           3             5     4    0   \n",
       "25206          1               2           6             0     4    1   \n",
       "23491          3               4           3             1     4    0   \n",
       "\n",
       "       native.country  \n",
       "32098              38  \n",
       "25206              38  \n",
       "23491              38  "
      ]
     },
     "metadata": {},
     "execution_count": 23
    }
   ],
   "metadata": {}
  },
  {
   "cell_type": "code",
   "execution_count": 24,
   "source": [
    "# 변환된 범주변수 컬럼 확인하기(X_test)\r\n",
    "X_test[categorical].head(3)"
   ],
   "outputs": [
    {
     "output_type": "execute_result",
     "data": {
      "text/html": [
       "<div>\n",
       "<style scoped>\n",
       "    .dataframe tbody tr th:only-of-type {\n",
       "        vertical-align: middle;\n",
       "    }\n",
       "\n",
       "    .dataframe tbody tr th {\n",
       "        vertical-align: top;\n",
       "    }\n",
       "\n",
       "    .dataframe thead th {\n",
       "        text-align: right;\n",
       "    }\n",
       "</style>\n",
       "<table border=\"1\" class=\"dataframe\">\n",
       "  <thead>\n",
       "    <tr style=\"text-align: right;\">\n",
       "      <th></th>\n",
       "      <th>workclass</th>\n",
       "      <th>marital.status</th>\n",
       "      <th>occupation</th>\n",
       "      <th>relationship</th>\n",
       "      <th>race</th>\n",
       "      <th>sex</th>\n",
       "      <th>native.country</th>\n",
       "    </tr>\n",
       "  </thead>\n",
       "  <tbody>\n",
       "    <tr>\n",
       "      <th>22278</th>\n",
       "      <td>3</td>\n",
       "      <td>6</td>\n",
       "      <td>11</td>\n",
       "      <td>4</td>\n",
       "      <td>4</td>\n",
       "      <td>0</td>\n",
       "      <td>38</td>\n",
       "    </tr>\n",
       "    <tr>\n",
       "      <th>8950</th>\n",
       "      <td>3</td>\n",
       "      <td>4</td>\n",
       "      <td>5</td>\n",
       "      <td>3</td>\n",
       "      <td>4</td>\n",
       "      <td>0</td>\n",
       "      <td>38</td>\n",
       "    </tr>\n",
       "    <tr>\n",
       "      <th>7838</th>\n",
       "      <td>3</td>\n",
       "      <td>4</td>\n",
       "      <td>7</td>\n",
       "      <td>1</td>\n",
       "      <td>1</td>\n",
       "      <td>0</td>\n",
       "      <td>39</td>\n",
       "    </tr>\n",
       "  </tbody>\n",
       "</table>\n",
       "</div>"
      ],
      "text/plain": [
       "       workclass  marital.status  occupation  relationship  race  sex  \\\n",
       "22278          3               6          11             4     4    0   \n",
       "8950           3               4           5             3     4    0   \n",
       "7838           3               4           7             1     1    0   \n",
       "\n",
       "       native.country  \n",
       "22278              38  \n",
       "8950               38  \n",
       "7838               39  "
      ]
     },
     "metadata": {},
     "execution_count": 24
    }
   ],
   "metadata": {}
  },
  {
   "cell_type": "markdown",
   "source": [
    "### 문제 08. 피처 스케일 조정하기"
   ],
   "metadata": {}
  },
  {
   "cell_type": "markdown",
   "source": [
    "참고: scikit-learn에서 제공하는 피처 스케일러(scaler)\r\n",
    "- StandardScaler: 기본 스케일, 각 피처의 평균을 0, 표준편차를 1로 변환\r\n",
    "- RobustScaler: 위와 유사하지만 평균 대신 중간값(median)과 일분위, 삼분위값(quartile)을 사용하여 이상치 영향을 최소화\r\n",
    "- MinMaxScaler: 모든 피처의 최대치와 최소치가 각각 1, 0이 되도록 스케일 조정\r\n",
    "- Normalizer: 피처(컬럼)이 아니라 row마다 정규화되며, 유클리드 거리가 1이 되도록 데이터를 조정하여 빠르게 학습할 수 있게 함\r\n",
    "\r\n",
    "스케일 조정을 하는 이유는 데이터의 값이 너무 크거나 작을 때 학습이 제대로 되지 않을 수도 있기 때문입니다. 또한 스케일의 영향이 절대적인 분류기(예: knn과 같은 거리기반 알고리즘)의 경우, 스케일 조정을 필수적으로 검토해야 합니다.\r\n",
    "\r\n",
    "반면 어떤 항목은 원본 데이터의 분포를 유지하는 것이 나을 수도 있습니다. 예를 들어, 데이터가 거의 한 곳에 집중되어 있는 feature를 표준화시켜 분포를 같게 만들었을 때, 작은 단위의 변화가 큰 차이를 나타내는 것처럼 학습될 수도 있습니다. 또한 스케일의 영향을 크게 받지 않는 분류기(예: 트리 기반 앙상블 알고리즘)를 사용할 경우에도 성능이 준수하게 나오거나 과대적합(overfitting)의 우려가 적다면 생략할 수도 있습니다.\r\n",
    "\r\n",
    "스케일 조정시 유의해야할 점은 원본 데이터의 의미를 잃어버릴 수 있다는 것입니다. 최종적으로 답을 구하는 것이 목적이 아니라 모델의 해석이나 향후 다른 데이터셋으로의 응용이 더 중요할 때 원 피처에 대한 설명력을 잃어버린다면 모델 개선이 어려울 수도 있습니다. 이 점을 함께 고려하시면 좋겠습니다."
   ],
   "metadata": {}
  },
  {
   "cell_type": "code",
   "execution_count": 25,
   "source": [
    "from sklearn.preprocessing import StandardScaler\r\n",
    "\r\n",
    "scaler =  StandardScaler()\r\n",
    "X_train_scaled = pd.DataFrame(scaler.fit_transform(X_train), columns = X.columns)\r\n",
    "X_test_scaled = pd.DataFrame(scaler.transform(X_test), columns = X.columns)"
   ],
   "outputs": [],
   "metadata": {}
  },
  {
   "cell_type": "code",
   "execution_count": 26,
   "source": [
    "# 스케일 조정된 X_train 데이터 확인하기\r\n",
    "\r\n",
    "X_train.head()"
   ],
   "outputs": [
    {
     "output_type": "execute_result",
     "data": {
      "text/html": [
       "<div>\n",
       "<style scoped>\n",
       "    .dataframe tbody tr th:only-of-type {\n",
       "        vertical-align: middle;\n",
       "    }\n",
       "\n",
       "    .dataframe tbody tr th {\n",
       "        vertical-align: top;\n",
       "    }\n",
       "\n",
       "    .dataframe thead th {\n",
       "        text-align: right;\n",
       "    }\n",
       "</style>\n",
       "<table border=\"1\" class=\"dataframe\">\n",
       "  <thead>\n",
       "    <tr style=\"text-align: right;\">\n",
       "      <th></th>\n",
       "      <th>age</th>\n",
       "      <th>workclass</th>\n",
       "      <th>education.num</th>\n",
       "      <th>marital.status</th>\n",
       "      <th>occupation</th>\n",
       "      <th>relationship</th>\n",
       "      <th>race</th>\n",
       "      <th>sex</th>\n",
       "      <th>capital.gain</th>\n",
       "      <th>capital.loss</th>\n",
       "      <th>hours.per.week</th>\n",
       "      <th>native.country</th>\n",
       "    </tr>\n",
       "  </thead>\n",
       "  <tbody>\n",
       "    <tr>\n",
       "      <th>32098</th>\n",
       "      <td>40</td>\n",
       "      <td>6</td>\n",
       "      <td>13</td>\n",
       "      <td>2</td>\n",
       "      <td>3</td>\n",
       "      <td>5</td>\n",
       "      <td>4</td>\n",
       "      <td>0</td>\n",
       "      <td>0</td>\n",
       "      <td>0</td>\n",
       "      <td>20</td>\n",
       "      <td>38</td>\n",
       "    </tr>\n",
       "    <tr>\n",
       "      <th>25206</th>\n",
       "      <td>39</td>\n",
       "      <td>1</td>\n",
       "      <td>9</td>\n",
       "      <td>2</td>\n",
       "      <td>6</td>\n",
       "      <td>0</td>\n",
       "      <td>4</td>\n",
       "      <td>1</td>\n",
       "      <td>0</td>\n",
       "      <td>0</td>\n",
       "      <td>38</td>\n",
       "      <td>38</td>\n",
       "    </tr>\n",
       "    <tr>\n",
       "      <th>23491</th>\n",
       "      <td>42</td>\n",
       "      <td>3</td>\n",
       "      <td>10</td>\n",
       "      <td>4</td>\n",
       "      <td>3</td>\n",
       "      <td>1</td>\n",
       "      <td>4</td>\n",
       "      <td>0</td>\n",
       "      <td>0</td>\n",
       "      <td>0</td>\n",
       "      <td>40</td>\n",
       "      <td>38</td>\n",
       "    </tr>\n",
       "    <tr>\n",
       "      <th>12367</th>\n",
       "      <td>27</td>\n",
       "      <td>1</td>\n",
       "      <td>9</td>\n",
       "      <td>4</td>\n",
       "      <td>4</td>\n",
       "      <td>3</td>\n",
       "      <td>4</td>\n",
       "      <td>1</td>\n",
       "      <td>0</td>\n",
       "      <td>0</td>\n",
       "      <td>40</td>\n",
       "      <td>38</td>\n",
       "    </tr>\n",
       "    <tr>\n",
       "      <th>7054</th>\n",
       "      <td>38</td>\n",
       "      <td>0</td>\n",
       "      <td>14</td>\n",
       "      <td>2</td>\n",
       "      <td>3</td>\n",
       "      <td>0</td>\n",
       "      <td>4</td>\n",
       "      <td>1</td>\n",
       "      <td>0</td>\n",
       "      <td>0</td>\n",
       "      <td>40</td>\n",
       "      <td>38</td>\n",
       "    </tr>\n",
       "  </tbody>\n",
       "</table>\n",
       "</div>"
      ],
      "text/plain": [
       "       age  workclass  education.num  marital.status  occupation  \\\n",
       "32098   40          6             13               2           3   \n",
       "25206   39          1              9               2           6   \n",
       "23491   42          3             10               4           3   \n",
       "12367   27          1              9               4           4   \n",
       "7054    38          0             14               2           3   \n",
       "\n",
       "       relationship  race  sex  capital.gain  capital.loss  hours.per.week  \\\n",
       "32098             5     4    0             0             0              20   \n",
       "25206             0     4    1             0             0              38   \n",
       "23491             1     4    0             0             0              40   \n",
       "12367             3     4    1             0             0              40   \n",
       "7054              0     4    1             0             0              40   \n",
       "\n",
       "       native.country  \n",
       "32098              38  \n",
       "25206              38  \n",
       "23491              38  \n",
       "12367              38  \n",
       "7054               38  "
      ]
     },
     "metadata": {},
     "execution_count": 26
    }
   ],
   "metadata": {}
  },
  {
   "cell_type": "code",
   "execution_count": 27,
   "source": [
    "X_train_scaled.head()"
   ],
   "outputs": [
    {
     "output_type": "execute_result",
     "data": {
      "text/html": [
       "<div>\n",
       "<style scoped>\n",
       "    .dataframe tbody tr th:only-of-type {\n",
       "        vertical-align: middle;\n",
       "    }\n",
       "\n",
       "    .dataframe tbody tr th {\n",
       "        vertical-align: top;\n",
       "    }\n",
       "\n",
       "    .dataframe thead th {\n",
       "        text-align: right;\n",
       "    }\n",
       "</style>\n",
       "<table border=\"1\" class=\"dataframe\">\n",
       "  <thead>\n",
       "    <tr style=\"text-align: right;\">\n",
       "      <th></th>\n",
       "      <th>age</th>\n",
       "      <th>workclass</th>\n",
       "      <th>education.num</th>\n",
       "      <th>marital.status</th>\n",
       "      <th>occupation</th>\n",
       "      <th>relationship</th>\n",
       "      <th>race</th>\n",
       "      <th>sex</th>\n",
       "      <th>capital.gain</th>\n",
       "      <th>capital.loss</th>\n",
       "      <th>hours.per.week</th>\n",
       "      <th>native.country</th>\n",
       "    </tr>\n",
       "  </thead>\n",
       "  <tbody>\n",
       "    <tr>\n",
       "      <th>0</th>\n",
       "      <td>0.101484</td>\n",
       "      <td>2.600478</td>\n",
       "      <td>1.133894</td>\n",
       "      <td>-0.402341</td>\n",
       "      <td>-0.782234</td>\n",
       "      <td>2.214196</td>\n",
       "      <td>0.39298</td>\n",
       "      <td>-1.430470</td>\n",
       "      <td>-0.145189</td>\n",
       "      <td>-0.217407</td>\n",
       "      <td>-1.662414</td>\n",
       "      <td>0.262317</td>\n",
       "    </tr>\n",
       "    <tr>\n",
       "      <th>1</th>\n",
       "      <td>0.028248</td>\n",
       "      <td>-1.884720</td>\n",
       "      <td>-0.423425</td>\n",
       "      <td>-0.402341</td>\n",
       "      <td>-0.026696</td>\n",
       "      <td>-0.899410</td>\n",
       "      <td>0.39298</td>\n",
       "      <td>0.699071</td>\n",
       "      <td>-0.145189</td>\n",
       "      <td>-0.217407</td>\n",
       "      <td>-0.200753</td>\n",
       "      <td>0.262317</td>\n",
       "    </tr>\n",
       "    <tr>\n",
       "      <th>2</th>\n",
       "      <td>0.247956</td>\n",
       "      <td>-0.090641</td>\n",
       "      <td>-0.034095</td>\n",
       "      <td>0.926666</td>\n",
       "      <td>-0.782234</td>\n",
       "      <td>-0.276689</td>\n",
       "      <td>0.39298</td>\n",
       "      <td>-1.430470</td>\n",
       "      <td>-0.145189</td>\n",
       "      <td>-0.217407</td>\n",
       "      <td>-0.038346</td>\n",
       "      <td>0.262317</td>\n",
       "    </tr>\n",
       "    <tr>\n",
       "      <th>3</th>\n",
       "      <td>-0.850587</td>\n",
       "      <td>-1.884720</td>\n",
       "      <td>-0.423425</td>\n",
       "      <td>0.926666</td>\n",
       "      <td>-0.530388</td>\n",
       "      <td>0.968753</td>\n",
       "      <td>0.39298</td>\n",
       "      <td>0.699071</td>\n",
       "      <td>-0.145189</td>\n",
       "      <td>-0.217407</td>\n",
       "      <td>-0.038346</td>\n",
       "      <td>0.262317</td>\n",
       "    </tr>\n",
       "    <tr>\n",
       "      <th>4</th>\n",
       "      <td>-0.044989</td>\n",
       "      <td>-2.781760</td>\n",
       "      <td>1.523223</td>\n",
       "      <td>-0.402341</td>\n",
       "      <td>-0.782234</td>\n",
       "      <td>-0.899410</td>\n",
       "      <td>0.39298</td>\n",
       "      <td>0.699071</td>\n",
       "      <td>-0.145189</td>\n",
       "      <td>-0.217407</td>\n",
       "      <td>-0.038346</td>\n",
       "      <td>0.262317</td>\n",
       "    </tr>\n",
       "  </tbody>\n",
       "</table>\n",
       "</div>"
      ],
      "text/plain": [
       "        age  workclass  education.num  marital.status  occupation  \\\n",
       "0  0.101484   2.600478       1.133894       -0.402341   -0.782234   \n",
       "1  0.028248  -1.884720      -0.423425       -0.402341   -0.026696   \n",
       "2  0.247956  -0.090641      -0.034095        0.926666   -0.782234   \n",
       "3 -0.850587  -1.884720      -0.423425        0.926666   -0.530388   \n",
       "4 -0.044989  -2.781760       1.523223       -0.402341   -0.782234   \n",
       "\n",
       "   relationship     race       sex  capital.gain  capital.loss  \\\n",
       "0      2.214196  0.39298 -1.430470     -0.145189     -0.217407   \n",
       "1     -0.899410  0.39298  0.699071     -0.145189     -0.217407   \n",
       "2     -0.276689  0.39298 -1.430470     -0.145189     -0.217407   \n",
       "3      0.968753  0.39298  0.699071     -0.145189     -0.217407   \n",
       "4     -0.899410  0.39298  0.699071     -0.145189     -0.217407   \n",
       "\n",
       "   hours.per.week  native.country  \n",
       "0       -1.662414        0.262317  \n",
       "1       -0.200753        0.262317  \n",
       "2       -0.038346        0.262317  \n",
       "3       -0.038346        0.262317  \n",
       "4       -0.038346        0.262317  "
      ]
     },
     "metadata": {},
     "execution_count": 27
    }
   ],
   "metadata": {}
  },
  {
   "cell_type": "code",
   "execution_count": 28,
   "source": [
    "print(min(X_train['age']))\r\n",
    "print(max(X_train['age']))\r\n",
    "print(np.mean(X_train['age']))\r\n",
    "print(np.var(X_train['age']))\r\n",
    "print('\\n')\r\n",
    "print(min(X_test['age']))\r\n",
    "print(max(X_test['age']))\r\n",
    "print(np.mean(X_test['age']))\r\n",
    "print(np.var(X_test['age']))"
   ],
   "outputs": [
    {
     "output_type": "stream",
     "name": "stdout",
     "text": [
      "17\n",
      "90\n",
      "38.61429448929449\n",
      "186.44402697680837\n",
      "\n",
      "\n",
      "17\n",
      "90\n",
      "38.505476507319074\n",
      "185.14136114308525\n"
     ]
    }
   ],
   "metadata": {}
  },
  {
   "cell_type": "code",
   "execution_count": 29,
   "source": [
    "X_train.describe()"
   ],
   "outputs": [
    {
     "output_type": "execute_result",
     "data": {
      "text/html": [
       "<div>\n",
       "<style scoped>\n",
       "    .dataframe tbody tr th:only-of-type {\n",
       "        vertical-align: middle;\n",
       "    }\n",
       "\n",
       "    .dataframe tbody tr th {\n",
       "        vertical-align: top;\n",
       "    }\n",
       "\n",
       "    .dataframe thead th {\n",
       "        text-align: right;\n",
       "    }\n",
       "</style>\n",
       "<table border=\"1\" class=\"dataframe\">\n",
       "  <thead>\n",
       "    <tr style=\"text-align: right;\">\n",
       "      <th></th>\n",
       "      <th>age</th>\n",
       "      <th>workclass</th>\n",
       "      <th>education.num</th>\n",
       "      <th>marital.status</th>\n",
       "      <th>occupation</th>\n",
       "      <th>relationship</th>\n",
       "      <th>race</th>\n",
       "      <th>sex</th>\n",
       "      <th>capital.gain</th>\n",
       "      <th>capital.loss</th>\n",
       "      <th>hours.per.week</th>\n",
       "      <th>native.country</th>\n",
       "    </tr>\n",
       "  </thead>\n",
       "  <tbody>\n",
       "    <tr>\n",
       "      <th>count</th>\n",
       "      <td>22792.000000</td>\n",
       "      <td>22792.000000</td>\n",
       "      <td>22792.000000</td>\n",
       "      <td>22792.000000</td>\n",
       "      <td>22792.000000</td>\n",
       "      <td>22792.000000</td>\n",
       "      <td>22792.000000</td>\n",
       "      <td>22792.000000</td>\n",
       "      <td>22792.000000</td>\n",
       "      <td>22792.000000</td>\n",
       "      <td>22792.000000</td>\n",
       "      <td>22792.000000</td>\n",
       "    </tr>\n",
       "    <tr>\n",
       "      <th>mean</th>\n",
       "      <td>38.614294</td>\n",
       "      <td>3.101044</td>\n",
       "      <td>10.087575</td>\n",
       "      <td>2.605476</td>\n",
       "      <td>6.106002</td>\n",
       "      <td>1.444323</td>\n",
       "      <td>3.666462</td>\n",
       "      <td>0.671727</td>\n",
       "      <td>1064.423043</td>\n",
       "      <td>87.756581</td>\n",
       "      <td>40.472227</td>\n",
       "      <td>36.411241</td>\n",
       "    </tr>\n",
       "    <tr>\n",
       "      <th>std</th>\n",
       "      <td>13.654750</td>\n",
       "      <td>1.114802</td>\n",
       "      <td>2.568573</td>\n",
       "      <td>1.504916</td>\n",
       "      <td>3.970769</td>\n",
       "      <td>1.605890</td>\n",
       "      <td>0.848759</td>\n",
       "      <td>0.469595</td>\n",
       "      <td>7331.442737</td>\n",
       "      <td>403.660431</td>\n",
       "      <td>12.315027</td>\n",
       "      <td>6.056766</td>\n",
       "    </tr>\n",
       "    <tr>\n",
       "      <th>min</th>\n",
       "      <td>17.000000</td>\n",
       "      <td>0.000000</td>\n",
       "      <td>1.000000</td>\n",
       "      <td>0.000000</td>\n",
       "      <td>0.000000</td>\n",
       "      <td>0.000000</td>\n",
       "      <td>0.000000</td>\n",
       "      <td>0.000000</td>\n",
       "      <td>0.000000</td>\n",
       "      <td>0.000000</td>\n",
       "      <td>1.000000</td>\n",
       "      <td>0.000000</td>\n",
       "    </tr>\n",
       "    <tr>\n",
       "      <th>25%</th>\n",
       "      <td>28.000000</td>\n",
       "      <td>3.000000</td>\n",
       "      <td>9.000000</td>\n",
       "      <td>2.000000</td>\n",
       "      <td>3.000000</td>\n",
       "      <td>0.000000</td>\n",
       "      <td>4.000000</td>\n",
       "      <td>0.000000</td>\n",
       "      <td>0.000000</td>\n",
       "      <td>0.000000</td>\n",
       "      <td>40.000000</td>\n",
       "      <td>38.000000</td>\n",
       "    </tr>\n",
       "    <tr>\n",
       "      <th>50%</th>\n",
       "      <td>37.000000</td>\n",
       "      <td>3.000000</td>\n",
       "      <td>10.000000</td>\n",
       "      <td>2.000000</td>\n",
       "      <td>6.000000</td>\n",
       "      <td>1.000000</td>\n",
       "      <td>4.000000</td>\n",
       "      <td>1.000000</td>\n",
       "      <td>0.000000</td>\n",
       "      <td>0.000000</td>\n",
       "      <td>40.000000</td>\n",
       "      <td>38.000000</td>\n",
       "    </tr>\n",
       "    <tr>\n",
       "      <th>75%</th>\n",
       "      <td>48.000000</td>\n",
       "      <td>3.000000</td>\n",
       "      <td>12.000000</td>\n",
       "      <td>4.000000</td>\n",
       "      <td>9.000000</td>\n",
       "      <td>3.000000</td>\n",
       "      <td>4.000000</td>\n",
       "      <td>1.000000</td>\n",
       "      <td>0.000000</td>\n",
       "      <td>0.000000</td>\n",
       "      <td>45.000000</td>\n",
       "      <td>38.000000</td>\n",
       "    </tr>\n",
       "    <tr>\n",
       "      <th>max</th>\n",
       "      <td>90.000000</td>\n",
       "      <td>7.000000</td>\n",
       "      <td>16.000000</td>\n",
       "      <td>6.000000</td>\n",
       "      <td>13.000000</td>\n",
       "      <td>5.000000</td>\n",
       "      <td>4.000000</td>\n",
       "      <td>1.000000</td>\n",
       "      <td>99999.000000</td>\n",
       "      <td>4356.000000</td>\n",
       "      <td>99.000000</td>\n",
       "      <td>40.000000</td>\n",
       "    </tr>\n",
       "  </tbody>\n",
       "</table>\n",
       "</div>"
      ],
      "text/plain": [
       "                age     workclass  education.num  marital.status  \\\n",
       "count  22792.000000  22792.000000   22792.000000    22792.000000   \n",
       "mean      38.614294      3.101044      10.087575        2.605476   \n",
       "std       13.654750      1.114802       2.568573        1.504916   \n",
       "min       17.000000      0.000000       1.000000        0.000000   \n",
       "25%       28.000000      3.000000       9.000000        2.000000   \n",
       "50%       37.000000      3.000000      10.000000        2.000000   \n",
       "75%       48.000000      3.000000      12.000000        4.000000   \n",
       "max       90.000000      7.000000      16.000000        6.000000   \n",
       "\n",
       "         occupation  relationship          race           sex  capital.gain  \\\n",
       "count  22792.000000  22792.000000  22792.000000  22792.000000  22792.000000   \n",
       "mean       6.106002      1.444323      3.666462      0.671727   1064.423043   \n",
       "std        3.970769      1.605890      0.848759      0.469595   7331.442737   \n",
       "min        0.000000      0.000000      0.000000      0.000000      0.000000   \n",
       "25%        3.000000      0.000000      4.000000      0.000000      0.000000   \n",
       "50%        6.000000      1.000000      4.000000      1.000000      0.000000   \n",
       "75%        9.000000      3.000000      4.000000      1.000000      0.000000   \n",
       "max       13.000000      5.000000      4.000000      1.000000  99999.000000   \n",
       "\n",
       "       capital.loss  hours.per.week  native.country  \n",
       "count  22792.000000    22792.000000    22792.000000  \n",
       "mean      87.756581       40.472227       36.411241  \n",
       "std      403.660431       12.315027        6.056766  \n",
       "min        0.000000        1.000000        0.000000  \n",
       "25%        0.000000       40.000000       38.000000  \n",
       "50%        0.000000       40.000000       38.000000  \n",
       "75%        0.000000       45.000000       38.000000  \n",
       "max     4356.000000       99.000000       40.000000  "
      ]
     },
     "metadata": {},
     "execution_count": 29
    }
   ],
   "metadata": {}
  },
  {
   "cell_type": "code",
   "execution_count": 30,
   "source": [
    "print(min(X_train_scaled['age']))\r\n",
    "print(max(X_train_scaled['age']))\r\n",
    "print(np.mean(X_train_scaled['age']))\r\n",
    "print(np.var(X_train_scaled['age']))\r\n",
    "print('\\n')\r\n",
    "print(min(X_test_scaled['age']))\r\n",
    "print(max(X_test_scaled['age']))\r\n",
    "print(np.mean(X_test_scaled['age']))\r\n",
    "print(np.var(X_test_scaled['age']))"
   ],
   "outputs": [
    {
     "output_type": "stream",
     "name": "stdout",
     "text": [
      "-1.5829486507307393\n",
      "3.7632934651328265\n",
      "1.5671010251132251e-16\n",
      "0.9999999999999883\n",
      "\n",
      "\n",
      "-1.5829486507307393\n",
      "3.7632934651328265\n",
      "-0.007969414769866536\n",
      "0.9930130996694251\n"
     ]
    }
   ],
   "metadata": {}
  },
  {
   "cell_type": "code",
   "execution_count": 31,
   "source": [
    "X_train_scaled.describe()"
   ],
   "outputs": [
    {
     "output_type": "execute_result",
     "data": {
      "text/html": [
       "<div>\n",
       "<style scoped>\n",
       "    .dataframe tbody tr th:only-of-type {\n",
       "        vertical-align: middle;\n",
       "    }\n",
       "\n",
       "    .dataframe tbody tr th {\n",
       "        vertical-align: top;\n",
       "    }\n",
       "\n",
       "    .dataframe thead th {\n",
       "        text-align: right;\n",
       "    }\n",
       "</style>\n",
       "<table border=\"1\" class=\"dataframe\">\n",
       "  <thead>\n",
       "    <tr style=\"text-align: right;\">\n",
       "      <th></th>\n",
       "      <th>age</th>\n",
       "      <th>workclass</th>\n",
       "      <th>education.num</th>\n",
       "      <th>marital.status</th>\n",
       "      <th>occupation</th>\n",
       "      <th>relationship</th>\n",
       "      <th>race</th>\n",
       "      <th>sex</th>\n",
       "      <th>capital.gain</th>\n",
       "      <th>capital.loss</th>\n",
       "      <th>hours.per.week</th>\n",
       "      <th>native.country</th>\n",
       "    </tr>\n",
       "  </thead>\n",
       "  <tbody>\n",
       "    <tr>\n",
       "      <th>count</th>\n",
       "      <td>2.279200e+04</td>\n",
       "      <td>2.279200e+04</td>\n",
       "      <td>2.279200e+04</td>\n",
       "      <td>2.279200e+04</td>\n",
       "      <td>2.279200e+04</td>\n",
       "      <td>2.279200e+04</td>\n",
       "      <td>2.279200e+04</td>\n",
       "      <td>2.279200e+04</td>\n",
       "      <td>2.279200e+04</td>\n",
       "      <td>2.279200e+04</td>\n",
       "      <td>2.279200e+04</td>\n",
       "      <td>2.279200e+04</td>\n",
       "    </tr>\n",
       "    <tr>\n",
       "      <th>mean</th>\n",
       "      <td>1.567101e-16</td>\n",
       "      <td>9.820276e-17</td>\n",
       "      <td>-3.105770e-16</td>\n",
       "      <td>1.484646e-15</td>\n",
       "      <td>-2.803518e-16</td>\n",
       "      <td>4.271865e-16</td>\n",
       "      <td>-6.634401e-16</td>\n",
       "      <td>-4.658825e-16</td>\n",
       "      <td>-9.285015e-16</td>\n",
       "      <td>-9.243220e-16</td>\n",
       "      <td>5.219265e-16</td>\n",
       "      <td>1.411647e-15</td>\n",
       "    </tr>\n",
       "    <tr>\n",
       "      <th>std</th>\n",
       "      <td>1.000022e+00</td>\n",
       "      <td>1.000022e+00</td>\n",
       "      <td>1.000022e+00</td>\n",
       "      <td>1.000022e+00</td>\n",
       "      <td>1.000022e+00</td>\n",
       "      <td>1.000022e+00</td>\n",
       "      <td>1.000022e+00</td>\n",
       "      <td>1.000022e+00</td>\n",
       "      <td>1.000022e+00</td>\n",
       "      <td>1.000022e+00</td>\n",
       "      <td>1.000022e+00</td>\n",
       "      <td>1.000022e+00</td>\n",
       "    </tr>\n",
       "    <tr>\n",
       "      <th>min</th>\n",
       "      <td>-1.582949e+00</td>\n",
       "      <td>-2.781760e+00</td>\n",
       "      <td>-3.538063e+00</td>\n",
       "      <td>-1.731347e+00</td>\n",
       "      <td>-1.537772e+00</td>\n",
       "      <td>-8.994102e-01</td>\n",
       "      <td>-4.319887e+00</td>\n",
       "      <td>-1.430470e+00</td>\n",
       "      <td>-1.451892e-01</td>\n",
       "      <td>-2.174068e-01</td>\n",
       "      <td>-3.205279e+00</td>\n",
       "      <td>-6.011796e+00</td>\n",
       "    </tr>\n",
       "    <tr>\n",
       "      <th>25%</th>\n",
       "      <td>-7.773505e-01</td>\n",
       "      <td>-9.064068e-02</td>\n",
       "      <td>-4.234251e-01</td>\n",
       "      <td>-4.023406e-01</td>\n",
       "      <td>-7.822339e-01</td>\n",
       "      <td>-8.994102e-01</td>\n",
       "      <td>3.929802e-01</td>\n",
       "      <td>-1.430470e+00</td>\n",
       "      <td>-1.451892e-01</td>\n",
       "      <td>-2.174068e-01</td>\n",
       "      <td>-3.834644e-02</td>\n",
       "      <td>2.623172e-01</td>\n",
       "    </tr>\n",
       "    <tr>\n",
       "      <th>50%</th>\n",
       "      <td>-1.182248e-01</td>\n",
       "      <td>-9.064068e-02</td>\n",
       "      <td>-3.409539e-02</td>\n",
       "      <td>-4.023406e-01</td>\n",
       "      <td>-2.669619e-02</td>\n",
       "      <td>-2.766891e-01</td>\n",
       "      <td>3.929802e-01</td>\n",
       "      <td>6.990710e-01</td>\n",
       "      <td>-1.451892e-01</td>\n",
       "      <td>-2.174068e-01</td>\n",
       "      <td>-3.834644e-02</td>\n",
       "      <td>2.623172e-01</td>\n",
       "    </tr>\n",
       "    <tr>\n",
       "      <th>75%</th>\n",
       "      <td>6.873733e-01</td>\n",
       "      <td>-9.064068e-02</td>\n",
       "      <td>7.445640e-01</td>\n",
       "      <td>9.266662e-01</td>\n",
       "      <td>7.288415e-01</td>\n",
       "      <td>9.687533e-01</td>\n",
       "      <td>3.929802e-01</td>\n",
       "      <td>6.990710e-01</td>\n",
       "      <td>-1.451892e-01</td>\n",
       "      <td>-2.174068e-01</td>\n",
       "      <td>3.676705e-01</td>\n",
       "      <td>2.623172e-01</td>\n",
       "    </tr>\n",
       "    <tr>\n",
       "      <th>max</th>\n",
       "      <td>3.763293e+00</td>\n",
       "      <td>3.497518e+00</td>\n",
       "      <td>2.301883e+00</td>\n",
       "      <td>2.255673e+00</td>\n",
       "      <td>1.736225e+00</td>\n",
       "      <td>2.214196e+00</td>\n",
       "      <td>3.929802e-01</td>\n",
       "      <td>6.990710e-01</td>\n",
       "      <td>1.349485e+01</td>\n",
       "      <td>1.057408e+01</td>\n",
       "      <td>4.752654e+00</td>\n",
       "      <td>5.925337e-01</td>\n",
       "    </tr>\n",
       "  </tbody>\n",
       "</table>\n",
       "</div>"
      ],
      "text/plain": [
       "                age     workclass  education.num  marital.status  \\\n",
       "count  2.279200e+04  2.279200e+04   2.279200e+04    2.279200e+04   \n",
       "mean   1.567101e-16  9.820276e-17  -3.105770e-16    1.484646e-15   \n",
       "std    1.000022e+00  1.000022e+00   1.000022e+00    1.000022e+00   \n",
       "min   -1.582949e+00 -2.781760e+00  -3.538063e+00   -1.731347e+00   \n",
       "25%   -7.773505e-01 -9.064068e-02  -4.234251e-01   -4.023406e-01   \n",
       "50%   -1.182248e-01 -9.064068e-02  -3.409539e-02   -4.023406e-01   \n",
       "75%    6.873733e-01 -9.064068e-02   7.445640e-01    9.266662e-01   \n",
       "max    3.763293e+00  3.497518e+00   2.301883e+00    2.255673e+00   \n",
       "\n",
       "         occupation  relationship          race           sex  capital.gain  \\\n",
       "count  2.279200e+04  2.279200e+04  2.279200e+04  2.279200e+04  2.279200e+04   \n",
       "mean  -2.803518e-16  4.271865e-16 -6.634401e-16 -4.658825e-16 -9.285015e-16   \n",
       "std    1.000022e+00  1.000022e+00  1.000022e+00  1.000022e+00  1.000022e+00   \n",
       "min   -1.537772e+00 -8.994102e-01 -4.319887e+00 -1.430470e+00 -1.451892e-01   \n",
       "25%   -7.822339e-01 -8.994102e-01  3.929802e-01 -1.430470e+00 -1.451892e-01   \n",
       "50%   -2.669619e-02 -2.766891e-01  3.929802e-01  6.990710e-01 -1.451892e-01   \n",
       "75%    7.288415e-01  9.687533e-01  3.929802e-01  6.990710e-01 -1.451892e-01   \n",
       "max    1.736225e+00  2.214196e+00  3.929802e-01  6.990710e-01  1.349485e+01   \n",
       "\n",
       "       capital.loss  hours.per.week  native.country  \n",
       "count  2.279200e+04    2.279200e+04    2.279200e+04  \n",
       "mean  -9.243220e-16    5.219265e-16    1.411647e-15  \n",
       "std    1.000022e+00    1.000022e+00    1.000022e+00  \n",
       "min   -2.174068e-01   -3.205279e+00   -6.011796e+00  \n",
       "25%   -2.174068e-01   -3.834644e-02    2.623172e-01  \n",
       "50%   -2.174068e-01   -3.834644e-02    2.623172e-01  \n",
       "75%   -2.174068e-01    3.676705e-01    2.623172e-01  \n",
       "max    1.057408e+01    4.752654e+00    5.925337e-01  "
      ]
     },
     "metadata": {},
     "execution_count": 31
    }
   ],
   "metadata": {}
  },
  {
   "cell_type": "markdown",
   "source": [
    "## Step 3. 선형 분류모델 구현하기"
   ],
   "metadata": {}
  },
  {
   "cell_type": "markdown",
   "source": [
    "### 문제 10. 원 데이터를 이용하여 Logistic Regression 모델 돌려보기"
   ],
   "metadata": {}
  },
  {
   "cell_type": "code",
   "execution_count": 32,
   "source": [
    "# Feature scaling 전 원본 데이터\r\n",
    "from sklearn.linear_model import LogisticRegression\r\n",
    "from sklearn.metrics import accuracy_score\r\n",
    "\r\n",
    "logreg =  LogisticRegression()\r\n",
    "logreg.fit(X_train, y_train)"
   ],
   "outputs": [
    {
     "output_type": "execute_result",
     "data": {
      "text/plain": [
       "LogisticRegression()"
      ]
     },
     "metadata": {},
     "execution_count": 32
    }
   ],
   "metadata": {}
  },
  {
   "cell_type": "markdown",
   "source": [
    "### 문제 11. 원 데이터를 이용한 Logistic Regression 모델의 정확도 확인하기"
   ],
   "metadata": {}
  },
  {
   "cell_type": "code",
   "execution_count": 33,
   "source": [
    "y_pred =  logreg.predict(X_test)\r\n",
    "# logreg_score =  accuracy_score(y_test, y_pred)\r\n",
    "print('Logistic Regression accuracy score: {0:0.4f}'. format(accuracy_score(y_test, y_pred)))"
   ],
   "outputs": [
    {
     "output_type": "stream",
     "name": "stdout",
     "text": [
      "Logistic Regression accuracy score: 0.8057\n"
     ]
    }
   ],
   "metadata": {}
  },
  {
   "cell_type": "markdown",
   "source": [
    "### 문제 12. 스케일 조정된 데이터를 이용하여 Logistic Regression 모델 돌려보기"
   ],
   "metadata": {}
  },
  {
   "cell_type": "code",
   "execution_count": 34,
   "source": [
    "# Feature scaling 후 변환 데이터\r\n",
    "from sklearn.linear_model import LogisticRegression\r\n",
    "from sklearn.metrics import accuracy_score\r\n",
    "\r\n",
    "logreg = LogisticRegression()\r\n",
    "logreg.fit(X_train_scaled, y_train) ##"
   ],
   "outputs": [
    {
     "output_type": "execute_result",
     "data": {
      "text/plain": [
       "LogisticRegression()"
      ]
     },
     "metadata": {},
     "execution_count": 34
    }
   ],
   "metadata": {}
  },
  {
   "cell_type": "markdown",
   "source": [
    "### 문제 13. 스케일 조정된 데이터를 이용한 Logistic Regression 모델의 정확도 확인하기"
   ],
   "metadata": {}
  },
  {
   "cell_type": "code",
   "execution_count": 35,
   "source": [
    "y_pred = logreg.predict(X_test_scaled)  ##\r\n",
    "logreg_score =  accuracy_score(y_test, y_pred)\r\n",
    "print('Logistic Regression (scaled data) accuracy score: {0:0.4f}'. format(logreg_score))"
   ],
   "outputs": [
    {
     "output_type": "stream",
     "name": "stdout",
     "text": [
      "Logistic Regression (scaled data) accuracy score: 0.8222\n"
     ]
    }
   ],
   "metadata": {}
  },
  {
   "cell_type": "code",
   "execution_count": 36,
   "source": [
    "# 예측된 값 확인하기\r\n",
    "y_pred"
   ],
   "outputs": [
    {
     "output_type": "execute_result",
     "data": {
      "text/plain": [
       "array(['<=50K', '<=50K', '<=50K', ..., '<=50K', '<=50K', '<=50K'],\n",
       "      dtype=object)"
      ]
     },
     "metadata": {},
     "execution_count": 36
    }
   ],
   "metadata": {}
  },
  {
   "cell_type": "markdown",
   "source": [
    "### 문제 14. 스케일 조정된 데이터를 이용한 Logistic Regression 모델 분류결과 확인하기"
   ],
   "metadata": {}
  },
  {
   "cell_type": "code",
   "execution_count": 37,
   "source": [
    "from sklearn.metrics import classification_report\r\n",
    "\r\n",
    "cm_logreg =  classification_report(y_test, y_pred) \r\n",
    "print(cm_logreg)"
   ],
   "outputs": [
    {
     "output_type": "stream",
     "name": "stdout",
     "text": [
      "              precision    recall  f1-score   support\n",
      "\n",
      "       <=50K       0.84      0.94      0.89      7410\n",
      "        >50K       0.71      0.44      0.55      2359\n",
      "\n",
      "    accuracy                           0.82      9769\n",
      "   macro avg       0.78      0.69      0.72      9769\n",
      "weighted avg       0.81      0.82      0.81      9769\n",
      "\n"
     ]
    }
   ],
   "metadata": {}
  },
  {
   "cell_type": "markdown",
   "source": [
    "## Step 4. 트리기반 분류모델의 구현"
   ],
   "metadata": {}
  },
  {
   "cell_type": "markdown",
   "source": [
    "### 문제 15. Random Forest 모델 구현하고 정확도 확인하기"
   ],
   "metadata": {}
  },
  {
   "cell_type": "code",
   "execution_count": 38,
   "source": [
    "from sklearn.ensemble import RandomForestClassifier\r\n",
    "from sklearn.metrics import accuracy_score\r\n",
    "\r\n",
    "rfc = RandomForestClassifier()\r\n",
    "rfc.fit(X_train, y_train)"
   ],
   "outputs": [
    {
     "output_type": "execute_result",
     "data": {
      "text/plain": [
       "RandomForestClassifier()"
      ]
     },
     "metadata": {},
     "execution_count": 38
    }
   ],
   "metadata": {}
  },
  {
   "cell_type": "code",
   "execution_count": 39,
   "source": [
    "criterion='gini' # 분할의 품질을 측정하는 기능입니다. 지원되는 기준은 Gini 불순물에 대한 \"gini\" 및 정보 이득에 대한 \"엔트로피\"입니다. (정보 이득)\r\n",
    "n_estimators=100 # The number of trees in the forest."
   ],
   "outputs": [],
   "metadata": {}
  },
  {
   "cell_type": "code",
   "execution_count": 40,
   "source": [
    "y_pred = rfc.predict(X_test) \r\n",
    "rfc_score =  accuracy_score(y_test, y_pred)\r\n",
    "print('Random Forest Model accuracy score : {0:0.4f}'. format(rfc_score ))"
   ],
   "outputs": [
    {
     "output_type": "stream",
     "name": "stdout",
     "text": [
      "Random Forest Model accuracy score : 0.8479\n"
     ]
    }
   ],
   "metadata": {}
  },
  {
   "cell_type": "markdown",
   "source": [
    "### 문제 16. Random Forest 모델의 Confusion Matrix 확인하기"
   ],
   "metadata": {}
  },
  {
   "cell_type": "code",
   "execution_count": 41,
   "source": [
    "from sklearn.metrics import confusion_matrix\r\n",
    "\r\n",
    "cm =  confusion_matrix(y_test, y_pred)\r\n",
    "print('Confusion Matrix for Binary Labels \\n')\r\n",
    "# print('Confusion Matrix for Binary Labels\\n')\r\n",
    "# print('Actual class')\r\n",
    "# print('Predicted', '[[True Positive', 'False Positive]')\r\n",
    "# print('         ', '[False Negative', 'True Negative]]')\r\n",
    "print(cm)"
   ],
   "outputs": [
    {
     "output_type": "stream",
     "name": "stdout",
     "text": [
      "Confusion Matrix for Binary Labels \n",
      "\n",
      "[[6845  565]\n",
      " [ 921 1438]]\n"
     ]
    }
   ],
   "metadata": {}
  },
  {
   "cell_type": "code",
   "execution_count": 42,
   "source": [
    "# Confusion Matrix에서 Recall과 Precision 계산하기\r\n",
    "\r\n",
    "print('\\nRecall for Class [<=50K] = ', cm[0,0], '/' , cm[0,0] + cm[0,1])\r\n",
    "print('\\nPrecision for Class [<=50K] = ', cm[0,0], '/' , cm[0,0] + cm[1,0])\r\n",
    "print('\\nRecall for Class [>50K] = ', cm[1,1], '/' , cm[1,0] + cm[1,1])\r\n",
    "print('\\nPrecision for Class [>50K] = ', cm[1,1], '/' , cm[0,1] + cm[1,1])"
   ],
   "outputs": [
    {
     "output_type": "stream",
     "name": "stdout",
     "text": [
      "\n",
      "Recall for Class [<=50K] =  6845 / 7410\n",
      "\n",
      "Precision for Class [<=50K] =  6845 / 7766\n",
      "\n",
      "Recall for Class [>50K] =  1438 / 2359\n",
      "\n",
      "Precision for Class [>50K] =  1438 / 2003\n"
     ]
    }
   ],
   "metadata": {}
  },
  {
   "cell_type": "markdown",
   "source": [
    "### 문제 17. Random Forest 모델의 분류결과 확인하기"
   ],
   "metadata": {}
  },
  {
   "cell_type": "code",
   "execution_count": 43,
   "source": [
    "from sklearn.metrics import classification_report\r\n",
    "\r\n",
    "cm_rfc =  classification_report(y_test, y_pred)\r\n",
    "print(cm_rfc)"
   ],
   "outputs": [
    {
     "output_type": "stream",
     "name": "stdout",
     "text": [
      "              precision    recall  f1-score   support\n",
      "\n",
      "       <=50K       0.88      0.92      0.90      7410\n",
      "        >50K       0.72      0.61      0.66      2359\n",
      "\n",
      "    accuracy                           0.85      9769\n",
      "   macro avg       0.80      0.77      0.78      9769\n",
      "weighted avg       0.84      0.85      0.84      9769\n",
      "\n"
     ]
    }
   ],
   "metadata": {}
  },
  {
   "cell_type": "markdown",
   "source": [
    "## Step 5. 부스팅 기반 분류모델의 구현"
   ],
   "metadata": {}
  },
  {
   "cell_type": "markdown",
   "source": [
    "### 부스팅(Boosting) 모델 개요\r\n",
    "- 부스팅은 여러 트리의 적합 결과를 합하는 앙상블 알고리즘의 하나로, 이 때 sequential의 개념이 추가되어 있습니다. 즉 연속적인 weak learner, 바로 직전 weak learner의 error를 반영한 현재 weak learner를 잡겠다는 것입니다. 이 아이디어는 Gradient Boosting Model(GBM)에서 loss를 계속 줄이는 방향으로 weak learner를 잡는다는 개념으로 확장됩니다.\r\n",
    "- 부스팅 계열 모델은 AdaBoost, Gradient Boosting Model(GBM), XGBoost, LightGBM 등이 있습니다."
   ],
   "metadata": {}
  },
  {
   "cell_type": "markdown",
   "source": [
    "### 문제 18. Gradient Boosting 모델 구현하고 정확도 확인하기"
   ],
   "metadata": {}
  },
  {
   "cell_type": "code",
   "execution_count": 44,
   "source": [
    "from sklearn.ensemble import GradientBoostingClassifier\r\n",
    "gbc =  GradientBoostingClassifier(random_state=0)\r\n",
    "gbc.fit(X_train, y_train)\r\n",
    "y_pred =  gbc.predict(X_test)\r\n",
    "gbc_score =  accuracy_score(y_test, y_pred)\r\n",
    "print('Gradient Boosting accuracy score : {0:0.4f}'.format(gbc_score))"
   ],
   "outputs": [
    {
     "output_type": "stream",
     "name": "stdout",
     "text": [
      "Gradient Boosting accuracy score : 0.8621\n"
     ]
    }
   ],
   "metadata": {}
  },
  {
   "cell_type": "markdown",
   "source": [
    "### 문제 19. Gradient Boosting 모델의 분류결과 확인하기"
   ],
   "metadata": {}
  },
  {
   "cell_type": "code",
   "execution_count": 45,
   "source": [
    "from sklearn.metrics import classification_report\r\n",
    "\r\n",
    "cm_gbc =  classification_report(y_test, y_pred)\r\n",
    "print(cm_gbc)"
   ],
   "outputs": [
    {
     "output_type": "stream",
     "name": "stdout",
     "text": [
      "              precision    recall  f1-score   support\n",
      "\n",
      "       <=50K       0.88      0.95      0.91      7410\n",
      "        >50K       0.78      0.59      0.68      2359\n",
      "\n",
      "    accuracy                           0.86      9769\n",
      "   macro avg       0.83      0.77      0.79      9769\n",
      "weighted avg       0.86      0.86      0.86      9769\n",
      "\n"
     ]
    }
   ],
   "metadata": {}
  },
  {
   "cell_type": "markdown",
   "source": [
    "### 문제 20. Light GBM 구현하고 정확도 확인하기"
   ],
   "metadata": {}
  },
  {
   "cell_type": "code",
   "execution_count": 46,
   "source": [
    "!pip install lightgbm"
   ],
   "outputs": [
    {
     "output_type": "stream",
     "name": "stdout",
     "text": [
      "Requirement already satisfied: lightgbm in c:\\programdata\\anaconda3\\lib\\site-packages (3.2.1)\n",
      "Requirement already satisfied: numpy in c:\\programdata\\anaconda3\\lib\\site-packages (from lightgbm) (1.20.3)\n",
      "Requirement already satisfied: wheel in c:\\programdata\\anaconda3\\lib\\site-packages (from lightgbm) (0.37.0)\n",
      "Requirement already satisfied: scikit-learn!=0.22.0 in c:\\programdata\\anaconda3\\lib\\site-packages (from lightgbm) (0.24.2)\n",
      "Requirement already satisfied: scipy in c:\\programdata\\anaconda3\\lib\\site-packages (from lightgbm) (1.6.2)\n",
      "Requirement already satisfied: joblib>=0.11 in c:\\programdata\\anaconda3\\lib\\site-packages (from scikit-learn!=0.22.0->lightgbm) (1.0.1)\n",
      "Requirement already satisfied: threadpoolctl>=2.0.0 in c:\\programdata\\anaconda3\\lib\\site-packages (from scikit-learn!=0.22.0->lightgbm) (2.2.0)\n"
     ]
    }
   ],
   "metadata": {}
  },
  {
   "cell_type": "code",
   "execution_count": 47,
   "source": [
    "from lightgbm import LGBMClassifier\r\n",
    "from sklearn.metrics import accuracy_score\r\n",
    "\r\n",
    "lgbm =  LGBMClassifier(random_state=0)\r\n",
    "lgbm.fit(X_train, y_train)\r\n",
    "y_pred =  lgbm.predict(X_test)\r\n",
    "\r\n",
    "lgbm_score =  accuracy_score(y_test, y_pred)\r\n",
    "print('LGBM Model accuracy score : {0:0.4f}'.format(lgbm_score))"
   ],
   "outputs": [
    {
     "output_type": "stream",
     "name": "stdout",
     "text": [
      "LGBM Model accuracy score : 0.8696\n"
     ]
    }
   ],
   "metadata": {}
  },
  {
   "cell_type": "markdown",
   "source": [
    "### 문제 21. Light GBM 분류결과 확인하기"
   ],
   "metadata": {}
  },
  {
   "cell_type": "code",
   "execution_count": 48,
   "source": [
    "from sklearn.metrics import classification_report\r\n",
    "\r\n",
    "cm_lgbm =  classification_report(y_test, y_pred)\r\n",
    "print(cm_lgbm)"
   ],
   "outputs": [
    {
     "output_type": "stream",
     "name": "stdout",
     "text": [
      "              precision    recall  f1-score   support\n",
      "\n",
      "       <=50K       0.89      0.94      0.92      7410\n",
      "        >50K       0.77      0.65      0.71      2359\n",
      "\n",
      "    accuracy                           0.87      9769\n",
      "   macro avg       0.83      0.80      0.81      9769\n",
      "weighted avg       0.87      0.87      0.87      9769\n",
      "\n"
     ]
    }
   ],
   "metadata": {}
  },
  {
   "cell_type": "markdown",
   "source": [
    "### 문제 22. 요약: 소득 이진분류 예측모델의 정확도 비교하기"
   ],
   "metadata": {}
  },
  {
   "cell_type": "code",
   "execution_count": 49,
   "source": [
    "print ('Accuracy Comparisons for Binary Models\\n')\r\n",
    "print ('logreg_score:', '{0:0.5f}'.format(logreg_score))\r\n",
    "print ('rfc_score   :', '{0:0.5f}'.format(rfc_score))\r\n",
    "print ('gbc_score   :', '{0:0.5f}'.format(gbc_score ))\r\n",
    "print ('lgbm_score  :', '{0:0.5f}'.format(lgbm_score))"
   ],
   "outputs": [
    {
     "output_type": "stream",
     "name": "stdout",
     "text": [
      "Accuracy Comparisons for Binary Models\n",
      "\n",
      "logreg_score: 0.82219\n",
      "rfc_score   : 0.84789\n",
      "gbc_score   : 0.86211\n",
      "lgbm_score  : 0.86959\n"
     ]
    }
   ],
   "metadata": {}
  },
  {
   "cell_type": "markdown",
   "source": [
    "### 문제 23. 최종 이진분류 모델 비교하기"
   ],
   "metadata": {}
  },
  {
   "cell_type": "code",
   "execution_count": 51,
   "source": [
    "print ('Classification Comparions for Binary Models\\n')\r\n",
    "print ('logreg_score:', '{0:0.4f}'.format(logreg_score))\r\n",
    "print (cm_logreg)\r\n",
    "print ('rfc_score   :', '{0:0.4f}'.format(rfc_score))\r\n",
    "print (cm_rfc)"
   ],
   "outputs": [
    {
     "output_type": "stream",
     "name": "stdout",
     "text": [
      "Classification Comparions for Binary Models\n",
      "\n",
      "logreg_score: 0.8222\n",
      "              precision    recall  f1-score   support\n",
      "\n",
      "       <=50K       0.84      0.94      0.89      7410\n",
      "        >50K       0.71      0.44      0.55      2359\n",
      "\n",
      "    accuracy                           0.82      9769\n",
      "   macro avg       0.78      0.69      0.72      9769\n",
      "weighted avg       0.81      0.82      0.81      9769\n",
      "\n",
      "rfc_score   : 0.8479\n",
      "              precision    recall  f1-score   support\n",
      "\n",
      "       <=50K       0.88      0.92      0.90      7410\n",
      "        >50K       0.72      0.61      0.66      2359\n",
      "\n",
      "    accuracy                           0.85      9769\n",
      "   macro avg       0.80      0.77      0.78      9769\n",
      "weighted avg       0.84      0.85      0.84      9769\n",
      "\n"
     ]
    }
   ],
   "metadata": {}
  },
  {
   "cell_type": "code",
   "execution_count": 52,
   "source": [
    "print ('gbc_score   :', '{0:0.4f}'.format(gbc_score ))\r\n",
    "print (cm_gbc)\r\n",
    "print ('lgbm_score  :', '{0:0.4f}'.format(lgbm_score))\r\n",
    "print (cm_lgbm)"
   ],
   "outputs": [
    {
     "output_type": "stream",
     "name": "stdout",
     "text": [
      "gbc_score   : 0.8621\n",
      "              precision    recall  f1-score   support\n",
      "\n",
      "       <=50K       0.88      0.95      0.91      7410\n",
      "        >50K       0.78      0.59      0.68      2359\n",
      "\n",
      "    accuracy                           0.86      9769\n",
      "   macro avg       0.83      0.77      0.79      9769\n",
      "weighted avg       0.86      0.86      0.86      9769\n",
      "\n",
      "lgbm_score  : 0.8696\n",
      "              precision    recall  f1-score   support\n",
      "\n",
      "       <=50K       0.89      0.94      0.92      7410\n",
      "        >50K       0.77      0.65      0.71      2359\n",
      "\n",
      "    accuracy                           0.87      9769\n",
      "   macro avg       0.83      0.80      0.81      9769\n",
      "weighted avg       0.87      0.87      0.87      9769\n",
      "\n"
     ]
    }
   ],
   "metadata": {}
  },
  {
   "cell_type": "markdown",
   "source": [
    "## Step 6. 다중분류 모델의 구현\r\n",
    "### 데이터 소개\r\n",
    "- 두번째로 쓸 데이터는 앞에서 사용한 US Adult 데이터에 모의로 생성한 금융 변수를 수정(+)·추가(++)한 것이며, 컬럼은 다음과 같습니다.\r\n",
    "\r\n",
    "- age : 나이\r\n",
    "- workclass: 직업구분\r\n",
    "- education: 교육수준\r\n",
    "- education.num: 교육수준(numerically coded)\r\n",
    "- marital.status: 혼인상태\r\n",
    "occupation : 직업\r\n",
    "- relationship: 가족관계\r\n",
    "- sex: 성별\r\n",
    "- capital.gain: 자본이득\r\n",
    "- capital.loss: 자본손실\r\n",
    "- hours.per.week: 주당 근로시간\r\n",
    "- spending.groc: 식료품 소비 금액(continuous) ++\r\n",
    "- spending.med: 병의원 소비 금액(continuous) ++\r\n",
    "- spending.trav: 여행 레저 소비 금액(continuous) ++\r\n",
    "- income : 소득 이진구분( <=50K: 0, >50K: 1 ) +\r\n",
    "- income.num : 소득금액(continuous) ++"
   ],
   "metadata": {}
  },
  {
   "cell_type": "markdown",
   "source": [
    "## 문제 24. 데이터 불러오기"
   ],
   "metadata": {}
  },
  {
   "cell_type": "code",
   "execution_count": 53,
   "source": [
    "data =  pd.read_csv(datapath + 'income_ext.csv')\r\n",
    "print(data.shape)\r\n",
    "print(data.columns)"
   ],
   "outputs": [
    {
     "output_type": "stream",
     "name": "stdout",
     "text": [
      "(32561, 19)\n",
      "Index(['age', 'workclass', 'education', 'education.num', 'marital.status',\n",
      "       'occupation', 'relationship', 'sex', 'capital.gain', 'capital.loss',\n",
      "       'hours.per.week', 'spend.groc', 'spend.med', 'spend.trav', 'asset',\n",
      "       'balance', 'native.country', 'income', 'income.num'],\n",
      "      dtype='object')\n"
     ]
    }
   ],
   "metadata": {}
  },
  {
   "cell_type": "code",
   "execution_count": 54,
   "source": [
    "data.head()"
   ],
   "outputs": [
    {
     "output_type": "execute_result",
     "data": {
      "text/html": [
       "<div>\n",
       "<style scoped>\n",
       "    .dataframe tbody tr th:only-of-type {\n",
       "        vertical-align: middle;\n",
       "    }\n",
       "\n",
       "    .dataframe tbody tr th {\n",
       "        vertical-align: top;\n",
       "    }\n",
       "\n",
       "    .dataframe thead th {\n",
       "        text-align: right;\n",
       "    }\n",
       "</style>\n",
       "<table border=\"1\" class=\"dataframe\">\n",
       "  <thead>\n",
       "    <tr style=\"text-align: right;\">\n",
       "      <th></th>\n",
       "      <th>age</th>\n",
       "      <th>workclass</th>\n",
       "      <th>education</th>\n",
       "      <th>education.num</th>\n",
       "      <th>marital.status</th>\n",
       "      <th>occupation</th>\n",
       "      <th>relationship</th>\n",
       "      <th>sex</th>\n",
       "      <th>capital.gain</th>\n",
       "      <th>capital.loss</th>\n",
       "      <th>hours.per.week</th>\n",
       "      <th>spend.groc</th>\n",
       "      <th>spend.med</th>\n",
       "      <th>spend.trav</th>\n",
       "      <th>asset</th>\n",
       "      <th>balance</th>\n",
       "      <th>native.country</th>\n",
       "      <th>income</th>\n",
       "      <th>income.num</th>\n",
       "    </tr>\n",
       "  </thead>\n",
       "  <tbody>\n",
       "    <tr>\n",
       "      <th>0</th>\n",
       "      <td>90</td>\n",
       "      <td>?</td>\n",
       "      <td>HS-grad</td>\n",
       "      <td>9</td>\n",
       "      <td>Widowed</td>\n",
       "      <td>?</td>\n",
       "      <td>Not-in-family</td>\n",
       "      <td>Female</td>\n",
       "      <td>0</td>\n",
       "      <td>4356</td>\n",
       "      <td>40</td>\n",
       "      <td>77053</td>\n",
       "      <td>13687</td>\n",
       "      <td>3478</td>\n",
       "      <td>345498</td>\n",
       "      <td>-36</td>\n",
       "      <td>United-States</td>\n",
       "      <td>0</td>\n",
       "      <td>43713</td>\n",
       "    </tr>\n",
       "    <tr>\n",
       "      <th>1</th>\n",
       "      <td>82</td>\n",
       "      <td>Private</td>\n",
       "      <td>HS-grad</td>\n",
       "      <td>9</td>\n",
       "      <td>Widowed</td>\n",
       "      <td>Exec-managerial</td>\n",
       "      <td>Not-in-family</td>\n",
       "      <td>Female</td>\n",
       "      <td>0</td>\n",
       "      <td>4356</td>\n",
       "      <td>18</td>\n",
       "      <td>132870</td>\n",
       "      <td>27294</td>\n",
       "      <td>27567</td>\n",
       "      <td>242642</td>\n",
       "      <td>57638</td>\n",
       "      <td>United-States</td>\n",
       "      <td>0</td>\n",
       "      <td>33113</td>\n",
       "    </tr>\n",
       "    <tr>\n",
       "      <th>2</th>\n",
       "      <td>66</td>\n",
       "      <td>?</td>\n",
       "      <td>Some-college</td>\n",
       "      <td>10</td>\n",
       "      <td>Widowed</td>\n",
       "      <td>?</td>\n",
       "      <td>Unmarried</td>\n",
       "      <td>Female</td>\n",
       "      <td>0</td>\n",
       "      <td>4356</td>\n",
       "      <td>40</td>\n",
       "      <td>186061</td>\n",
       "      <td>32029</td>\n",
       "      <td>24506</td>\n",
       "      <td>578403</td>\n",
       "      <td>46028</td>\n",
       "      <td>United-States</td>\n",
       "      <td>0</td>\n",
       "      <td>31652</td>\n",
       "    </tr>\n",
       "    <tr>\n",
       "      <th>3</th>\n",
       "      <td>54</td>\n",
       "      <td>Private</td>\n",
       "      <td>7th-8th</td>\n",
       "      <td>4</td>\n",
       "      <td>Divorced</td>\n",
       "      <td>Machine-op-inspct</td>\n",
       "      <td>Unmarried</td>\n",
       "      <td>Female</td>\n",
       "      <td>0</td>\n",
       "      <td>3900</td>\n",
       "      <td>40</td>\n",
       "      <td>140359</td>\n",
       "      <td>22449</td>\n",
       "      <td>23655</td>\n",
       "      <td>229303</td>\n",
       "      <td>7899</td>\n",
       "      <td>United-States</td>\n",
       "      <td>0</td>\n",
       "      <td>55087</td>\n",
       "    </tr>\n",
       "    <tr>\n",
       "      <th>4</th>\n",
       "      <td>41</td>\n",
       "      <td>Private</td>\n",
       "      <td>Some-college</td>\n",
       "      <td>10</td>\n",
       "      <td>Separated</td>\n",
       "      <td>Prof-specialty</td>\n",
       "      <td>Own-child</td>\n",
       "      <td>Female</td>\n",
       "      <td>0</td>\n",
       "      <td>3900</td>\n",
       "      <td>40</td>\n",
       "      <td>264663</td>\n",
       "      <td>40863</td>\n",
       "      <td>71439</td>\n",
       "      <td>672614</td>\n",
       "      <td>57675</td>\n",
       "      <td>United-States</td>\n",
       "      <td>0</td>\n",
       "      <td>85583</td>\n",
       "    </tr>\n",
       "  </tbody>\n",
       "</table>\n",
       "</div>"
      ],
      "text/plain": [
       "   age workclass     education  education.num marital.status  \\\n",
       "0   90         ?       HS-grad              9        Widowed   \n",
       "1   82   Private       HS-grad              9        Widowed   \n",
       "2   66         ?  Some-college             10        Widowed   \n",
       "3   54   Private       7th-8th              4       Divorced   \n",
       "4   41   Private  Some-college             10      Separated   \n",
       "\n",
       "          occupation   relationship     sex  capital.gain  capital.loss  \\\n",
       "0                  ?  Not-in-family  Female             0          4356   \n",
       "1    Exec-managerial  Not-in-family  Female             0          4356   \n",
       "2                  ?      Unmarried  Female             0          4356   \n",
       "3  Machine-op-inspct      Unmarried  Female             0          3900   \n",
       "4     Prof-specialty      Own-child  Female             0          3900   \n",
       "\n",
       "   hours.per.week  spend.groc  spend.med  spend.trav   asset  balance  \\\n",
       "0              40       77053      13687        3478  345498      -36   \n",
       "1              18      132870      27294       27567  242642    57638   \n",
       "2              40      186061      32029       24506  578403    46028   \n",
       "3              40      140359      22449       23655  229303     7899   \n",
       "4              40      264663      40863       71439  672614    57675   \n",
       "\n",
       "  native.country  income  income.num  \n",
       "0  United-States       0       43713  \n",
       "1  United-States       0       33113  \n",
       "2  United-States       0       31652  \n",
       "3  United-States       0       55087  \n",
       "4  United-States       0       85583  "
      ]
     },
     "metadata": {},
     "execution_count": 54
    }
   ],
   "metadata": {}
  },
  {
   "cell_type": "markdown",
   "source": [
    "### Light GBM 개요\r\n",
    "\r\n",
    "Decision Tree의 앙상블 모델인 Gradient Boosting Decision Tree (GBDT)는 실무에서 XGboost(eXtreme Gradient Boosting) 등으로도 알려져 있습니다. 각각의 반복에서 GBDT는 음의 기울기(Residual Error)를 적합함으로써 Decision Tree를 학습시키게 됩니다.\r\n",
    "그러나 고차원 대용량 데이터에서는 너무 많은 시간의 소모가 발생하였는데, 왜냐하면 모든 가능한 분할점에 대해 정보 획득(information gain)을 평가하기 위해 데이터 전부를 스캔해야 했기 때문입니다.\r\n",
    "Light GBM은 이러한 Gradient Boosting 모델의 단점을 극복하기 위해 샘플링 등의 기법을 이용하여 스캔하는 데이터 양을 줄임으로써 분석 시간을 획기적으로 단축시킨 방법론입니다.\r\n",
    "LGBM은 범주변수가 많은 정형 데이터와 다중분류에 유용한 알고리즘으로, 간단한 원리를 알아두시면 도움이 될 것입니다.\r\n",
    "\r\n",
    "- 참고링크: Light GBM: A Highly Efficient Gradient Boosting Decision Tree (NIPS 2017) [https://papers.nips.cc/paper/2017/hash/6449f44a102fde848669bdd9eb6b76fa-Abstract.html ]"
   ],
   "metadata": {}
  },
  {
   "cell_type": "code",
   "execution_count": 55,
   "source": [
    "data.shape"
   ],
   "outputs": [
    {
     "output_type": "execute_result",
     "data": {
      "text/plain": [
       "(32561, 19)"
      ]
     },
     "metadata": {},
     "execution_count": 55
    }
   ],
   "metadata": {}
  },
  {
   "cell_type": "markdown",
   "source": [
    "### Light GBM 파라미터 설명\r\n",
    "- objective : 목적함수, regression, binary, multiclass 가능\r\n",
    "- categorical_feature : 범주변수임을 선언\r\n",
    "- max_cat_group : 범주형 변수가 많을 때 과적합을 방지하는 분기 포인트를 찾아서 카테고리 그룹을 max_cat_group 그룹으로 합치고 그룹 경계선에서 분기 포인트를 찾게 됨, 기본값은 64\r\n",
    "- boosting: 부스팅 방법, 기본값은 gbdt(gradient boosting decision tree)이며 샘플링을 이용하는 goss(Gradient-based One-Side Sampling), 딥러닝의 드롭아웃과 같은 dart (Dropouts meet Multiple Additive Regression Trees), rf (Random Forest) 등의 기법 선택 가능\r\n",
    "- learning_rate : 학습율, 각 예측기마다 얼마나 가중치를 주어 학습하게 할것인지 결정\r\n",
    "- early_stopping_round : 더 이상 validation 데이터에서 성능 향상이 없으면 멈추게끔 하는 단위\r\n",
    "- metric: loss 측정 기준, binary_logloss, multi_logloss, mae, rmse, auc, cross_entropy 등이 있다"
   ],
   "metadata": {}
  },
  {
   "cell_type": "markdown",
   "source": [
    "## 문제 25. 데이터 확인하기"
   ],
   "metadata": {}
  },
  {
   "cell_type": "code",
   "execution_count": 56,
   "source": [
    "# Create raw dataset for input\r\n",
    "X = data.drop(['education', 'income', 'income.num'], axis=1)   # Drop columns\r\n",
    "y = data['income.num']  # Choose column"
   ],
   "outputs": [],
   "metadata": {}
  },
  {
   "cell_type": "code",
   "execution_count": 57,
   "source": [
    "# X raw 데이터 확인하기\r\n",
    "\r\n",
    "X.head()"
   ],
   "outputs": [
    {
     "output_type": "execute_result",
     "data": {
      "text/html": [
       "<div>\n",
       "<style scoped>\n",
       "    .dataframe tbody tr th:only-of-type {\n",
       "        vertical-align: middle;\n",
       "    }\n",
       "\n",
       "    .dataframe tbody tr th {\n",
       "        vertical-align: top;\n",
       "    }\n",
       "\n",
       "    .dataframe thead th {\n",
       "        text-align: right;\n",
       "    }\n",
       "</style>\n",
       "<table border=\"1\" class=\"dataframe\">\n",
       "  <thead>\n",
       "    <tr style=\"text-align: right;\">\n",
       "      <th></th>\n",
       "      <th>age</th>\n",
       "      <th>workclass</th>\n",
       "      <th>education.num</th>\n",
       "      <th>marital.status</th>\n",
       "      <th>occupation</th>\n",
       "      <th>relationship</th>\n",
       "      <th>sex</th>\n",
       "      <th>capital.gain</th>\n",
       "      <th>capital.loss</th>\n",
       "      <th>hours.per.week</th>\n",
       "      <th>spend.groc</th>\n",
       "      <th>spend.med</th>\n",
       "      <th>spend.trav</th>\n",
       "      <th>asset</th>\n",
       "      <th>balance</th>\n",
       "      <th>native.country</th>\n",
       "    </tr>\n",
       "  </thead>\n",
       "  <tbody>\n",
       "    <tr>\n",
       "      <th>0</th>\n",
       "      <td>90</td>\n",
       "      <td>?</td>\n",
       "      <td>9</td>\n",
       "      <td>Widowed</td>\n",
       "      <td>?</td>\n",
       "      <td>Not-in-family</td>\n",
       "      <td>Female</td>\n",
       "      <td>0</td>\n",
       "      <td>4356</td>\n",
       "      <td>40</td>\n",
       "      <td>77053</td>\n",
       "      <td>13687</td>\n",
       "      <td>3478</td>\n",
       "      <td>345498</td>\n",
       "      <td>-36</td>\n",
       "      <td>United-States</td>\n",
       "    </tr>\n",
       "    <tr>\n",
       "      <th>1</th>\n",
       "      <td>82</td>\n",
       "      <td>Private</td>\n",
       "      <td>9</td>\n",
       "      <td>Widowed</td>\n",
       "      <td>Exec-managerial</td>\n",
       "      <td>Not-in-family</td>\n",
       "      <td>Female</td>\n",
       "      <td>0</td>\n",
       "      <td>4356</td>\n",
       "      <td>18</td>\n",
       "      <td>132870</td>\n",
       "      <td>27294</td>\n",
       "      <td>27567</td>\n",
       "      <td>242642</td>\n",
       "      <td>57638</td>\n",
       "      <td>United-States</td>\n",
       "    </tr>\n",
       "    <tr>\n",
       "      <th>2</th>\n",
       "      <td>66</td>\n",
       "      <td>?</td>\n",
       "      <td>10</td>\n",
       "      <td>Widowed</td>\n",
       "      <td>?</td>\n",
       "      <td>Unmarried</td>\n",
       "      <td>Female</td>\n",
       "      <td>0</td>\n",
       "      <td>4356</td>\n",
       "      <td>40</td>\n",
       "      <td>186061</td>\n",
       "      <td>32029</td>\n",
       "      <td>24506</td>\n",
       "      <td>578403</td>\n",
       "      <td>46028</td>\n",
       "      <td>United-States</td>\n",
       "    </tr>\n",
       "    <tr>\n",
       "      <th>3</th>\n",
       "      <td>54</td>\n",
       "      <td>Private</td>\n",
       "      <td>4</td>\n",
       "      <td>Divorced</td>\n",
       "      <td>Machine-op-inspct</td>\n",
       "      <td>Unmarried</td>\n",
       "      <td>Female</td>\n",
       "      <td>0</td>\n",
       "      <td>3900</td>\n",
       "      <td>40</td>\n",
       "      <td>140359</td>\n",
       "      <td>22449</td>\n",
       "      <td>23655</td>\n",
       "      <td>229303</td>\n",
       "      <td>7899</td>\n",
       "      <td>United-States</td>\n",
       "    </tr>\n",
       "    <tr>\n",
       "      <th>4</th>\n",
       "      <td>41</td>\n",
       "      <td>Private</td>\n",
       "      <td>10</td>\n",
       "      <td>Separated</td>\n",
       "      <td>Prof-specialty</td>\n",
       "      <td>Own-child</td>\n",
       "      <td>Female</td>\n",
       "      <td>0</td>\n",
       "      <td>3900</td>\n",
       "      <td>40</td>\n",
       "      <td>264663</td>\n",
       "      <td>40863</td>\n",
       "      <td>71439</td>\n",
       "      <td>672614</td>\n",
       "      <td>57675</td>\n",
       "      <td>United-States</td>\n",
       "    </tr>\n",
       "  </tbody>\n",
       "</table>\n",
       "</div>"
      ],
      "text/plain": [
       "   age workclass  education.num marital.status         occupation  \\\n",
       "0   90         ?              9        Widowed                  ?   \n",
       "1   82   Private              9        Widowed    Exec-managerial   \n",
       "2   66         ?             10        Widowed                  ?   \n",
       "3   54   Private              4       Divorced  Machine-op-inspct   \n",
       "4   41   Private             10      Separated     Prof-specialty   \n",
       "\n",
       "    relationship     sex  capital.gain  capital.loss  hours.per.week  \\\n",
       "0  Not-in-family  Female             0          4356              40   \n",
       "1  Not-in-family  Female             0          4356              18   \n",
       "2      Unmarried  Female             0          4356              40   \n",
       "3      Unmarried  Female             0          3900              40   \n",
       "4      Own-child  Female             0          3900              40   \n",
       "\n",
       "   spend.groc  spend.med  spend.trav   asset  balance native.country  \n",
       "0       77053      13687        3478  345498      -36  United-States  \n",
       "1      132870      27294       27567  242642    57638  United-States  \n",
       "2      186061      32029       24506  578403    46028  United-States  \n",
       "3      140359      22449       23655  229303     7899  United-States  \n",
       "4      264663      40863       71439  672614    57675  United-States  "
      ]
     },
     "metadata": {},
     "execution_count": 57
    }
   ],
   "metadata": {}
  },
  {
   "cell_type": "code",
   "execution_count": 58,
   "source": [
    "# y raw 데이터 확인하기\r\n",
    "\r\n",
    "y.head()"
   ],
   "outputs": [
    {
     "output_type": "execute_result",
     "data": {
      "text/plain": [
       "0    43713\n",
       "1    33113\n",
       "2    31652\n",
       "3    55087\n",
       "4    85583\n",
       "Name: income.num, dtype: int64"
      ]
     },
     "metadata": {},
     "execution_count": 58
    }
   ],
   "metadata": {}
  },
  {
   "cell_type": "markdown",
   "source": [
    "## 문제 26. 다중분류 클래스 생성하기"
   ],
   "metadata": {}
  },
  {
   "cell_type": "code",
   "execution_count": 59,
   "source": [
    "def value_change(x):\r\n",
    "    if x <= 10000: return 0\r\n",
    "    if x >  10000 and x <= 20000 : return 1\r\n",
    "    if x >  20000 and x <= 30000 : return 2\r\n",
    "    if x >  30000 and x <= 40000 : return 3\r\n",
    "    if x >  40000 and x <= 50000 : return 4\r\n",
    "    if x >  50000 and x <= 60000 : return 5\r\n",
    "    if x >  60000 and x <= 70000 : return 6\r\n",
    "    if x >  70000 and x <= 80000 : return 7\r\n",
    "    if x >  80000 and x <= 90000 : return 8\r\n",
    "    if x >  90000 and x <= 100000 : return 9\r\n",
    "    return 10                          \r\n",
    "                                       ## Define function\r\n",
    "\r\n",
    "y = y.apply(lambda x: value_change(x))  ## Apply Lambda function"
   ],
   "outputs": [],
   "metadata": {}
  },
  {
   "cell_type": "code",
   "execution_count": 60,
   "source": [
    "# 생성한 레이블 확인하기\r\n",
    "y.unique()"
   ],
   "outputs": [
    {
     "output_type": "execute_result",
     "data": {
      "text/plain": [
       "array([ 4,  3,  5,  8,  7,  9,  2,  6,  1,  0, 10], dtype=int64)"
      ]
     },
     "metadata": {},
     "execution_count": 60
    }
   ],
   "metadata": {}
  },
  {
   "cell_type": "code",
   "execution_count": 61,
   "source": [
    "y.value_counts()"
   ],
   "outputs": [
    {
     "output_type": "execute_result",
     "data": {
      "text/plain": [
       "6     3318\n",
       "9     3310\n",
       "7     3276\n",
       "4     3273\n",
       "8     3257\n",
       "1     3250\n",
       "5     3246\n",
       "3     3233\n",
       "2     3180\n",
       "0     3176\n",
       "10      42\n",
       "Name: income.num, dtype: int64"
      ]
     },
     "metadata": {},
     "execution_count": 61
    }
   ],
   "metadata": {}
  },
  {
   "cell_type": "code",
   "execution_count": 62,
   "source": [
    "sns.set(font_scale=1.4)\r\n",
    "y.value_counts().plot(kind='bar', figsize=(7, 6), rot=0)\r\n",
    "plt.xlabel(\"Income Labels\", labelpad=14)\r\n",
    "plt.ylabel(\"Counts\", labelpad=14)\r\n",
    "plt.title(\"Counts of 11 Income Labels\\n\", y=1.02);"
   ],
   "outputs": [
    {
     "output_type": "display_data",
     "data": {
      "image/png": "[encoded data removed]",
      "text/plain": [
       "<Figure size 504x432 with 1 Axes>"
      ]
     },
     "metadata": {}
    }
   ],
   "metadata": {}
  },
  {
   "cell_type": "markdown",
   "source": [
    "## 문제 27. Feature Engineering"
   ],
   "metadata": {}
  },
  {
   "cell_type": "code",
   "execution_count": 63,
   "source": [
    "from sklearn.model_selection import train_test_split\r\n",
    "\r\n",
    "x_train, x_test, y_train, y_test = train_test_split(X, y, test_size=0.3, random_state=0)"
   ],
   "outputs": [],
   "metadata": {}
  },
  {
   "cell_type": "code",
   "execution_count": 64,
   "source": [
    "from sklearn import preprocessing\r\n",
    "\r\n",
    "categorical = ['workclass', 'marital.status', 'occupation', 'relationship', 'sex', 'native.country']\r\n",
    "for feature in categorical:\r\n",
    "        le =  preprocessing.LabelEncoder()\r\n",
    "        x_train[feature] =  le.fit_transform(x_train[feature])\r\n",
    "        x_test[feature] =  le.transform(x_test[feature])"
   ],
   "outputs": [],
   "metadata": {}
  },
  {
   "cell_type": "code",
   "execution_count": 65,
   "source": [
    "x_train[categorical].head()"
   ],
   "outputs": [
    {
     "output_type": "execute_result",
     "data": {
      "text/html": [
       "<div>\n",
       "<style scoped>\n",
       "    .dataframe tbody tr th:only-of-type {\n",
       "        vertical-align: middle;\n",
       "    }\n",
       "\n",
       "    .dataframe tbody tr th {\n",
       "        vertical-align: top;\n",
       "    }\n",
       "\n",
       "    .dataframe thead th {\n",
       "        text-align: right;\n",
       "    }\n",
       "</style>\n",
       "<table border=\"1\" class=\"dataframe\">\n",
       "  <thead>\n",
       "    <tr style=\"text-align: right;\">\n",
       "      <th></th>\n",
       "      <th>workclass</th>\n",
       "      <th>marital.status</th>\n",
       "      <th>occupation</th>\n",
       "      <th>relationship</th>\n",
       "      <th>sex</th>\n",
       "      <th>native.country</th>\n",
       "    </tr>\n",
       "  </thead>\n",
       "  <tbody>\n",
       "    <tr>\n",
       "      <th>32098</th>\n",
       "      <td>7</td>\n",
       "      <td>2</td>\n",
       "      <td>4</td>\n",
       "      <td>5</td>\n",
       "      <td>0</td>\n",
       "      <td>39</td>\n",
       "    </tr>\n",
       "    <tr>\n",
       "      <th>25206</th>\n",
       "      <td>2</td>\n",
       "      <td>2</td>\n",
       "      <td>7</td>\n",
       "      <td>0</td>\n",
       "      <td>1</td>\n",
       "      <td>39</td>\n",
       "    </tr>\n",
       "    <tr>\n",
       "      <th>23491</th>\n",
       "      <td>4</td>\n",
       "      <td>4</td>\n",
       "      <td>4</td>\n",
       "      <td>1</td>\n",
       "      <td>0</td>\n",
       "      <td>39</td>\n",
       "    </tr>\n",
       "    <tr>\n",
       "      <th>12367</th>\n",
       "      <td>2</td>\n",
       "      <td>4</td>\n",
       "      <td>5</td>\n",
       "      <td>3</td>\n",
       "      <td>1</td>\n",
       "      <td>39</td>\n",
       "    </tr>\n",
       "    <tr>\n",
       "      <th>7054</th>\n",
       "      <td>1</td>\n",
       "      <td>2</td>\n",
       "      <td>4</td>\n",
       "      <td>0</td>\n",
       "      <td>1</td>\n",
       "      <td>39</td>\n",
       "    </tr>\n",
       "  </tbody>\n",
       "</table>\n",
       "</div>"
      ],
      "text/plain": [
       "       workclass  marital.status  occupation  relationship  sex  \\\n",
       "32098          7               2           4             5    0   \n",
       "25206          2               2           7             0    1   \n",
       "23491          4               4           4             1    0   \n",
       "12367          2               4           5             3    1   \n",
       "7054           1               2           4             0    1   \n",
       "\n",
       "       native.country  \n",
       "32098              39  \n",
       "25206              39  \n",
       "23491              39  \n",
       "12367              39  \n",
       "7054               39  "
      ]
     },
     "metadata": {},
     "execution_count": 65
    }
   ],
   "metadata": {}
  },
  {
   "cell_type": "markdown",
   "source": [
    "## 문제 28. Light GBM 을 이용하여 다중분류 구현하기"
   ],
   "metadata": {}
  },
  {
   "cell_type": "code",
   "execution_count": 66,
   "source": [
    "from lightgbm import LGBMClassifier\r\n",
    "from sklearn.metrics import accuracy_score\r\n",
    "\r\n",
    "lgbm =  LGBMClassifier( )\r\n",
    "lgbm.fit(x_train, y_train)"
   ],
   "outputs": [
    {
     "output_type": "execute_result",
     "data": {
      "text/plain": [
       "LGBMClassifier()"
      ]
     },
     "metadata": {},
     "execution_count": 66
    }
   ],
   "metadata": {}
  },
  {
   "cell_type": "code",
   "execution_count": null,
   "source": [
    "LGBMClassifier(boosting_type='gbdt', class_weight=None, colsample_bytree=1.0,\r\n",
    "               importance_type='split', learning_rate=0.1, max_depth=-1,\r\n",
    "               min_child_samples=20, min_child_weight=0.001, min_split_gain=0.0,\r\n",
    "               n_estimators=100, n_jobs=-1, num_leaves=31, objective=None,\r\n",
    "               random_state=None, reg_alpha=0.0, reg_lambda=0.0, silent=True,\r\n",
    "               subsample=1.0, subsample_for_bin=200000, subsample_freq=0)"
   ],
   "outputs": [],
   "metadata": {}
  },
  {
   "cell_type": "markdown",
   "source": [
    "## 문제 29. Light GBM 다중분류 결과 확인하기: Accuracy, Confusion Matrix, Heatmap"
   ],
   "metadata": {}
  },
  {
   "cell_type": "code",
   "execution_count": 68,
   "source": [
    "## 정확도 구하기\r\n",
    "y_pred1 =  lgbm.predict(x_test)\r\n",
    "\r\n",
    "lgbm_score =  accuracy_score(y_test, y_pred1)\r\n",
    "print('LGBM Model accuracy score : {0:0.4f}'.format(lgbm_score))"
   ],
   "outputs": [
    {
     "output_type": "stream",
     "name": "stdout",
     "text": [
      "LGBM Model accuracy score : 0.8151\n"
     ]
    }
   ],
   "metadata": {}
  },
  {
   "cell_type": "code",
   "execution_count": 69,
   "source": [
    "pd.DataFrame(y_test).head(10)"
   ],
   "outputs": [
    {
     "output_type": "execute_result",
     "data": {
      "text/html": [
       "<div>\n",
       "<style scoped>\n",
       "    .dataframe tbody tr th:only-of-type {\n",
       "        vertical-align: middle;\n",
       "    }\n",
       "\n",
       "    .dataframe tbody tr th {\n",
       "        vertical-align: top;\n",
       "    }\n",
       "\n",
       "    .dataframe thead th {\n",
       "        text-align: right;\n",
       "    }\n",
       "</style>\n",
       "<table border=\"1\" class=\"dataframe\">\n",
       "  <thead>\n",
       "    <tr style=\"text-align: right;\">\n",
       "      <th></th>\n",
       "      <th>income.num</th>\n",
       "    </tr>\n",
       "  </thead>\n",
       "  <tbody>\n",
       "    <tr>\n",
       "      <th>22278</th>\n",
       "      <td>6</td>\n",
       "    </tr>\n",
       "    <tr>\n",
       "      <th>8950</th>\n",
       "      <td>6</td>\n",
       "    </tr>\n",
       "    <tr>\n",
       "      <th>7838</th>\n",
       "      <td>7</td>\n",
       "    </tr>\n",
       "    <tr>\n",
       "      <th>16505</th>\n",
       "      <td>3</td>\n",
       "    </tr>\n",
       "    <tr>\n",
       "      <th>19140</th>\n",
       "      <td>2</td>\n",
       "    </tr>\n",
       "    <tr>\n",
       "      <th>12319</th>\n",
       "      <td>7</td>\n",
       "    </tr>\n",
       "    <tr>\n",
       "      <th>28589</th>\n",
       "      <td>7</td>\n",
       "    </tr>\n",
       "    <tr>\n",
       "      <th>10000</th>\n",
       "      <td>1</td>\n",
       "    </tr>\n",
       "    <tr>\n",
       "      <th>28530</th>\n",
       "      <td>3</td>\n",
       "    </tr>\n",
       "    <tr>\n",
       "      <th>24237</th>\n",
       "      <td>6</td>\n",
       "    </tr>\n",
       "  </tbody>\n",
       "</table>\n",
       "</div>"
      ],
      "text/plain": [
       "       income.num\n",
       "22278           6\n",
       "8950            6\n",
       "7838            7\n",
       "16505           3\n",
       "19140           2\n",
       "12319           7\n",
       "28589           7\n",
       "10000           1\n",
       "28530           3\n",
       "24237           6"
      ]
     },
     "metadata": {},
     "execution_count": 69
    }
   ],
   "metadata": {}
  },
  {
   "cell_type": "code",
   "execution_count": 70,
   "source": [
    "pd.DataFrame(y_pred1).head(10)"
   ],
   "outputs": [
    {
     "output_type": "execute_result",
     "data": {
      "text/html": [
       "<div>\n",
       "<style scoped>\n",
       "    .dataframe tbody tr th:only-of-type {\n",
       "        vertical-align: middle;\n",
       "    }\n",
       "\n",
       "    .dataframe tbody tr th {\n",
       "        vertical-align: top;\n",
       "    }\n",
       "\n",
       "    .dataframe thead th {\n",
       "        text-align: right;\n",
       "    }\n",
       "</style>\n",
       "<table border=\"1\" class=\"dataframe\">\n",
       "  <thead>\n",
       "    <tr style=\"text-align: right;\">\n",
       "      <th></th>\n",
       "      <th>0</th>\n",
       "    </tr>\n",
       "  </thead>\n",
       "  <tbody>\n",
       "    <tr>\n",
       "      <th>0</th>\n",
       "      <td>6</td>\n",
       "    </tr>\n",
       "    <tr>\n",
       "      <th>1</th>\n",
       "      <td>6</td>\n",
       "    </tr>\n",
       "    <tr>\n",
       "      <th>2</th>\n",
       "      <td>6</td>\n",
       "    </tr>\n",
       "    <tr>\n",
       "      <th>3</th>\n",
       "      <td>3</td>\n",
       "    </tr>\n",
       "    <tr>\n",
       "      <th>4</th>\n",
       "      <td>3</td>\n",
       "    </tr>\n",
       "    <tr>\n",
       "      <th>5</th>\n",
       "      <td>7</td>\n",
       "    </tr>\n",
       "    <tr>\n",
       "      <th>6</th>\n",
       "      <td>7</td>\n",
       "    </tr>\n",
       "    <tr>\n",
       "      <th>7</th>\n",
       "      <td>1</td>\n",
       "    </tr>\n",
       "    <tr>\n",
       "      <th>8</th>\n",
       "      <td>3</td>\n",
       "    </tr>\n",
       "    <tr>\n",
       "      <th>9</th>\n",
       "      <td>6</td>\n",
       "    </tr>\n",
       "  </tbody>\n",
       "</table>\n",
       "</div>"
      ],
      "text/plain": [
       "   0\n",
       "0  6\n",
       "1  6\n",
       "2  6\n",
       "3  3\n",
       "4  3\n",
       "5  7\n",
       "6  7\n",
       "7  1\n",
       "8  3\n",
       "9  6"
      ]
     },
     "metadata": {},
     "execution_count": 70
    }
   ],
   "metadata": {}
  },
  {
   "cell_type": "code",
   "execution_count": 71,
   "source": [
    "## Confusion Matrix 확인하기\r\n",
    "from sklearn.metrics import confusion_matrix\r\n",
    "cm1 =  confusion_matrix(y_test, y_pred1)\r\n",
    "print('LGBM Confusion Matrix for 11-class Labels\\n')\r\n",
    "print(cm1)"
   ],
   "outputs": [
    {
     "output_type": "stream",
     "name": "stdout",
     "text": [
      "LGBM Confusion Matrix for 11-class Labels\n",
      "\n",
      "[[917  46   5   8   1   0   4   6   0   1   0]\n",
      " [ 36 862  50  11   7   1   1   1   0   0   0]\n",
      " [ 18  36 810  45  10   1   3   3   0   4   0]\n",
      " [ 13   7  66 847  60  11   5   4   3   3   0]\n",
      " [  8  10  11  65 773  64  20   6   7   5   0]\n",
      " [  8   6  17  15  81 755  88  18   9   5   0]\n",
      " [  8   8   9   8  12  83 714  79  13  17   0]\n",
      " [ 11   6  12   3  10   9  80 736  93  22   0]\n",
      " [  7   7   8   7   9  12   8 106 737  77   0]\n",
      " [  7   6   6  10  14   8   9  28  67 812   2]\n",
      " [  0   0   0   0   0   0   0   0   0  12   0]]\n"
     ]
    }
   ],
   "metadata": {}
  },
  {
   "cell_type": "code",
   "execution_count": 72,
   "source": [
    "## 히트맵으로 시각화하기\r\n",
    "plt.figure(figsize=[8,7])\r\n",
    "sns.heatmap(cm1, cmap='Reds', annot=True, fmt='.0f')\r\n",
    "plt.title('LGBM Heatmap for 11-class Labels\\n')\r\n",
    "plt.show()"
   ],
   "outputs": [
    {
     "output_type": "display_data",
     "data": {
      "image/png": "[encoded data removed]",
      "text/plain": [
       "<Figure size 576x504 with 2 Axes>"
      ]
     },
     "metadata": {}
    }
   ],
   "metadata": {}
  },
  {
   "cell_type": "code",
   "execution_count": 73,
   "source": [
    "print('LGBM Model accuracy score : {0:0.4f}'.format(lgbm_score))\r\n",
    "print('\\n')\r\n",
    "print(classification_report(y_test, y_pred1))"
   ],
   "outputs": [
    {
     "output_type": "stream",
     "name": "stdout",
     "text": [
      "LGBM Model accuracy score : 0.8151\n",
      "\n",
      "\n",
      "              precision    recall  f1-score   support\n",
      "\n",
      "           0       0.89      0.93      0.91       988\n",
      "           1       0.87      0.89      0.88       969\n",
      "           2       0.81      0.87      0.84       930\n",
      "           3       0.83      0.83      0.83      1019\n",
      "           4       0.79      0.80      0.79       969\n",
      "           5       0.80      0.75      0.78      1002\n",
      "           6       0.77      0.75      0.76       951\n",
      "           7       0.75      0.75      0.75       982\n",
      "           8       0.79      0.75      0.77       978\n",
      "           9       0.85      0.84      0.84       969\n",
      "          10       0.00      0.00      0.00        12\n",
      "\n",
      "    accuracy                           0.82      9769\n",
      "   macro avg       0.74      0.74      0.74      9769\n",
      "weighted avg       0.81      0.82      0.81      9769\n",
      "\n"
     ]
    }
   ],
   "metadata": {}
  },
  {
   "cell_type": "markdown",
   "source": [
    "## 문제 30. Random Forest 모델로 다중분류 구현하고 정확도 확인하기"
   ],
   "metadata": {}
  },
  {
   "cell_type": "code",
   "execution_count": 74,
   "source": [
    "from sklearn.ensemble import RandomForestClassifier\r\n",
    "from sklearn.metrics import accuracy_score\r\n",
    "\r\n",
    "rfc =  RandomForestClassifier() \r\n",
    "rfc.fit(x_train, y_train) "
   ],
   "outputs": [
    {
     "output_type": "execute_result",
     "data": {
      "text/plain": [
       "RandomForestClassifier()"
      ]
     },
     "metadata": {},
     "execution_count": 74
    }
   ],
   "metadata": {}
  },
  {
   "cell_type": "code",
   "execution_count": 75,
   "source": [
    "y_pred =  rfc.predict(x_test)\r\n",
    "rfc_score =  accuracy_score(y_test, y_pred)\r\n",
    "print('Random Forest Model accuracy score : {0:0.4f}'. format(rfc_score))"
   ],
   "outputs": [
    {
     "output_type": "stream",
     "name": "stdout",
     "text": [
      "Random Forest Model accuracy score : 0.7653\n"
     ]
    }
   ],
   "metadata": {}
  },
  {
   "cell_type": "markdown",
   "source": [
    "모델 개선 --> 정확도 개선, F1 스코어 개선 <- 모델 변경, 모델의 파라미터 변경, 데이터 변경(처리, 피처 엔지니어링, 정제, 아웃라이어 제거, 변수 추가) 11개 --> ? 개"
   ],
   "metadata": {}
  },
  {
   "cell_type": "markdown",
   "source": [
    "# Step 7. 다중분류 모델의 평가와 개선"
   ],
   "metadata": {}
  },
  {
   "cell_type": "markdown",
   "source": [
    "## 문제 31. Random Forest 다중분류 모델의 정확도 확인하기"
   ],
   "metadata": {}
  },
  {
   "cell_type": "code",
   "execution_count": 76,
   "source": [
    "## 이전 Step 복습\r\n",
    "y_pred = rfc.predict(x_test)\r\n",
    "rfc_score = accuracy_score(y_test, y_pred)\r\n",
    "print('Randoom Forest Model accuracy score : {0:0.4f}'. format(rfc_score)) "
   ],
   "outputs": [
    {
     "output_type": "stream",
     "name": "stdout",
     "text": [
      "Randoom Forest Model accuracy score : 0.7653\n"
     ]
    }
   ],
   "metadata": {}
  },
  {
   "cell_type": "markdown",
   "source": [
    "평가방법: 정확도(exact match), 인접 정확도 1, 2, 3, ... 10 <-- 멀티 클래스 분류 레이블의 임의성, 불명확성  // [1000-2000] [1234-2194] "
   ],
   "metadata": {}
  },
  {
   "cell_type": "markdown",
   "source": [
    "## 문제 32. Random Forest 다중분류 모델의 인접정확도 구하기"
   ],
   "metadata": {}
  },
  {
   "cell_type": "code",
   "execution_count": 77,
   "source": [
    "## 인접 정확도의 계산\r\n",
    "precise_accuracy =  np.sum(y_pred==y_test) / len(y_pred)\r\n",
    "adjacent_accuracy =  np.sum(np.abs(y_pred - y_test) <= 1) / len(y_pred)\r\n",
    "\r\n",
    "print('precise accuracy: {0:0.4f}'. format(precise_accuracy))\r\n",
    "print('adjacent accuracy: {0:0.4f}'. format(adjacent_accuracy))"
   ],
   "outputs": [
    {
     "output_type": "stream",
     "name": "stdout",
     "text": [
      "precise accuracy: 0.7653\n",
      "adjacent accuracy: 0.9307\n"
     ]
    }
   ],
   "metadata": {}
  },
  {
   "cell_type": "markdown",
   "source": [
    "## 문제 33. Random Forest 다중분류 모델의 Confusion Matrix 확인하기"
   ],
   "metadata": {}
  },
  {
   "cell_type": "code",
   "execution_count": 78,
   "source": [
    "print(cm1) # light gbm "
   ],
   "outputs": [
    {
     "output_type": "stream",
     "name": "stdout",
     "text": [
      "[[917  46   5   8   1   0   4   6   0   1   0]\n",
      " [ 36 862  50  11   7   1   1   1   0   0   0]\n",
      " [ 18  36 810  45  10   1   3   3   0   4   0]\n",
      " [ 13   7  66 847  60  11   5   4   3   3   0]\n",
      " [  8  10  11  65 773  64  20   6   7   5   0]\n",
      " [  8   6  17  15  81 755  88  18   9   5   0]\n",
      " [  8   8   9   8  12  83 714  79  13  17   0]\n",
      " [ 11   6  12   3  10   9  80 736  93  22   0]\n",
      " [  7   7   8   7   9  12   8 106 737  77   0]\n",
      " [  7   6   6  10  14   8   9  28  67 812   2]\n",
      " [  0   0   0   0   0   0   0   0   0  12   0]]\n"
     ]
    }
   ],
   "metadata": {}
  },
  {
   "cell_type": "code",
   "execution_count": 79,
   "source": [
    "from sklearn.metrics import confusion_matrix\r\n",
    "cm2 =  confusion_matrix(y_test, y_pred)\r\n",
    "print('Random Forest Confusion Matrix for 11-class Labels\\n')\r\n",
    "print(cm2)"
   ],
   "outputs": [
    {
     "output_type": "stream",
     "name": "stdout",
     "text": [
      "Random Forest Confusion Matrix for 11-class Labels\n",
      "\n",
      "[[931  47   5   1   1   0   2   1   0   0   0]\n",
      " [ 54 834  65  11   1   1   3   0   0   0   0]\n",
      " [ 26  75 765  45   9   4   4   0   1   1   0]\n",
      " [ 17  18  99 766  90  12   6   2   6   3   0]\n",
      " [ 15  17  18  82 719  86  16   5   5   6   0]\n",
      " [ 10  11  21  21 103 704 107  10   7   8   0]\n",
      " [ 11   9  13  13  17  95 691  89   4   9   0]\n",
      " [ 13   7   6   8  15  17 114 683  99  20   0]\n",
      " [  8  12   2   7  15  13  24 136 651 110   0]\n",
      " [ 11   7  11  11  17  20  17  34 109 732   0]\n",
      " [  0   0   0   0   0   0   0   1   0  11   0]]\n"
     ]
    }
   ],
   "metadata": {}
  },
  {
   "cell_type": "code",
   "execution_count": 80,
   "source": [
    "plt.figure(figsize=[8, 7])\r\n",
    "sns.heatmap(cm1, cmap='Reds', annot=True, fmt='.0f')\r\n",
    "plt.show()"
   ],
   "outputs": [
    {
     "output_type": "display_data",
     "data": {
      "image/png": "[encoded data removed]",
      "text/plain": [
       "<Figure size 576x504 with 2 Axes>"
      ]
     },
     "metadata": {}
    }
   ],
   "metadata": {}
  },
  {
   "cell_type": "code",
   "execution_count": 81,
   "source": [
    "## Seaborn Heatmap\r\n",
    "\r\n",
    "plt.figure(figsize=[8, 7])\r\n",
    "sns.heatmap(cm2, cmap='Reds', annot=True, fmt='.0f')\r\n",
    "plt.title('Random Forest Heatmap for 11-class Labels\\n', fontsize=14)\r\n",
    "plt.show()"
   ],
   "outputs": [
    {
     "output_type": "display_data",
     "data": {
      "image/png": "[encoded data removed]",
      "text/plain": [
       "<Figure size 576x504 with 2 Axes>"
      ]
     },
     "metadata": {}
    }
   ],
   "metadata": {}
  },
  {
   "cell_type": "markdown",
   "source": [
    "## 문제 34. Random Forest 다중분류 모델의 분류결과 확인하기"
   ],
   "metadata": {}
  },
  {
   "cell_type": "code",
   "execution_count": 82,
   "source": [
    "from sklearn.metrics import classification_report\r\n",
    "\r\n",
    "print('Random Forest precise  accuracy for 11 labels: {0:0.4f}'. format(precise_accuracy))\r\n",
    "print('Random Forest adjacent accuracy for 11 labels: {0:0.4f}'. format(adjacent_accuracy))\r\n",
    "print('\\n')\r\n",
    "print(classification_report(y_test, y_pred ))"
   ],
   "outputs": [
    {
     "output_type": "stream",
     "name": "stdout",
     "text": [
      "Random Forest precise  accuracy for 11 labels: 0.7653\n",
      "Random Forest adjacent accuracy for 11 labels: 0.9307\n",
      "\n",
      "\n",
      "              precision    recall  f1-score   support\n",
      "\n",
      "           0       0.85      0.94      0.89       988\n",
      "           1       0.80      0.86      0.83       969\n",
      "           2       0.76      0.82      0.79       930\n",
      "           3       0.79      0.75      0.77      1019\n",
      "           4       0.73      0.74      0.74       969\n",
      "           5       0.74      0.70      0.72      1002\n",
      "           6       0.70      0.73      0.71       951\n",
      "           7       0.71      0.70      0.70       982\n",
      "           8       0.74      0.67      0.70       978\n",
      "           9       0.81      0.76      0.78       969\n",
      "          10       0.00      0.00      0.00        12\n",
      "\n",
      "    accuracy                           0.77      9769\n",
      "   macro avg       0.69      0.70      0.69      9769\n",
      "weighted avg       0.76      0.77      0.76      9769\n",
      "\n"
     ]
    }
   ],
   "metadata": {}
  },
  {
   "cell_type": "markdown",
   "source": [
    "## 문제 35. 적절한 클래스 수로 변환하여 모델 개선하기"
   ],
   "metadata": {}
  },
  {
   "cell_type": "code",
   "execution_count": 83,
   "source": [
    "def value_change(x):\r\n",
    "    if x <= 20000: return 0\r\n",
    "    if x >  20000 and x <= 50000 : return 1\r\n",
    "    if x >  50000 and x <= 70000 : return 2\r\n",
    "    if x >  70000 and x <= 90000 : return 3 \r\n",
    "    return 4\r\n",
    "                                       ## Define new function\r\n",
    "y = data['income.num'].apply(lambda x: value_change(x))   ## Apply Lambda function\r\n",
    "y.value_counts()"
   ],
   "outputs": [
    {
     "output_type": "execute_result",
     "data": {
      "text/plain": [
       "1    9686\n",
       "2    6564\n",
       "3    6533\n",
       "0    6426\n",
       "4    3352\n",
       "Name: income.num, dtype: int64"
      ]
     },
     "metadata": {},
     "execution_count": 83
    }
   ],
   "metadata": {}
  },
  {
   "cell_type": "code",
   "execution_count": 84,
   "source": [
    "y.value_counts().sum()"
   ],
   "outputs": [
    {
     "output_type": "execute_result",
     "data": {
      "text/plain": [
       "32561"
      ]
     },
     "metadata": {},
     "execution_count": 84
    }
   ],
   "metadata": {}
  },
  {
   "cell_type": "code",
   "execution_count": 85,
   "source": [
    "9686 / 32561"
   ],
   "outputs": [
    {
     "output_type": "execute_result",
     "data": {
      "text/plain": [
       "0.29747243635023496"
      ]
     },
     "metadata": {},
     "execution_count": 85
    }
   ],
   "metadata": {}
  },
  {
   "cell_type": "code",
   "execution_count": 86,
   "source": [
    "sns.set(font_scale=1.4)\r\n",
    "y.value_counts().plot(kind='bar', figsize=(7, 6), rot=0)\r\n",
    "plt.xlabel(\"Income Labels\", labelpad=14)\r\n",
    "plt.ylabel(\"Counts\", labelpad=14)\r\n",
    "plt.title(\"Counts of 5 Income Labels\\n\", y=1.02);"
   ],
   "outputs": [
    {
     "output_type": "display_data",
     "data": {
      "image/png": "[encoded data removed]",
      "text/plain": [
       "<Figure size 504x432 with 1 Axes>"
      ]
     },
     "metadata": {}
    }
   ],
   "metadata": {}
  },
  {
   "cell_type": "markdown",
   "source": [
    "## 문제 36. Feature Engineering"
   ],
   "metadata": {}
  },
  {
   "cell_type": "code",
   "execution_count": 87,
   "source": [
    "from sklearn.model_selection import train_test_split\r\n",
    "x_train, x_test, y_train, y_test = train_test_split(X, y, test_size = 0.3, random_state = 0)\r\n",
    "from sklearn import preprocessing\r\n",
    "\r\n",
    "categorical = ['workclass', 'marital.status', 'occupation', 'relationship', 'sex', 'native.country']\r\n",
    "for feature in categorical:\r\n",
    "        le = preprocessing.LabelEncoder()\r\n",
    "        x_train[feature] = le.fit_transform(x_train[feature])\r\n",
    "        x_test[feature] = le.transform(x_test[feature])"
   ],
   "outputs": [],
   "metadata": {}
  },
  {
   "cell_type": "markdown",
   "source": [
    "## 문제 37. 변경한 클래스를 이용한 Random Forest 다중분류 모델의 개선결과 확인하기"
   ],
   "metadata": {}
  },
  {
   "cell_type": "code",
   "execution_count": 88,
   "source": [
    "from sklearn.ensemble import RandomForestClassifier\r\n",
    "from sklearn.metrics import accuracy_score\r\n",
    "\r\n",
    "rfc = RandomForestClassifier(random_state=0)\r\n",
    "rfc.fit(x_train, y_train)"
   ],
   "outputs": [
    {
     "output_type": "execute_result",
     "data": {
      "text/plain": [
       "RandomForestClassifier(random_state=0)"
      ]
     },
     "metadata": {},
     "execution_count": 88
    }
   ],
   "metadata": {}
  },
  {
   "cell_type": "code",
   "execution_count": 89,
   "source": [
    "## Confusion Matrix 확인하기\r\n",
    "y_pred =  rfc.predict(x_test)\r\n",
    "cm3 =  confusion_matrix(y_test, y_pred)\r\n",
    "print('Random Forest Confusion Matrix for 5-class Labels\\n')\r\n",
    "print(cm3)"
   ],
   "outputs": [
    {
     "output_type": "stream",
     "name": "stdout",
     "text": [
      "Random Forest Confusion Matrix for 5-class Labels\n",
      "\n",
      "[[1811  144    2    0    0]\n",
      " [ 105 2721   84    8    0]\n",
      " [  31  194 1609  118    1]\n",
      " [  26   81  134 1680   39]\n",
      " [  13   56   29  253  630]]\n"
     ]
    }
   ],
   "metadata": {}
  },
  {
   "cell_type": "code",
   "execution_count": 90,
   "source": [
    "plt.figure(figsize=[8, 7])\r\n",
    "sns.heatmap(cm2, cmap='Reds', annot=True, fmt='.0f')\r\n",
    "plt.title('Random Forest Heatmap for 11-class Labels\\n', fontsize=14)\r\n",
    "plt.show()"
   ],
   "outputs": [
    {
     "output_type": "display_data",
     "data": {
      "image/png": "[encoded data removed]",
      "text/plain": [
       "<Figure size 576x504 with 2 Axes>"
      ]
     },
     "metadata": {}
    }
   ],
   "metadata": {}
  },
  {
   "cell_type": "code",
   "execution_count": 91,
   "source": [
    "# Heatmap 그려보기\r\n",
    "\r\n",
    "plt.figure(figsize=[8,7])\r\n",
    "sns.heatmap(cm3, cmap=\"Reds\", annot=True, fmt='.0f')\r\n",
    "plt.title('Random Forest Heatmap for 5-class Labels\\n', fontsize=14)\r\n",
    "plt.show()"
   ],
   "outputs": [
    {
     "output_type": "display_data",
     "data": {
      "image/png": "[encoded data removed]",
      "text/plain": [
       "<Figure size 576x504 with 2 Axes>"
      ]
     },
     "metadata": {}
    }
   ],
   "metadata": {}
  },
  {
   "cell_type": "code",
   "execution_count": 92,
   "source": [
    "## Accruacy Evaluation\r\n",
    "precise_accuracy =  np.sum(y_pred==y_test) / len(y_pred) # exact_match\r\n",
    "adjacent_accuracy =  np.sum(np.abs(y_pred - y_test) <=1) / len(y_pred)\r\n",
    "\r\n",
    "print('precise accuracy: {0:0.4f}'. format(precise_accuracy))\r\n",
    "print('adjacent accuracy: {0:0.4f}'. format(adjacent_accuracy))"
   ],
   "outputs": [
    {
     "output_type": "stream",
     "name": "stdout",
     "text": [
      "precise accuracy: 0.8651\n",
      "adjacent accuracy: 0.9747\n"
     ]
    }
   ],
   "metadata": {}
  },
  {
   "cell_type": "code",
   "execution_count": 93,
   "source": [
    "## 2가지 Accruacy 스코어의 비교\r\n",
    "print('Random Forest precise  accuracy for 5 labels: {0:0.4f}'. format(precise_accuracy))\r\n",
    "print('Random Forest adjacent accuracy for 5 labels: {0:0.4f}'. format(adjacent_accuracy))\r\n",
    "print('\\n')\r\n",
    "print(classification_report(y_test, y_pred))"
   ],
   "outputs": [
    {
     "output_type": "stream",
     "name": "stdout",
     "text": [
      "Random Forest precise  accuracy for 5 labels: 0.8651\n",
      "Random Forest adjacent accuracy for 5 labels: 0.9747\n",
      "\n",
      "\n",
      "              precision    recall  f1-score   support\n",
      "\n",
      "           0       0.91      0.93      0.92      1957\n",
      "           1       0.85      0.93      0.89      2918\n",
      "           2       0.87      0.82      0.84      1953\n",
      "           3       0.82      0.86      0.84      1960\n",
      "           4       0.94      0.64      0.76       981\n",
      "\n",
      "    accuracy                           0.87      9769\n",
      "   macro avg       0.88      0.84      0.85      9769\n",
      "weighted avg       0.87      0.87      0.86      9769\n",
      "\n"
     ]
    }
   ],
   "metadata": {}
  },
  {
   "cell_type": "markdown",
   "source": [
    "## 문제 38. 변경한 클래스를 이용한 Ligth GBM 다중분류 모델의 개선결과 확인하기"
   ],
   "metadata": {}
  },
  {
   "cell_type": "code",
   "execution_count": 94,
   "source": [
    "lgbm =  LGBMClassifier(random_state=0)\r\n",
    "lgbm.fit(x_train, y_train)\r\n",
    "y_pred1 =  lgbm.predict(x_test)\r\n",
    "\r\n",
    "lgbm_score1 = accuracy_score(y_test, y_pred1 )\r\n",
    "print('LGBM Model accuracy score : {0:0.4f}'.format(lgbm_score1))"
   ],
   "outputs": [
    {
     "output_type": "stream",
     "name": "stdout",
     "text": [
      "LGBM Model accuracy score : 0.9030\n"
     ]
    }
   ],
   "metadata": {}
  },
  {
   "cell_type": "code",
   "execution_count": 95,
   "source": [
    "## Confusion Matrix 구하기\r\n",
    "\r\n",
    "cm4 =  confusion_matrix(y_test, y_pred1)\r\n",
    "print('LGBM Confusion Matrix for 5-class Labels\\n')\r\n",
    "print(cm4)\r\n"
   ],
   "outputs": [
    {
     "output_type": "stream",
     "name": "stdout",
     "text": [
      "LGBM Confusion Matrix for 5-class Labels\n",
      "\n",
      "[[1858   93    2    4    0]\n",
      " [  75 2756   70   13    4]\n",
      " [  26  129 1700   95    3]\n",
      " [  24   54  106 1717   59]\n",
      " [  13   35   24  119  790]]\n"
     ]
    }
   ],
   "metadata": {}
  },
  {
   "cell_type": "code",
   "execution_count": 96,
   "source": [
    "# seaborn를 이용한 heatmap\r\n",
    "\r\n",
    "plt.figure(figsize=[8, 7])\r\n",
    "sns.heatmap(cm3, cmap='Reds', annot=True, fmt='.0f')\r\n",
    "plt.title('Random Forest Classifier Heatmap for 5-class Labels\\n', fontsize=14)\r\n",
    "plt.show()"
   ],
   "outputs": [
    {
     "output_type": "display_data",
     "data": {
      "image/png": "[encoded data removed]",
      "text/plain": [
       "<Figure size 576x504 with 2 Axes>"
      ]
     },
     "metadata": {}
    }
   ],
   "metadata": {}
  },
  {
   "cell_type": "code",
   "execution_count": 97,
   "source": [
    "# seaborn를 이용한 heatmap\r\n",
    "\r\n",
    "plt.figure(figsize=[8, 7])\r\n",
    "sns.heatmap(cm4, cmap='Reds', annot=True, fmt='.0f')\r\n",
    "plt.title('LGBM Heatmap for 5-class Labels\\n', fontsize=14)\r\n",
    "plt.show()"
   ],
   "outputs": [
    {
     "output_type": "display_data",
     "data": {
      "image/png": "[encoded data removed]",
      "text/plain": [
       "<Figure size 576x504 with 2 Axes>"
      ]
     },
     "metadata": {}
    }
   ],
   "metadata": {}
  },
  {
   "cell_type": "code",
   "execution_count": 98,
   "source": [
    "## Accuracy Evalaution\r\n",
    "precise_accuracy1 =  np.sum(y_pred1 == y_test) / len(y_pred1) # exact_match\r\n",
    "adjacent_accuracy1 =  np.sum(np.abs(y_pred1 - y_test) <= 1) / len(y_pred1) \r\n",
    "\r\n",
    "print('LGBM precise  accuracy for 5 labels: {0:0.4f}'. format(precise_accuracy1))\r\n",
    "print('LGBM adjacent accuracy for 5 labels: {0:0.4f}'. format(adjacent_accuracy1))\r\n",
    "print('\\n')\r\n",
    "print(classification_report(y_test, y_pred1))"
   ],
   "outputs": [
    {
     "output_type": "stream",
     "name": "stdout",
     "text": [
      "LGBM precise  accuracy for 5 labels: 0.9030\n",
      "LGBM adjacent accuracy for 5 labels: 0.9793\n",
      "\n",
      "\n",
      "              precision    recall  f1-score   support\n",
      "\n",
      "           0       0.93      0.95      0.94      1957\n",
      "           1       0.90      0.94      0.92      2918\n",
      "           2       0.89      0.87      0.88      1953\n",
      "           3       0.88      0.88      0.88      1960\n",
      "           4       0.92      0.81      0.86       981\n",
      "\n",
      "    accuracy                           0.90      9769\n",
      "   macro avg       0.91      0.89      0.90      9769\n",
      "weighted avg       0.90      0.90      0.90      9769\n",
      "\n"
     ]
    }
   ],
   "metadata": {}
  },
  {
   "cell_type": "markdown",
   "source": [
    "## 문제 39. 요약: 소득 다중분류 예측모델의 결과 비교하기"
   ],
   "metadata": {}
  },
  {
   "cell_type": "code",
   "execution_count": 99,
   "source": [
    "print ('Accuracy Comparisons for Multiclass Models\\n')\r\n",
    "print ('rfc_score  (11 labels)  :', '{0:0.5f}'.format(rfc_score)) # Step 6, 문제 30\r\n",
    "print ('rfc_score  ( 5 labels)  :', '{0:0.5f}'.format(precise_accuracy)) # Step 7, 문제 32\r\n",
    "print ('lbgm_score (11 labels)  :', '{0:0.5f}'.format(lgbm_score)) # Step 6, 문제 29\r\n",
    "print ('lgbm_score ( 5 labels)  :', '{0:0.5f}'.format(precise_accuracy1)) # Step 7, 문제 38"
   ],
   "outputs": [
    {
     "output_type": "stream",
     "name": "stdout",
     "text": [
      "Accuracy Comparisons for Multiclass Models\n",
      "\n",
      "rfc_score  (11 labels)  : 0.76528\n",
      "rfc_score  ( 5 labels)  : 0.86508\n",
      "lbgm_score (11 labels)  : 0.81513\n",
      "lgbm_score ( 5 labels)  : 0.90296\n"
     ]
    }
   ],
   "metadata": {}
  },
  {
   "cell_type": "code",
   "execution_count": 100,
   "source": [
    "print('LGBM Confusion Matrix')\r\n",
    "print(cm1) # Step 6, 문제 29\r\n",
    "print('\\n')\r\n",
    "print('Random Forest Confusion Matrix')\r\n",
    "print(cm2) # Step 7, 문제 33"
   ],
   "outputs": [
    {
     "output_type": "stream",
     "name": "stdout",
     "text": [
      "LGBM Confusion Matrix\n",
      "[[917  46   5   8   1   0   4   6   0   1   0]\n",
      " [ 36 862  50  11   7   1   1   1   0   0   0]\n",
      " [ 18  36 810  45  10   1   3   3   0   4   0]\n",
      " [ 13   7  66 847  60  11   5   4   3   3   0]\n",
      " [  8  10  11  65 773  64  20   6   7   5   0]\n",
      " [  8   6  17  15  81 755  88  18   9   5   0]\n",
      " [  8   8   9   8  12  83 714  79  13  17   0]\n",
      " [ 11   6  12   3  10   9  80 736  93  22   0]\n",
      " [  7   7   8   7   9  12   8 106 737  77   0]\n",
      " [  7   6   6  10  14   8   9  28  67 812   2]\n",
      " [  0   0   0   0   0   0   0   0   0  12   0]]\n",
      "\n",
      "\n",
      "Random Forest Confusion Matrix\n",
      "[[931  47   5   1   1   0   2   1   0   0   0]\n",
      " [ 54 834  65  11   1   1   3   0   0   0   0]\n",
      " [ 26  75 765  45   9   4   4   0   1   1   0]\n",
      " [ 17  18  99 766  90  12   6   2   6   3   0]\n",
      " [ 15  17  18  82 719  86  16   5   5   6   0]\n",
      " [ 10  11  21  21 103 704 107  10   7   8   0]\n",
      " [ 11   9  13  13  17  95 691  89   4   9   0]\n",
      " [ 13   7   6   8  15  17 114 683  99  20   0]\n",
      " [  8  12   2   7  15  13  24 136 651 110   0]\n",
      " [ 11   7  11  11  17  20  17  34 109 732   0]\n",
      " [  0   0   0   0   0   0   0   1   0  11   0]]\n"
     ]
    }
   ],
   "metadata": {}
  },
  {
   "cell_type": "code",
   "execution_count": 101,
   "source": [
    "print ('Classification Comparions for Multiclass Models\\n')\r\n",
    "print ('rfc_score   :', '{0:0.4f}'.format(rfc_score))\r\n",
    "print (classification_report(y_test, y_pred)) # Step 7, 문제 37\r\n",
    "print ('lgbm_score  :', '{0:0.4f}'.format(lgbm_score))\r\n",
    "print (classification_report(y_test, y_pred1))"
   ],
   "outputs": [
    {
     "output_type": "stream",
     "name": "stdout",
     "text": [
      "Classification Comparions for Multiclass Models\n",
      "\n",
      "rfc_score   : 0.7653\n",
      "              precision    recall  f1-score   support\n",
      "\n",
      "           0       0.91      0.93      0.92      1957\n",
      "           1       0.85      0.93      0.89      2918\n",
      "           2       0.87      0.82      0.84      1953\n",
      "           3       0.82      0.86      0.84      1960\n",
      "           4       0.94      0.64      0.76       981\n",
      "\n",
      "    accuracy                           0.87      9769\n",
      "   macro avg       0.88      0.84      0.85      9769\n",
      "weighted avg       0.87      0.87      0.86      9769\n",
      "\n",
      "lgbm_score  : 0.8151\n",
      "              precision    recall  f1-score   support\n",
      "\n",
      "           0       0.93      0.95      0.94      1957\n",
      "           1       0.90      0.94      0.92      2918\n",
      "           2       0.89      0.87      0.88      1953\n",
      "           3       0.88      0.88      0.88      1960\n",
      "           4       0.92      0.81      0.86       981\n",
      "\n",
      "    accuracy                           0.90      9769\n",
      "   macro avg       0.91      0.89      0.90      9769\n",
      "weighted avg       0.90      0.90      0.90      9769\n",
      "\n"
     ]
    }
   ],
   "metadata": {}
  },
  {
   "cell_type": "code",
   "execution_count": null,
   "source": [],
   "outputs": [],
   "metadata": {}
  }
 ],
 "metadata": {
  "orig_nbformat": 4,
  "language_info": {
   "name": "python",
   "version": "3.8.11",
   "mimetype": "text/x-python",
   "codemirror_mode": {
    "name": "ipython",
    "version": 3
   },
   "pygments_lexer": "ipython3",
   "nbconvert_exporter": "python",
   "file_extension": ".py"
  },
  "kernelspec": {
   "name": "python3",
   "display_name": "Python 3.8.11 64-bit ('base': conda)"
  },
  "interpreter": {
   "hash": "b3ba2566441a7c06988d0923437866b63cedc61552a5af99d1f4fb67d367b25f"
  }
 },
 "nbformat": 4,
 "nbformat_minor": 2
}
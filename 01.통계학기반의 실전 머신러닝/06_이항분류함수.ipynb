{
 "cells": [
  {
   "cell_type": "markdown",
   "source": [
    "## 머신러닝, 딥러닝은 y값에 따라 예측, 분류를 실행함\r\n",
    "- 예측 : y레이블(종속변수)의 결과가 한가지의 무한대의 숫자값\r\n",
    "- 분류(이항, 다항) : y레이블이 범주형 데이터인 경우 사용됨\r\n",
    "        - 이항분류 : y레이블의 결과가 두가지의 분류 결과만 나옴\r\n",
    "        - 다항분류 : y레이블의 결과가 세가지 이상의 분류가 나옴\r\n",
    "\r\n",
    "- 사이킷런 ML에서 참고 : 로지스틱(로짓)회귀분석에서 결과값이 0 또는 1로 나오면 분류,\r\n",
    "                         로지스틱(로짓)회귀분석에서 결과값이 0~1사이로 나오게 하면 회귀\r\n",
    "\r\n",
    "- 오즈비 : (게임에서 오즈비가 1/4로 표기되면, 총 5게임중 1번 이김)"
   ],
   "metadata": {}
  },
  {
   "cell_type": "code",
   "execution_count": 3,
   "source": [
    "import numpy as np"
   ],
   "outputs": [],
   "metadata": {}
  },
  {
   "cell_type": "code",
   "execution_count": 6,
   "source": [
    "x = [12, 3, 4, 3]\r\n",
    "y = ['생존', '생존', '사망', '생존']    # y값을 숫자로 변환해야 함\r\n",
    "\r\n",
    "## 레벨인코딩 함수로 작업해도 됨, 단 레벨인코딩은 ㄱ,ㄴ,ㄷ.. 순으로 0,1,2 가부여 됨\r\n",
    "\r\n",
    "y_label = []\r\n",
    "\r\n",
    "for i in y:\r\n",
    "    if i == '생존':\r\n",
    "        y_label.append(1)\r\n",
    "    else:\r\n",
    "        y_label.append(0)\r\n",
    "print(y_label)\r\n",
    "\r\n",
    "x = np.array(x)\r\n",
    "\r\n",
    "y_hat=1/(1+np.exp(-x))      # w, b값을 계산하고 0~1 사이 값이 나올 수 있는 계산식 이어야 함\r\n",
    "# 만약 y_hat 값이 최종값이라면 이 값을 0과 1로 제작해야만 실제 y값하고 비교가 가능\r\n",
    "y_hat_result = []\r\n",
    "\r\n",
    "for i in y_hat:\r\n",
    "    if i>0.5:       # 0.5는 임계구역, 임계구역은 사용자가 정함. (보통 0.5)\r\n",
    "        y_hat_result.append(1)\r\n",
    "    else:\r\n",
    "        y_hat_result.append(0)\r\n",
    "\r\n",
    "y_hat_result"
   ],
   "outputs": [
    {
     "output_type": "stream",
     "name": "stdout",
     "text": [
      "[1, 1, 0, 1]\n"
     ]
    },
    {
     "output_type": "execute_result",
     "data": {
      "text/plain": [
       "[1, 1, 1, 1]"
      ]
     },
     "metadata": {},
     "execution_count": 6
    }
   ],
   "metadata": {}
  },
  {
   "cell_type": "code",
   "execution_count": 7,
   "source": [
    "# 이항분류에서는 실제값과 예측값의 일치율을 계산함.\r\n",
    "# 4가지 경우를 계산함\r\n",
    "# y값 1, y예측값 1 = TT\r\n",
    "# y값 1, y예측값 0 = TF\r\n",
    "# y값 0, y예측값 1 = FT\r\n",
    "# y값 0, y예측값 0 = FF\r\n",
    "# 1 = T(True), 0 = F(False)"
   ],
   "outputs": [],
   "metadata": {}
  },
  {
   "cell_type": "code",
   "execution_count": 8,
   "source": [
    "#### 참고 argmax\r\n",
    "## 자료중 가장 큰 값이 있는 위치값 리턴\r\n",
    "# 예를들어서 y_hat이 선호색상에 대한 거라면\r\n",
    "\r\n",
    "a=[0.00003, 0.000007, 0.00002, 0.99999, 0.00002]\r\n",
    "y_hat_label=['빨강','파랑','초록','검정','흰색']\r\n",
    "y_hat_label[np.argmax(a)]\r\n"
   ],
   "outputs": [
    {
     "output_type": "execute_result",
     "data": {
      "text/plain": [
       "'검정'"
      ]
     },
     "metadata": {},
     "execution_count": 8
    }
   ],
   "metadata": {}
  },
  {
   "cell_type": "code",
   "execution_count": 11,
   "source": [
    "\r\n",
    "import matplotlib.pylab as plt\r\n",
    "import matplotlib as mpl\r\n",
    "mpl.rc('font', family='Malgun Gothic') #한글 폰트 설정\r\n",
    "#"
   ],
   "outputs": [],
   "metadata": {}
  },
  {
   "cell_type": "code",
   "execution_count": 12,
   "source": [
    "import numpy as np\r\n",
    "from sklearn.model_selection import train_test_split\r\n",
    "from sklearn.linear_model import LogisticRegression\r\n",
    "\r\n",
    "##########데이터 로드\r\n",
    "\r\n",
    "x_data = np.array([\r\n",
    "    [2, 1],\r\n",
    "    [3, 2],\r\n",
    "    [3, 4],\r\n",
    "    [5, 5],\r\n",
    "    [7, 5],\r\n",
    "    [2, 5],\r\n",
    "    [8, 9],\r\n",
    "    [9, 10],\r\n",
    "    [6, 12],\r\n",
    "    [9, 2],\r\n",
    "    [6, 10],\r\n",
    "    [2, 4]\r\n",
    "])\r\n",
    "y_data = np.array([0, 0, 0, 1, 1, 0, 1, 1, 1, 1, 1, 0])\r\n",
    "\r\n",
    "labels = ['fail', 'pass']\r\n",
    "\r\n",
    "##########데이터 분석\r\n",
    "\r\n",
    "##########데이터 전처리\r\n",
    "\r\n",
    "x_train, x_test, y_train, y_test = train_test_split(x_data, y_data, test_size=0.3, random_state=777)\r\n",
    "\r\n",
    "##########모델 생성\r\n",
    "\r\n",
    "model = LogisticRegression(penalty='none')\r\n",
    "\r\n",
    "##########모델 학습\r\n",
    "\r\n",
    "model.fit(x_train, y_train)\r\n",
    "\r\n",
    "##########모델 검증\r\n",
    "\r\n",
    "##########모델 예측\r\n",
    "\r\n",
    "plt.scatter(x_data[:,0], x_data[:,1], c=y_data)\r\n",
    "#\r\n",
    "xmin, xmax = plt.xlim()\r\n",
    "ymin, ymax = plt.ylim()\r\n",
    "x_plot = np.linspace(xmin,xmax) #np.linspace(start, stop, num=50)\r\n",
    "'''\r\n",
    "for coef, intercept in zip(model.coef_,model.intercept_):\r\n",
    "    plt.plot(x_plot, -(x_plot * coef[0] + intercept)/ coef[1])\r\n",
    "'''\r\n",
    "#'''\r\n",
    "plt.plot(x_plot, -(x_plot * model.coef_[0][0] + model.intercept_[0])/ model.coef_[0][1])\r\n",
    "##    -(x1* model.coef_[0][0] + model.intercept_[0]) = x2*model.coef_[0][1]\r\n",
    "##    x1* model.coef_[0][0] + model.intercept_[0] = -x2*model.coef_[0][1]\r\n",
    "##    x1* model.coef_[0][0] + model.intercept_[0] + x2*model.coef_[0][1] = 0\r\n",
    "#'''\r\n",
    "#\r\n",
    "plt.title('선형 이진 분류 모델')\r\n",
    "plt.xlabel('hour')\r\n",
    "plt.ylabel('attendance')\r\n",
    "plt.show()"
   ],
   "outputs": [
    {
     "output_type": "stream",
     "name": "stderr",
     "text": [
      "C:\\ProgramData\\Anaconda3\\lib\\site-packages\\matplotlib\\backends\\backend_agg.py:240: RuntimeWarning: Glyph 8722 missing from current font.\n",
      "  font.set_text(s, 0.0, flags=flags)\n",
      "C:\\ProgramData\\Anaconda3\\lib\\site-packages\\matplotlib\\backends\\backend_agg.py:203: RuntimeWarning: Glyph 8722 missing from current font.\n",
      "  font.set_text(s, 0, flags=flags)\n"
     ]
    },
    {
     "output_type": "display_data",
     "data": {
      "image/png": "[encoded data removed]",
      "text/plain": [
       "<Figure size 640x480 with 1 Axes>"
      ]
     },
     "metadata": {}
    }
   ],
   "metadata": {}
  },
  {
   "cell_type": "code",
   "execution_count": 17,
   "source": [
    "import numpy as np\r\n",
    "from sklearn.model_selection import train_test_split\r\n",
    "from sklearn.linear_model import LogisticRegression\r\n",
    "\r\n",
    "##########데이터 로드\r\n",
    "\r\n",
    "x_data = np.array([\r\n",
    "    [2, 1],\r\n",
    "    [3, 2],\r\n",
    "    [3, 4],\r\n",
    "    [5, 5],\r\n",
    "    [7, 5],\r\n",
    "    [2, 5],\r\n",
    "    [8, 9],ㅊㅊㅊ\r\n",
    "    [9, 10],\r\n",
    "    [6, 12],\r\n",
    "    [9, 2],\r\n",
    "    [6, 10],\r\n",
    "    [2, 4]\r\n",
    "])\r\n",
    "y_data = np.array([0, 0, 0, 1, 1, 0, 1, 1, 1, 1, 1, 0])\r\n",
    "\r\n",
    "labels = ['fail', 'pass']\r\n",
    "\r\n",
    "##########데이터 분석\r\n",
    "\r\n",
    "##########데이터 전처리\r\n",
    "\r\n",
    "x_train, x_test, y_train, y_test = train_test_split(x_data, y_data, test_size=0.3, random_state=777)\r\n",
    "\r\n",
    "##########모델 생성\r\n",
    "\r\n",
    "model = LogisticRegression()\r\n",
    "#model = LogisticRegression(max_iter=100, penalty='l2', C=1.0)\r\n",
    "\r\n",
    "#model = LogisticRegression(penalty='l2')\r\n",
    "#model = LogisticRegression(penalty='l1')\r\n",
    "#model = LogisticRegression(penalty='none', solver='sag')\r\n",
    "\r\n",
    "##########모델 학습\r\n",
    "\r\n",
    "model.fit(x_train, y_train)"
   ],
   "outputs": [
    {
     "output_type": "execute_result",
     "data": {
      "text/plain": [
       "LogisticRegression()"
      ]
     },
     "metadata": {},
     "execution_count": 17
    }
   ],
   "metadata": {}
  },
  {
   "cell_type": "code",
   "execution_count": 23,
   "source": [
    "\r\n",
    "##########모델 검증\r\n",
    "y_predict = model.predict(x_test)\r\n",
    "\r\n",
    "print(f'테스트예측값:{y_predict}')\r\n",
    "\r\n",
    "print(f'테스트실제값:{y_test}')\r\n",
    "\r\n",
    "print(f'테스트정확도:{y_predict}')\r\n",
    "\r\n"
   ],
   "outputs": [
    {
     "output_type": "stream",
     "name": "stdout",
     "text": [
      "[0]\n",
      "0\n",
      "fail 0.5817659727427806\n"
     ]
    }
   ],
   "metadata": {}
  },
  {
   "cell_type": "code",
   "execution_count": null,
   "source": [
    "\r\n",
    "##########모델 예측\r\n",
    "\r\n",
    "x_test = np.array([\r\n",
    "    [4, 6]\r\n",
    "])\r\n",
    "\r\n",
    "y_predict = model.predict(x_test)\r\n",
    "print(y_predict) #[1]\r\n",
    "print(y_predict[0]) #1\r\n",
    "label = labels[y_predict[0]]\r\n",
    "y_predict = model.predict_proba(x_test)\r\n",
    "confidence = y_predict[0][y_predict[0].argmax()]\r\n",
    "\r\n",
    "print(label, confidence) #"
   ],
   "outputs": [],
   "metadata": {}
  },
  {
   "cell_type": "code",
   "execution_count": 21,
   "source": [
    "x_test = np.array([\r\n",
    "    [4, 6], \r\n",
    "    [10, 11]\r\n",
    "])\r\n",
    "\r\n",
    "y_predict = model.predict(x_test)\r\n",
    "print(y_predict) #[1 1]\r\n",
    "print(y_predict[0]) #1\r\n",
    "label = labels[y_predict[0]]\r\n",
    "y_predict = model.predict_proba(x_test)\r\n",
    "confidence = y_predict[0][y_predict[0].argmax()]\r\n",
    "print(label, confidence) #\r\n",
    "print(y_predict[1]) #1"
   ],
   "outputs": [
    {
     "output_type": "stream",
     "name": "stdout",
     "text": [
      "[0 1]\n",
      "0\n",
      "fail 0.5817659727427806\n",
      "[8.20360367e-04 9.99179640e-01]\n"
     ]
    }
   ],
   "metadata": {}
  },
  {
   "cell_type": "code",
   "execution_count": 24,
   "source": [
    "label = labels[y_predict[1]]\r\n",
    "y_predict = model.predict_proba(x_test)\r\n",
    "confidence = y_predict[1][y_predict[1].argmax()]\r\n",
    "print(label, confidence) #"
   ],
   "outputs": [
    {
     "output_type": "error",
     "ename": "IndexError",
     "evalue": "index 1 is out of bounds for axis 0 with size 1",
     "traceback": [
      "\u001b[1;31m---------------------------------------------------------------------------\u001b[0m",
      "\u001b[1;31mIndexError\u001b[0m                                Traceback (most recent call last)",
      "\u001b[1;32m<ipython-input-24-009f79ba15bb>\u001b[0m in \u001b[0;36m<module>\u001b[1;34m\u001b[0m\n\u001b[1;32m----> 1\u001b[1;33m \u001b[0mlabel\u001b[0m \u001b[1;33m=\u001b[0m \u001b[0mlabels\u001b[0m\u001b[1;33m[\u001b[0m\u001b[0my_predict\u001b[0m\u001b[1;33m[\u001b[0m\u001b[1;36m1\u001b[0m\u001b[1;33m]\u001b[0m\u001b[1;33m]\u001b[0m\u001b[1;33m\u001b[0m\u001b[1;33m\u001b[0m\u001b[0m\n\u001b[0m\u001b[0;32m      2\u001b[0m \u001b[0my_predict\u001b[0m \u001b[1;33m=\u001b[0m \u001b[0mmodel\u001b[0m\u001b[1;33m.\u001b[0m\u001b[0mpredict_proba\u001b[0m\u001b[1;33m(\u001b[0m\u001b[0mx_test\u001b[0m\u001b[1;33m)\u001b[0m\u001b[1;33m\u001b[0m\u001b[1;33m\u001b[0m\u001b[0m\n\u001b[0;32m      3\u001b[0m \u001b[0mconfidence\u001b[0m \u001b[1;33m=\u001b[0m \u001b[0my_predict\u001b[0m\u001b[1;33m[\u001b[0m\u001b[1;36m1\u001b[0m\u001b[1;33m]\u001b[0m\u001b[1;33m[\u001b[0m\u001b[0my_predict\u001b[0m\u001b[1;33m[\u001b[0m\u001b[1;36m1\u001b[0m\u001b[1;33m]\u001b[0m\u001b[1;33m.\u001b[0m\u001b[0margmax\u001b[0m\u001b[1;33m(\u001b[0m\u001b[1;33m)\u001b[0m\u001b[1;33m]\u001b[0m\u001b[1;33m\u001b[0m\u001b[1;33m\u001b[0m\u001b[0m\n\u001b[0;32m      4\u001b[0m \u001b[0mprint\u001b[0m\u001b[1;33m(\u001b[0m\u001b[0mlabel\u001b[0m\u001b[1;33m,\u001b[0m \u001b[0mconfidence\u001b[0m\u001b[1;33m)\u001b[0m \u001b[1;31m#\u001b[0m\u001b[1;33m\u001b[0m\u001b[1;33m\u001b[0m\u001b[0m\n",
      "\u001b[1;31mIndexError\u001b[0m: index 1 is out of bounds for axis 0 with size 1"
     ]
    }
   ],
   "metadata": {}
  },
  {
   "cell_type": "code",
   "execution_count": 15,
   "source": [
    "x_test = np.array([\r\n",
    "    [4, 6]\r\n",
    "])\r\n",
    "\r\n",
    "y_predict = model.decision_function(x_test)\r\n",
    "\r\n",
    "print(y_predict) #[-2.245277195662771]"
   ],
   "outputs": [
    {
     "output_type": "stream",
     "name": "stdout",
     "text": [
      "[-0.33002711]\n"
     ]
    }
   ],
   "metadata": {}
  },
  {
   "cell_type": "code",
   "execution_count": 16,
   "source": [
    "x_test = np.array([\r\n",
    "    [4, 6]\r\n",
    "])\r\n",
    "\r\n",
    "y_predict = model.predict_proba(x_test)\r\n",
    "\r\n",
    "print(y_predict) #[[0.82316479 0.17683521]]\r\n"
   ],
   "outputs": [
    {
     "output_type": "stream",
     "name": "stdout",
     "text": [
      "[[0.58176597 0.41823403]]\n"
     ]
    }
   ],
   "metadata": {}
  },
  {
   "cell_type": "markdown",
   "source": [
    "## [혼합행렬(=혼돈행렬)](https://morningcoding.tistory.com/entry/%EB%94%A5%EB%9F%AC%EB%8B%9D%EC%9A%A9%EC%96%B4-%ED%8F%89%EA%B0%80-%ED%98%BC%EB%8F%99%ED%96%89%EB%A0%AC-%EC%A0%95%ED%99%95%EB%8F%84-%EC%A0%95%EB%B0%80%EB%8F%84-%EC%9E%AC%ED%98%84%EC%9C%A8-F1%EC%8A%A4%EC%BD%94%EC%96%B4-%ED%8A%B9%EC%9D%B4%EB%8F%84-ROC%EA%B3%A1%EC%84%A0)\r\n",
    "\r\n",
    "혼합 행렬 (confusion_matrix)\r\n",
    ": 실제값 (행(row))과 예측값 (열(column))의 행렬\r\n",
    "대각선 상의 숫자가 클수록 좋음"
   ],
   "metadata": {}
  },
  {
   "cell_type": "code",
   "execution_count": 26,
   "source": [
    "import numpy as np\r\n",
    "from sklearn.model_selection import train_test_split\r\n",
    "from sklearn.linear_model import LogisticRegression\r\n",
    "from sklearn.metrics import confusion_matrix\r\n",
    "import numpy as np\r\n",
    "\r\n",
    "##########데이터 로드\r\n",
    "\r\n",
    "x_data = np.array([\r\n",
    "    [2, 1],\r\n",
    "    [3, 2],\r\n",
    "    [3, 4],\r\n",
    "    [5, 5],\r\n",
    "    [7, 5],\r\n",
    "    [2, 5],\r\n",
    "    [8, 9],\r\n",
    "    [9, 10],\r\n",
    "    [6, 12],\r\n",
    "    [9, 2],\r\n",
    "    [6, 10],\r\n",
    "    [2, 4]\r\n",
    "])\r\n",
    "y_data = np.array([0, 0, 0, 1, 1, 0, 1, 1, 1, 1, 1, 0])\r\n",
    "\r\n",
    "labels = ['fail', 'pass']\r\n",
    "\r\n",
    "##########데이터 전처리\r\n",
    "\r\n",
    "x_train, x_test, y_train, y_test = train_test_split(x_data, y_data, test_size=0.3, random_state=777, stratify=y_data)\r\n",
    "\r\n",
    "##########모델 생성\r\n",
    "\r\n",
    "model = LogisticRegression()\r\n",
    "\r\n",
    "##########모델 학습\r\n",
    "\r\n",
    "model.fit(x_train, y_train)"
   ],
   "outputs": [
    {
     "output_type": "execute_result",
     "data": {
      "text/plain": [
       "LogisticRegression()"
      ]
     },
     "metadata": {},
     "execution_count": 26
    }
   ],
   "metadata": {}
  },
  {
   "cell_type": "code",
   "execution_count": 28,
   "source": [
    "# 혼합행렬, = 혼돈행렬\r\n",
    "from sklearn.metrics import confusion_matrix\r\n",
    "y_predict = model.predict(x_test)\r\n",
    "cm = confusion_matrix(y_test, y_predict) \r\n",
    "\r\n",
    "print(cm)\r\n",
    "\r\n",
    "import matplotlib.pyplot as plt\r\n",
    "import seaborn as sns\r\n",
    "sns.heatmap(cm, annot=True)\r\n",
    "plt.show()\r\n"
   ],
   "outputs": [
    {
     "output_type": "stream",
     "name": "stdout",
     "text": [
      "[[2 0]\n",
      " [0 2]]\n"
     ]
    },
    {
     "output_type": "display_data",
     "data": {
      "image/png": "[encoded data removed]",
      "text/plain": [
       "<Figure size 640x480 with 2 Axes>"
      ]
     },
     "metadata": {}
    }
   ],
   "metadata": {}
  },
  {
   "cell_type": "code",
   "execution_count": 30,
   "source": [
    "# 정확도 : 실제 데이터와 예측데이터가 같은 갯수/ 전체 데이터\r\n",
    "\r\n",
    "accuracy_score = (cm[0][0] + cm[1][1])/(cm[0][0] + cm[0][1] + cm[1][0] + cm[1][1])\r\n",
    "print(accuracy_score)\r\n",
    "\r\n",
    "# 재현율 : 실제 데이터가 True인 것중에 모델이  True로 예측한 비율\r\n",
    "recall_score = (cm[1][1]) / (cm[1][0]+cm[1][1])\r\n",
    "print(recall_score)\r\n",
    "\r\n",
    "# 정밀도 : \r\n",
    "\r\n",
    "precision_score = (cm[1][1]) / (cm[0][1]+cm[1][1])\r\n",
    "print(precision_score)\r\n",
    "\r\n",
    "#\r\n",
    "f1_score = ((precision_score*recall_score) / (precision_score+recall_score)) * 2\r\n",
    "print(f1_score)"
   ],
   "outputs": [
    {
     "output_type": "stream",
     "name": "stdout",
     "text": [
      "1.0\n",
      "1.0\n",
      "1.0\n",
      "1.0\n"
     ]
    }
   ],
   "metadata": {}
  },
  {
   "cell_type": "markdown",
   "source": [
    "## 강의 09 분류 보고서"
   ],
   "metadata": {}
  },
  {
   "cell_type": "code",
   "execution_count": 31,
   "source": [
    "from sklearn.metrics import classification_report\r\n",
    "from sklearn.metrics import accuracy_score\r\n",
    "\r\n",
    "print(classification_report(y_test, y_predict))"
   ],
   "outputs": [
    {
     "output_type": "stream",
     "name": "stdout",
     "text": [
      "              precision    recall  f1-score   support\n",
      "\n",
      "           0       1.00      1.00      1.00         2\n",
      "           1       1.00      1.00      1.00         2\n",
      "\n",
      "    accuracy                           1.00         4\n",
      "   macro avg       1.00      1.00      1.00         4\n",
      "weighted avg       1.00      1.00      1.00         4\n",
      "\n"
     ]
    }
   ],
   "metadata": {}
  },
  {
   "cell_type": "code",
   "execution_count": 32,
   "source": [
    "\r\n",
    "def accuracy_score(y_true, y_predict):\r\n",
    "    correct_count = 0\r\n",
    "    for i in range(len(y_predict)):\r\n",
    "        if y_predict[i] == y_true[i]:\r\n",
    "            correct_count += 1\r\n",
    "\r\n",
    "    return correct_count / len(y_true)"
   ],
   "outputs": [],
   "metadata": {}
  },
  {
   "cell_type": "code",
   "execution_count": 33,
   "source": [
    "y_predict = model.predict(x_test)\r\n",
    "print(accuracy_score(y_test, y_predict))"
   ],
   "outputs": [
    {
     "output_type": "stream",
     "name": "stdout",
     "text": [
      "1.0\n"
     ]
    }
   ],
   "metadata": {}
  },
  {
   "cell_type": "code",
   "execution_count": 34,
   "source": [
    "\r\n",
    "##########모델 예측\r\n",
    "\r\n",
    "x_test = np.array([\r\n",
    "    [4, 6]\r\n",
    "])\r\n",
    "\r\n",
    "y_predict = model.predict(x_test)\r\n",
    "label = labels[y_predict[0]]\r\n",
    "y_predict = model.predict_proba(x_test)\r\n",
    "confidence = y_predict[0][y_predict[0].argmax()]\r\n",
    "\r\n",
    "print(label, confidence) #"
   ],
   "outputs": [
    {
     "output_type": "stream",
     "name": "stdout",
     "text": [
      "pass 0.7439902354649885\n"
     ]
    }
   ],
   "metadata": {}
  },
  {
   "cell_type": "markdown",
   "source": [
    "#### 값의 연관성 확인\r\n",
    "- 보통 summary보이는 pvalue값이 0.05보다 크면 x값에서 제거함 (정규분포가 아닐수 있어서)"
   ],
   "metadata": {}
  },
  {
   "cell_type": "code",
   "execution_count": 35,
   "source": [
    "import statsmodels.api as sm\r\n",
    "logit_mod = sm.Logit(y_train, x_train)\r\n",
    "results = logit_mod.fit()\r\n",
    "results.summary()\r\n"
   ],
   "outputs": [
    {
     "output_type": "stream",
     "name": "stdout",
     "text": [
      "Optimization terminated successfully.\n",
      "         Current function value: 0.483183\n",
      "         Iterations 6\n"
     ]
    },
    {
     "output_type": "execute_result",
     "data": {
      "text/html": [
       "<table class=\"simpletable\">\n",
       "<caption>Logit Regression Results</caption>\n",
       "<tr>\n",
       "  <th>Dep. Variable:</th>           <td>y</td>        <th>  No. Observations:  </th>  <td>     8</td> \n",
       "</tr>\n",
       "<tr>\n",
       "  <th>Model:</th>                 <td>Logit</td>      <th>  Df Residuals:      </th>  <td>     6</td> \n",
       "</tr>\n",
       "<tr>\n",
       "  <th>Method:</th>                 <td>MLE</td>       <th>  Df Model:          </th>  <td>     1</td> \n",
       "</tr>\n",
       "<tr>\n",
       "  <th>Date:</th>            <td>Tue, 14 Sep 2021</td> <th>  Pseudo R-squ.:     </th>  <td>0.2696</td> \n",
       "</tr>\n",
       "<tr>\n",
       "  <th>Time:</th>                <td>15:10:27</td>     <th>  Log-Likelihood:    </th> <td> -3.8655</td>\n",
       "</tr>\n",
       "<tr>\n",
       "  <th>converged:</th>             <td>True</td>       <th>  LL-Null:           </th> <td> -5.2925</td>\n",
       "</tr>\n",
       "<tr>\n",
       "  <th>Covariance Type:</th>     <td>nonrobust</td>    <th>  LLR p-value:       </th>  <td>0.09114</td>\n",
       "</tr>\n",
       "</table>\n",
       "<table class=\"simpletable\">\n",
       "<tr>\n",
       "   <td></td>     <th>coef</th>     <th>std err</th>      <th>z</th>      <th>P>|z|</th>  <th>[0.025</th>    <th>0.975]</th>  \n",
       "</tr>\n",
       "<tr>\n",
       "  <th>x1</th> <td>    0.0800</td> <td>    0.583</td> <td>    0.137</td> <td> 0.891</td> <td>   -1.063</td> <td>    1.223</td>\n",
       "</tr>\n",
       "<tr>\n",
       "  <th>x2</th> <td>    0.1752</td> <td>    0.538</td> <td>    0.326</td> <td> 0.744</td> <td>   -0.879</td> <td>    1.229</td>\n",
       "</tr>\n",
       "</table>"
      ],
      "text/plain": [
       "<class 'statsmodels.iolib.summary.Summary'>\n",
       "\"\"\"\n",
       "                           Logit Regression Results                           \n",
       "==============================================================================\n",
       "Dep. Variable:                      y   No. Observations:                    8\n",
       "Model:                          Logit   Df Residuals:                        6\n",
       "Method:                           MLE   Df Model:                            1\n",
       "Date:                Tue, 14 Sep 2021   Pseudo R-squ.:                  0.2696\n",
       "Time:                        15:10:27   Log-Likelihood:                -3.8655\n",
       "converged:                       True   LL-Null:                       -5.2925\n",
       "Covariance Type:            nonrobust   LLR p-value:                   0.09114\n",
       "==============================================================================\n",
       "                 coef    std err          z      P>|z|      [0.025      0.975]\n",
       "------------------------------------------------------------------------------\n",
       "x1             0.0800      0.583      0.137      0.891      -1.063       1.223\n",
       "x2             0.1752      0.538      0.326      0.744      -0.879       1.229\n",
       "==============================================================================\n",
       "\"\"\""
      ]
     },
     "metadata": {},
     "execution_count": 35
    }
   ],
   "metadata": {}
  },
  {
   "cell_type": "code",
   "execution_count": null,
   "source": [],
   "outputs": [],
   "metadata": {}
  }
 ],
 "metadata": {
  "orig_nbformat": 4,
  "language_info": {
   "name": "python",
   "version": "3.8.11",
   "mimetype": "text/x-python",
   "codemirror_mode": {
    "name": "ipython",
    "version": 3
   },
   "pygments_lexer": "ipython3",
   "nbconvert_exporter": "python",
   "file_extension": ".py"
  },
  "kernelspec": {
   "name": "python3",
   "display_name": "Python 3.8.11 64-bit ('base': conda)"
  },
  "interpreter": {
   "hash": "b3ba2566441a7c06988d0923437866b63cedc61552a5af99d1f4fb67d367b25f"
  }
 },
 "nbformat": 4,
 "nbformat_minor": 2
}
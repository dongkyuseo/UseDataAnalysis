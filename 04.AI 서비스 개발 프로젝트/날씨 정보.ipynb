{
 "cells": [
  {
   "cell_type": "code",
   "execution_count": 1,
   "metadata": {},
   "outputs": [],
   "source": [
    "import pandas as pd\n",
    "import os\n",
    "from datetime import datetime, timedelta\n",
    "import urllib.request\n",
    "import json"
   ]
  },
  {
   "cell_type": "code",
   "execution_count": 2,
   "metadata": {},
   "outputs": [
    {
     "data": {
      "text/plain": [
       "88"
      ]
     },
     "execution_count": 2,
     "metadata": {},
     "output_type": "execute_result"
    }
   ],
   "source": [
    "# key 암호화\n",
    "filename= 'data/weather.txt'\n",
    "\n",
    "with open(filename) as f:\n",
    "  api_key = f.read()\n",
    "len(api_key)"
   ]
  },
  {
   "cell_type": "code",
   "execution_count": 3,
   "metadata": {},
   "outputs": [
    {
     "data": {
      "text/html": [
       "<div>\n",
       "<style scoped>\n",
       "    .dataframe tbody tr th:only-of-type {\n",
       "        vertical-align: middle;\n",
       "    }\n",
       "\n",
       "    .dataframe tbody tr th {\n",
       "        vertical-align: top;\n",
       "    }\n",
       "\n",
       "    .dataframe thead th {\n",
       "        text-align: right;\n",
       "    }\n",
       "</style>\n",
       "<table border=\"1\" class=\"dataframe\">\n",
       "  <thead>\n",
       "    <tr style=\"text-align: right;\">\n",
       "      <th></th>\n",
       "      <th>지점</th>\n",
       "      <th>지점명</th>\n",
       "      <th>관리관서</th>\n",
       "    </tr>\n",
       "  </thead>\n",
       "  <tbody>\n",
       "    <tr>\n",
       "      <th>0</th>\n",
       "      <td>90</td>\n",
       "      <td>속초</td>\n",
       "      <td>강원지방기상청</td>\n",
       "    </tr>\n",
       "    <tr>\n",
       "      <th>1</th>\n",
       "      <td>93</td>\n",
       "      <td>북춘천</td>\n",
       "      <td>춘천기상대</td>\n",
       "    </tr>\n",
       "    <tr>\n",
       "      <th>2</th>\n",
       "      <td>95</td>\n",
       "      <td>철원</td>\n",
       "      <td>강원지방기상청</td>\n",
       "    </tr>\n",
       "    <tr>\n",
       "      <th>3</th>\n",
       "      <td>98</td>\n",
       "      <td>동두천</td>\n",
       "      <td>수도권기상청</td>\n",
       "    </tr>\n",
       "    <tr>\n",
       "      <th>4</th>\n",
       "      <td>99</td>\n",
       "      <td>파주</td>\n",
       "      <td>수도권기상청</td>\n",
       "    </tr>\n",
       "    <tr>\n",
       "      <th>...</th>\n",
       "      <td>...</td>\n",
       "      <td>...</td>\n",
       "      <td>...</td>\n",
       "    </tr>\n",
       "    <tr>\n",
       "      <th>90</th>\n",
       "      <td>285</td>\n",
       "      <td>합천</td>\n",
       "      <td>울산기상대</td>\n",
       "    </tr>\n",
       "    <tr>\n",
       "      <th>91</th>\n",
       "      <td>288</td>\n",
       "      <td>밀양</td>\n",
       "      <td>울산기상대</td>\n",
       "    </tr>\n",
       "    <tr>\n",
       "      <th>92</th>\n",
       "      <td>289</td>\n",
       "      <td>산청</td>\n",
       "      <td>창원기상대</td>\n",
       "    </tr>\n",
       "    <tr>\n",
       "      <th>93</th>\n",
       "      <td>294</td>\n",
       "      <td>거제</td>\n",
       "      <td>부산지방기상청</td>\n",
       "    </tr>\n",
       "    <tr>\n",
       "      <th>94</th>\n",
       "      <td>295</td>\n",
       "      <td>남해</td>\n",
       "      <td>부산지방기상청</td>\n",
       "    </tr>\n",
       "  </tbody>\n",
       "</table>\n",
       "<p>95 rows × 3 columns</p>\n",
       "</div>"
      ],
      "text/plain": [
       "     지점  지점명     관리관서\n",
       "0    90   속초  강원지방기상청\n",
       "1    93  북춘천    춘천기상대\n",
       "2    95   철원  강원지방기상청\n",
       "3    98  동두천   수도권기상청\n",
       "4    99   파주   수도권기상청\n",
       "..  ...  ...      ...\n",
       "90  285   합천    울산기상대\n",
       "91  288   밀양    울산기상대\n",
       "92  289   산청    창원기상대\n",
       "93  294   거제  부산지방기상청\n",
       "94  295   남해  부산지방기상청\n",
       "\n",
       "[95 rows x 3 columns]"
      ]
     },
     "execution_count": 3,
     "metadata": {},
     "output_type": "execute_result"
    }
   ],
   "source": [
    "ac = pd.read_csv('data/지역코드.csv')\n",
    "ac"
   ]
  },
  {
   "cell_type": "code",
   "execution_count": 31,
   "metadata": {},
   "outputs": [
    {
     "name": "stdout",
     "output_type": "stream",
     "text": [
      "90\n"
     ]
    }
   ],
   "source": [
    "for i in range(len(ac['지점명'])):\n",
    "    sa = Series(ac['지점명'][i])\n",
    "    if sa.str.contains('속초')[0] == True:\n",
    "         print(ac['지점'][i])"
   ]
  },
  {
   "cell_type": "code",
   "execution_count": 36,
   "metadata": {},
   "outputs": [
    {
     "name": "stdout",
     "output_type": "stream",
     "text": [
      "90\n"
     ]
    }
   ],
   "source": [
    "si = '속초시'\n",
    "for i in range(len(ac['지점명'])):\n",
    "    sa = Series(si)\n",
    "    if sa.str.contains(ac['지점명'][i])[0] == True:\n",
    "         print(ac['지점'][i])"
   ]
  },
  {
   "cell_type": "code",
   "execution_count": 38,
   "metadata": {},
   "outputs": [
    {
     "name": "stdout",
     "output_type": "stream",
     "text": [
      "{'response': {'header': {'resultCode': '00', 'resultMsg': 'NORMAL_SERVICE'}, 'body': {'dataType': 'JSON', 'items': {'item': [{'stnId': '90', 'stnNm': '속초', 'tm': '2021-11-01', 'avgTa': '14.5', 'minTa': '11.8', 'minTaHrmt': '2101', 'maxTa': '19.0', 'maxTaHrmt': '1320', 'mi10MaxRn': '0.0', 'mi10MaxRnHrmt': '', 'hr1MaxRn': '0.0', 'hr1MaxRnHrmt': '', 'sumRnDur': '', 'sumRn': '0.0', 'maxInsWs': '10.1', 'maxInsWsWd': '270', 'maxInsWsHrmt': '920', 'maxWs': '5.8', 'maxWsWd': '290', 'maxWsHrmt': '921', 'avgWs': '2.4', 'hr24SumRws': '2099', 'maxWd': '290', 'avgTd': '6.9', 'minRhm': '37', 'minRhmHrmt': '1321', 'avgRhm': '61.4', 'avgPv': '10.0', 'avgPa': '1019.8', 'maxPs': '1023.0', 'maxPsHrmt': '2118', 'minPs': '1020.5', 'minPsHrmt': '1401', 'avgPs': '1021.9', 'ssDur': '', 'sumSsHr': '7.1', 'hr1MaxIcsrHrmt': '', 'hr1MaxIcsr': '', 'sumGsr': '', 'ddMefs': '', 'ddMefsHrmt': '', 'ddMes': '', 'ddMesHrmt': '', 'sumDpthFhsc': '', 'avgTca': '4.1', 'avgLmac': '0.8', 'avgTs': '13.4', 'minTg': '8.4', 'avgCm5Te': '', 'avgCm10Te': '', 'avgCm20Te': '', 'avgCm30Te': '', 'avgM05Te': '', 'avgM10Te': '', 'avgM15Te': '', 'avgM30Te': '', 'avgM50Te': '', 'sumLrgEv': '', 'sumSmlEv': '', 'n99Rn': '', 'iscs': '', 'sumFogDur': ''}]}, 'pageNo': 1, 'numOfRows': 10, 'totalCount': 1}}}\n"
     ]
    }
   ],
   "source": [
    "import requests\n",
    "import json\n",
    "from pandas import Series\n",
    "ac = pd.read_csv('data/지역코드.csv')\n",
    "\n",
    "# 날짜 지정\n",
    "startDt = '20211101' \n",
    "si = '속초시'\n",
    "# 지역 코드 선택\n",
    "ac = pd.read_csv('data/지역코드.csv')\n",
    "\n",
    "for i in range(len(ac['지점명'])):\n",
    "    sa = Series(si)\n",
    "    if sa.str.contains(ac['지점명'][i])[0] == True:\n",
    "         area = ac['지점'][i]\n",
    "\n",
    "stnIds = area\n",
    "url = 'http://apis.data.go.kr/1360000/AsosDalyInfoService/getWthrDataList'\n",
    "params ={'serviceKey' : api_key, 'pageNo' : '1', 'numOfRows' : '10', 'dataType' : 'json', 'dataCd' : 'ASOS', 'dateCd' : 'DAY', 'startDt' : startDt, 'endDt' : startDt, 'stnIds' : stnIds }\n",
    "\n",
    "response = requests.get(url, params=params).json()\n",
    "print(response)"
   ]
  },
  {
   "cell_type": "code",
   "execution_count": 75,
   "metadata": {},
   "outputs": [
    {
     "data": {
      "text/html": [
       "<div>\n",
       "<style scoped>\n",
       "    .dataframe tbody tr th:only-of-type {\n",
       "        vertical-align: middle;\n",
       "    }\n",
       "\n",
       "    .dataframe tbody tr th {\n",
       "        vertical-align: top;\n",
       "    }\n",
       "\n",
       "    .dataframe thead th {\n",
       "        text-align: right;\n",
       "    }\n",
       "</style>\n",
       "<table border=\"1\" class=\"dataframe\">\n",
       "  <thead>\n",
       "    <tr style=\"text-align: right;\">\n",
       "      <th></th>\n",
       "      <th>avgRhm</th>\n",
       "      <th>avgTs</th>\n",
       "      <th>sumRn</th>\n",
       "      <th>ddMes</th>\n",
       "    </tr>\n",
       "  </thead>\n",
       "  <tbody>\n",
       "    <tr>\n",
       "      <th>0</th>\n",
       "      <td>61.4</td>\n",
       "      <td>13.4</td>\n",
       "      <td>0.0</td>\n",
       "      <td></td>\n",
       "    </tr>\n",
       "  </tbody>\n",
       "</table>\n",
       "</div>"
      ],
      "text/plain": [
       "  avgRhm avgTs sumRn ddMes\n",
       "0   61.4  13.4   0.0      "
      ]
     },
     "execution_count": 75,
     "metadata": {},
     "output_type": "execute_result"
    }
   ],
   "source": [
    "df = pd.DataFrame(response['response']['body']['items']['item'])\n",
    "   # 평균상대습도, 평균지면온도, 일 강수량, 일 최심적설\n",
    "df[['avgRhm', 'avgTs', 'sumRn', 'ddMes']]"
   ]
  },
  {
   "cell_type": "code",
   "execution_count": null,
   "metadata": {},
   "outputs": [],
   "source": []
  }
 ],
 "metadata": {
  "interpreter": {
   "hash": "b3ba2566441a7c06988d0923437866b63cedc61552a5af99d1f4fb67d367b25f"
  },
  "kernelspec": {
   "display_name": "Python 3.8.11 64-bit ('base': conda)",
   "name": "python3"
  },
  "language_info": {
   "codemirror_mode": {
    "name": "ipython",
    "version": 3
   },
   "file_extension": ".py",
   "mimetype": "text/x-python",
   "name": "python",
   "nbconvert_exporter": "python",
   "pygments_lexer": "ipython3",
   "version": "3.8.11"
  },
  "orig_nbformat": 4
 },
 "nbformat": 4,
 "nbformat_minor": 2
}

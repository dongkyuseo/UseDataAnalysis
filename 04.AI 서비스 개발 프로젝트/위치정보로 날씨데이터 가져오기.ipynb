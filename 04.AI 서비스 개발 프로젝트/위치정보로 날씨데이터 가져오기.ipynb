{
 "cells": [
  {
   "cell_type": "code",
   "execution_count": 110,
   "metadata": {},
   "outputs": [
    {
     "data": {
      "text/plain": [
       "88"
      ]
     },
     "execution_count": 110,
     "metadata": {},
     "output_type": "execute_result"
    }
   ],
   "source": [
    "# key 암호화\n",
    "filename= 'data/weather.txt'\n",
    "\n",
    "with open(filename) as f:\n",
    "  api_key = f.read()\n",
    "len(api_key)"
   ]
  },
  {
   "cell_type": "code",
   "execution_count": 111,
   "metadata": {},
   "outputs": [
    {
     "name": "stdout",
     "output_type": "stream",
     "text": [
      "{'response': {'header': {'resultCode': '00', 'resultMsg': 'NORMAL_SERVICE'}, 'body': {'dataType': 'JSON', 'items': {'item': [{'baseDate': '20211102', 'baseTime': '0600', 'category': 'PTY', 'nx': 55, 'ny': 127, 'obsrValue': '0'}, {'baseDate': '20211102', 'baseTime': '0600', 'category': 'REH', 'nx': 55, 'ny': 127, 'obsrValue': '96'}, {'baseDate': '20211102', 'baseTime': '0600', 'category': 'RN1', 'nx': 55, 'ny': 127, 'obsrValue': '0'}, {'baseDate': '20211102', 'baseTime': '0600', 'category': 'T1H', 'nx': 55, 'ny': 127, 'obsrValue': '6.7'}, {'baseDate': '20211102', 'baseTime': '0600', 'category': 'UUU', 'nx': 55, 'ny': 127, 'obsrValue': '-0.3'}, {'baseDate': '20211102', 'baseTime': '0600', 'category': 'VEC', 'nx': 55, 'ny': 127, 'obsrValue': '97'}, {'baseDate': '20211102', 'baseTime': '0600', 'category': 'VVV', 'nx': 55, 'ny': 127, 'obsrValue': '0'}, {'baseDate': '20211102', 'baseTime': '0600', 'category': 'WSD', 'nx': 55, 'ny': 127, 'obsrValue': '0.4'}]}, 'pageNo': 1, 'numOfRows': 10, 'totalCount': 8}}}\n"
     ]
    }
   ],
   "source": [
    "import requests\n",
    "import json\n",
    "url = 'http://apis.data.go.kr/1360000/VilageFcstInfoService_2.0/getUltraSrtNcst'\n",
    "params ={'serviceKey' : api_key, 'pageNo' : '1', 'numOfRows' : '10', 'dataType' : 'json', 'base_date' : '20211102', 'base_time' : '0600', 'nx' : '55', 'ny' : '127' }\n",
    "\n",
    "response = requests.get(url, params=params)\n",
    "print(response.json())"
   ]
  },
  {
   "cell_type": "code",
   "execution_count": 112,
   "metadata": {},
   "outputs": [],
   "source": [
    "def main():\n",
    "    ### 시작일 입력\n",
    "    while True:\n",
    "        sDate=input('시작일을 입력하세요.(예:20210401)')  #'20210301' \n",
    "        if len(sDate)!=8:\n",
    "            print('\"20210401\"과 같이 8자리로 입력해주세요')\n",
    "            continue\n",
    "        try:\n",
    "            sd=int(sDate)\n",
    "            break\n",
    "        except:\n",
    "            print('문자가 포함되어 있습니다. 다시 입력해주세요.')\n",
    "            continue\n",
    "            \n",
    "    ### 종료일 입력  \n",
    "    while True:\n",
    "        eDate=input('종료일을 입력하세요.(예:20210401)') # '20210331'\n",
    "        if len(eDate)!=8:\n",
    "            print('\"20210401\"과 같이 8자리로 입력해주세요')\n",
    "            continue          \n",
    "        try:\n",
    "            sd=int(eDate)\n",
    "            today=datetime.today()\n",
    "            newDate = today.strftime('%Y%m%d')\n",
    "            if sd >= int(newDate):\n",
    "                print('데이터는 당일 이전 자료까지만 제공됩니다..\\n다시 입력해주세요')\n",
    "                continue\n",
    "                \n",
    "            if int(sDate)> sd:\n",
    "                print('종료일이 시작일보다 이전 날짜입니다.\\n다시 입력해주세요')\n",
    "                continue\n",
    "            break\n",
    "        except:\n",
    "            print('문자가 포함되어 있습니다. 다시 입력해주세요.')\n",
    "            continue\n",
    "            \n",
    "    regionName=input('검색할 지점명을 입력하세요.')\n",
    "    \n",
    "    if regionName == \"\":\n",
    "        return startWeatherData(sDate, eDate)\n",
    "    else:\n",
    "        return startWeatherData(sDate, eDate, regionName)"
   ]
  },
  {
   "cell_type": "code",
   "execution_count": 120,
   "metadata": {},
   "outputs": [],
   "source": [
    "def startWeatherData(sDate, eDate, regionName='서울'):   # 데이터 처리\n",
    "    \n",
    "    pointID=getRegionalCode(regionName)        # 지점코드 \n",
    "    \n",
    "    url=getRegionalUrl(sDate, eDate, pointID)  # 기본 url 생성\n",
    "    #print(url)\n",
    "    response = urllib.request.urlopen(url)     # url을 이용한 정보 요청\n",
    "    rescode = response.getcode()               # 요청값 가져오기\n",
    "    if rescode!=200:                          # 요청값 정상 여부 확인\n",
    "        raise Exception(\"Error Code:\" + rescode)\n",
    "        \n",
    "    numRows = int(response.json()['response']['body']['totalCount']) # 전체 조회 데이터 개수 추출\n",
    "    urlNew=getRegionalUrl(sDate, eDate, pointID, numRows)  # 전체 조회데이터 개수를 이용한 새로운 url 생성\n",
    "    items=getJson(urlNew)      # 전체 데이터 url을 이용한 데이터 추출\n",
    "    # print(items)\n",
    "    return_df=getWeatherData(items)   # 가져온 데이터를 이용한 원하는 값 DataFrame 형식으로 출력\n",
    "    \n",
    "    saveWeatherData(sDate, eDate, regionName, return_df) # 데이터 저장\n",
    "    print('저장되었습니다.')\n",
    "    \n",
    "    return return_df"
   ]
  },
  {
   "cell_type": "code",
   "execution_count": 121,
   "metadata": {},
   "outputs": [],
   "source": [
    "def saveWeatherData(sDate, eDate, regionName, return_df):  \n",
    "    filename = \"\"\n",
    "    if sDate == eDate:\n",
    "        filename = f\"{regionName}_일별기상정보_{sDate}.csv\"   # 시작일과 종료일이 같은 경우\n",
    "    else:\n",
    "        filename = f\"{regionName}_일별기상정보_{sDate}_{eDate}.csv\"  # 시작일과 종료일이 다른 경우\n",
    "        \n",
    "    return_df.to_csv('c:/pydata/' + filename, encoding='cp949', index=False)"
   ]
  },
  {
   "cell_type": "code",
   "execution_count": 122,
   "metadata": {},
   "outputs": [],
   "source": [
    "def getWeatherData(items):\n",
    "    tmpList = []\n",
    "    for item in items:\n",
    "        tmpList.append([item['stnNm'], item['tm'], item['avgTa'], item['minTa'], item['maxTa'], item['sumRn']])\n",
    "    return pd.DataFrame(tmpList, columns=['지점명', '날짜', '평균기온', '최저기온', '최고기온', '일강수량'])"
   ]
  },
  {
   "cell_type": "code",
   "execution_count": 123,
   "metadata": {},
   "outputs": [],
   "source": [
    "def getJson(urlNew):\n",
    "    response = urllib.request.urlopen(urlNew)\n",
    "    rescode = response.getcode()\n",
    "    if(rescode==200):\n",
    "        return response.json()['response']['body']['items']['item']\n",
    "    else:\n",
    "        raise Exception(\"Error Code:\" + rescode)"
   ]
  },
  {
   "cell_type": "code",
   "execution_count": 124,
   "metadata": {},
   "outputs": [],
   "source": [
    "def getRegionalUrl(sDate, eDate, pointID, numRow=10):  # url 생성\n",
    "    Key= api_key\n",
    "    url='http://apis.data.go.kr/1360000/AsosDalyInfoService/getWthrDataList?serviceKey='+Key\n",
    "    url=url+'&dataType=JSON&numOfRows='+str(numRow)+'&pageNo=1&dataCd=ASOS&dateCd=DAY&startDt='+sDate\n",
    "    url=url+'&endDt='+eDate+'&stnIds='+str(pointID)\n",
    "    return url"
   ]
  },
  {
   "cell_type": "code",
   "execution_count": 125,
   "metadata": {},
   "outputs": [],
   "source": [
    "def getRegionalCode(inputRegName):  # 검측 지점코드 취득\n",
    "    \n",
    "    df_RegCode = pd.read_csv('data/지역코드.csv')\n",
    "    regCode=df_RegCode[df_RegCode['지점명']==inputRegName]\n",
    "    \n",
    "    if len(regCode)== 1:\n",
    "        return int(regCode['지점'].values)\n",
    "    else:\n",
    "        # 사용자에 의해서 강제로 에러 발생\n",
    "        raise Exception(f\"해당 지역명이 없습니다.\\n지역명을 확인하고 다시 입력해주세요\\n\\n{inputRegName}\")"
   ]
  },
  {
   "cell_type": "code",
   "execution_count": 126,
   "metadata": {},
   "outputs": [
    {
     "ename": "AttributeError",
     "evalue": "'HTTPResponse' object has no attribute 'json'",
     "output_type": "error",
     "traceback": [
      "\u001b[1;31m---------------------------------------------------------------------------\u001b[0m",
      "\u001b[1;31mAttributeError\u001b[0m                            Traceback (most recent call last)",
      "\u001b[1;32m<ipython-input-126-54353e2ad9b4>\u001b[0m in \u001b[0;36m<module>\u001b[1;34m\u001b[0m\n\u001b[0;32m      6\u001b[0m \u001b[1;33m\u001b[0m\u001b[0m\n\u001b[0;32m      7\u001b[0m \u001b[1;32mif\u001b[0m \u001b[0m__name__\u001b[0m \u001b[1;33m==\u001b[0m \u001b[1;34m'__main__'\u001b[0m\u001b[1;33m:\u001b[0m\u001b[1;33m\u001b[0m\u001b[1;33m\u001b[0m\u001b[0m\n\u001b[1;32m----> 8\u001b[1;33m     \u001b[0mdf1\u001b[0m\u001b[1;33m=\u001b[0m\u001b[0mmain\u001b[0m\u001b[1;33m(\u001b[0m\u001b[1;33m)\u001b[0m\u001b[1;33m\u001b[0m\u001b[1;33m\u001b[0m\u001b[0m\n\u001b[0m",
      "\u001b[1;32m<ipython-input-112-6dd8925700a9>\u001b[0m in \u001b[0;36mmain\u001b[1;34m()\u001b[0m\n\u001b[0;32m     38\u001b[0m \u001b[1;33m\u001b[0m\u001b[0m\n\u001b[0;32m     39\u001b[0m     \u001b[1;32mif\u001b[0m \u001b[0mregionName\u001b[0m \u001b[1;33m==\u001b[0m \u001b[1;34m\"\"\u001b[0m\u001b[1;33m:\u001b[0m\u001b[1;33m\u001b[0m\u001b[1;33m\u001b[0m\u001b[0m\n\u001b[1;32m---> 40\u001b[1;33m         \u001b[1;32mreturn\u001b[0m \u001b[0mstartWeatherData\u001b[0m\u001b[1;33m(\u001b[0m\u001b[0msDate\u001b[0m\u001b[1;33m,\u001b[0m \u001b[0meDate\u001b[0m\u001b[1;33m)\u001b[0m\u001b[1;33m\u001b[0m\u001b[1;33m\u001b[0m\u001b[0m\n\u001b[0m\u001b[0;32m     41\u001b[0m     \u001b[1;32melse\u001b[0m\u001b[1;33m:\u001b[0m\u001b[1;33m\u001b[0m\u001b[1;33m\u001b[0m\u001b[0m\n\u001b[0;32m     42\u001b[0m         \u001b[1;32mreturn\u001b[0m \u001b[0mstartWeatherData\u001b[0m\u001b[1;33m(\u001b[0m\u001b[0msDate\u001b[0m\u001b[1;33m,\u001b[0m \u001b[0meDate\u001b[0m\u001b[1;33m,\u001b[0m \u001b[0mregionName\u001b[0m\u001b[1;33m)\u001b[0m\u001b[1;33m\u001b[0m\u001b[1;33m\u001b[0m\u001b[0m\n",
      "\u001b[1;32m<ipython-input-120-62e661be0bb2>\u001b[0m in \u001b[0;36mstartWeatherData\u001b[1;34m(sDate, eDate, regionName)\u001b[0m\n\u001b[0;32m     10\u001b[0m         \u001b[1;32mraise\u001b[0m \u001b[0mException\u001b[0m\u001b[1;33m(\u001b[0m\u001b[1;34m\"Error Code:\"\u001b[0m \u001b[1;33m+\u001b[0m \u001b[0mrescode\u001b[0m\u001b[1;33m)\u001b[0m\u001b[1;33m\u001b[0m\u001b[1;33m\u001b[0m\u001b[0m\n\u001b[0;32m     11\u001b[0m \u001b[1;33m\u001b[0m\u001b[0m\n\u001b[1;32m---> 12\u001b[1;33m     \u001b[0mnumRows\u001b[0m \u001b[1;33m=\u001b[0m \u001b[0mint\u001b[0m\u001b[1;33m(\u001b[0m\u001b[0mresponse\u001b[0m\u001b[1;33m.\u001b[0m\u001b[0mjson\u001b[0m\u001b[1;33m(\u001b[0m\u001b[1;33m)\u001b[0m\u001b[1;33m[\u001b[0m\u001b[1;34m'response'\u001b[0m\u001b[1;33m]\u001b[0m\u001b[1;33m[\u001b[0m\u001b[1;34m'body'\u001b[0m\u001b[1;33m]\u001b[0m\u001b[1;33m[\u001b[0m\u001b[1;34m'totalCount'\u001b[0m\u001b[1;33m]\u001b[0m\u001b[1;33m)\u001b[0m \u001b[1;31m# 전체 조회 데이터 개수 추출\u001b[0m\u001b[1;33m\u001b[0m\u001b[1;33m\u001b[0m\u001b[0m\n\u001b[0m\u001b[0;32m     13\u001b[0m     \u001b[0murlNew\u001b[0m\u001b[1;33m=\u001b[0m\u001b[0mgetRegionalUrl\u001b[0m\u001b[1;33m(\u001b[0m\u001b[0msDate\u001b[0m\u001b[1;33m,\u001b[0m \u001b[0meDate\u001b[0m\u001b[1;33m,\u001b[0m \u001b[0mpointID\u001b[0m\u001b[1;33m,\u001b[0m \u001b[0mnumRows\u001b[0m\u001b[1;33m)\u001b[0m  \u001b[1;31m# 전체 조회데이터 개수를 이용한 새로운 url 생성\u001b[0m\u001b[1;33m\u001b[0m\u001b[1;33m\u001b[0m\u001b[0m\n\u001b[0;32m     14\u001b[0m     \u001b[0mitems\u001b[0m\u001b[1;33m=\u001b[0m\u001b[0mgetJson\u001b[0m\u001b[1;33m(\u001b[0m\u001b[0murlNew\u001b[0m\u001b[1;33m)\u001b[0m      \u001b[1;31m# 전체 데이터 url을 이용한 데이터 추출\u001b[0m\u001b[1;33m\u001b[0m\u001b[1;33m\u001b[0m\u001b[0m\n",
      "\u001b[1;31mAttributeError\u001b[0m: 'HTTPResponse' object has no attribute 'json'"
     ]
    }
   ],
   "source": [
    "import pandas as pd\n",
    "import os\n",
    "from datetime import datetime, timedelta\n",
    "import urllib.request\n",
    "import json\n",
    "\n",
    "if __name__ == '__main__':\n",
    "    df1=main()"
   ]
  },
  {
   "cell_type": "code",
   "execution_count": null,
   "metadata": {},
   "outputs": [],
   "source": [
    "df1"
   ]
  },
  {
   "cell_type": "code",
   "execution_count": null,
   "metadata": {},
   "outputs": [
    {
     "data": {
      "text/html": [
       "<div>\n",
       "<style scoped>\n",
       "    .dataframe tbody tr th:only-of-type {\n",
       "        vertical-align: middle;\n",
       "    }\n",
       "\n",
       "    .dataframe tbody tr th {\n",
       "        vertical-align: top;\n",
       "    }\n",
       "\n",
       "    .dataframe thead th {\n",
       "        text-align: right;\n",
       "    }\n",
       "</style>\n",
       "<table border=\"1\" class=\"dataframe\">\n",
       "  <thead>\n",
       "    <tr style=\"text-align: right;\">\n",
       "      <th></th>\n",
       "      <th>지점</th>\n",
       "      <th>지점명</th>\n",
       "      <th>관리관서</th>\n",
       "    </tr>\n",
       "  </thead>\n",
       "  <tbody>\n",
       "    <tr>\n",
       "      <th>0</th>\n",
       "      <td>90</td>\n",
       "      <td>속초</td>\n",
       "      <td>강원지방기상청</td>\n",
       "    </tr>\n",
       "    <tr>\n",
       "      <th>1</th>\n",
       "      <td>93</td>\n",
       "      <td>북춘천</td>\n",
       "      <td>춘천기상대</td>\n",
       "    </tr>\n",
       "    <tr>\n",
       "      <th>2</th>\n",
       "      <td>95</td>\n",
       "      <td>철원</td>\n",
       "      <td>강원지방기상청</td>\n",
       "    </tr>\n",
       "    <tr>\n",
       "      <th>3</th>\n",
       "      <td>98</td>\n",
       "      <td>동두천</td>\n",
       "      <td>수도권기상청</td>\n",
       "    </tr>\n",
       "    <tr>\n",
       "      <th>4</th>\n",
       "      <td>99</td>\n",
       "      <td>파주</td>\n",
       "      <td>수도권기상청</td>\n",
       "    </tr>\n",
       "    <tr>\n",
       "      <th>...</th>\n",
       "      <td>...</td>\n",
       "      <td>...</td>\n",
       "      <td>...</td>\n",
       "    </tr>\n",
       "    <tr>\n",
       "      <th>90</th>\n",
       "      <td>285</td>\n",
       "      <td>합천</td>\n",
       "      <td>울산기상대</td>\n",
       "    </tr>\n",
       "    <tr>\n",
       "      <th>91</th>\n",
       "      <td>288</td>\n",
       "      <td>밀양</td>\n",
       "      <td>울산기상대</td>\n",
       "    </tr>\n",
       "    <tr>\n",
       "      <th>92</th>\n",
       "      <td>289</td>\n",
       "      <td>산청</td>\n",
       "      <td>창원기상대</td>\n",
       "    </tr>\n",
       "    <tr>\n",
       "      <th>93</th>\n",
       "      <td>294</td>\n",
       "      <td>거제</td>\n",
       "      <td>부산지방기상청</td>\n",
       "    </tr>\n",
       "    <tr>\n",
       "      <th>94</th>\n",
       "      <td>295</td>\n",
       "      <td>남해</td>\n",
       "      <td>부산지방기상청</td>\n",
       "    </tr>\n",
       "  </tbody>\n",
       "</table>\n",
       "<p>95 rows × 3 columns</p>\n",
       "</div>"
      ],
      "text/plain": [
       "     지점  지점명     관리관서\n",
       "0    90   속초  강원지방기상청\n",
       "1    93  북춘천    춘천기상대\n",
       "2    95   철원  강원지방기상청\n",
       "3    98  동두천   수도권기상청\n",
       "4    99   파주   수도권기상청\n",
       "..  ...  ...      ...\n",
       "90  285   합천    울산기상대\n",
       "91  288   밀양    울산기상대\n",
       "92  289   산청    창원기상대\n",
       "93  294   거제  부산지방기상청\n",
       "94  295   남해  부산지방기상청\n",
       "\n",
       "[95 rows x 3 columns]"
      ]
     },
     "execution_count": 88,
     "metadata": {},
     "output_type": "execute_result"
    }
   ],
   "source": [
    "pd.read_csv('data/지역코드.csv')"
   ]
  },
  {
   "cell_type": "code",
   "execution_count": null,
   "metadata": {},
   "outputs": [],
   "source": []
  }
 ],
 "metadata": {
  "interpreter": {
   "hash": "b3ba2566441a7c06988d0923437866b63cedc61552a5af99d1f4fb67d367b25f"
  },
  "kernelspec": {
   "display_name": "Python 3.8.11 64-bit ('base': conda)",
   "name": "python3"
  },
  "language_info": {
   "codemirror_mode": {
    "name": "ipython",
    "version": 3
   },
   "file_extension": ".py",
   "mimetype": "text/x-python",
   "name": "python",
   "nbconvert_exporter": "python",
   "pygments_lexer": "ipython3",
   "version": "3.8.11"
  },
  "orig_nbformat": 4
 },
 "nbformat": 4,
 "nbformat_minor": 2
}

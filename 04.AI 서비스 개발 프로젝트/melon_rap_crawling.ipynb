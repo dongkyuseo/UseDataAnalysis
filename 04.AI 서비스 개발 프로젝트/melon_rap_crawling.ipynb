{
  "cells": [
    {
      "cell_type": "markdown",
      "metadata": {
        "id": "gzqAM30eqA5T"
      },
      "source": [
        "## 필요한 패키지 설치 및 모듈 임포트"
      ]
    },
    {
      "cell_type": "code",
      "execution_count": 4,
      "metadata": {
        "colab": {
          "base_uri": "https://localhost:8080/"
        },
        "id": "aMvL8gsyps0H",
        "outputId": "c22a042c-dde2-4caa-e58e-6690e2a99270"
      },
      "outputs": [],
      "source": [
        "# !pip install selenium==3.141\n",
        "# !apt-get update\n",
        "# !apt install chromium-chromedriver\n",
        "# !cp /usr/lib/chromium-browser/chromedriver /usr/bin"
      ]
    },
    {
      "cell_type": "code",
      "execution_count": 1,
      "metadata": {
        "id": "EUYKKBvXpwzT"
      },
      "outputs": [],
      "source": [
        "# 필요 데이터 크롤링\n",
        "import requests\n",
        "import pandas as pd\n",
        "import time\n",
        "from selenium import webdriver\n",
        "from selenium.webdriver.common.keys import Keys\n",
        "from bs4 import BeautifulSoup\n",
        "from urllib.parse import quote\n",
        "from tqdm import tqdm\n",
        "import re"
      ]
    },
    {
      "cell_type": "markdown",
      "metadata": {
        "id": "W8RIKsEuqHiF"
      },
      "source": [
        "## 크롤링"
      ]
    },
    {
      "cell_type": "code",
      "execution_count": 2,
      "metadata": {},
      "outputs": [],
      "source": [
        "driver = webdriver.Chrome('D:/Workspace/crawling/chromedriver.exe')"
      ]
    },
    {
      "cell_type": "code",
      "execution_count": 3,
      "metadata": {
        "id": "OTnP1umTp1NG"
      },
      "outputs": [],
      "source": [
        "URL = f'https://www.melon.com/genre/song_list.htm?gnrCode=GN0300#params%5BgnrCode%5D=GN0300&params%5BdtlGnrCode%5D=&params%5BorderBy%5D=NEW&params%5BsteadyYn%5D=N&po=pageObj&startIndex=51'\n",
        "driver.get(URL)\n",
        "time.sleep(2)"
      ]
    },
    {
      "cell_type": "code",
      "execution_count": 4,
      "metadata": {},
      "outputs": [],
      "source": [
        "lyrics_list = []\n",
        "error_list = []"
      ]
    },
    {
      "cell_type": "code",
      "execution_count": 6,
      "metadata": {
        "id": "SpOnzT_xqf3N"
      },
      "outputs": [
        {
          "name": "stderr",
          "output_type": "stream",
          "text": [
            "100%|██████████| 10/10 [39:39<00:00, 237.94s/it]\n"
          ]
        }
      ],
      "source": [
        "for z in tqdm(range(10)):\n",
        "    k = z * 50 + 1\n",
        "    URL = f'https://www.melon.com/genre/song_list.htm?gnrCode=GN0300#params%5BgnrCode%5D=GN0300&params%5BdtlGnrCode%5D=&params%5BorderBy%5D=NEW&params%5BsteadyYn%5D=N&po=pageObj&startIndex={k}'\n",
        "    driver.get(URL)\n",
        "    time.sleep(2)\n",
        "    for i in range(1,51):\n",
        "        try : \n",
        "            driver.find_element_by_xpath(f'//*[@id=\"frm\"]/div/table/tbody/tr[{i}]/td[4]/div/a').click() #0번창에서 클릭\n",
        "            time.sleep(2)\n",
        "            raw_contents = driver.find_element_by_xpath('//*[@id=\"d_video_summary\"]').text #내용가져오기\n",
        "            contents = re.sub('[\\n]', ' ', raw_contents)\n",
        "            lyrics_list.append(contents)\n",
        "            driver.back()\n",
        "            time.sleep(2)\n",
        "        except:\n",
        "            error_list.append([k, i])\n",
        "            driver.back()\n",
        "            pass\n",
        "\n"
      ]
    },
    {
      "cell_type": "code",
      "execution_count": 8,
      "metadata": {},
      "outputs": [
        {
          "data": {
            "text/plain": [
              "(50,\n",
              " [[1, 11],\n",
              "  [1, 19],\n",
              "  [1, 22],\n",
              "  [1, 28],\n",
              "  [51, 2],\n",
              "  [51, 6],\n",
              "  [51, 7],\n",
              "  [51, 11],\n",
              "  [51, 23],\n",
              "  [51, 38],\n",
              "  [51, 41],\n",
              "  [51, 44],\n",
              "  [51, 48],\n",
              "  [51, 49],\n",
              "  [51, 50],\n",
              "  [101, 1],\n",
              "  [101, 7],\n",
              "  [101, 17],\n",
              "  [101, 23],\n",
              "  [101, 24],\n",
              "  [101, 48],\n",
              "  [151, 1],\n",
              "  [151, 2],\n",
              "  [151, 11],\n",
              "  [151, 18],\n",
              "  [151, 19],\n",
              "  [151, 40],\n",
              "  [201, 35],\n",
              "  [201, 36],\n",
              "  [201, 44],\n",
              "  [251, 8],\n",
              "  [251, 28],\n",
              "  [251, 34],\n",
              "  [251, 44],\n",
              "  [301, 6],\n",
              "  [301, 29],\n",
              "  [301, 35],\n",
              "  [301, 36],\n",
              "  [351, 8],\n",
              "  [351, 10],\n",
              "  [351, 12],\n",
              "  [351, 14],\n",
              "  [401, 12],\n",
              "  [401, 13],\n",
              "  [401, 15],\n",
              "  [401, 44],\n",
              "  [401, 49],\n",
              "  [451, 6],\n",
              "  [451, 20],\n",
              "  [451, 43]])"
            ]
          },
          "execution_count": 8,
          "metadata": {},
          "output_type": "execute_result"
        }
      ],
      "source": [
        "len(error_list), error_list"
      ]
    },
    {
      "cell_type": "code",
      "execution_count": 10,
      "metadata": {},
      "outputs": [
        {
          "data": {
            "text/plain": [
              "460"
            ]
          },
          "execution_count": 10,
          "metadata": {},
          "output_type": "execute_result"
        }
      ],
      "source": [
        "len(lyrics_list)"
      ]
    },
    {
      "cell_type": "code",
      "execution_count": 11,
      "metadata": {},
      "outputs": [],
      "source": [
        "df = pd.DataFrame({'contents' : lyrics_list})\n",
        "df.to_csv('data/시/melon_rap_lyrics.csv', index = False)"
      ]
    },
    {
      "cell_type": "code",
      "execution_count": 12,
      "metadata": {},
      "outputs": [],
      "source": [
        "driver.close()"
      ]
    },
    {
      "cell_type": "code",
      "execution_count": null,
      "metadata": {},
      "outputs": [],
      "source": []
    }
  ],
  "metadata": {
    "colab": {
      "name": "melon_crawling.ipynb",
      "provenance": []
    },
    "kernelspec": {
      "display_name": "Python 3",
      "name": "python3"
    },
    "language_info": {
      "codemirror_mode": {
        "name": "ipython",
        "version": 3
      },
      "file_extension": ".py",
      "mimetype": "text/x-python",
      "name": "python",
      "nbconvert_exporter": "python",
      "pygments_lexer": "ipython3",
      "version": "3.8.11"
    }
  },
  "nbformat": 4,
  "nbformat_minor": 0
}

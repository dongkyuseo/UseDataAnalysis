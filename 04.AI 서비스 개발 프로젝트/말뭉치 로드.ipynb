{
 "cells": [
  {
   "cell_type": "code",
   "execution_count": 1,
   "metadata": {},
   "outputs": [],
   "source": [
    "import json\n",
    "import pandas as pd\n",
    "import numpy as np\n",
    "import os\n",
    "from tqdm import tqdm\n",
    "import csv\n",
    "import xml.etree.ElementTree as elemTree\n",
    "from bs4 import BeautifulSoup as bf"
   ]
  },
  {
   "cell_type": "markdown",
   "metadata": {},
   "source": [
    "# json 문어 읽기"
   ]
  },
  {
   "cell_type": "code",
   "execution_count": 2,
   "metadata": {},
   "outputs": [
    {
     "data": {
      "text/plain": [
       "20188"
      ]
     },
     "execution_count": 2,
     "metadata": {},
     "output_type": "execute_result"
    }
   ],
   "source": [
    "path = 'data/말뭉치/문어'\n",
    "file_list = os.listdir(path)\n",
    "len(file_list)"
   ]
  },
  {
   "cell_type": "code",
   "execution_count": 3,
   "metadata": {},
   "outputs": [
    {
     "name": "stderr",
     "output_type": "stream",
     "text": [
      " 11%|█         | 2160/20188 [04:23<24:23, 12.32it/s]"
     ]
    }
   ],
   "source": [
    "words = []\n",
    "for z in tqdm(range(len(file_list))):\n",
    "    with open(path +'/'+ file_list[z], encoding='utf-8') as f:\n",
    "        json_obejct = json.load(f)\n",
    "    x = []\n",
    "    for i in range(len(json_obejct['document'][0]['paragraph'])):\n",
    "        x.extend(json_obejct['document'][0]['paragraph'][i]['form'])\n",
    "    words.append(x)\n",
    "len(words)"
   ]
  },
  {
   "cell_type": "code",
   "execution_count": null,
   "metadata": {},
   "outputs": [],
   "source": [
    "words = pd.DataFrame(words)\n",
    "words.to_csv('data/말뭉치/문어.csv', index=False)"
   ]
  },
  {
   "cell_type": "markdown",
   "metadata": {},
   "source": [
    "# tsv 문법성 읽기"
   ]
  },
  {
   "cell_type": "code",
   "execution_count": 66,
   "metadata": {},
   "outputs": [
    {
     "name": "stderr",
     "output_type": "stream",
     "text": [
      "100%|██████████| 3/3 [00:00<00:00, 18.00it/s]\n"
     ]
    }
   ],
   "source": [
    "words = []\n",
    "path = 'data/말뭉치/문법성'\n",
    "\n",
    "file_list = os.listdir(path)\n",
    "for z in tqdm(range(len(file_list))):\n",
    "    with open(path +'/'+file_list[z], encoding='utf-8') as f:\n",
    "        tr = csv.reader(f, delimiter='\\t')\n",
    "        for row in tr:\n",
    "            words.append(row)"
   ]
  },
  {
   "cell_type": "code",
   "execution_count": 67,
   "metadata": {},
   "outputs": [],
   "source": [
    "df = pd.DataFrame(words, columns=words[0])\n",
    "df = df.drop(index=0)\n",
    "df['sentence'].to_csv('data/말뭉치/문법성.csv', index=False)"
   ]
  },
  {
   "cell_type": "markdown",
   "metadata": {},
   "source": [
    "# sjml 비출판물 읽기"
   ]
  },
  {
   "cell_type": "code",
   "execution_count": 58,
   "metadata": {},
   "outputs": [
    {
     "data": {
      "text/plain": [
       "10753"
      ]
     },
     "execution_count": 58,
     "metadata": {},
     "output_type": "execute_result"
    }
   ],
   "source": [
    "words = []\n",
    "path = 'data/말뭉치/비출판물'\n",
    "\n",
    "file_list = os.listdir(path)\n",
    "len(file_list)"
   ]
  },
  {
   "cell_type": "code",
   "execution_count": 59,
   "metadata": {},
   "outputs": [
    {
     "name": "stderr",
     "output_type": "stream",
     "text": [
      "100%|██████████| 10753/10753 [00:58<00:00, 182.65it/s]\n"
     ]
    },
    {
     "data": {
      "text/plain": [
       "76805"
      ]
     },
     "execution_count": 59,
     "metadata": {},
     "output_type": "execute_result"
    }
   ],
   "source": [
    "sjml = []\n",
    "for file in tqdm(file_list):\n",
    "        with open(path +'/'+file, 'r', encoding='utf-8') as f:\n",
    "            _file = bf(f, features=\"html.parser\")\n",
    "            text = _file.find_all(\"p\")\n",
    "            for i in range(len(text)):\n",
    "                sjml.append(text[i].text)\n",
    "len(sjml)\n",
    "                        "
   ]
  },
  {
   "cell_type": "code",
   "execution_count": 65,
   "metadata": {},
   "outputs": [
    {
     "data": {
      "text/html": [
       "<div>\n",
       "<style scoped>\n",
       "    .dataframe tbody tr th:only-of-type {\n",
       "        vertical-align: middle;\n",
       "    }\n",
       "\n",
       "    .dataframe tbody tr th {\n",
       "        vertical-align: top;\n",
       "    }\n",
       "\n",
       "    .dataframe thead th {\n",
       "        text-align: right;\n",
       "    }\n",
       "</style>\n",
       "<table border=\"1\" class=\"dataframe\">\n",
       "  <thead>\n",
       "    <tr style=\"text-align: right;\">\n",
       "      <th></th>\n",
       "      <th>0</th>\n",
       "    </tr>\n",
       "  </thead>\n",
       "  <tbody>\n",
       "    <tr>\n",
       "      <th>0</th>\n",
       "      <td>어제는 아내의 생일이었다. 생일을 맞이하여 아침을 준비하겠다고 오전 8시 30분부터...</td>\n",
       "    </tr>\n",
       "    <tr>\n",
       "      <th>1</th>\n",
       "      <td>주된 메뉴는 스테이크와 낙지볶음, 미역국, 잡채, 소야 등이었다. 스테이크는 자주하...</td>\n",
       "    </tr>\n",
       "    <tr>\n",
       "      <th>2</th>\n",
       "      <td>그런데 상상도 못한 일이 벌이지고 말았다. 보통 시즈닝이 되지 않은 원육을 사서 스...</td>\n",
       "    </tr>\n",
       "    <tr>\n",
       "      <th>3</th>\n",
       "      <td>앞면을 센불에 1분을 굽고 뒤집는 순간 방부제가 함께 구어진 것을 알았다. 아내의 ...</td>\n",
       "    </tr>\n",
       "    <tr>\n",
       "      <th>4</th>\n",
       "      <td>어처구니 없는 상황이 발생한 것이다. 방부제가 센불에 녹아서 그런지 물처럼 흘러내렸...</td>\n",
       "    </tr>\n",
       "    <tr>\n",
       "      <th>...</th>\n",
       "      <td>...</td>\n",
       "    </tr>\n",
       "    <tr>\n",
       "      <th>76800</th>\n",
       "      <td>잠시 후에 고모,고모할머니,삼촌들이 모두 오셨다 할아버지는 일을 하시느라 늦게 오 ...</td>\n",
       "    </tr>\n",
       "    <tr>\n",
       "      <th>76801</th>\n",
       "      <td>나는 오 늘 오랜 만에 친척 들을 만나니 즐 거운 하루 인 겄갔았다.</td>\n",
       "    </tr>\n",
       "    <tr>\n",
       "      <th>76802</th>\n",
       "      <td>오늘 &amp;name1&amp;누나랑 &amp;name2&amp;이형, &amp;name3&amp;, &amp;name4&amp;이랑 키즈...</td>\n",
       "    </tr>\n",
       "    <tr>\n",
       "      <th>76803</th>\n",
       "      <td>콩과 자라와 쇠똥과 소꼿이랑 멧돌이랑 멍석과 친구들이 할머니를 도와조서 자랑스럽다</td>\n",
       "    </tr>\n",
       "    <tr>\n",
       "      <th>76804</th>\n",
       "      <td>주인공이아내랑 집에가고 있었는데 괴물이 아내를 데려갔는데 주인공이 되차자서 자랑스럽다.</td>\n",
       "    </tr>\n",
       "  </tbody>\n",
       "</table>\n",
       "<p>76805 rows × 1 columns</p>\n",
       "</div>"
      ],
      "text/plain": [
       "                                                       0\n",
       "0      어제는 아내의 생일이었다. 생일을 맞이하여 아침을 준비하겠다고 오전 8시 30분부터...\n",
       "1      주된 메뉴는 스테이크와 낙지볶음, 미역국, 잡채, 소야 등이었다. 스테이크는 자주하...\n",
       "2      그런데 상상도 못한 일이 벌이지고 말았다. 보통 시즈닝이 되지 않은 원육을 사서 스...\n",
       "3      앞면을 센불에 1분을 굽고 뒤집는 순간 방부제가 함께 구어진 것을 알았다. 아내의 ...\n",
       "4      어처구니 없는 상황이 발생한 것이다. 방부제가 센불에 녹아서 그런지 물처럼 흘러내렸...\n",
       "...                                                  ...\n",
       "76800  잠시 후에 고모,고모할머니,삼촌들이 모두 오셨다 할아버지는 일을 하시느라 늦게 오 ...\n",
       "76801             나는 오 늘 오랜 만에 친척 들을 만나니 즐 거운 하루 인 겄갔았다.\n",
       "76802  오늘 &name1&누나랑 &name2&이형, &name3&, &name4&이랑 키즈...\n",
       "76803      콩과 자라와 쇠똥과 소꼿이랑 멧돌이랑 멍석과 친구들이 할머니를 도와조서 자랑스럽다\n",
       "76804   주인공이아내랑 집에가고 있었는데 괴물이 아내를 데려갔는데 주인공이 되차자서 자랑스럽다.\n",
       "\n",
       "[76805 rows x 1 columns]"
      ]
     },
     "execution_count": 65,
     "metadata": {},
     "output_type": "execute_result"
    }
   ],
   "source": [
    "df = pd.DataFrame(sjml)\n",
    "df.to_csv('data/말뭉치/비출판물.csv', index=False)\n",
    "df"
   ]
  },
  {
   "cell_type": "markdown",
   "metadata": {},
   "source": [
    "# json 유사문장"
   ]
  },
  {
   "cell_type": "code",
   "execution_count": 68,
   "metadata": {},
   "outputs": [
    {
     "data": {
      "text/plain": [
       "1"
      ]
     },
     "execution_count": 68,
     "metadata": {},
     "output_type": "execute_result"
    }
   ],
   "source": [
    "path = 'data/말뭉치/유사문장'\n",
    "file_list = os.listdir(path)\n",
    "len(file_list)"
   ]
  },
  {
   "cell_type": "code",
   "execution_count": 82,
   "metadata": {},
   "outputs": [
    {
     "name": "stderr",
     "output_type": "stream",
     "text": [
      "100%|██████████| 1/1 [00:00<00:00,  2.40it/s]\n"
     ]
    },
    {
     "data": {
      "text/plain": [
       "10"
      ]
     },
     "execution_count": 82,
     "metadata": {},
     "output_type": "execute_result"
    }
   ],
   "source": [
    "words = []\n",
    "\n",
    "for z in tqdm(range(len(file_list))):\n",
    "    with open(path +'/'+ file_list[z], encoding='utf-8') as f:\n",
    "        json_obejct = json.load(f)\n",
    "        for i in range(len(json_obejct['data'][0]['paraphrases'])):\n",
    "            words.append(json_obejct['data'][0]['paraphrases'][i]['form'])\n",
    "len(words)           \n"
   ]
  },
  {
   "cell_type": "code",
   "execution_count": 84,
   "metadata": {},
   "outputs": [
    {
     "data": {
      "text/html": [
       "<div>\n",
       "<style scoped>\n",
       "    .dataframe tbody tr th:only-of-type {\n",
       "        vertical-align: middle;\n",
       "    }\n",
       "\n",
       "    .dataframe tbody tr th {\n",
       "        vertical-align: top;\n",
       "    }\n",
       "\n",
       "    .dataframe thead th {\n",
       "        text-align: right;\n",
       "    }\n",
       "</style>\n",
       "<table border=\"1\" class=\"dataframe\">\n",
       "  <thead>\n",
       "    <tr style=\"text-align: right;\">\n",
       "      <th></th>\n",
       "      <th>0</th>\n",
       "    </tr>\n",
       "  </thead>\n",
       "  <tbody>\n",
       "    <tr>\n",
       "      <th>0</th>\n",
       "      <td>경기 성남시 판교신도시에서 이달 분양하는 중대형 아파트의 3.3m²당 분양가가 15...</td>\n",
       "    </tr>\n",
       "    <tr>\n",
       "      <th>1</th>\n",
       "      <td>경기 성남시 판교신도시에서 이번 달 분양하는 중대형 아파트의 3.3m²당 분양가가 ...</td>\n",
       "    </tr>\n",
       "    <tr>\n",
       "      <th>2</th>\n",
       "      <td>경기도 성남시 판교신도시에 따르면 이달 분양하는 중대형 아파트의 3.3m²당 분양가...</td>\n",
       "    </tr>\n",
       "    <tr>\n",
       "      <th>3</th>\n",
       "      <td>경기도 성남시 판교신도시에서 이달 분양하는 중대형 아파트는 3.3m²당 분양가가 2...</td>\n",
       "    </tr>\n",
       "    <tr>\n",
       "      <th>4</th>\n",
       "      <td>경기도 성남시 판교신도시에서 이달 분양하는 중대형 아파트는 3.3m²당 분양가가 2...</td>\n",
       "    </tr>\n",
       "    <tr>\n",
       "      <th>5</th>\n",
       "      <td>경기도 성남시 판교신도시에서 이달 분양하는 중대형 아파트의 3.3m²당 분양가가 2...</td>\n",
       "    </tr>\n",
       "    <tr>\n",
       "      <th>6</th>\n",
       "      <td>이달 분양하는 경기도 성남시 판교신도시의 중대형 아파트 3.3m²당 분양가가 200...</td>\n",
       "    </tr>\n",
       "    <tr>\n",
       "      <th>7</th>\n",
       "      <td>이번 달에 경기 성남시 판교신도시에서 분양하는 중대형 아파트의 3.3m²당 분양가가...</td>\n",
       "    </tr>\n",
       "    <tr>\n",
       "      <th>8</th>\n",
       "      <td>이번 달에 경기 성남시 판교신도시에서 분양하는 중대형 아파트의 3.3m²당 분양가가...</td>\n",
       "    </tr>\n",
       "    <tr>\n",
       "      <th>9</th>\n",
       "      <td>이번 달에 스포츠 성남시 판교신도시에서 분양하는 중대형 아파트먼트의 3.3m²당 분...</td>\n",
       "    </tr>\n",
       "  </tbody>\n",
       "</table>\n",
       "</div>"
      ],
      "text/plain": [
       "                                                   0\n",
       "0  경기 성남시 판교신도시에서 이달 분양하는 중대형 아파트의 3.3m²당 분양가가 15...\n",
       "1  경기 성남시 판교신도시에서 이번 달 분양하는 중대형 아파트의 3.3m²당 분양가가 ...\n",
       "2  경기도 성남시 판교신도시에 따르면 이달 분양하는 중대형 아파트의 3.3m²당 분양가...\n",
       "3  경기도 성남시 판교신도시에서 이달 분양하는 중대형 아파트는 3.3m²당 분양가가 2...\n",
       "4  경기도 성남시 판교신도시에서 이달 분양하는 중대형 아파트는 3.3m²당 분양가가 2...\n",
       "5  경기도 성남시 판교신도시에서 이달 분양하는 중대형 아파트의 3.3m²당 분양가가 2...\n",
       "6  이달 분양하는 경기도 성남시 판교신도시의 중대형 아파트 3.3m²당 분양가가 200...\n",
       "7  이번 달에 경기 성남시 판교신도시에서 분양하는 중대형 아파트의 3.3m²당 분양가가...\n",
       "8  이번 달에 경기 성남시 판교신도시에서 분양하는 중대형 아파트의 3.3m²당 분양가가...\n",
       "9  이번 달에 스포츠 성남시 판교신도시에서 분양하는 중대형 아파트먼트의 3.3m²당 분..."
      ]
     },
     "execution_count": 84,
     "metadata": {},
     "output_type": "execute_result"
    }
   ],
   "source": [
    "words = pd.DataFrame(words)\n",
    "words"
   ]
  },
  {
   "cell_type": "code",
   "execution_count": 85,
   "metadata": {},
   "outputs": [],
   "source": [
    "words.to_csv('data/말뭉치/유사문장.csv', index=False)"
   ]
  },
  {
   "cell_type": "code",
   "execution_count": null,
   "metadata": {},
   "outputs": [],
   "source": []
  }
 ],
 "metadata": {
  "interpreter": {
   "hash": "ac59ebe37160ed0dfa835113d9b8498d9f09ceb179beaac4002f036b9467c963"
  },
  "kernelspec": {
   "display_name": "Python 3.9.5 64-bit",
   "language": "python",
   "name": "python3"
  },
  "language_info": {
   "codemirror_mode": {
    "name": "ipython",
    "version": 3
   },
   "file_extension": ".py",
   "mimetype": "text/x-python",
   "name": "python",
   "nbconvert_exporter": "python",
   "pygments_lexer": "ipython3",
   "version": "3.8.11"
  },
  "orig_nbformat": 4
 },
 "nbformat": 4,
 "nbformat_minor": 2
}

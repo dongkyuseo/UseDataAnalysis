{
 "cells": [
  {
   "cell_type": "code",
   "execution_count": 34,
   "metadata": {},
   "outputs": [],
   "source": [
    "# 필요 데이터 크롤링\n",
    "import requests\n",
    "import pandas as pd\n",
    "import time\n",
    "from selenium import webdriver\n",
    "from selenium.webdriver.common.keys import Keys\n",
    "from bs4 import BeautifulSoup\n",
    "from urllib.parse import quote\n",
    "from tqdm import tqdm\n",
    "import re"
   ]
  },
  {
   "cell_type": "code",
   "execution_count": 35,
   "metadata": {},
   "outputs": [],
   "source": [
    "driver = webdriver.Chrome('D:/Workspace/crawling/chromedriver.exe')\n",
    "URL = 'https://korean.visitkorea.or.kr/other/other_list.do?otdid=7ff670df-84fa-11e8-8165-020027310001&moreTag=2021%EB%85%8411%EC%9B%94%EC%B6%94%EC%B2%9C%EA%B0%80%EB%B3%BC%EB%A7%8C%ED%95%9C%EA%B3%B3%7C%7C#0^All^All^All^85^10^recomthere^Null^All^7ff670df-84fa-11e8-8165-020027310001^All^#%EC%A0%84%EC%B2%B4^All^All^All^All'"
   ]
  },
  {
   "cell_type": "code",
   "execution_count": 40,
   "metadata": {},
   "outputs": [],
   "source": [
    "driver.get(URL)"
   ]
  },
  {
   "cell_type": "code",
   "execution_count": 41,
   "metadata": {},
   "outputs": [],
   "source": [
    "cnt = 1\n",
    "driver.find_element_by_xpath(f'//*[@id=\"{cnt}\"]').click() #0번창에서 클릭"
   ]
  },
  {
   "cell_type": "code",
   "execution_count": 42,
   "metadata": {},
   "outputs": [
    {
     "name": "stderr",
     "output_type": "stream",
     "text": [
      "  0%|          | 0/84 [01:31<?, ?it/s]\n"
     ]
    },
    {
     "ename": "NoSuchElementException",
     "evalue": "Message: no such element: Unable to locate element: {\"method\":\"xpath\",\"selector\":\"//*[@id=\"contents\"]/div[2]/div[1]/ul/li[8]/div[1]/a/img\"}\n  (Session info: chrome=96.0.4664.45)\n",
     "output_type": "error",
     "traceback": [
      "\u001b[1;31m---------------------------------------------------------------------------\u001b[0m",
      "\u001b[1;31mNoSuchElementException\u001b[0m                    Traceback (most recent call last)",
      "\u001b[1;32m<ipython-input-42-bdb56ee17a5e>\u001b[0m in \u001b[0;36m<module>\u001b[1;34m\u001b[0m\n\u001b[0;32m      5\u001b[0m         \u001b[0mtime\u001b[0m\u001b[1;33m.\u001b[0m\u001b[0msleep\u001b[0m\u001b[1;33m(\u001b[0m\u001b[1;36m3\u001b[0m\u001b[1;33m)\u001b[0m\u001b[1;33m\u001b[0m\u001b[1;33m\u001b[0m\u001b[0m\n\u001b[0;32m      6\u001b[0m         \u001b[0mdriver\u001b[0m\u001b[1;33m.\u001b[0m\u001b[0mfind_element_by_xpath\u001b[0m\u001b[1;33m(\u001b[0m\u001b[1;34mf'//*[@id=\"contents\"]/div[2]/div[1]/ul/li[{i}]/div[2]'\u001b[0m\u001b[1;33m)\u001b[0m\u001b[1;33m.\u001b[0m\u001b[0mclick\u001b[0m\u001b[1;33m(\u001b[0m\u001b[1;33m)\u001b[0m\u001b[1;33m\u001b[0m\u001b[1;33m\u001b[0m\u001b[0m\n\u001b[1;32m----> 7\u001b[1;33m         \u001b[0mdriver\u001b[0m\u001b[1;33m.\u001b[0m\u001b[0mfind_element_by_xpath\u001b[0m\u001b[1;33m(\u001b[0m\u001b[1;34mf'//*[@id=\"contents\"]/div[2]/div[1]/ul/li[{i}]/div[1]/a/img'\u001b[0m\u001b[1;33m)\u001b[0m\u001b[1;33m.\u001b[0m\u001b[0mclick\u001b[0m\u001b[1;33m(\u001b[0m\u001b[1;33m)\u001b[0m\u001b[1;33m\u001b[0m\u001b[1;33m\u001b[0m\u001b[0m\n\u001b[0m\u001b[0;32m      8\u001b[0m         \u001b[0mtime\u001b[0m\u001b[1;33m.\u001b[0m\u001b[0msleep\u001b[0m\u001b[1;33m(\u001b[0m\u001b[1;36m3\u001b[0m\u001b[1;33m)\u001b[0m\u001b[1;33m\u001b[0m\u001b[1;33m\u001b[0m\u001b[0m\n\u001b[0;32m      9\u001b[0m         \u001b[0mraw_contents\u001b[0m \u001b[1;33m=\u001b[0m \u001b[0mdriver\u001b[0m\u001b[1;33m.\u001b[0m\u001b[0mfind_element_by_xpath\u001b[0m\u001b[1;33m(\u001b[0m\u001b[1;34m'//*[@id=\"contents\"]/div[2]/div[4]'\u001b[0m\u001b[1;33m)\u001b[0m\u001b[1;33m.\u001b[0m\u001b[0mtext\u001b[0m \u001b[1;31m#내용가져오기\u001b[0m\u001b[1;33m\u001b[0m\u001b[1;33m\u001b[0m\u001b[0m\n",
      "\u001b[1;32mC:\\ProgramData\\Anaconda3\\lib\\site-packages\\selenium\\webdriver\\remote\\webdriver.py\u001b[0m in \u001b[0;36mfind_element_by_xpath\u001b[1;34m(self, xpath)\u001b[0m\n\u001b[0;32m    392\u001b[0m             \u001b[0melement\u001b[0m \u001b[1;33m=\u001b[0m \u001b[0mdriver\u001b[0m\u001b[1;33m.\u001b[0m\u001b[0mfind_element_by_xpath\u001b[0m\u001b[1;33m(\u001b[0m\u001b[1;34m'//div/td[1]'\u001b[0m\u001b[1;33m)\u001b[0m\u001b[1;33m\u001b[0m\u001b[1;33m\u001b[0m\u001b[0m\n\u001b[0;32m    393\u001b[0m         \"\"\"\n\u001b[1;32m--> 394\u001b[1;33m         \u001b[1;32mreturn\u001b[0m \u001b[0mself\u001b[0m\u001b[1;33m.\u001b[0m\u001b[0mfind_element\u001b[0m\u001b[1;33m(\u001b[0m\u001b[0mby\u001b[0m\u001b[1;33m=\u001b[0m\u001b[0mBy\u001b[0m\u001b[1;33m.\u001b[0m\u001b[0mXPATH\u001b[0m\u001b[1;33m,\u001b[0m \u001b[0mvalue\u001b[0m\u001b[1;33m=\u001b[0m\u001b[0mxpath\u001b[0m\u001b[1;33m)\u001b[0m\u001b[1;33m\u001b[0m\u001b[1;33m\u001b[0m\u001b[0m\n\u001b[0m\u001b[0;32m    395\u001b[0m \u001b[1;33m\u001b[0m\u001b[0m\n\u001b[0;32m    396\u001b[0m     \u001b[1;32mdef\u001b[0m \u001b[0mfind_elements_by_xpath\u001b[0m\u001b[1;33m(\u001b[0m\u001b[0mself\u001b[0m\u001b[1;33m,\u001b[0m \u001b[0mxpath\u001b[0m\u001b[1;33m)\u001b[0m\u001b[1;33m:\u001b[0m\u001b[1;33m\u001b[0m\u001b[1;33m\u001b[0m\u001b[0m\n",
      "\u001b[1;32mC:\\ProgramData\\Anaconda3\\lib\\site-packages\\selenium\\webdriver\\remote\\webdriver.py\u001b[0m in \u001b[0;36mfind_element\u001b[1;34m(self, by, value)\u001b[0m\n\u001b[0;32m    974\u001b[0m                 \u001b[0mby\u001b[0m \u001b[1;33m=\u001b[0m \u001b[0mBy\u001b[0m\u001b[1;33m.\u001b[0m\u001b[0mCSS_SELECTOR\u001b[0m\u001b[1;33m\u001b[0m\u001b[1;33m\u001b[0m\u001b[0m\n\u001b[0;32m    975\u001b[0m                 \u001b[0mvalue\u001b[0m \u001b[1;33m=\u001b[0m \u001b[1;34m'[name=\"%s\"]'\u001b[0m \u001b[1;33m%\u001b[0m \u001b[0mvalue\u001b[0m\u001b[1;33m\u001b[0m\u001b[1;33m\u001b[0m\u001b[0m\n\u001b[1;32m--> 976\u001b[1;33m         return self.execute(Command.FIND_ELEMENT, {\n\u001b[0m\u001b[0;32m    977\u001b[0m             \u001b[1;34m'using'\u001b[0m\u001b[1;33m:\u001b[0m \u001b[0mby\u001b[0m\u001b[1;33m,\u001b[0m\u001b[1;33m\u001b[0m\u001b[1;33m\u001b[0m\u001b[0m\n\u001b[0;32m    978\u001b[0m             'value': value})['value']\n",
      "\u001b[1;32mC:\\ProgramData\\Anaconda3\\lib\\site-packages\\selenium\\webdriver\\remote\\webdriver.py\u001b[0m in \u001b[0;36mexecute\u001b[1;34m(self, driver_command, params)\u001b[0m\n\u001b[0;32m    319\u001b[0m         \u001b[0mresponse\u001b[0m \u001b[1;33m=\u001b[0m \u001b[0mself\u001b[0m\u001b[1;33m.\u001b[0m\u001b[0mcommand_executor\u001b[0m\u001b[1;33m.\u001b[0m\u001b[0mexecute\u001b[0m\u001b[1;33m(\u001b[0m\u001b[0mdriver_command\u001b[0m\u001b[1;33m,\u001b[0m \u001b[0mparams\u001b[0m\u001b[1;33m)\u001b[0m\u001b[1;33m\u001b[0m\u001b[1;33m\u001b[0m\u001b[0m\n\u001b[0;32m    320\u001b[0m         \u001b[1;32mif\u001b[0m \u001b[0mresponse\u001b[0m\u001b[1;33m:\u001b[0m\u001b[1;33m\u001b[0m\u001b[1;33m\u001b[0m\u001b[0m\n\u001b[1;32m--> 321\u001b[1;33m             \u001b[0mself\u001b[0m\u001b[1;33m.\u001b[0m\u001b[0merror_handler\u001b[0m\u001b[1;33m.\u001b[0m\u001b[0mcheck_response\u001b[0m\u001b[1;33m(\u001b[0m\u001b[0mresponse\u001b[0m\u001b[1;33m)\u001b[0m\u001b[1;33m\u001b[0m\u001b[1;33m\u001b[0m\u001b[0m\n\u001b[0m\u001b[0;32m    322\u001b[0m             response['value'] = self._unwrap_value(\n\u001b[0;32m    323\u001b[0m                 response.get('value', None))\n",
      "\u001b[1;32mC:\\ProgramData\\Anaconda3\\lib\\site-packages\\selenium\\webdriver\\remote\\errorhandler.py\u001b[0m in \u001b[0;36mcheck_response\u001b[1;34m(self, response)\u001b[0m\n\u001b[0;32m    240\u001b[0m                 \u001b[0malert_text\u001b[0m \u001b[1;33m=\u001b[0m \u001b[0mvalue\u001b[0m\u001b[1;33m[\u001b[0m\u001b[1;34m'alert'\u001b[0m\u001b[1;33m]\u001b[0m\u001b[1;33m.\u001b[0m\u001b[0mget\u001b[0m\u001b[1;33m(\u001b[0m\u001b[1;34m'text'\u001b[0m\u001b[1;33m)\u001b[0m\u001b[1;33m\u001b[0m\u001b[1;33m\u001b[0m\u001b[0m\n\u001b[0;32m    241\u001b[0m             \u001b[1;32mraise\u001b[0m \u001b[0mexception_class\u001b[0m\u001b[1;33m(\u001b[0m\u001b[0mmessage\u001b[0m\u001b[1;33m,\u001b[0m \u001b[0mscreen\u001b[0m\u001b[1;33m,\u001b[0m \u001b[0mstacktrace\u001b[0m\u001b[1;33m,\u001b[0m \u001b[0malert_text\u001b[0m\u001b[1;33m)\u001b[0m\u001b[1;33m\u001b[0m\u001b[1;33m\u001b[0m\u001b[0m\n\u001b[1;32m--> 242\u001b[1;33m         \u001b[1;32mraise\u001b[0m \u001b[0mexception_class\u001b[0m\u001b[1;33m(\u001b[0m\u001b[0mmessage\u001b[0m\u001b[1;33m,\u001b[0m \u001b[0mscreen\u001b[0m\u001b[1;33m,\u001b[0m \u001b[0mstacktrace\u001b[0m\u001b[1;33m)\u001b[0m\u001b[1;33m\u001b[0m\u001b[1;33m\u001b[0m\u001b[0m\n\u001b[0m\u001b[0;32m    243\u001b[0m \u001b[1;33m\u001b[0m\u001b[0m\n\u001b[0;32m    244\u001b[0m     \u001b[1;32mdef\u001b[0m \u001b[0m_value_or_default\u001b[0m\u001b[1;33m(\u001b[0m\u001b[0mself\u001b[0m\u001b[1;33m,\u001b[0m \u001b[0mobj\u001b[0m\u001b[1;33m,\u001b[0m \u001b[0mkey\u001b[0m\u001b[1;33m,\u001b[0m \u001b[0mdefault\u001b[0m\u001b[1;33m)\u001b[0m\u001b[1;33m:\u001b[0m\u001b[1;33m\u001b[0m\u001b[1;33m\u001b[0m\u001b[0m\n",
      "\u001b[1;31mNoSuchElementException\u001b[0m: Message: no such element: Unable to locate element: {\"method\":\"xpath\",\"selector\":\"//*[@id=\"contents\"]/div[2]/div[1]/ul/li[8]/div[1]/a/img\"}\n  (Session info: chrome=96.0.4664.45)\n"
     ]
    }
   ],
   "source": [
    "contents_list = [] # 빈 리스트 생성\n",
    "cnt = 2\n",
    "for k in tqdm(range(1, 85)): # 크롤링 할 게시물 갯수 설정\n",
    "    for i in range(1, 11):\n",
    "        time.sleep(3)\n",
    "        driver.find_element_by_xpath(f'//*[@id=\"contents\"]/div[2]/div[1]/ul/li[{i}]/div[2]').click()\n",
    "        driver.find_element_by_xpath(f'//*[@id=\"contents\"]/div[2]/div[1]/ul/li[{i}]/div[1]/a/img').click()\n",
    "        time.sleep(3)\n",
    "        raw_contents = driver.find_element_by_xpath('//*[@id=\"contents\"]/div[2]/div[4]').text #내용가져오기\n",
    "        raw_contents = raw_contents.split('<당일 여행 코스>')[0]\n",
    "        contents = re.sub('[\\n]', ' ', raw_contents)\n",
    "        contents_list.append(contents)\n",
    "        time.sleep(3)\n",
    "        driver.back()\n",
    "        time.sleep(3)\n",
    "    driver.find_element_by_xpath(f'//*[@id=\"contents\"]/div[2]/div[1]/div[2]').click()\n",
    "    driver.find_element_by_xpath(f'//*[@id=\"{cnt}\"]').click()\n",
    "    cnt +=1\n",
    "    time.sleep(3)"
   ]
  },
  {
   "cell_type": "code",
   "execution_count": 43,
   "metadata": {},
   "outputs": [
    {
     "data": {
      "text/plain": [
       "7"
      ]
     },
     "execution_count": 43,
     "metadata": {},
     "output_type": "execute_result"
    }
   ],
   "source": [
    "# 100개의 컨텐츠 리스트화\n",
    "len(contents_list)"
   ]
  },
  {
   "cell_type": "code",
   "execution_count": 53,
   "metadata": {},
   "outputs": [
    {
     "data": {
      "text/plain": [
       "'전등갓으로 변신한 책 하마 서울숲 국내 최대 규모의 새활용 복합 문화 공간, 서울새활용플라자 매일 쏟아지는 쓰레기로 세계가 골머리를 앓는다. 이에 따라 자원 활용에 관심이 높아지고, 버려진 물건에 아이디어를 더하는 새활용(upcycling)이 각광 받는다. 새활용은 업그레이드(upgrade)와 리사이클링(recycling)을 합한 용어로, 폐자원을 다시 사용하는 단계를 넘어 새 작품으로 만드는 작업이다. 책이 전등갓으로 변신하고, 현수막은 가방으로 새 생명을 얻는다. 새활용 제품에는 대량생산 제품에서 찾기 힘든 특별한 손맛과 환경을 지키겠다는 철학이 깃들었다. 전등갓으로 변신한 책 새활용에 관심이 있다면 꼭 방문할 곳이 서울새활용플라자다. ‘자원순환도시 서울시 비전 2030’을 토대로 새활용에 대한 사회적 인식을 높이기 위해 2017년 9월 서울 성동구에 문을 열었다. 국내 최대 규모의 새활용 복합 문화 공간으로, 버려진 재료 수거부터 가공, 제작, 판매까지 새활용의 전 과정을 볼 수 있다. 워크숍과 공연, 전시 등 다양한 교육 프로그램을 통해 새활용 생활 방식을 알리기도 한다. 페인트 통을 엮어 제작한 놀이 시설 ‘스핀펜스’ 수도권지하철 5호선 장한평역에 내리면 빈 병으로 만든 조명과 폐자전거 바퀴를 이용한 의자가 눈에 들어온다. 8번 출구로 나가 5분쯤 걸으면 ‘SUP새활용거리’라는 글씨와 페인트 통을 엮어 제작한 놀이 시설 ‘스핀펜스’가 보인다. 색색의 통을 돌려 그림과 글자로 표현하는 작품이다. 자투리 상수도관을 실로폰처럼 만든 ‘뮤직펜스’, 플라스틱 파이프로 만든 ‘루프업 파빌리온’이 차례로 등장해 기대감을 높인다. 다 쓴 택배 상자로 만든 하마 눈을 휘둥그렇게 만드는 작품은 서울새활용플라자 1층에도 있다. 로비에 들어서면 고래와 하마가 여행자를 맞이한다. 고래는 플라스틱병 500여 개로 만든 작품 ‘비욘드 플라스틱 09’로, 플라스틱 쓰레기로 해양이 오염되는 것을 경고하는 의미다. 하마는 다 쓴 택배 상자로 제작했다. 천장에는 빈 병을 활용한 샹들리에가 고급스럽다. 폐자원으로 만든 놀라운 작품에 감탄사가 절로 나온다. ‘꿈꾸는공장’에서 새활용 제품 제작을 위한 장비를 대여한다. 작품을 살펴본 뒤 ‘새활용하우스’로 발길을 옮긴다. 친환경 생활 방식이 엿보이는 곳으로, 일상생활과 접목한 새활용 작품을 전시한다. 11월 30일까지 운영하는 제로 웨이스트 체험 공간 ‘제로숲’에서 고체 치약이나 천연 수세미 등을 사용해볼 수 있다. ‘꿈꾸는공장’에서는 3D 프린터와 레이저 커팅기, 미싱 등 50종이 넘는 장비를 대여한다(예약 필요). 저렴한 이용료로 빌린 장비를 이용해 누구나 새활용 제품을 만들 수 있다. 우유갑을 활용해 만든 지갑 2층은 아이디어 창고다. 새활용 작품 전시 〈숲(SUP)을 보다〉에는 버려진 우산 원단으로 만든 파우치, 낡은 책으로 만든 작품, 우유갑을 이용한 지갑 등 흥미로운 작품이 많다. ‘아름다운가게’의 친환경 브랜드 에코파티메아리 매장에선 헌 옷과 현수막, 소파, 가죽을 소재로 만든 다양한 상품을 판매한다. 새활용 기업의 작품과 활동을 볼 수 있는 3~4층 스튜디오 3~4층은 새활용 기업의 스튜디오로, 제작하는 생생한 모습을 볼 수 있다. 스튜디오에서 만난 렉또베르쏘 김준혁 대표는 “자원 순환을 위해 인식의 전환이 필요하다. 폐기된 책을 작품으로 만들어 보통 사람이 환경문제를 쉽고 재미있게 접근하도록 노력하고 있다”라고 말했다. 새활용 제품 제작에 필요한 소재를 판매하는 ‘소재은행’ 지하 1층 ‘소재은행’도 참신하다. 기업이나 시민이 기증한 물건을 분해·분류한 공간으로, 새활용 제품 제작에 필요한 소재를 판매한다. 아이들을 위한 ‘소재구조대’도 운영한다. 어린이와 학생들이 소재를 해체하고 분류하며 새활용 문화를 접하게 한 프로그램이다.  새활용의 의미를 생각하게 하는 문구 서울새활용플라자는 새활용 문화 확산을 위한 교육 프로그램을 진행하는데, 코로나19로 비대면 교육을 확대하고 있다. 온라인 교육으로 전환하면서 2020년에는 교육 참여자가 전년 대비 3배 이상 늘어, 환경과 새활용에 꾸준한 관심을 보여준다. 오프라인 도슨트 프로그램도 중단한 상태인데, 온라인에서 이용할 수 있다. 서울새활용플라자 운영 시간은 오전 10시~오후 6시, 입장료는 없다(월요일 휴관). 도심 속 오아시스 같은 서울숲 서울새활용플라자를 둘러본 뒤에는 서울숲으로 가자. 도심 속 녹지로 넓은 잔디밭과 놀이터가 있어, 남녀노소 누구나 좋아한다. 입구에서 만나는 ‘군마상’이 서울숲 일부가 과거 경마장이었음을 알려준다. 그 뒤로 반영이 아름다운 ‘거울연못’, 방탄소년단 팬클럽 아미가 멤버 지민의 생일을 축하하기 위해 설치한 ‘지민 서울숲 벤치가든’이 자리한다. 울창한 메타세쿼이아 길을 걷거나 잔디밭에 돗자리를 펴고 앉아 책을 보는 등 자기만의 방식으로 가을을 만끽한다. 취약 계층의 자립을 지원하기 위해 조성한 문화 공간, ‘언더스탠드에비뉴’ 서울숲 입구에 알록달록한 컨테이너가 쌓인 ‘언더스탠드에비뉴’가 눈에 띈다. 취약 계층의 자립을 지원하기 위해 조성한 문화 공간이다. 청각 장애우가 운영하는 카페에서 향긋한 커피를 마시고, 커피 찌꺼기로 만든 친환경 제품을 구매한다. 소비만으로 착한 일을 한 기분이 든다. 문화 공간 ‘아트스탠드’에서 콘서트와 전시 등 다양한 문화 예술 콘텐츠도 선보인다. 정미소를 개조한 갤러리 카페 ‘대림창고’ 여행의 마무리는 성수동카페거리다. 특색 있는 카페가 밀집해 ‘SNS 성지’로 이름났다. 정미소를 새롭게 꾸민 ‘대림창고’는 조형물과 그림을 전시한 갤러리 카페다. 펀딩으로 판매되는 제품을 오프라인에서 만나는 곳, 채식주의자를 위한 식당 등 하루가 멀다고 색다른 공간이 등장해 문화를 즐기는 젊은이들로 활기가 넘친다. 곳곳에 수제화거리의 모습이 어우러져, 성수동의 수제화 역사도 엿볼 수 있다. 성수동의 수제화 역사를 상징적으로 보여주는 조형물 〈당일 여행 코스〉 서울새활용플라자→서울숲  〈1박 2일 여행 코스〉 첫째 날 / 서울새활용플라자→서울숲 둘째 날 / 언더스탠드에비뉴→성수동카페거리 여행 정보 ○ 관련 웹 사이트 주소  - 서울새활용플라자  - 서울숲  - 언더스탠드에비뉴  ○ 문의 전화  - 서울새활용플라자 02)2153-0400  - 언더스탠드에비뉴 02)725-5526  - 서울숲 02)460-2905  ○ 대중교통 정보 [지하철] 수도권지하철 5호선 장한평역 8번 출구에서 셔틀버스 하루 18회(08:50~18:20, 매시 20·50분) 운행. * 문의 : 서울교통공사 1577-1234 서울새활용플라자 셔틀버스 02)2153-0424  ○ 자가운전 정보 답십리역 방면 / 천호대로 서울교통공사 방면→미라보타워와 아름다운가게 사이 골목→자동차시장길 새활용거리→서울새활용플라자 군자교 방면 / 장한평역 방면에서 천호대로→서울교통공사사거리 지나 BMW 건물 쪽 회전교차로, P턴→천호대로 서울교통공사 방면→미라보타워와 아름다운가게 사이 골목→자동차시장길 새활용거리→서울새활용플라자  ○ 숙박 정보  - 신라스테이 삼성 : 강남구 영동대로, 02)2175-9000  - 더리센츠호텔 동대문 : 동대문구 천호대로, 02)3390-7000  - 부티크호텔k 동대문점 : 동대문구 천호대로, 02)2214-8886  - 호텔더디자이너스 건대 : 광진구 천호대로, 02)466-7851  - 호텔포코 성수 : 성동구 성수이로, 02)462-9610  ○ 식당 정보  - 소문난성수감자탕 : 감자탕, 성동구 연무장길, 02)465-6580  - 칙피스 성수점 : 비건샐러드·비건버거, 성동구 연무장5길, 02)2054-0248  - 쵸리상경 : 연어솥밥·스테이크솥밥, 성동구 서울숲4길, 02)6402-0085  - 호호식당 성수 : 일본 가정식, 성동구 서울숲4길, 02)498-2384  - 팩피 : 파스타·샐러드, 성동구 왕십리로, 02)6052-7595  ○ 주변 볼거리 서울하수도과학관, DDP(동대문디자인플라자) , N서울타워 ※ 위 정보는 2021년 10월에 작성된 정보로, 이후 변경될 수 있으니 여행 하시기 전에 반드시 확인하시기 바랍니다. ※ 이 기사에 사용된 텍스트, 사진, 동영상 등의 정보는 한국관광공사가 저작권을 보유하고 있으므로 기사의 무단 사용을 금합니다.'"
      ]
     },
     "execution_count": 53,
     "metadata": {},
     "output_type": "execute_result"
    }
   ],
   "source": [
    "contents_list[9]"
   ]
  },
  {
   "cell_type": "code",
   "execution_count": 41,
   "metadata": {},
   "outputs": [],
   "source": [
    "# 띄어쓰기 지우고 한줄씩 리스트화\n",
    "tmp = ' '.join(contents_list).split()\n",
    "tmp = ' '.join(tmp)\n",
    "contents_spl = []\n",
    "tmp2 = tmp.split('.')\n",
    "contents_spl.extend(tmp2)"
   ]
  },
  {
   "cell_type": "code",
   "execution_count": 42,
   "metadata": {},
   "outputs": [
    {
     "data": {
      "text/plain": [
       "1687"
      ]
     },
     "execution_count": 42,
     "metadata": {},
     "output_type": "execute_result"
    }
   ],
   "source": [
    "len(contents_spl)"
   ]
  },
  {
   "cell_type": "code",
   "execution_count": 43,
   "metadata": {},
   "outputs": [],
   "source": [
    "df = pd.DataFrame({'contents' : contents_list})\n",
    "df.to_csv('data/시/브런치_임재건_시_1000개.csv', index = False)\n",
    "df = pd.DataFrame({'contents' : contents_spl})\n",
    "df.to_csv('data/시/브런치_임재건_시_split_1000개.csv', index = False)"
   ]
  },
  {
   "cell_type": "code",
   "execution_count": 62,
   "metadata": {},
   "outputs": [],
   "source": [
    "driver.close()"
   ]
  }
 ],
 "metadata": {
  "interpreter": {
   "hash": "b3ba2566441a7c06988d0923437866b63cedc61552a5af99d1f4fb67d367b25f"
  },
  "kernelspec": {
   "display_name": "Python 3.8.11 64-bit ('base': conda)",
   "name": "python3"
  },
  "language_info": {
   "codemirror_mode": {
    "name": "ipython",
    "version": 3
   },
   "file_extension": ".py",
   "mimetype": "text/x-python",
   "name": "python",
   "nbconvert_exporter": "python",
   "pygments_lexer": "ipython3",
   "version": "3.8.11"
  },
  "orig_nbformat": 4
 },
 "nbformat": 4,
 "nbformat_minor": 2
}

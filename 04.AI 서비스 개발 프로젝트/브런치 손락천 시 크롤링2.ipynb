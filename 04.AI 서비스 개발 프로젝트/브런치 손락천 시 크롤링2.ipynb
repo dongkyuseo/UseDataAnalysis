{
 "cells": [
  {
   "cell_type": "code",
   "execution_count": 1,
   "metadata": {},
   "outputs": [],
   "source": [
    "# 필요 데이터 크롤링\n",
    "import requests\n",
    "import pandas as pd\n",
    "import time\n",
    "from selenium import webdriver\n",
    "from selenium.webdriver.common.keys import Keys\n",
    "from bs4 import BeautifulSoup\n",
    "from urllib.parse import quote\n",
    "from tqdm import tqdm\n",
    "import re"
   ]
  },
  {
   "cell_type": "code",
   "execution_count": 31,
   "metadata": {},
   "outputs": [],
   "source": [
    "driver = webdriver.Chrome('D:/Workspace/crawling/chromedriver.exe')\n",
    "URL = 'https://brunch.co.kr/@dosa1000#articles'"
   ]
  },
  {
   "cell_type": "code",
   "execution_count": 32,
   "metadata": {},
   "outputs": [],
   "source": [
    "driver.get(URL)\n",
    "time.sleep(2)"
   ]
  },
  {
   "cell_type": "code",
   "execution_count": 33,
   "metadata": {},
   "outputs": [],
   "source": [
    "contents_list = [] # 빈 리스트 생성"
   ]
  },
  {
   "cell_type": "code",
   "execution_count": 39,
   "metadata": {},
   "outputs": [
    {
     "name": "stderr",
     "output_type": "stream",
     "text": [
      "100%|██████████| 1000/1000 [2:04:02<00:00,  7.44s/it]\n"
     ]
    }
   ],
   "source": [
    "\n",
    "for i in tqdm(range(1, 1001)): # 크롤링 할 게시물 갯수 설정\n",
    "    time.sleep(1)\n",
    "    driver.find_element_by_xpath(f'//*[@id=\"wrapArticle\"]/div/ul/li[{i}]').click() #0번창에서 클릭\n",
    "    time.sleep(2)\n",
    "    raw_contents = driver.find_element_by_xpath('/html/body/div[3]/div[1]/div[2]/div[1]').text #내용가져오기\n",
    "    contents = re.sub('[\\n]', ' ', raw_contents)\n",
    "    ci = contents.find('-')\n",
    "    contents = contents[:ci]\n",
    "    contents_list.append(contents)\n",
    "    driver.back()\n",
    "    driver.execute_script(\"window.scrollTo(0, document.body.scrollHeight);\") # 스크롤 1번 내리기"
   ]
  },
  {
   "cell_type": "code",
   "execution_count": 40,
   "metadata": {},
   "outputs": [
    {
     "data": {
      "text/plain": [
       "1000"
      ]
     },
     "execution_count": 40,
     "metadata": {},
     "output_type": "execute_result"
    }
   ],
   "source": [
    "# 100개의 컨텐츠 리스트화\n",
    "len(contents_list)"
   ]
  },
  {
   "cell_type": "code",
   "execution_count": 41,
   "metadata": {},
   "outputs": [],
   "source": [
    "# 띄어쓰기 지우고 한줄씩 리스트화\n",
    "tmp = ' '.join(contents_list).split()\n",
    "tmp = ' '.join(tmp)\n",
    "contents_spl = []\n",
    "tmp2 = tmp.split('.')\n",
    "contents_spl.extend(tmp2)"
   ]
  },
  {
   "cell_type": "code",
   "execution_count": 42,
   "metadata": {},
   "outputs": [
    {
     "data": {
      "text/plain": [
       "1687"
      ]
     },
     "execution_count": 42,
     "metadata": {},
     "output_type": "execute_result"
    }
   ],
   "source": [
    "len(contents_spl)"
   ]
  },
  {
   "cell_type": "code",
   "execution_count": 43,
   "metadata": {},
   "outputs": [],
   "source": [
    "df = pd.DataFrame({'contents' : contents_list})\n",
    "df.to_csv('data/시/브런치_임재건_시_1000개.csv', index = False)\n",
    "df = pd.DataFrame({'contents' : contents_spl})\n",
    "df.to_csv('data/시/브런치_임재건_시_split_1000개.csv', index = False)"
   ]
  },
  {
   "cell_type": "code",
   "execution_count": 44,
   "metadata": {},
   "outputs": [],
   "source": [
    "driver.close()"
   ]
  }
 ],
 "metadata": {
  "interpreter": {
   "hash": "b3ba2566441a7c06988d0923437866b63cedc61552a5af99d1f4fb67d367b25f"
  },
  "kernelspec": {
   "display_name": "Python 3.8.11 64-bit ('base': conda)",
   "name": "python3"
  },
  "language_info": {
   "codemirror_mode": {
    "name": "ipython",
    "version": 3
   },
   "file_extension": ".py",
   "mimetype": "text/x-python",
   "name": "python",
   "nbconvert_exporter": "python",
   "pygments_lexer": "ipython3",
   "version": "3.8.11"
  },
  "orig_nbformat": 4
 },
 "nbformat": 4,
 "nbformat_minor": 2
}

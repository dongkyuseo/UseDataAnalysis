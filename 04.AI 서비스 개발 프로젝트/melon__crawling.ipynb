{
  "cells": [
    {
      "cell_type": "markdown",
      "metadata": {
        "id": "gzqAM30eqA5T"
      },
      "source": [
        "## 필요한 패키지 설치 및 모듈 임포트"
      ]
    },
    {
      "cell_type": "code",
      "execution_count": 4,
      "metadata": {
        "colab": {
          "base_uri": "https://localhost:8080/"
        },
        "id": "aMvL8gsyps0H",
        "outputId": "c22a042c-dde2-4caa-e58e-6690e2a99270"
      },
      "outputs": [],
      "source": [
        "# !pip install selenium==3.141\n",
        "# !apt-get update\n",
        "# !apt install chromium-chromedriver\n",
        "# !cp /usr/lib/chromium-browser/chromedriver /usr/bin"
      ]
    },
    {
      "cell_type": "code",
      "execution_count": 1,
      "metadata": {
        "id": "EUYKKBvXpwzT"
      },
      "outputs": [],
      "source": [
        "# 필요 데이터 크롤링\n",
        "import requests\n",
        "import pandas as pd\n",
        "import time\n",
        "from selenium import webdriver\n",
        "from selenium.webdriver.common.keys import Keys\n",
        "from bs4 import BeautifulSoup\n",
        "from urllib.parse import quote\n",
        "from tqdm import tqdm\n",
        "import re"
      ]
    },
    {
      "cell_type": "markdown",
      "metadata": {
        "id": "W8RIKsEuqHiF"
      },
      "source": [
        "## 크롤링"
      ]
    },
    {
      "cell_type": "code",
      "execution_count": 2,
      "metadata": {},
      "outputs": [],
      "source": [
        "driver = webdriver.Chrome('D:/Workspace/crawling/chromedriver.exe')"
      ]
    },
    {
      "cell_type": "code",
      "execution_count": 3,
      "metadata": {
        "id": "OTnP1umTp1NG"
      },
      "outputs": [],
      "source": [
        "URL = f'https://www.melon.com/genre/song_list.htm?gnrCode=GN0200'\n",
        "driver.get(URL)"
      ]
    },
    {
      "cell_type": "code",
      "execution_count": 4,
      "metadata": {},
      "outputs": [],
      "source": [
        "# 인기순 정렬\n",
        "driver.find_element_by_xpath('//*[@id=\"frm\"]/div/div/div/a[2]').click() #0번창에서 클릭"
      ]
    },
    {
      "cell_type": "code",
      "execution_count": 5,
      "metadata": {},
      "outputs": [],
      "source": [
        "lyrics_list = []\n",
        "error_list = []"
      ]
    },
    {
      "cell_type": "code",
      "execution_count": 6,
      "metadata": {
        "id": "SpOnzT_xqf3N"
      },
      "outputs": [
        {
          "name": "stderr",
          "output_type": "stream",
          "text": [
            "100%|██████████| 20/20 [1:36:51<00:00, 290.58s/it]\n"
          ]
        }
      ],
      "source": [
        "for z in tqdm(range(20)):\n",
        "    k = z * 50 + 1\n",
        "    URL = f'https://www.melon.com/genre/song_list.htm?gnrCode=GN0200#params%5BgnrCode%5D=GN0200&params%5BdtlGnrCode%5D=&params%5BorderBy%5D=NEW&params%5BsteadyYn%5D=N&po=pageObj&startIndex={k}'\n",
        "    driver.get(URL)\n",
        "    time.sleep(2)\n",
        "    for i in range(1,51):\n",
        "        try : \n",
        "            driver.find_element_by_xpath('//*[@id=\"frm\"]/div/div/div/a[2]').click() #0번창에서 클릭\n",
        "            driver.find_element_by_xpath(f'//*[@id=\"frm\"]/div/table/tbody/tr[{i}]/td[4]/div/a').click() #0번창에서 클릭\n",
        "            time.sleep(2)\n",
        "            raw_contents = driver.find_element_by_xpath('//*[@id=\"d_video_summary\"]').text #내용가져오기\n",
        "            contents = re.sub('[\\n]', ' ', raw_contents)\n",
        "            lyrics_list.append(contents)\n",
        "            driver.back()\n",
        "            time.sleep(2)\n",
        "        except:\n",
        "            error_list.append([k, i])\n",
        "            driver.back()\n",
        "            driver.find_element_by_xpath('//*[@id=\"frm\"]/div/div/div/a[2]').click() #0번창에서 클릭\n",
        "            pass\n",
        "\n"
      ]
    },
    {
      "cell_type": "code",
      "execution_count": 7,
      "metadata": {},
      "outputs": [
        {
          "data": {
            "text/plain": [
              "(131,\n",
              " [[1, 12],\n",
              "  [1, 21],\n",
              "  [1, 25],\n",
              "  [1, 31],\n",
              "  [51, 5],\n",
              "  [51, 9],\n",
              "  [51, 10],\n",
              "  [51, 14],\n",
              "  [51, 26],\n",
              "  [51, 41],\n",
              "  [51, 44],\n",
              "  [51, 47],\n",
              "  [101, 4],\n",
              "  [101, 10],\n",
              "  [101, 11],\n",
              "  [101, 12],\n",
              "  [101, 14],\n",
              "  [101, 15],\n",
              "  [101, 16],\n",
              "  [101, 17],\n",
              "  [101, 18],\n",
              "  [101, 19],\n",
              "  [101, 20],\n",
              "  [101, 21],\n",
              "  [101, 22],\n",
              "  [101, 23],\n",
              "  [101, 24],\n",
              "  [101, 25],\n",
              "  [101, 26],\n",
              "  [101, 27],\n",
              "  [101, 28],\n",
              "  [101, 29],\n",
              "  [101, 31],\n",
              "  [101, 32],\n",
              "  [101, 33],\n",
              "  [101, 34],\n",
              "  [101, 35],\n",
              "  [101, 36],\n",
              "  [101, 37],\n",
              "  [101, 38],\n",
              "  [101, 39],\n",
              "  [101, 40],\n",
              "  [101, 41],\n",
              "  [101, 42],\n",
              "  [101, 43],\n",
              "  [101, 44],\n",
              "  [101, 45],\n",
              "  [101, 46],\n",
              "  [101, 47],\n",
              "  [101, 48],\n",
              "  [101, 49],\n",
              "  [101, 50],\n",
              "  [151, 1],\n",
              "  [151, 2],\n",
              "  [151, 3],\n",
              "  [151, 4],\n",
              "  [151, 5],\n",
              "  [151, 13],\n",
              "  [151, 14],\n",
              "  [151, 16],\n",
              "  [151, 18],\n",
              "  [151, 19],\n",
              "  [151, 20],\n",
              "  [151, 21],\n",
              "  [151, 22],\n",
              "  [151, 43],\n",
              "  [201, 38],\n",
              "  [201, 39],\n",
              "  [201, 47],\n",
              "  [251, 11],\n",
              "  [251, 31],\n",
              "  [251, 37],\n",
              "  [251, 47],\n",
              "  [301, 9],\n",
              "  [301, 32],\n",
              "  [301, 38],\n",
              "  [301, 39],\n",
              "  [351, 11],\n",
              "  [351, 13],\n",
              "  [351, 15],\n",
              "  [351, 17],\n",
              "  [401, 15],\n",
              "  [401, 16],\n",
              "  [401, 18],\n",
              "  [401, 47],\n",
              "  [451, 2],\n",
              "  [451, 9],\n",
              "  [451, 23],\n",
              "  [451, 46],\n",
              "  [501, 5],\n",
              "  [501, 9],\n",
              "  [501, 23],\n",
              "  [501, 35],\n",
              "  [551, 10],\n",
              "  [551, 15],\n",
              "  [551, 16],\n",
              "  [551, 28],\n",
              "  [551, 36],\n",
              "  [551, 41],\n",
              "  [551, 43],\n",
              "  [551, 44],\n",
              "  [601, 2],\n",
              "  [601, 3],\n",
              "  [601, 12],\n",
              "  [601, 14],\n",
              "  [601, 27],\n",
              "  [651, 21],\n",
              "  [651, 24],\n",
              "  [651, 34],\n",
              "  [651, 47],\n",
              "  [701, 15],\n",
              "  [701, 42],\n",
              "  [751, 26],\n",
              "  [801, 6],\n",
              "  [801, 34],\n",
              "  [801, 35],\n",
              "  [801, 50],\n",
              "  [851, 14],\n",
              "  [851, 15],\n",
              "  [851, 16],\n",
              "  [851, 18],\n",
              "  [851, 19],\n",
              "  [851, 25],\n",
              "  [901, 5],\n",
              "  [951, 7],\n",
              "  [951, 8],\n",
              "  [951, 11],\n",
              "  [951, 33],\n",
              "  [951, 34],\n",
              "  [951, 36],\n",
              "  [951, 49]])"
            ]
          },
          "execution_count": 7,
          "metadata": {},
          "output_type": "execute_result"
        }
      ],
      "source": [
        "len(error_list), error_list"
      ]
    },
    {
      "cell_type": "code",
      "execution_count": 8,
      "metadata": {},
      "outputs": [
        {
          "data": {
            "text/plain": [
              "869"
            ]
          },
          "execution_count": 8,
          "metadata": {},
          "output_type": "execute_result"
        }
      ],
      "source": [
        "len(lyrics_list)"
      ]
    },
    {
      "cell_type": "code",
      "execution_count": 9,
      "metadata": {},
      "outputs": [],
      "source": [
        "df = pd.DataFrame({'contents' : lyrics_list})\n",
        "df.to_csv('data/시/melon_dance.csv', index = False)"
      ]
    },
    {
      "cell_type": "code",
      "execution_count": 10,
      "metadata": {},
      "outputs": [],
      "source": [
        "driver.close()"
      ]
    },
    {
      "cell_type": "code",
      "execution_count": 13,
      "metadata": {},
      "outputs": [],
      "source": [
        "df = pd.read_csv('data/시/melon_dance.csv')"
      ]
    },
    {
      "cell_type": "code",
      "execution_count": 14,
      "metadata": {},
      "outputs": [
        {
          "data": {
            "text/html": [
              "<div>\n",
              "<style scoped>\n",
              "    .dataframe tbody tr th:only-of-type {\n",
              "        vertical-align: middle;\n",
              "    }\n",
              "\n",
              "    .dataframe tbody tr th {\n",
              "        vertical-align: top;\n",
              "    }\n",
              "\n",
              "    .dataframe thead th {\n",
              "        text-align: right;\n",
              "    }\n",
              "</style>\n",
              "<table border=\"1\" class=\"dataframe\">\n",
              "  <thead>\n",
              "    <tr style=\"text-align: right;\">\n",
              "      <th></th>\n",
              "      <th>contents</th>\n",
              "    </tr>\n",
              "  </thead>\n",
              "  <tbody>\n",
              "    <tr>\n",
              "      <th>0</th>\n",
              "      <td>Can you see me me me 이제 너무 잘 보여 I wish I wish ...</td>\n",
              "    </tr>\n",
              "    <tr>\n",
              "      <th>1</th>\n",
              "      <td>Yeah Look away 주변에 Porsche No make up 내 손목에 Ro...</td>\n",
              "    </tr>\n",
              "    <tr>\n",
              "      <th>2</th>\n",
              "      <td>ok no 굼벵 wake up bang asap hunnit bands My dum...</td>\n",
              "    </tr>\n",
              "    <tr>\n",
              "      <th>3</th>\n",
              "      <td>난 밀어내길 못 해 너의 전 남자들관 달리 난 거짓말을 못 해 너의 전 남자들관 달...</td>\n",
              "    </tr>\n",
              "    <tr>\n",
              "      <th>4</th>\n",
              "      <td>I make it new I don't wanna u I don't wanna ha...</td>\n",
              "    </tr>\n",
              "    <tr>\n",
              "      <th>...</th>\n",
              "      <td>...</td>\n",
              "    </tr>\n",
              "    <tr>\n",
              "      <th>864</th>\n",
              "      <td>오늘 처음 만난 널 보고 첫눈에 반했다 다 원하는 드라마 속 명장면처럼 우연이라기엔...</td>\n",
              "    </tr>\n",
              "    <tr>\n",
              "      <th>865</th>\n",
              "      <td>뜨겁게 뜨겁게 타오르는 날씨에 날씨에 데임 등어깨 등어깨 타고 흐른 땀이 내 몸을 ...</td>\n",
              "    </tr>\n",
              "    <tr>\n",
              "      <th>866</th>\n",
              "      <td>일루미나티 그들의 칼날이 인류 생존을 위협하는 마지막 날이 바로 이순간에 벌어지고 ...</td>\n",
              "    </tr>\n",
              "    <tr>\n",
              "      <th>867</th>\n",
              "      <td>Way too good for you Way too good for you I'm ...</td>\n",
              "    </tr>\n",
              "    <tr>\n",
              "      <th>868</th>\n",
              "      <td>I said a hip-hop the hippie hippie hippie hip ...</td>\n",
              "    </tr>\n",
              "  </tbody>\n",
              "</table>\n",
              "<p>869 rows × 1 columns</p>\n",
              "</div>"
            ],
            "text/plain": [
              "                                              contents\n",
              "0    Can you see me me me 이제 너무 잘 보여 I wish I wish ...\n",
              "1    Yeah Look away 주변에 Porsche No make up 내 손목에 Ro...\n",
              "2    ok no 굼벵 wake up bang asap hunnit bands My dum...\n",
              "3    난 밀어내길 못 해 너의 전 남자들관 달리 난 거짓말을 못 해 너의 전 남자들관 달...\n",
              "4    I make it new I don't wanna u I don't wanna ha...\n",
              "..                                                 ...\n",
              "864  오늘 처음 만난 널 보고 첫눈에 반했다 다 원하는 드라마 속 명장면처럼 우연이라기엔...\n",
              "865  뜨겁게 뜨겁게 타오르는 날씨에 날씨에 데임 등어깨 등어깨 타고 흐른 땀이 내 몸을 ...\n",
              "866  일루미나티 그들의 칼날이 인류 생존을 위협하는 마지막 날이 바로 이순간에 벌어지고 ...\n",
              "867  Way too good for you Way too good for you I'm ...\n",
              "868  I said a hip-hop the hippie hippie hippie hip ...\n",
              "\n",
              "[869 rows x 1 columns]"
            ]
          },
          "execution_count": 14,
          "metadata": {},
          "output_type": "execute_result"
        }
      ],
      "source": [
        "df"
      ]
    },
    {
      "cell_type": "code",
      "execution_count": null,
      "metadata": {},
      "outputs": [],
      "source": []
    }
  ],
  "metadata": {
    "colab": {
      "name": "melon_crawling.ipynb",
      "provenance": []
    },
    "kernelspec": {
      "display_name": "Python 3",
      "name": "python3"
    },
    "language_info": {
      "codemirror_mode": {
        "name": "ipython",
        "version": 3
      },
      "file_extension": ".py",
      "mimetype": "text/x-python",
      "name": "python",
      "nbconvert_exporter": "python",
      "pygments_lexer": "ipython3",
      "version": "3.8.11"
    }
  },
  "nbformat": 4,
  "nbformat_minor": 0
}

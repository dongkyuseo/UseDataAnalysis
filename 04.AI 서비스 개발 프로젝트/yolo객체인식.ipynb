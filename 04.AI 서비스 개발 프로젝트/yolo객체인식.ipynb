{
 "cells": [
  {
   "cell_type": "code",
   "execution_count": null,
   "metadata": {},
   "outputs": [],
   "source": [
    "pip install opencv-python"
   ]
  },
  {
   "cell_type": "code",
   "execution_count": null,
   "metadata": {},
   "outputs": [],
   "source": [
    "import cv2\n",
    "import numpy as np"
   ]
  },
  {
   "cell_type": "code",
   "execution_count": null,
   "metadata": {},
   "outputs": [],
   "source": [
    "net = cv2.dnn.readNet(\"yolov3.weights\", \"yolov3.cfg\") \n",
    "classes = [] \n",
    "with open(\"coco.names\", \"r\") as f: \n",
    "    classes = [line.strip() for line in f.readlines()] \n",
    "    layer_names = net.getLayerNames() \n",
    "    output_layers = [layer_names[i[0] - 1] for i in net.getUnconnectedOutLayers()] \n",
    "    colors = np.random.uniform(0, 255, size=(len(classes), 3))\n"
   ]
  }
 ],
 "metadata": {
  "language_info": {
   "name": "python"
  },
  "orig_nbformat": 4
 },
 "nbformat": 4,
 "nbformat_minor": 2
}

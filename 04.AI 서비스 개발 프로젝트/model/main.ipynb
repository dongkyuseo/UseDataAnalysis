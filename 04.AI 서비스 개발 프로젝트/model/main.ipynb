{
 "cells": [
  {
   "cell_type": "markdown",
   "metadata": {},
   "source": [
    "# 사진 파일 업로드"
   ]
  },
  {
   "cell_type": "code",
   "execution_count": null,
   "metadata": {},
   "outputs": [],
   "source": [
    "# 필요시 설치\n",
    "!pip install image"
   ]
  },
  {
   "cell_type": "code",
   "execution_count": null,
   "metadata": {},
   "outputs": [],
   "source": [
    "# yolo5\n",
    "\n",
    "# 코랩이 아닌 로컬에서는 yolo 실행을 위해 torch 설치 해야함\n",
    "# 아나콘다 관리자 prompt에서 아래 2가지 설치 필요\n",
    "# pip3 install torchvision\n",
    "# conda install pytorch -c pytorch\n",
    "# pip install -qr https://raw.githubusercontent.com/ultralytics/yolov5/master/requirements.txt"
   ]
  },
  {
   "cell_type": "code",
   "execution_count": 1,
   "metadata": {},
   "outputs": [],
   "source": [
    "# 테스트이미지 업로드\n",
    "from PIL import Image\n",
    "\n",
    "image = Image.open(\"test/sea.jpg\")\n",
    "info = image._getexif();\n",
    "image2 = Image.open(\"test/test2.jpg\")\n",
    "\n",
    "image.close()\n",
    "image2.close()"
   ]
  },
  {
   "cell_type": "code",
   "execution_count": 3,
   "metadata": {},
   "outputs": [
    {
     "name": "stdout",
     "output_type": "stream",
     "text": [
      "37.62888888888889 126.37472222222222 인천 인천광역시 강화군 화도면 20200901 18:51:12\n"
     ]
    }
   ],
   "source": [
    "# x좌표, y좌표 지역 날짜 시간값 반환\n",
    "from imageinfo import imageinfo\n",
    "x, y, area1, area2, area3, area4, day, time = imageinfo(info)\n",
    "print(x, y, area1, area2, area3, area4, day, time)"
   ]
  },
  {
   "cell_type": "code",
   "execution_count": 4,
   "metadata": {},
   "outputs": [
    {
     "data": {
      "text/html": [
       "<div>\n",
       "<style scoped>\n",
       "    .dataframe tbody tr th:only-of-type {\n",
       "        vertical-align: middle;\n",
       "    }\n",
       "\n",
       "    .dataframe tbody tr th {\n",
       "        vertical-align: top;\n",
       "    }\n",
       "\n",
       "    .dataframe thead th {\n",
       "        text-align: right;\n",
       "    }\n",
       "</style>\n",
       "<table border=\"1\" class=\"dataframe\">\n",
       "  <thead>\n",
       "    <tr style=\"text-align: right;\">\n",
       "      <th></th>\n",
       "      <th>avgRhm</th>\n",
       "      <th>avgTs</th>\n",
       "      <th>sumRn</th>\n",
       "      <th>ddMes</th>\n",
       "    </tr>\n",
       "  </thead>\n",
       "  <tbody>\n",
       "    <tr>\n",
       "      <th>0</th>\n",
       "      <td>72.8</td>\n",
       "      <td>28.1</td>\n",
       "      <td>0.0</td>\n",
       "      <td></td>\n",
       "    </tr>\n",
       "  </tbody>\n",
       "</table>\n",
       "</div>"
      ],
      "text/plain": [
       "  avgRhm avgTs sumRn ddMes\n",
       "0   72.8  28.1   0.0      "
      ]
     },
     "execution_count": 4,
     "metadata": {},
     "output_type": "execute_result"
    }
   ],
   "source": [
    "from weather import weather\n",
    "df = weather(day, area1)\n",
    "df\n",
    " # 평균상대습도, 평균지면온도, 일 강수량, 일 최심적설"
   ]
  },
  {
   "cell_type": "code",
   "execution_count": null,
   "metadata": {},
   "outputs": [],
   "source": [
    "# from yolo import yolo5\n",
    "# yolo = yolo5(image2)\n",
    "# yolo"
   ]
  },
  {
   "cell_type": "code",
   "execution_count": null,
   "metadata": {},
   "outputs": [],
   "source": []
  }
 ],
 "metadata": {
  "interpreter": {
   "hash": "b3ba2566441a7c06988d0923437866b63cedc61552a5af99d1f4fb67d367b25f"
  },
  "kernelspec": {
   "display_name": "Python 3.8.11 64-bit ('base': conda)",
   "name": "python3"
  },
  "language_info": {
   "codemirror_mode": {
    "name": "ipython",
    "version": 3
   },
   "file_extension": ".py",
   "mimetype": "text/x-python",
   "name": "python",
   "nbconvert_exporter": "python",
   "pygments_lexer": "ipython3",
   "version": "3.8.11"
  },
  "orig_nbformat": 4
 },
 "nbformat": 4,
 "nbformat_minor": 2
}

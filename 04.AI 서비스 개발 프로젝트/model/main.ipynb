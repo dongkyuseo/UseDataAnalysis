{
 "cells": [
  {
   "cell_type": "markdown",
   "metadata": {},
   "source": [
    "# 사진 파일 업로드"
   ]
  },
  {
   "cell_type": "code",
   "execution_count": 1,
   "metadata": {},
   "outputs": [],
   "source": [
    "# # 필요시 설치\n",
    "# !pip install image\n",
    "# # YOLOv5 종속 항목 설치\n",
    "# !pip install -qr https://raw.githubusercontent.com/ultralytics/yolov5/master/requirements.txt"
   ]
  },
  {
   "cell_type": "code",
   "execution_count": 2,
   "metadata": {},
   "outputs": [],
   "source": [
    "# yolo5\n",
    "\n",
    "# 코랩이 아닌 로컬에서는 yolo 실행을 위해 torch 설치 해야함\n",
    "# 아나콘다 관리자 prompt에서 아래 2가지 설치 필요\n",
    "# pip3 install torchvision\n",
    "# conda install pytorch -c pytorch\n",
    "# pip install -qr https://raw.githubusercontent.com/ultralytics/yolov5/master/requirements.txt"
   ]
  },
  {
   "cell_type": "code",
   "execution_count": null,
   "metadata": {},
   "outputs": [],
   "source": [
    "# 사진 heic 확장자 정보 확인용 모듈설치\n",
    "# !pip install exifread"
   ]
  },
  {
   "cell_type": "code",
   "execution_count": null,
   "metadata": {},
   "outputs": [],
   "source": [
    "# heic to jpg\n",
    "# !pip install pyheif"
   ]
  },
  {
   "cell_type": "code",
   "execution_count": 11,
   "metadata": {},
   "outputs": [
    {
     "name": "stdout",
     "output_type": "stream",
     "text": [
      "35.115 129.04833333333332 부산 부산광역시 동구 초량동  20190812 12:12:45\n"
     ]
    }
   ],
   "source": [
    "# 테스트이미지 업로드\n",
    "from PIL import Image\n",
    "path = \"test/test.HEIC\"\n",
    "if 'HEIC' in path:\n",
    "    from imageinfo_heic import imageinfo\n",
    "    x, y, area1, area2, area3, area4, area5, day, time = imageinfo(path)\n",
    "    print(x, y, area1, area2, area3, area4, area5, day, time)\n",
    "elif 'jpg' or 'jpge' in path:\n",
    "    image = Image.open(path)\n",
    "    info = image._getexif();\n",
    "    from imageinfo_jpg import imageinfo\n",
    "    x, y, area1, area2, area3, area4, area5, day, time = imageinfo(info)\n",
    "    print(x, y, area1, area2, area3, area4, area5, day, time)\n",
    "else:\n",
    "    print('사진파일 이 아니거나, 확장자가 jpg 혹은 HEIC가 아닙니다.')\n"
   ]
  },
  {
   "cell_type": "code",
   "execution_count": 2,
   "metadata": {},
   "outputs": [],
   "source": [
    "from weather import weather\n",
    "df = weather(day, area1)\n",
    "df\n",
    "w1 = str(df['avgRhm'][0])\n",
    "w2 = str(df['avgTs'][0])\n",
    "w3 = str(df['sumRn'][0])\n",
    "w4 = str(df['ddMes'][0])\n",
    " # 평균상대습도, 평균지면온도, 일 강수량, 일 최심적설\n",
    "w1, w2, w3, w4"
   ]
  },
  {
   "cell_type": "code",
   "execution_count": 12,
   "metadata": {},
   "outputs": [
    {
     "ename": "NameError",
     "evalue": "name '경로' is not defined",
     "output_type": "error",
     "traceback": [
      "\u001b[1;31m---------------------------------------------------------------------------\u001b[0m",
      "\u001b[1;31mNameError\u001b[0m                                 Traceback (most recent call last)",
      "\u001b[1;32m<ipython-input-12-aa3f8aed9583>\u001b[0m in \u001b[0;36m<module>\u001b[1;34m\u001b[0m\n\u001b[0;32m      5\u001b[0m \u001b[1;32melif\u001b[0m \u001b[1;34m'HEIC'\u001b[0m \u001b[1;32min\u001b[0m \u001b[0mpath\u001b[0m\u001b[1;33m:\u001b[0m\u001b[1;33m\u001b[0m\u001b[1;33m\u001b[0m\u001b[0m\n\u001b[0;32m      6\u001b[0m \u001b[1;33m\u001b[0m\u001b[0m\n\u001b[1;32m----> 7\u001b[1;33m     \u001b[0mimg_gender\u001b[0m\u001b[1;33m,\u001b[0m \u001b[0mimg_age\u001b[0m\u001b[1;33m,\u001b[0m \u001b[0mimg_emo\u001b[0m\u001b[1;33m,\u001b[0m \u001b[0mimg_pose\u001b[0m \u001b[1;33m=\u001b[0m \u001b[0mface\u001b[0m\u001b[1;33m(\u001b[0m\u001b[0m경로\u001b[0m\u001b[1;33m)\u001b[0m\u001b[1;33m\u001b[0m\u001b[1;33m\u001b[0m\u001b[0m\n\u001b[0m\u001b[0;32m      8\u001b[0m     \u001b[0mimg_gender\u001b[0m\u001b[1;33m,\u001b[0m \u001b[0mimg_age\u001b[0m\u001b[1;33m,\u001b[0m \u001b[0mimg_emo\u001b[0m\u001b[1;33m,\u001b[0m \u001b[0mimg_pose\u001b[0m\u001b[1;33m\u001b[0m\u001b[1;33m\u001b[0m\u001b[0m\n",
      "\u001b[1;31mNameError\u001b[0m: name '경로' is not defined"
     ]
    }
   ],
   "source": [
    "from faceinfo import face\n",
    "if 'jpg' in path:\n",
    "    img_gender, img_age, img_emo, img_pose = face(path)\n",
    "    img_gender, img_age, img_emo, img_pose\n",
    "elif 'HEIC' in path:\n",
    "    \n",
    "    img_gender, img_age, img_emo, img_pose = face(경로)\n",
    "    img_gender, img_age, img_emo, img_pose"
   ]
  },
  {
   "cell_type": "code",
   "execution_count": 7,
   "metadata": {},
   "outputs": [
    {
     "name": "stderr",
     "output_type": "stream",
     "text": [
      "Using cache found in C:\\Users\\DQ/.cache\\torch\\hub\\ultralytics_yolov5_master\n",
      "YOLOv5  2021-11-4 torch 1.9.1 CPU\n",
      "\n",
      "Fusing layers... \n",
      "Model Summary: 213 layers, 7225885 parameters, 0 gradients\n",
      "Adding AutoShape... \n",
      "Saved 1 image to \u001b[1mexp\u001b[0m\n"
     ]
    },
    {
     "data": {
      "text/plain": [
       "['elephant', 'elephant', 'person']"
      ]
     },
     "execution_count": 7,
     "metadata": {},
     "output_type": "execute_result"
    }
   ],
   "source": [
    "from yolo import yolo\n",
    "yolo_result = yolo(image2)\n",
    "yolo_result"
   ]
  },
  {
   "cell_type": "code",
   "execution_count": 8,
   "metadata": {},
   "outputs": [
    {
     "name": "stdout",
     "output_type": "stream",
     "text": [
      "['인천', '인천광역시', '강화군', '화도면', '20200901', '18:51:12', '72.8', '28.1', '0.0', '', 'male', '25~29', 'laugh', 'sunglasses', 'elephant', 'elephant', 'person']\n"
     ]
    }
   ],
   "source": [
    "all_item= []\n",
    "for i in (area1, area2, area3, area4, area5, day, time, w1 , w2, w3 , w4, img_gender, img_age, img_emo, img_pose, yolo_result):\n",
    "    if type(i) is str:\n",
    "        all_item.append(i)\n",
    "    elif type(i) is list:\n",
    "        all_item.extend(i)\n",
    "print(all_item)"
   ]
  },
  {
   "cell_type": "code",
   "execution_count": null,
   "metadata": {},
   "outputs": [],
   "source": []
  }
 ],
 "metadata": {
  "interpreter": {
   "hash": "b3ba2566441a7c06988d0923437866b63cedc61552a5af99d1f4fb67d367b25f"
  },
  "kernelspec": {
   "display_name": "Python 3.8.11 64-bit ('base': conda)",
   "name": "python3"
  },
  "language_info": {
   "codemirror_mode": {
    "name": "ipython",
    "version": 3
   },
   "file_extension": ".py",
   "mimetype": "text/x-python",
   "name": "python",
   "nbconvert_exporter": "python",
   "pygments_lexer": "ipython3",
   "version": "3.8.11"
  },
  "orig_nbformat": 4
 },
 "nbformat": 4,
 "nbformat_minor": 2
}

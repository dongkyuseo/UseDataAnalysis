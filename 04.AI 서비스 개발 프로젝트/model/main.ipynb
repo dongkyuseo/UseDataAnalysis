{
 "cells": [
  {
   "cell_type": "markdown",
   "metadata": {},
   "source": [
    "# 사진 파일 업로드"
   ]
  },
  {
   "cell_type": "code",
   "execution_count": 1,
   "metadata": {},
   "outputs": [],
   "source": [
    "# # 필요시 설치\n",
    "# !pip install image\n",
    "# # YOLOv5 종속 항목 설치\n",
    "# !pip install -qr https://raw.githubusercontent.com/ultralytics/yolov5/master/requirements.txt"
   ]
  },
  {
   "cell_type": "code",
   "execution_count": 2,
   "metadata": {},
   "outputs": [],
   "source": [
    "# yolo5\n",
    "\n",
    "# 코랩이 아닌 로컬에서는 yolo 실행을 위해 torch 설치 해야함\n",
    "# 아나콘다 관리자 prompt에서 아래 2가지 설치 필요\n",
    "# pip3 install torchvision\n",
    "# conda install pytorch -c pytorch\n",
    "# pip install -qr https://raw.githubusercontent.com/ultralytics/yolov5/master/requirements.txt"
   ]
  },
  {
   "cell_type": "code",
   "execution_count": 1,
   "metadata": {},
   "outputs": [],
   "source": [
    "# 테스트이미지 업로드\n",
    "from PIL import Image\n",
    "img_path1 = \"test/sea.jpg\"\n",
    "img_path2 = 'test/ele.jpg'\n",
    "image = Image.open(img_path1)\n",
    "info = image._getexif();\n",
    "image2 = Image.open(img_path2)"
   ]
  },
  {
   "cell_type": "code",
   "execution_count": 2,
   "metadata": {},
   "outputs": [
    {
     "name": "stdout",
     "output_type": "stream",
     "text": [
      "37.62888888888889 126.37472222222222 인천 인천광역시 강화군 화도면 20200901 18:51:12\n"
     ]
    }
   ],
   "source": [
    "# x좌표, y좌표 지역 날짜 시간값 반환\n",
    "from imageinfo import imageinfo\n",
    "x, y, area1, area2, area3, area4, day, time = imageinfo(info)\n",
    "print(x, y, area1, area2, area3, area4, day, time)"
   ]
  },
  {
   "cell_type": "code",
   "execution_count": 3,
   "metadata": {},
   "outputs": [],
   "source": [
    "from weather import weather\n",
    "df = weather(day, area1)\n",
    "df\n",
    "w1 = str(df['avgRhm'][0])\n",
    "w2 = str(df['avgTs'][0])\n",
    "w3 = str(df['sumRn'][0])\n",
    "w4 = str(df['ddMes'][0])\n",
    " # 평균상대습도, 평균지면온도, 일 강수량, 일 최심적설"
   ]
  },
  {
   "cell_type": "code",
   "execution_count": 4,
   "metadata": {},
   "outputs": [
    {
     "name": "stdout",
     "output_type": "stream",
     "text": [
      "{\"info\":{\"size\":{\"width\":520,\"height\":387},\"faceCount\":1},\"faces\":[{\"roi\":{\"x\":286,\"y\":142,\"width\":150,\"height\":150},\"landmark\":null,\"gender\":{\"value\":\"male\",\"confidence\":0.997667},\"age\":{\"value\":\"25~29\",\"confidence\":0.195809},\"emotion\":{\"value\":\"laugh\",\"confidence\":0.999504},\"pose\":{\"value\":\"sunglasses\",\"confidence\":0.997767}}]}\n"
     ]
    },
    {
     "data": {
      "text/plain": [
       "('male', '25~29', 'laugh', 'sunglasses')"
      ]
     },
     "execution_count": 4,
     "metadata": {},
     "output_type": "execute_result"
    }
   ],
   "source": [
    "from faceinfo import face\n",
    "img_gender, img_age, img_emo, img_pose = face(img_path2)\n",
    "img_gender, img_age, img_emo, img_pose"
   ]
  },
  {
   "cell_type": "code",
   "execution_count": 7,
   "metadata": {},
   "outputs": [
    {
     "name": "stderr",
     "output_type": "stream",
     "text": [
      "Using cache found in C:\\Users\\DQ/.cache\\torch\\hub\\ultralytics_yolov5_master\n",
      "YOLOv5  2021-11-4 torch 1.9.1 CPU\n",
      "\n",
      "Fusing layers... \n",
      "Model Summary: 213 layers, 7225885 parameters, 0 gradients\n",
      "Adding AutoShape... \n",
      "Saved 1 image to \u001b[1mexp\u001b[0m\n"
     ]
    },
    {
     "data": {
      "text/plain": [
       "['elephant', 'elephant', 'person']"
      ]
     },
     "execution_count": 7,
     "metadata": {},
     "output_type": "execute_result"
    }
   ],
   "source": [
    "from yolo import yolo\n",
    "yolo_result = yolo(image2)\n",
    "yolo_result"
   ]
  },
  {
   "cell_type": "code",
   "execution_count": 8,
   "metadata": {},
   "outputs": [
    {
     "name": "stdout",
     "output_type": "stream",
     "text": [
      "['인천', '인천광역시', '강화군', '화도면', '20200901', '18:51:12', '72.8', '28.1', '0.0', '', 'male', '25~29', 'laugh', 'sunglasses', 'elephant', 'elephant', 'person']\n"
     ]
    }
   ],
   "source": [
    "all_item= []\n",
    "for i in (area1, area2, area3, area4, day, time, w1 , w2, w3 , w4, img_gender, img_age, img_emo, img_pose, yolo_result):\n",
    "    if type(i) is str:\n",
    "        all_item.append(i)\n",
    "    elif type(i) is list:\n",
    "        all_item.extend(i)\n",
    "print(all_item)"
   ]
  },
  {
   "cell_type": "code",
   "execution_count": null,
   "metadata": {},
   "outputs": [],
   "source": []
  }
 ],
 "metadata": {
  "interpreter": {
   "hash": "b3ba2566441a7c06988d0923437866b63cedc61552a5af99d1f4fb67d367b25f"
  },
  "kernelspec": {
   "display_name": "Python 3.8.11 64-bit ('base': conda)",
   "name": "python3"
  },
  "language_info": {
   "codemirror_mode": {
    "name": "ipython",
    "version": 3
   },
   "file_extension": ".py",
   "mimetype": "text/x-python",
   "name": "python",
   "nbconvert_exporter": "python",
   "pygments_lexer": "ipython3",
   "version": "3.8.11"
  },
  "orig_nbformat": 4
 },
 "nbformat": 4,
 "nbformat_minor": 2
}

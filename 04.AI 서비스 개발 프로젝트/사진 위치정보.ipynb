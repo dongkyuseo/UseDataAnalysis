{
 "cells": [
  {
   "cell_type": "code",
   "execution_count": 1,
   "metadata": {},
   "outputs": [
    {
     "name": "stdout",
     "output_type": "stream",
     "text": [
      "Collecting image\n",
      "  Downloading image-1.5.33.tar.gz (15 kB)\n",
      "Requirement already satisfied: pillow in c:\\programdata\\anaconda3\\lib\\site-packages (from image) (8.3.1)\n",
      "Collecting django\n",
      "  Downloading Django-3.2.8-py3-none-any.whl (7.9 MB)\n",
      "Requirement already satisfied: six in c:\\programdata\\anaconda3\\lib\\site-packages (from image) (1.15.0)\n",
      "Collecting asgiref<4,>=3.3.2\n",
      "  Downloading asgiref-3.4.1-py3-none-any.whl (25 kB)\n",
      "Requirement already satisfied: pytz in c:\\programdata\\anaconda3\\lib\\site-packages (from django->image) (2021.1)\n",
      "Collecting sqlparse>=0.2.2\n",
      "  Downloading sqlparse-0.4.2-py3-none-any.whl (42 kB)\n",
      "Building wheels for collected packages: image\n",
      "  Building wheel for image (setup.py): started\n",
      "  Building wheel for image (setup.py): finished with status 'done'\n",
      "  Created wheel for image: filename=image-1.5.33-py2.py3-none-any.whl size=19482 sha256=169cbf3c3671db026b93ccf4cf017976c18be674f802ed78a8714a3fd0c68ee1\n",
      "  Stored in directory: c:\\users\\dq\\appdata\\local\\pip\\cache\\wheels\\ac\\30\\5c\\a8b33888bea3507eda7c924a143d34b2390d2ca5b145b327b5\n",
      "Successfully built image\n",
      "Installing collected packages: sqlparse, asgiref, django, image\n",
      "Successfully installed asgiref-3.4.1 django-3.2.8 image-1.5.33 sqlparse-0.4.2\n",
      "Note: you may need to restart the kernel to use updated packages.\n"
     ]
    },
    {
     "name": "stderr",
     "output_type": "stream",
     "text": [
      "WARNING: Ignoring invalid distribution -umpy (c:\\programdata\\anaconda3\\lib\\site-packages)\n",
      "WARNING: Ignoring invalid distribution -eautifulsoup4 (c:\\programdata\\anaconda3\\lib\\site-packages)\n",
      "WARNING: Ignoring invalid distribution -umpy (c:\\programdata\\anaconda3\\lib\\site-packages)\n",
      "WARNING: Ignoring invalid distribution -eautifulsoup4 (c:\\programdata\\anaconda3\\lib\\site-packages)\n",
      "WARNING: Ignoring invalid distribution -umpy (c:\\programdata\\anaconda3\\lib\\site-packages)\n",
      "WARNING: Ignoring invalid distribution -eautifulsoup4 (c:\\programdata\\anaconda3\\lib\\site-packages)\n",
      "WARNING: Ignoring invalid distribution -umpy (c:\\programdata\\anaconda3\\lib\\site-packages)\n",
      "WARNING: Ignoring invalid distribution -eautifulsoup4 (c:\\programdata\\anaconda3\\lib\\site-packages)\n",
      "WARNING: Ignoring invalid distribution -umpy (c:\\programdata\\anaconda3\\lib\\site-packages)\n",
      "WARNING: Ignoring invalid distribution -eautifulsoup4 (c:\\programdata\\anaconda3\\lib\\site-packages)\n",
      "WARNING: Ignoring invalid distribution -umpy (c:\\programdata\\anaconda3\\lib\\site-packages)\n",
      "WARNING: Ignoring invalid distribution -eautifulsoup4 (c:\\programdata\\anaconda3\\lib\\site-packages)\n",
      "WARNING: Ignoring invalid distribution -umpy (c:\\programdata\\anaconda3\\lib\\site-packages)\n",
      "WARNING: Ignoring invalid distribution -eautifulsoup4 (c:\\programdata\\anaconda3\\lib\\site-packages)\n",
      "WARNING: Ignoring invalid distribution -umpy (c:\\programdata\\anaconda3\\lib\\site-packages)\n",
      "WARNING: Ignoring invalid distribution -eautifulsoup4 (c:\\programdata\\anaconda3\\lib\\site-packages)\n",
      "WARNING: Ignoring invalid distribution -umpy (c:\\programdata\\anaconda3\\lib\\site-packages)\n",
      "WARNING: Ignoring invalid distribution -eautifulsoup4 (c:\\programdata\\anaconda3\\lib\\site-packages)\n",
      "WARNING: Ignoring invalid distribution -umpy (c:\\programdata\\anaconda3\\lib\\site-packages)\n",
      "WARNING: Ignoring invalid distribution -eautifulsoup4 (c:\\programdata\\anaconda3\\lib\\site-packages)\n",
      "WARNING: You are using pip version 21.2.4; however, version 21.3.1 is available.\n",
      "You should consider upgrading via the 'C:\\ProgramData\\Anaconda3\\python.exe -m pip install --upgrade pip' command.\n"
     ]
    }
   ],
   "source": [
    "!pip install image"
   ]
  },
  {
   "cell_type": "code",
   "execution_count": 2,
   "metadata": {},
   "outputs": [
    {
     "name": "stdout",
     "output_type": "stream",
     "text": [
      "{322: 512, 323: 512, 34853: {1: 'N', 2: (37.0, 37.0, 44.49), 3: 'E', 4: (126.0, 22.0, 29.01), 5: b'\\x00', 6: 7.891319606925596, 12: 'K', 13: 0.024726361043571902, 16: 'T', 17: 259.2495424039048, 23: 'T', 24: 259.2495424039048, 31: 11.00692218946289}, 296: 2, 34665: 222, 271: 'Apple', 272: 'iPhone 11 Pro', 305: '13.6.1', 306: '2020:09:01 18:51:12', 531: 1, 282: 72.0, 283: 72.0, 36864: b'0231', 37121: b'\\x01\\x02\\x03\\x00', 37377: 9.305859721811187, 36867: '2020:09:01 18:51:12', 36868: '2020:09:01 18:51:12', 37378: 1.6959938128383605, 37379: 8.263760827046662, 37380: 0.0, 37383: 5, 37385: 16, 37386: 4.25, 40961: 1, 40962: 2268, 41989: 26, 41990: 0, 36880: '+09:00', 36881: '+09:00', 36882: '+09:00', 37521: '444', 37396: (2009, 1509, 2318, 1390), 37522: '444', 40963: 4032, 41495: 2, 33434: 0.001579778830963665, 33437: 1.8, 41729: b'\\x01', 34850: 2, 34855: 32, 41986: 0, 40960: b'0100', 41987: 0, 42034: (1.5399999618512084, 6.0, 1.8, 2.4), 42035: 'Apple', 42036: 'iPhone 11 Pro back triple camera 4.25mm f/1.8', 42080: 2, 37500: b\"Apple iOS\\x00\\x00\\x01MM\\x00\\x19\\x00\\x01\\x00\\t\\x00\\x00\\x00\\x01\\x00\\x00\\x00\\x0b\\x00\\x02\\x00\\x07\\x00\\x00\\x02.\\x00\\x00\\x01@\\x00\\x03\\x00\\x07\\x00\\x00\\x00h\\x00\\x00\\x03n\\x00\\x04\\x00\\t\\x00\\x00\\x00\\x01\\x00\\x00\\x00\\x01\\x00\\x05\\x00\\t\\x00\\x00\\x00\\x01\\x00\\x00\\x00\\xba\\x00\\x06\\x00\\t\\x00\\x00\\x00\\x01\\x00\\x00\\x00\\xb8\\x00\\x07\\x00\\t\\x00\\x00\\x00\\x01\\x00\\x00\\x00\\x01\\x00\\x08\\x00\\n\\x00\\x00\\x00\\x03\\x00\\x00\\x03\\xd6\\x00\\x0c\\x00\\n\\x00\\x00\\x00\\x02\\x00\\x00\\x03\\xee\\x00\\r\\x00\\t\\x00\\x00\\x00\\x01\\x00\\x00\\x00\\x17\\x00\\x0e\\x00\\t\\x00\\x00\\x00\\x01\\x00\\x00\\x00\\x04\\x00\\x10\\x00\\t\\x00\\x00\\x00\\x01\\x00\\x00\\x00\\x01\\x00\\x14\\x00\\t\\x00\\x00\\x00\\x01\\x00\\x00\\x00\\n\\x00\\x17\\x00\\t\\x00\\x00\\x00\\x01\\x02P \\x00\\x00\\x19\\x00\\t\\x00\\x00\\x00\\x01\\x00\\x00\\x00\\x02\\x00\\x1a\\x00\\x02\\x00\\x00\\x00\\x06\\x00\\x00\\x03\\xfe\\x00\\x1f\\x00\\t\\x00\\x00\\x00\\x01\\x00\\x00\\x00\\x00\\x00 \\x00\\x02\\x00\\x00\\x00%\\x00\\x00\\x04\\x04\\x00!\\x00\\n\\x00\\x00\\x00\\x01\\x00\\x00\\x04*\\x00#\\x00\\t\\x00\\x00\\x00\\x02\\x00\\x00\\x042\\x00%\\x00\\t\\x00\\x00\\x00\\x01\\x00\\x00\\x00\\x86\\x00&\\x00\\t\\x00\\x00\\x00\\x01\\x00\\x00\\x00\\x03\\x00'\\x00\\n\\x00\\x00\\x00\\x01\\x00\\x00\\x04:\\x00(\\x00\\t\\x00\\x00\\x00\\x01\\x00\\x00\\x00\\x01\\x00+\\x00\\x02\\x00\\x00\\x00%\\x00\\x00\\x04B\\x00\\x00\\x00\\x00bplist00O\\x11\\x02\\x00$\\x01F\\x01\\x83\\x01f\\x01T\\x01\\xf4\\x01Y\\x01\\xaa\\x00\\x91\\x00a\\x00S\\x00\\x1e\\x00\\x1a\\x00\\x1d\\x00\\x1a\\x00\\x17\\x00$\\x01F\\x01\\x7f\\x01~\\x01\\x95\\x01\\xec\\x01x\\x01\\xb8\\x00\\x96\\x00v\\x00]\\x00 \\x00\\x1c\\x00\\x1e\\x00\\x1a\\x00\\x18\\x00#\\x01F\\x01n\\x01\\x9a\\x01\\x96\\x01\\xc4\\x01\\x8e\\x01\\xb9\\x00\\x97\\x00|\\x00Z\\x00 \\x00\\x1e\\x00\\x1e\\x00\\x1b\\x00\\x18\\x00 \\x01C\\x01o\\x01\\x97\\x01\\xb5\\x01\\xba\\x01\\x8b\\x01\\xc0\\x00\\x9a\\x00\\x80\\x00\\\\\\x00 \\x00\\x1d\\x00\\x1d\\x00\\x1b\\x00\\x18\\x00\\x1d\\x01?\\x01i\\x01\\xe5\\x01\\xc1\\x01\\xb0\\x01\\x83\\x01\\xc5\\x00\\x9a\\x00\\x7f\\x00Z\\x00 \\x00\\x1c\\x00\\x1d\\x00\\x1b\\x00\\x18\\x00\\x18\\x019\\x01`\\x01\\xee\\x01\\xb9\\x01\\xa2\\x01x\\x01\\xc6\\x00\\x96\\x00y\\x00U\\x00\\x1f\\x00\\x1b\\x00\\x1e\\x00\\x1a\\x00\\x18\\x00\\x11\\x011\\x01U\\x01\\x9d\\x01\\xce\\x01\\x9b\\x01m\\x01\\xc6\\x00\\x94\\x00r\\x00M\\x00\\x1f\\x00\\x1b\\x00\\x1e\\x00\\x1b\\x00\\x18\\x00\\n\\x01-\\x01J\\x01\\x91\\x01\\xaf\\x01\\xad\\x01d\\x01\\xc7\\x00\\x95\\x00s\\x00S\\x00\\x1e\\x00\\x1c\\x00\\x1e\\x00\\x1a\\x00\\x18\\x00\\x03\\x01 \\x01>\\x01f\\x01\\xe3\\x01\\xc6\\x01V\\x01\\xc6\\x00\\x94\\x00o\\x00M\\x00\\x1e\\x00\\x1d\\x00\\x1e\\x00\\x19\\x00\\x18\\x00\\xfb\\x00\\x16\\x012\\x01Q\\x01\\xa5\\x01\\xbf\\x01D\\x01\\xc4\\x00\\x93\\x00c\\x00E\\x00\\x1d\\x00\\x1b\\x00\\x1c\\x00\\x19\\x00\\x18\\x00\\xf3\\x00\\x0c\\x01%\\x01?\\x01g\\x01\\x80\\x015\\x01\\xc0\\x00\\x89\\x00_\\x00;\\x00\\x1d\\x00\\x19\\x00\\x1c\\x00\\x1a\\x00\\x17\\x00\\xec\\x00\\x02\\x01\\x19\\x010\\x01K\\x01\\\\\\x01&\\x01\\xba\\x00\\x86\\x00V\\x00>\\x00\\x1d\\x00\\x19\\x00\\x1b\\x00\\x1a\\x00\\x18\\x00\\xe4\\x00\\xf9\\x00\\x0e\\x01#\\x01<\\x01A\\x01\\x16\\x01\\xb2\\x00\\x7f\\x00Q\\x008\\x00\\x1d\\x00\\x19\\x00\\x1c\\x00\\x1a\\x00\\x18\\x00\\xdf\\x00\\xf0\\x00\\x03\\x01\\x17\\x01.\\x014\\x01\\x08\\x01\\xa9\\x00w\\x00I\\x004\\x00\\x1b\\x00\\x1a\\x00\\x1b\\x00\\x1a\\x00\\x17\\x00\\xed\\x00\\xec\\x00\\xf9\\x00\\x0c\\x01 \\x01$\\x01\\xfa\\x00\\xa1\\x00o\\x00@\\x00/\\x00\\x1b\\x00\\x1a\\x00\\x1c\\x00\\x19\\x00\\x17\\x00\\xf8\\x00\\xfe\\x00\\xf0\\x00\\x02\\x01\\x12\\x01\\x13\\x01\\xec\\x00\\x9a\\x00f\\x00@\\x00)\\x00\\x1b\\x00\\x1a\\x00\\x1b\\x00\\x19\\x00\\x17\\x00\\x00\\x08\\x00\\x00\\x00\\x00\\x00\\x00\\x02\\x01\\x00\\x00\\x00\\x00\\x00\\x00\\x00\\x01\\x00\\x00\\x00\\x00\\x00\\x00\\x00\\x00\\x00\\x00\\x00\\x00\\x00\\x00\\x02\\x0cbplist00\\xd4\\x01\\x02\\x03\\x04\\x05\\x06\\x07\\x08UflagsUvalueYtimescaleUepoch\\x10\\x01\\x13\\x00\\x00I\\x87\\xe0f\\x02J\\x12;\\x9a\\xca\\x00\\x10\\x00\\x08\\x11\\x17\\x1d'-/8=\\x00\\x00\\x00\\x00\\x00\\x00\\x01\\x01\\x00\\x00\\x00\\x00\\x00\\x00\\x00\\t\\x00\\x00\\x00\\x00\\x00\\x00\\x00\\x00\\x00\\x00\\x00\\x00\\x00\\x00\\x00?\\xff\\xff\\xe8=\\x00\\x02\\xc2\\xe9\\xff\\xfeIt\\x00\\x01\\xb8\\xc5\\x00\\x00*\\x9b\\x00\\x07\\x05\\n\\x00\\x00\\ts\\x00\\x00\\x00@\\x00\\x00\\x01\\x03\\x00\\x00\\x00\\x80q900n\\x008D68AF3A-5FA4-4AC6-9FDA-67F43BCC75F2\\x00\\x00\\x00\\x00\\xa3\\x00\\x00\\x00l\\xcb\\x00\\x00\\x03v\\x10\\x00\\x000\\x00\\x03[\\xe7\\x00\\x00\\x10\\x1e45AE8E65-EFA7-4CC3-A26F-D13112936E00\\x00\\x00\"}\n"
     ]
    }
   ],
   "source": [
    "from PIL import Image\n",
    "\n",
    " \n",
    "\n",
    "image = Image.open(\"data/img/sea.jpg\")\n",
    "info = image._getexif();\n",
    "image.close()\n",
    "\n",
    " \n",
    "\n",
    "print(info)"
   ]
  },
  {
   "cell_type": "code",
   "execution_count": 7,
   "metadata": {},
   "outputs": [
    {
     "name": "stdout",
     "output_type": "stream",
     "text": [
      "{'TileWidth': 512, 'TileLength': 512, 'GPSInfo': {1: 'N', 2: (37.0, 37.0, 44.49), 3: 'E', 4: (126.0, 22.0, 29.01), 5: b'\\x00', 6: 7.891319606925596, 12: 'K', 13: 0.024726361043571902, 16: 'T', 17: 259.2495424039048, 23: 'T', 24: 259.2495424039048, 31: 11.00692218946289}, 'ResolutionUnit': 2, 'ExifOffset': 222, 'Make': 'Apple', 'Model': 'iPhone 11 Pro', 'Software': '13.6.1', 'DateTime': '2020:09:01 18:51:12', 'YCbCrPositioning': 1, 'XResolution': 72.0, 'YResolution': 72.0, 'ExifVersion': b'0231', 'ComponentsConfiguration': b'\\x01\\x02\\x03\\x00', 'ShutterSpeedValue': 9.305859721811187, 'DateTimeOriginal': '2020:09:01 18:51:12', 'DateTimeDigitized': '2020:09:01 18:51:12', 'ApertureValue': 1.6959938128383605, 'BrightnessValue': 8.263760827046662, 'ExposureBiasValue': 0.0, 'MeteringMode': 5, 'Flash': 16, 'FocalLength': 4.25, 'ColorSpace': 1, 'ExifImageWidth': 2268, 'FocalLengthIn35mmFilm': 26, 'SceneCaptureType': 0, 'OffsetTime': '+09:00', 'OffsetTimeOriginal': '+09:00', 'OffsetTimeDigitized': '+09:00', 'SubsecTimeOriginal': '444', 'SubjectLocation': (2009, 1509, 2318, 1390), 'SubsecTimeDigitized': '444', 'ExifImageHeight': 4032, 'SensingMethod': 2, 'ExposureTime': 0.001579778830963665, 'FNumber': 1.8, 'SceneType': b'\\x01', 'ExposureProgram': 2, 'ISOSpeedRatings': 32, 'ExposureMode': 0, 'FlashPixVersion': b'0100', 'WhiteBalance': 0, 'LensSpecification': (1.5399999618512084, 6.0, 1.8, 2.4), 'LensMake': 'Apple', 'LensModel': 'iPhone 11 Pro back triple camera 4.25mm f/1.8', 'CompositeImage': 2, 'MakerNote': b\"Apple iOS\\x00\\x00\\x01MM\\x00\\x19\\x00\\x01\\x00\\t\\x00\\x00\\x00\\x01\\x00\\x00\\x00\\x0b\\x00\\x02\\x00\\x07\\x00\\x00\\x02.\\x00\\x00\\x01@\\x00\\x03\\x00\\x07\\x00\\x00\\x00h\\x00\\x00\\x03n\\x00\\x04\\x00\\t\\x00\\x00\\x00\\x01\\x00\\x00\\x00\\x01\\x00\\x05\\x00\\t\\x00\\x00\\x00\\x01\\x00\\x00\\x00\\xba\\x00\\x06\\x00\\t\\x00\\x00\\x00\\x01\\x00\\x00\\x00\\xb8\\x00\\x07\\x00\\t\\x00\\x00\\x00\\x01\\x00\\x00\\x00\\x01\\x00\\x08\\x00\\n\\x00\\x00\\x00\\x03\\x00\\x00\\x03\\xd6\\x00\\x0c\\x00\\n\\x00\\x00\\x00\\x02\\x00\\x00\\x03\\xee\\x00\\r\\x00\\t\\x00\\x00\\x00\\x01\\x00\\x00\\x00\\x17\\x00\\x0e\\x00\\t\\x00\\x00\\x00\\x01\\x00\\x00\\x00\\x04\\x00\\x10\\x00\\t\\x00\\x00\\x00\\x01\\x00\\x00\\x00\\x01\\x00\\x14\\x00\\t\\x00\\x00\\x00\\x01\\x00\\x00\\x00\\n\\x00\\x17\\x00\\t\\x00\\x00\\x00\\x01\\x02P \\x00\\x00\\x19\\x00\\t\\x00\\x00\\x00\\x01\\x00\\x00\\x00\\x02\\x00\\x1a\\x00\\x02\\x00\\x00\\x00\\x06\\x00\\x00\\x03\\xfe\\x00\\x1f\\x00\\t\\x00\\x00\\x00\\x01\\x00\\x00\\x00\\x00\\x00 \\x00\\x02\\x00\\x00\\x00%\\x00\\x00\\x04\\x04\\x00!\\x00\\n\\x00\\x00\\x00\\x01\\x00\\x00\\x04*\\x00#\\x00\\t\\x00\\x00\\x00\\x02\\x00\\x00\\x042\\x00%\\x00\\t\\x00\\x00\\x00\\x01\\x00\\x00\\x00\\x86\\x00&\\x00\\t\\x00\\x00\\x00\\x01\\x00\\x00\\x00\\x03\\x00'\\x00\\n\\x00\\x00\\x00\\x01\\x00\\x00\\x04:\\x00(\\x00\\t\\x00\\x00\\x00\\x01\\x00\\x00\\x00\\x01\\x00+\\x00\\x02\\x00\\x00\\x00%\\x00\\x00\\x04B\\x00\\x00\\x00\\x00bplist00O\\x11\\x02\\x00$\\x01F\\x01\\x83\\x01f\\x01T\\x01\\xf4\\x01Y\\x01\\xaa\\x00\\x91\\x00a\\x00S\\x00\\x1e\\x00\\x1a\\x00\\x1d\\x00\\x1a\\x00\\x17\\x00$\\x01F\\x01\\x7f\\x01~\\x01\\x95\\x01\\xec\\x01x\\x01\\xb8\\x00\\x96\\x00v\\x00]\\x00 \\x00\\x1c\\x00\\x1e\\x00\\x1a\\x00\\x18\\x00#\\x01F\\x01n\\x01\\x9a\\x01\\x96\\x01\\xc4\\x01\\x8e\\x01\\xb9\\x00\\x97\\x00|\\x00Z\\x00 \\x00\\x1e\\x00\\x1e\\x00\\x1b\\x00\\x18\\x00 \\x01C\\x01o\\x01\\x97\\x01\\xb5\\x01\\xba\\x01\\x8b\\x01\\xc0\\x00\\x9a\\x00\\x80\\x00\\\\\\x00 \\x00\\x1d\\x00\\x1d\\x00\\x1b\\x00\\x18\\x00\\x1d\\x01?\\x01i\\x01\\xe5\\x01\\xc1\\x01\\xb0\\x01\\x83\\x01\\xc5\\x00\\x9a\\x00\\x7f\\x00Z\\x00 \\x00\\x1c\\x00\\x1d\\x00\\x1b\\x00\\x18\\x00\\x18\\x019\\x01`\\x01\\xee\\x01\\xb9\\x01\\xa2\\x01x\\x01\\xc6\\x00\\x96\\x00y\\x00U\\x00\\x1f\\x00\\x1b\\x00\\x1e\\x00\\x1a\\x00\\x18\\x00\\x11\\x011\\x01U\\x01\\x9d\\x01\\xce\\x01\\x9b\\x01m\\x01\\xc6\\x00\\x94\\x00r\\x00M\\x00\\x1f\\x00\\x1b\\x00\\x1e\\x00\\x1b\\x00\\x18\\x00\\n\\x01-\\x01J\\x01\\x91\\x01\\xaf\\x01\\xad\\x01d\\x01\\xc7\\x00\\x95\\x00s\\x00S\\x00\\x1e\\x00\\x1c\\x00\\x1e\\x00\\x1a\\x00\\x18\\x00\\x03\\x01 \\x01>\\x01f\\x01\\xe3\\x01\\xc6\\x01V\\x01\\xc6\\x00\\x94\\x00o\\x00M\\x00\\x1e\\x00\\x1d\\x00\\x1e\\x00\\x19\\x00\\x18\\x00\\xfb\\x00\\x16\\x012\\x01Q\\x01\\xa5\\x01\\xbf\\x01D\\x01\\xc4\\x00\\x93\\x00c\\x00E\\x00\\x1d\\x00\\x1b\\x00\\x1c\\x00\\x19\\x00\\x18\\x00\\xf3\\x00\\x0c\\x01%\\x01?\\x01g\\x01\\x80\\x015\\x01\\xc0\\x00\\x89\\x00_\\x00;\\x00\\x1d\\x00\\x19\\x00\\x1c\\x00\\x1a\\x00\\x17\\x00\\xec\\x00\\x02\\x01\\x19\\x010\\x01K\\x01\\\\\\x01&\\x01\\xba\\x00\\x86\\x00V\\x00>\\x00\\x1d\\x00\\x19\\x00\\x1b\\x00\\x1a\\x00\\x18\\x00\\xe4\\x00\\xf9\\x00\\x0e\\x01#\\x01<\\x01A\\x01\\x16\\x01\\xb2\\x00\\x7f\\x00Q\\x008\\x00\\x1d\\x00\\x19\\x00\\x1c\\x00\\x1a\\x00\\x18\\x00\\xdf\\x00\\xf0\\x00\\x03\\x01\\x17\\x01.\\x014\\x01\\x08\\x01\\xa9\\x00w\\x00I\\x004\\x00\\x1b\\x00\\x1a\\x00\\x1b\\x00\\x1a\\x00\\x17\\x00\\xed\\x00\\xec\\x00\\xf9\\x00\\x0c\\x01 \\x01$\\x01\\xfa\\x00\\xa1\\x00o\\x00@\\x00/\\x00\\x1b\\x00\\x1a\\x00\\x1c\\x00\\x19\\x00\\x17\\x00\\xf8\\x00\\xfe\\x00\\xf0\\x00\\x02\\x01\\x12\\x01\\x13\\x01\\xec\\x00\\x9a\\x00f\\x00@\\x00)\\x00\\x1b\\x00\\x1a\\x00\\x1b\\x00\\x19\\x00\\x17\\x00\\x00\\x08\\x00\\x00\\x00\\x00\\x00\\x00\\x02\\x01\\x00\\x00\\x00\\x00\\x00\\x00\\x00\\x01\\x00\\x00\\x00\\x00\\x00\\x00\\x00\\x00\\x00\\x00\\x00\\x00\\x00\\x00\\x02\\x0cbplist00\\xd4\\x01\\x02\\x03\\x04\\x05\\x06\\x07\\x08UflagsUvalueYtimescaleUepoch\\x10\\x01\\x13\\x00\\x00I\\x87\\xe0f\\x02J\\x12;\\x9a\\xca\\x00\\x10\\x00\\x08\\x11\\x17\\x1d'-/8=\\x00\\x00\\x00\\x00\\x00\\x00\\x01\\x01\\x00\\x00\\x00\\x00\\x00\\x00\\x00\\t\\x00\\x00\\x00\\x00\\x00\\x00\\x00\\x00\\x00\\x00\\x00\\x00\\x00\\x00\\x00?\\xff\\xff\\xe8=\\x00\\x02\\xc2\\xe9\\xff\\xfeIt\\x00\\x01\\xb8\\xc5\\x00\\x00*\\x9b\\x00\\x07\\x05\\n\\x00\\x00\\ts\\x00\\x00\\x00@\\x00\\x00\\x01\\x03\\x00\\x00\\x00\\x80q900n\\x008D68AF3A-5FA4-4AC6-9FDA-67F43BCC75F2\\x00\\x00\\x00\\x00\\xa3\\x00\\x00\\x00l\\xcb\\x00\\x00\\x03v\\x10\\x00\\x000\\x00\\x03[\\xe7\\x00\\x00\\x10\\x1e45AE8E65-EFA7-4CC3-A26F-D13112936E00\\x00\\x00\"}\n",
      "-----------------------------\n",
      "Apple\n",
      "iPhone 11 Pro back triple camera 4.25mm f/1.8\n",
      "2020:09:01 18:51:12\n",
      "2020:09:01 18:51:12\n",
      "2020:09:01 18:51:12\n",
      "{1: 'N', 2: (37.0, 37.0, 44.49), 3: 'E', 4: (126.0, 22.0, 29.01), 5: b'\\x00', 6: 7.891319606925596, 12: 'K', 13: 0.024726361043571902, 16: 'T', 17: 259.2495424039048, 23: 'T', 24: 259.2495424039048, 31: 11.00692218946289}\n"
     ]
    }
   ],
   "source": [
    "from PIL.ExifTags import TAGS\n",
    "taglabel = {}\n",
    "\n",
    "for tag, value in info.items():\n",
    "    decoded = TAGS.get(tag, tag)\n",
    "    taglabel[decoded] = value\n",
    "\n",
    "print(taglabel)\n",
    "print('-----------------------------')\n",
    "print(taglabel['LensMake'])\n",
    "print(taglabel['LensModel'])\n",
    "print(taglabel['DateTimeOriginal'])\n",
    "print(taglabel['DateTimeDigitized'])\n",
    "print(taglabel['DateTime'])\n",
    "print(taglabel['GPSInfo'])"
   ]
  },
  {
   "cell_type": "code",
   "execution_count": 23,
   "metadata": {},
   "outputs": [
    {
     "data": {
      "text/plain": [
       "{1: 'N',\n",
       " 2: (37.0, 37.0, 44.49),\n",
       " 3: 'E',\n",
       " 4: (126.0, 22.0, 29.01),\n",
       " 5: b'\\x00',\n",
       " 6: 7.891319606925596,\n",
       " 12: 'K',\n",
       " 13: 0.024726361043571902,\n",
       " 16: 'T',\n",
       " 17: 259.2495424039048,\n",
       " 23: 'T',\n",
       " 24: 259.2495424039048,\n",
       " 31: 11.00692218946289}"
      ]
     },
     "execution_count": 23,
     "metadata": {},
     "output_type": "execute_result"
    }
   ],
   "source": [
    "taglabel['GPSInfo']"
   ]
  },
  {
   "cell_type": "code",
   "execution_count": 90,
   "metadata": {},
   "outputs": [
    {
     "data": {
      "text/plain": [
       "(37.0, 37.0, 44.49)"
      ]
     },
     "execution_count": 90,
     "metadata": {},
     "output_type": "execute_result"
    }
   ],
   "source": [
    "latDeg = taglabel['GPSInfo'][2][0]\n",
    "latMin = taglabel['GPSInfo'][2][1]\n",
    "latSec = taglabel['GPSInfo'][2][2]\n",
    "latDeg, latMin, latSec"
   ]
  },
  {
   "cell_type": "code",
   "execution_count": 213,
   "metadata": {},
   "outputs": [
    {
     "data": {
      "text/plain": [
       "37.62888888888889"
      ]
     },
     "execution_count": 213,
     "metadata": {},
     "output_type": "execute_result"
    }
   ],
   "source": [
    "import numpy as np\n",
    "x = (int(latDeg)+(int(latMin)/60)+(int(latSec)/3600))\n",
    "x"
   ]
  },
  {
   "cell_type": "code",
   "execution_count": 214,
   "metadata": {},
   "outputs": [
    {
     "data": {
      "text/plain": [
       "(126.0, 22.0, 29.01)"
      ]
     },
     "execution_count": 214,
     "metadata": {},
     "output_type": "execute_result"
    }
   ],
   "source": [
    "lonDeg = taglabel['GPSInfo'][4][0]\n",
    "lonMin = taglabel['GPSInfo'][4][1]\n",
    "lonSec = taglabel['GPSInfo'][4][2]\n",
    "lonDeg, lonMin, lonSec"
   ]
  },
  {
   "cell_type": "code",
   "execution_count": 215,
   "metadata": {},
   "outputs": [
    {
     "data": {
      "text/plain": [
       "126.37472222222222"
      ]
     },
     "execution_count": 215,
     "metadata": {},
     "output_type": "execute_result"
    }
   ],
   "source": [
    "y = int(lonDeg)+(int(lonMin)/60)+(int(lonSec)/3600)\n",
    "y"
   ]
  },
  {
   "cell_type": "code",
   "execution_count": 216,
   "metadata": {},
   "outputs": [
    {
     "data": {
      "text/plain": [
       "'37 37 44 126 22 29'"
      ]
     },
     "execution_count": 216,
     "metadata": {},
     "output_type": "execute_result"
    }
   ],
   "source": [
    "f'{int(latDeg)} {int(latMin)} {int(latSec)} {int(lonDeg)} {int(lonMin)} {int(lonSec)}'"
   ]
  },
  {
   "cell_type": "code",
   "execution_count": 217,
   "metadata": {},
   "outputs": [],
   "source": [
    "Lat = f'''{str(int(latDeg))}°{str(int(latMin))}'{str(latSec)}\"{taglabel[\"GPSInfo\"][1]}'''\n",
    "Lon = str(int(lonDeg)) + \"°\" + (str(int(lonMin)) + \"'\") + (str(lonSec) + '\"') + taglabel['GPSInfo'][3]"
   ]
  },
  {
   "cell_type": "code",
   "execution_count": 218,
   "metadata": {},
   "outputs": [
    {
     "data": {
      "text/plain": [
       "True"
      ]
     },
     "execution_count": 218,
     "metadata": {},
     "output_type": "execute_result"
    }
   ],
   "source": [
    "webbrowser.open_new(\"https://www.google.com/maps/place/\"+Lat+\"+\"+Lon)"
   ]
  },
  {
   "cell_type": "code",
   "execution_count": 219,
   "metadata": {},
   "outputs": [
    {
     "data": {
      "text/plain": [
       "51"
      ]
     },
     "execution_count": 219,
     "metadata": {},
     "output_type": "execute_result"
    }
   ],
   "source": [
    "# key 암호화\n",
    "filename= 'data/mapkey.txt'\n",
    "\n",
    "with open(filename) as f:\n",
    "  api_key = f.read()\n",
    "len(api_key)"
   ]
  },
  {
   "cell_type": "code",
   "execution_count": 220,
   "metadata": {},
   "outputs": [],
   "source": [
    "client_id = api_key.split('\\n')[0]\n",
    "client_secret = api_key.split('\\n')[1]"
   ]
  },
  {
   "cell_type": "code",
   "execution_count": 221,
   "metadata": {},
   "outputs": [
    {
     "data": {
      "text/plain": [
       "(37.62888888888889, 126.37472222222222)"
      ]
     },
     "execution_count": 221,
     "metadata": {},
     "output_type": "execute_result"
    }
   ],
   "source": [
    "x, y"
   ]
  },
  {
   "cell_type": "code",
   "execution_count": 223,
   "metadata": {},
   "outputs": [
    {
     "name": "stdout",
     "output_type": "stream",
     "text": [
      "{\"status\":{\"code\":0,\"name\":\"ok\",\"message\":\"done\"},\"results\":[{\"name\":\"legalcode\",\"code\":{\"id\":\"2871034029\",\"type\":\"L\",\"mappingId\":\"1171034029\"},\"region\":{\"area0\":{\"name\":\"kr\",\"coords\":{\"center\":{\"crs\":\"\",\"x\":0.0,\"y\":0.0}}},\"area1\":{\"name\":\"인천광역시\",\"coords\":{\"center\":{\"crs\":\"EPSG:4326\",\"x\":126.7051505,\"y\":37.4559418}},\"alias\":\"인천\"},\"area2\":{\"name\":\"강화군\",\"coords\":{\"center\":{\"crs\":\"EPSG:4326\",\"x\":126.488052,\"y\":37.746498}}},\"area3\":{\"name\":\"화도면\",\"coords\":{\"center\":{\"crs\":\"EPSG:4326\",\"x\":126.4198465,\"y\":37.6316897}}},\"area4\":{\"name\":\"장화리\",\"coords\":{\"center\":{\"crs\":\"EPSG:4326\",\"x\":126.3864,\"y\":37.6222}}}}}]}\n"
     ]
    }
   ],
   "source": [
    "import requests\n",
    "\n",
    "url = f\"https://naveropenapi.apigw.ntruss.com/map-reversegeocode/v2/gc?coords={y},{x}&sourcecrs=epsg:4326&orders=legalcode&output=json&orders=addr,admcode,roadaddr\"\n",
    "\n",
    "payload={}\n",
    "headers = {\n",
    "  'X-NCP-APIGW-API-KEY-ID': client_id,\n",
    "  'X-NCP-APIGW-API-KEY': client_secret\n",
    "}\n",
    "\n",
    "response = requests.request(\"GET\", url, headers=headers, data=payload)\n",
    "print(response.text)\n"
   ]
  },
  {
   "cell_type": "code",
   "execution_count": null,
   "metadata": {},
   "outputs": [],
   "source": []
  }
 ],
 "metadata": {
  "interpreter": {
   "hash": "b3ba2566441a7c06988d0923437866b63cedc61552a5af99d1f4fb67d367b25f"
  },
  "kernelspec": {
   "display_name": "Python 3.8.11 64-bit ('base': conda)",
   "name": "python3"
  },
  "language_info": {
   "codemirror_mode": {
    "name": "ipython",
    "version": 3
   },
   "file_extension": ".py",
   "mimetype": "text/x-python",
   "name": "python",
   "nbconvert_exporter": "python",
   "pygments_lexer": "ipython3",
   "version": "3.8.11"
  },
  "orig_nbformat": 4
 },
 "nbformat": 4,
 "nbformat_minor": 2
}

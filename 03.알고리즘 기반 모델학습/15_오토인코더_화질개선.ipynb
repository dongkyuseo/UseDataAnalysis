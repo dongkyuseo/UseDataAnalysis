{
  "nbformat": 4,
  "nbformat_minor": 0,
  "metadata": {
    "colab": {
      "name": "15_오토인코더_화질개선.ipynb",
      "provenance": [],
      "collapsed_sections": []
    },
    "kernelspec": {
      "name": "python3",
      "display_name": "Python 3"
    },
    "language_info": {
      "name": "python"
    },
    "accelerator": "TPU"
  },
  "cells": [
    {
      "cell_type": "code",
      "metadata": {
        "id": "m8QBDOuhqbmE"
      },
      "source": [
        "import matplotlib.pyplot as plt\n",
        "import numpy as np\n",
        "import pandas as pd\n",
        "import tensorflow as tf\n",
        "\n",
        "from sklearn.metrics import accuracy_score, precision_score, recall_score\n",
        "from sklearn.model_selection import train_test_split\n",
        "from tensorflow.keras import layers, losses\n",
        "from tensorflow.keras.datasets import fashion_mnist\n",
        "from tensorflow.keras.models import Model"
      ],
      "execution_count": 1,
      "outputs": []
    },
    {
      "cell_type": "code",
      "metadata": {
        "colab": {
          "base_uri": "https://localhost:8080/"
        },
        "id": "z3MKbFwuy8ki",
        "outputId": "56bab846-87eb-49a2-a3b9-20c1d1c40cd2"
      },
      "source": [
        "(x_train, _), (x_test, _) = fashion_mnist.load_data()\n",
        "\n",
        "x_train = x_train.astype('float32') / 255.\n",
        "x_test = x_test.astype('float32') / 255.\n",
        "\n",
        "print (x_train.shape)\n",
        "print (x_test.shape)"
      ],
      "execution_count": 2,
      "outputs": [
        {
          "output_type": "stream",
          "name": "stdout",
          "text": [
            "Downloading data from https://storage.googleapis.com/tensorflow/tf-keras-datasets/train-labels-idx1-ubyte.gz\n",
            "32768/29515 [=================================] - 0s 0us/step\n",
            "40960/29515 [=========================================] - 0s 0us/step\n",
            "Downloading data from https://storage.googleapis.com/tensorflow/tf-keras-datasets/train-images-idx3-ubyte.gz\n",
            "26427392/26421880 [==============================] - 0s 0us/step\n",
            "26435584/26421880 [==============================] - 0s 0us/step\n",
            "Downloading data from https://storage.googleapis.com/tensorflow/tf-keras-datasets/t10k-labels-idx1-ubyte.gz\n",
            "16384/5148 [===============================================================================================] - 0s 0us/step\n",
            "Downloading data from https://storage.googleapis.com/tensorflow/tf-keras-datasets/t10k-images-idx3-ubyte.gz\n",
            "4423680/4422102 [==============================] - 0s 0us/step\n",
            "4431872/4422102 [==============================] - 0s 0us/step\n",
            "(60000, 28, 28)\n",
            "(10000, 28, 28)\n"
          ]
        }
      ]
    },
    {
      "cell_type": "code",
      "metadata": {
        "id": "zUwPlWXd1n_8"
      },
      "source": [
        "# 흑백 이미지를 컬러로 변경( = 1채널을 3채널로 변경) 흑백이 컬러로 바뀌지는 않음\n",
        "# 추후에 컬러이미지를 넣을 경우 결과가 컬러로 나올수 있도록 작업해주는 것\n",
        "# 노이즈 추가하기 전에 작업함"
      ],
      "execution_count": null,
      "outputs": []
    },
    {
      "cell_type": "code",
      "metadata": {
        "colab": {
          "base_uri": "https://localhost:8080/"
        },
        "id": "FWlRHLUs1YOA",
        "outputId": "3a255a07-5994-4547-bc0d-f7332825d32b"
      },
      "source": [
        "np.shape(x_train[0])"
      ],
      "execution_count": 7,
      "outputs": [
        {
          "output_type": "execute_result",
          "data": {
            "text/plain": [
              "(28, 28)"
            ]
          },
          "metadata": {},
          "execution_count": 7
        }
      ]
    },
    {
      "cell_type": "code",
      "metadata": {
        "colab": {
          "base_uri": "https://localhost:8080/"
        },
        "id": "_xYRwM8-1b8l",
        "outputId": "205d1a63-06d8-43da-e1b7-bf6f2a2d1b70"
      },
      "source": [
        "from skimage import color\n",
        "np.shape(color.gray2rgb(x_train[0]))\n",
        "# 채널을 변경함 1 -> 3"
      ],
      "execution_count": 11,
      "outputs": [
        {
          "output_type": "execute_result",
          "data": {
            "text/plain": [
              "(28, 28, 3)"
            ]
          },
          "metadata": {},
          "execution_count": 11
        }
      ]
    },
    {
      "cell_type": "code",
      "metadata": {
        "id": "W74x1_aj0oUK"
      },
      "source": [
        "# 노이즈 추가하기 전에 작업함\n",
        "# 1채널에서 3채널로 변경\n",
        "from skimage import color\n",
        "x_train_color = [color.gray2rgb(x) for x in x_train]\n",
        "x_test_color = [color.gray2rgb(x) for x in x_test]\n"
      ],
      "execution_count": 12,
      "outputs": []
    },
    {
      "cell_type": "code",
      "metadata": {
        "colab": {
          "base_uri": "https://localhost:8080/",
          "height": 283
        },
        "id": "bFm7isSp11Zc",
        "outputId": "0a42489c-a8eb-4e12-ed58-b417c354d2ba"
      },
      "source": [
        "plt.imshow(x_train_color[0])"
      ],
      "execution_count": 13,
      "outputs": [
        {
          "output_type": "execute_result",
          "data": {
            "text/plain": [
              "<matplotlib.image.AxesImage at 0x7f5c3bf2c250>"
            ]
          },
          "metadata": {},
          "execution_count": 13
        },
        {
          "output_type": "display_data",
          "data": {
            "image/png": "[encoded data removed]",
            "text/plain": [
              "<Figure size 432x288 with 1 Axes>"
            ]
          },
          "metadata": {
            "needs_background": "light"
          }
        }
      ]
    },
    {
      "cell_type": "code",
      "metadata": {
        "colab": {
          "base_uri": "https://localhost:8080/"
        },
        "id": "lY8ftzN324M3",
        "outputId": "b8708aae-d8a3-439e-f299-364e82c0c86d"
      },
      "source": [
        "np.shape(x_train_color)"
      ],
      "execution_count": 16,
      "outputs": [
        {
          "output_type": "execute_result",
          "data": {
            "text/plain": [
              "(60000, 28, 28, 3)"
            ]
          },
          "metadata": {},
          "execution_count": 16
        }
      ]
    },
    {
      "cell_type": "code",
      "metadata": {
        "id": "xh47HfR9zBwg"
      },
      "source": [
        "# noise는 오디오 할때 백색잡음(생활잡음) 이라고 해서 중요한 요소임\n",
        "# 그레이스케일(흑백)일때는 shape=x_train.shape 해도 28*28 이지만\n",
        "# 컬러일때는 28*28*3 이되어 복잡해짐\n",
        "# 지금은 흑백자료로 비교 함\n",
        "noise_factor = 0.2\n",
        "x_train_noisy = x_train + noise_factor * tf.random.normal(shape=x_train.shape) \n",
        "x_test_noisy = x_test + noise_factor * tf.random.normal(shape=x_test.shape) \n",
        "\n",
        "x_train_noisy = tf.clip_by_value(x_train_noisy, clip_value_min=0., clip_value_max=1.)\n",
        "x_test_noisy = tf.clip_by_value(x_test_noisy, clip_value_min=0., clip_value_max=1.)"
      ],
      "execution_count": 17,
      "outputs": []
    },
    {
      "cell_type": "code",
      "metadata": {
        "colab": {
          "base_uri": "https://localhost:8080/",
          "height": 158
        },
        "id": "7y5cisL3zLgF",
        "outputId": "21a7119e-7d5b-4642-9005-ec46d52fc9ae"
      },
      "source": [
        "n = 10\n",
        "plt.figure(figsize=(20, 2))\n",
        "for i in range(n):\n",
        "    ax = plt.subplot(1, n, i + 1)\n",
        "    plt.title(\"original + noise\")\n",
        "    plt.imshow(tf.squeeze(x_test_noisy[i]))\n",
        "    plt.gray()\n",
        "plt.show()"
      ],
      "execution_count": 4,
      "outputs": [
        {
          "output_type": "display_data",
          "data": {
            "image/png": "[encoded data removed]",
            "text/plain": [
              "<Figure size 1440x144 with 10 Axes>"
            ]
          },
          "metadata": {
            "needs_background": "light"
          }
        }
      ]
    },
    {
      "cell_type": "code",
      "metadata": {
        "colab": {
          "base_uri": "https://localhost:8080/",
          "height": 216
        },
        "id": "5sqR1BPIzNIR",
        "outputId": "8f5d87b7-640a-4d3e-9585-9745817a0e8d"
      },
      "source": [
        "#-----\n",
        "plt.imshow(np.concatenate([x_train[0], x_train_noisy[0]], axis=1))\n",
        "plt.show()"
      ],
      "execution_count": 5,
      "outputs": [
        {
          "output_type": "display_data",
          "data": {
            "image/png": "[encoded data removed]",
            "text/plain": [
              "<Figure size 432x288 with 1 Axes>"
            ]
          },
          "metadata": {
            "needs_background": "light"
          }
        }
      ]
    },
    {
      "cell_type": "code",
      "metadata": {
        "colab": {
          "base_uri": "https://localhost:8080/"
        },
        "id": "MqJph8rgz5A-",
        "outputId": "d3ac9fb7-17d8-4181-9a69-0fa416fd1f17"
      },
      "source": [
        "# 스케일링이 잘 되어 있는 자료 확인\n",
        "x_train.min(), x_train.max()\n",
        "# 잘 되어 있음"
      ],
      "execution_count": 6,
      "outputs": [
        {
          "output_type": "execute_result",
          "data": {
            "text/plain": [
              "(0.0, 1.0)"
            ]
          },
          "metadata": {},
          "execution_count": 6
        }
      ]
    },
    {
      "cell_type": "code",
      "metadata": {
        "id": "mlNQ4yb44L2X"
      },
      "source": [
        "from keras.layers import Dense, Input, Conv2D, Conv2DTranspose, Flatten, Reshape\n",
        "from keras.models import Model\n",
        "\n",
        "inputs = Input(shape=(28, 28,1)) # 흑백일때는 (28,28,1) 컬러일때는 (28,28,3)\n",
        "x = Conv2D(32, 3, 2, activation='relu', padding='same')(inputs)\n",
        "#인풋값에 32dense층, ?, 스ㅌ값 2\n",
        "x = Conv2D(64, 3, 2, activation='relu', padding='same')(x)\n",
        "x = Flatten()(x)\n",
        "latent = Dense(10)(x)\n",
        "x = Dense(7 * 7 * 64)(latent)\n",
        "\n",
        "x = Reshape((7, 7, 64))(x)\n",
        "\n",
        "x = Conv2DTranspose(64, 3, 2, activation='relu', padding='same')(x)\n",
        "x = Conv2DTranspose(32, 3, 2, activation='relu', padding='same')(x)\n",
        "x = Conv2DTranspose(1, 3, activation='sigmoid', padding='same')(x)\n",
        "\n",
        "model = Model(inputs, x)\n"
      ],
      "execution_count": 19,
      "outputs": []
    },
    {
      "cell_type": "code",
      "metadata": {
        "colab": {
          "base_uri": "https://localhost:8080/"
        },
        "id": "zYEKCxYh4Pdz",
        "outputId": "42b25550-c542-488d-8827-752b5c85954e"
      },
      "source": [
        "model.summary()"
      ],
      "execution_count": 20,
      "outputs": [
        {
          "output_type": "stream",
          "name": "stdout",
          "text": [
            "Model: \"model_1\"\n",
            "_________________________________________________________________\n",
            "Layer (type)                 Output Shape              Param #   \n",
            "=================================================================\n",
            "input_2 (InputLayer)         [(None, 28, 28, 1)]       0         \n",
            "_________________________________________________________________\n",
            "conv2d_2 (Conv2D)            (None, 14, 14, 32)        320       \n",
            "_________________________________________________________________\n",
            "conv2d_3 (Conv2D)            (None, 7, 7, 64)          18496     \n",
            "_________________________________________________________________\n",
            "flatten_1 (Flatten)          (None, 3136)              0         \n",
            "_________________________________________________________________\n",
            "dense_2 (Dense)              (None, 10)                31370     \n",
            "_________________________________________________________________\n",
            "dense_3 (Dense)              (None, 3136)              34496     \n",
            "_________________________________________________________________\n",
            "reshape_1 (Reshape)          (None, 7, 7, 64)          0         \n",
            "_________________________________________________________________\n",
            "conv2d_transpose_3 (Conv2DTr (None, 14, 14, 64)        36928     \n",
            "_________________________________________________________________\n",
            "conv2d_transpose_4 (Conv2DTr (None, 28, 28, 32)        18464     \n",
            "_________________________________________________________________\n",
            "conv2d_transpose_5 (Conv2DTr (None, 28, 28, 1)         289       \n",
            "=================================================================\n",
            "Total params: 140,363\n",
            "Trainable params: 140,363\n",
            "Non-trainable params: 0\n",
            "_________________________________________________________________\n"
          ]
        }
      ]
    },
    {
      "cell_type": "code",
      "metadata": {
        "colab": {
          "base_uri": "https://localhost:8080/"
        },
        "id": "zPop18Io4ZuG",
        "outputId": "c124db29-10c2-4b84-ab6e-844ca8062fc1"
      },
      "source": [
        "model.compile(loss='mse', optimizer='adam', metrics=['accuracy'])\n",
        "hist = model.fit(x_train_noisy, x_train, validation_data=(x_test_noisy, x_test), epochs=5, verbose=2)\n"
      ],
      "execution_count": 21,
      "outputs": [
        {
          "output_type": "stream",
          "name": "stdout",
          "text": [
            "Epoch 1/5\n",
            "1875/1875 - 107s - loss: 0.0225 - accuracy: 0.5042 - val_loss: 0.0158 - val_accuracy: 0.5051\n",
            "Epoch 2/5\n",
            "1875/1875 - 106s - loss: 0.0149 - accuracy: 0.5071 - val_loss: 0.0146 - val_accuracy: 0.5048\n",
            "Epoch 3/5\n",
            "1875/1875 - 108s - loss: 0.0141 - accuracy: 0.5074 - val_loss: 0.0141 - val_accuracy: 0.5055\n",
            "Epoch 4/5\n",
            "1875/1875 - 104s - loss: 0.0136 - accuracy: 0.5075 - val_loss: 0.0135 - val_accuracy: 0.5053\n",
            "Epoch 5/5\n",
            "1875/1875 - 104s - loss: 0.0133 - accuracy: 0.5077 - val_loss: 0.0133 - val_accuracy: 0.5055\n"
          ]
        }
      ]
    },
    {
      "cell_type": "code",
      "metadata": {
        "colab": {
          "base_uri": "https://localhost:8080/",
          "height": 265
        },
        "id": "hvWI3Eq04gbU",
        "outputId": "3fa998e8-f6d3-4aff-969b-98e6c6f0a635"
      },
      "source": [
        "plt.plot(hist.history['accuracy'], label='accuracy')\n",
        "plt.plot(hist.history['loss'], label='loss')\n",
        "plt.plot(hist.history['val_accuracy'], label='val_accuracy')\n",
        "plt.plot(hist.history['val_loss'], label='val_loss')\n",
        "plt.legend(loc='upper left')\n",
        "plt.show()"
      ],
      "execution_count": 22,
      "outputs": [
        {
          "output_type": "display_data",
          "data": {
            "image/png": "[encoded data removed]",
            "text/plain": [
              "<Figure size 432x288 with 1 Axes>"
            ]
          },
          "metadata": {
            "needs_background": "light"
          }
        }
      ]
    },
    {
      "cell_type": "code",
      "metadata": {
        "colab": {
          "base_uri": "https://localhost:8080/",
          "height": 180
        },
        "id": "jx0nScbt6FPu",
        "outputId": "68138f21-544c-4440-ee6d-adf286b86737"
      },
      "source": [
        "# test 데이터로 결과 확인\n",
        "res = model.predict(x_test_noisy[0:1])\n",
        "\n",
        "plt.imshow(np.concatenate([x_test[0], x_test_noisy[0], res[0].reshape(28,28)], axis=1))\n",
        "print('           y값,            x값,          예측값')"
      ],
      "execution_count": 33,
      "outputs": [
        {
          "output_type": "stream",
          "name": "stdout",
          "text": [
            "           y값,            x값,          예측값\n"
          ]
        },
        {
          "output_type": "display_data",
          "data": {
            "image/png": "[encoded data removed]",
            "text/plain": [
              "<Figure size 432x288 with 1 Axes>"
            ]
          },
          "metadata": {
            "needs_background": "light"
          }
        }
      ]
    },
    {
      "cell_type": "code",
      "metadata": {
        "id": "31g2EvVs7qgl"
      },
      "source": [
        "# 코랩에서 h5파일 저장후 다운받는 방법"
      ],
      "execution_count": null,
      "outputs": []
    },
    {
      "cell_type": "code",
      "metadata": {
        "id": "MN5tbOkf7Ttj"
      },
      "source": [
        "model.save('Auto_mnist_noisy_model.h5')"
      ],
      "execution_count": 29,
      "outputs": []
    },
    {
      "cell_type": "code",
      "metadata": {
        "colab": {
          "base_uri": "https://localhost:8080/",
          "height": 17
        },
        "id": "QG6ABczG6wuy",
        "outputId": "19e8a145-142b-4ac9-d1d3-d54de9239919"
      },
      "source": [
        "from google.colab import  files\n",
        "files.download('./Auto_mnist_noisy_model.h5')"
      ],
      "execution_count": 30,
      "outputs": [
        {
          "output_type": "display_data",
          "data": {
            "application/javascript": [
              "\n",
              "    async function download(id, filename, size) {\n",
              "      if (!google.colab.kernel.accessAllowed) {\n",
              "        return;\n",
              "      }\n",
              "      const div = document.createElement('div');\n",
              "      const label = document.createElement('label');\n",
              "      label.textContent = `Downloading \"${filename}\": `;\n",
              "      div.appendChild(label);\n",
              "      const progress = document.createElement('progress');\n",
              "      progress.max = size;\n",
              "      div.appendChild(progress);\n",
              "      document.body.appendChild(div);\n",
              "\n",
              "      const buffers = [];\n",
              "      let downloaded = 0;\n",
              "\n",
              "      const channel = await google.colab.kernel.comms.open(id);\n",
              "      // Send a message to notify the kernel that we're ready.\n",
              "      channel.send({})\n",
              "\n",
              "      for await (const message of channel.messages) {\n",
              "        // Send a message to notify the kernel that we're ready.\n",
              "        channel.send({})\n",
              "        if (message.buffers) {\n",
              "          for (const buffer of message.buffers) {\n",
              "            buffers.push(buffer);\n",
              "            downloaded += buffer.byteLength;\n",
              "            progress.value = downloaded;\n",
              "          }\n",
              "        }\n",
              "      }\n",
              "      const blob = new Blob(buffers, {type: 'application/binary'});\n",
              "      const a = document.createElement('a');\n",
              "      a.href = window.URL.createObjectURL(blob);\n",
              "      a.download = filename;\n",
              "      div.appendChild(a);\n",
              "      a.click();\n",
              "      div.remove();\n",
              "    }\n",
              "  "
            ],
            "text/plain": [
              "<IPython.core.display.Javascript object>"
            ]
          },
          "metadata": {}
        },
        {
          "output_type": "display_data",
          "data": {
            "application/javascript": [
              "download(\"download_20ab0933-878b-494a-b6c0-190c073c2bae\", \"Auto_mnist_noisy_model.h5\", 1753456)"
            ],
            "text/plain": [
              "<IPython.core.display.Javascript object>"
            ]
          },
          "metadata": {}
        }
      ]
    }
  ]
}
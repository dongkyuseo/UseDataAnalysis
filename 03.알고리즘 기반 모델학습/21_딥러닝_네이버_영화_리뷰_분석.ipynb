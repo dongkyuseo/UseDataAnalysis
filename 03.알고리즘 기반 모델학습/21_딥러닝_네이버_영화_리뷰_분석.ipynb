{
  "nbformat": 4,
  "nbformat_minor": 0,
  "metadata": {
    "colab": {
      "name": "21_딥러닝_네이버 영화 리뷰_분석.ipynb",
      "provenance": [],
      "collapsed_sections": []
    },
    "kernelspec": {
      "name": "python3",
      "display_name": "Python 3"
    },
    "language_info": {
      "name": "python"
    },
    "accelerator": "TPU"
  },
  "cells": [
    {
      "cell_type": "code",
      "metadata": {
        "colab": {
          "base_uri": "https://localhost:8080/"
        },
        "id": "yokD-ft_qoJ7",
        "outputId": "24d379e5-7461-4640-e148-72a11a04fd9d"
      },
      "source": [
        "!pip install konlpy"
      ],
      "execution_count": 113,
      "outputs": [
        {
          "output_type": "stream",
          "name": "stdout",
          "text": [
            "Requirement already satisfied: konlpy in /usr/local/lib/python3.7/dist-packages (0.5.2)\n",
            "Requirement already satisfied: colorama in /usr/local/lib/python3.7/dist-packages (from konlpy) (0.4.4)\n",
            "Requirement already satisfied: tweepy>=3.7.0 in /usr/local/lib/python3.7/dist-packages (from konlpy) (3.10.0)\n",
            "Requirement already satisfied: numpy>=1.6 in /usr/local/lib/python3.7/dist-packages (from konlpy) (1.19.5)\n",
            "Requirement already satisfied: lxml>=4.1.0 in /usr/local/lib/python3.7/dist-packages (from konlpy) (4.2.6)\n",
            "Requirement already satisfied: beautifulsoup4==4.6.0 in /usr/local/lib/python3.7/dist-packages (from konlpy) (4.6.0)\n",
            "Requirement already satisfied: JPype1>=0.7.0 in /usr/local/lib/python3.7/dist-packages (from konlpy) (1.3.0)\n",
            "Requirement already satisfied: typing-extensions in /usr/local/lib/python3.7/dist-packages (from JPype1>=0.7.0->konlpy) (3.7.4.3)\n",
            "Requirement already satisfied: requests-oauthlib>=0.7.0 in /usr/local/lib/python3.7/dist-packages (from tweepy>=3.7.0->konlpy) (1.3.0)\n",
            "Requirement already satisfied: six>=1.10.0 in /usr/local/lib/python3.7/dist-packages (from tweepy>=3.7.0->konlpy) (1.15.0)\n",
            "Requirement already satisfied: requests[socks]>=2.11.1 in /usr/local/lib/python3.7/dist-packages (from tweepy>=3.7.0->konlpy) (2.23.0)\n",
            "Requirement already satisfied: oauthlib>=3.0.0 in /usr/local/lib/python3.7/dist-packages (from requests-oauthlib>=0.7.0->tweepy>=3.7.0->konlpy) (3.1.1)\n",
            "Requirement already satisfied: urllib3!=1.25.0,!=1.25.1,<1.26,>=1.21.1 in /usr/local/lib/python3.7/dist-packages (from requests[socks]>=2.11.1->tweepy>=3.7.0->konlpy) (1.24.3)\n",
            "Requirement already satisfied: idna<3,>=2.5 in /usr/local/lib/python3.7/dist-packages (from requests[socks]>=2.11.1->tweepy>=3.7.0->konlpy) (2.10)\n",
            "Requirement already satisfied: certifi>=2017.4.17 in /usr/local/lib/python3.7/dist-packages (from requests[socks]>=2.11.1->tweepy>=3.7.0->konlpy) (2021.5.30)\n",
            "Requirement already satisfied: chardet<4,>=3.0.2 in /usr/local/lib/python3.7/dist-packages (from requests[socks]>=2.11.1->tweepy>=3.7.0->konlpy) (3.0.4)\n",
            "Requirement already satisfied: PySocks!=1.5.7,>=1.5.6 in /usr/local/lib/python3.7/dist-packages (from requests[socks]>=2.11.1->tweepy>=3.7.0->konlpy) (1.7.1)\n"
          ]
        }
      ]
    },
    {
      "cell_type": "code",
      "metadata": {
        "id": "bdV8vI_Ln_GF"
      },
      "source": [
        "import pandas as pd\n",
        "import numpy as np\n",
        "import matplotlib.pyplot as plt\n",
        "import re\n",
        "import urllib.request\n",
        "from konlpy.tag import Okt\n",
        "from tqdm import tqdm\n",
        "from tensorflow.keras.preprocessing.text import Tokenizer\n",
        "from tensorflow.keras.preprocessing.sequence import pad_sequences"
      ],
      "execution_count": 114,
      "outputs": []
    },
    {
      "cell_type": "code",
      "metadata": {
        "colab": {
          "base_uri": "https://localhost:8080/"
        },
        "id": "T0BifNxPq5PI",
        "outputId": "fe9644c6-8501-435a-e1ab-af02430f0e02"
      },
      "source": [
        "urllib.request.urlretrieve(\"https://raw.githubusercontent.com/e9t/nsmc/master/ratings_train.txt\", filename=\"ratings_train.txt\")\n",
        "urllib.request.urlretrieve(\"https://raw.githubusercontent.com/e9t/nsmc/master/ratings_test.txt\", filename=\"ratings_test.txt\")"
      ],
      "execution_count": 115,
      "outputs": [
        {
          "output_type": "execute_result",
          "data": {
            "text/plain": [
              "('ratings_test.txt', <http.client.HTTPMessage at 0x7f9e1e41d5d0>)"
            ]
          },
          "metadata": {},
          "execution_count": 115
        }
      ]
    },
    {
      "cell_type": "code",
      "metadata": {
        "id": "9-PVLUrzrD9S"
      },
      "source": [
        "train_data = pd.read_table('ratings_train.txt')\n",
        "test_data = pd.read_table('ratings_test.txt')"
      ],
      "execution_count": 116,
      "outputs": []
    },
    {
      "cell_type": "code",
      "metadata": {
        "colab": {
          "base_uri": "https://localhost:8080/"
        },
        "id": "CnvovYqIrFsz",
        "outputId": "2c60eefd-ac3f-4bcd-e346-9fd12f69c784"
      },
      "source": [
        "print('훈련용 리뷰 개수 :',len(train_data)) # 훈련용 리뷰 개수 출력"
      ],
      "execution_count": 117,
      "outputs": [
        {
          "output_type": "stream",
          "name": "stdout",
          "text": [
            "훈련용 리뷰 개수 : 150000\n"
          ]
        }
      ]
    },
    {
      "cell_type": "code",
      "metadata": {
        "colab": {
          "base_uri": "https://localhost:8080/",
          "height": 514
        },
        "id": "U67gOSR7rISS",
        "outputId": "f9f19be6-6eca-4e37-d131-7a53c5af147d"
      },
      "source": [
        "train_data[:15] # 상위 15개 출력\n",
        "\n",
        "# label 1 : 긍정 , 0 : 부정"
      ],
      "execution_count": 118,
      "outputs": [
        {
          "output_type": "execute_result",
          "data": {
            "text/html": [
              "<div>\n",
              "<style scoped>\n",
              "    .dataframe tbody tr th:only-of-type {\n",
              "        vertical-align: middle;\n",
              "    }\n",
              "\n",
              "    .dataframe tbody tr th {\n",
              "        vertical-align: top;\n",
              "    }\n",
              "\n",
              "    .dataframe thead th {\n",
              "        text-align: right;\n",
              "    }\n",
              "</style>\n",
              "<table border=\"1\" class=\"dataframe\">\n",
              "  <thead>\n",
              "    <tr style=\"text-align: right;\">\n",
              "      <th></th>\n",
              "      <th>id</th>\n",
              "      <th>document</th>\n",
              "      <th>label</th>\n",
              "    </tr>\n",
              "  </thead>\n",
              "  <tbody>\n",
              "    <tr>\n",
              "      <th>0</th>\n",
              "      <td>9976970</td>\n",
              "      <td>아 더빙.. 진짜 짜증나네요 목소리</td>\n",
              "      <td>0</td>\n",
              "    </tr>\n",
              "    <tr>\n",
              "      <th>1</th>\n",
              "      <td>3819312</td>\n",
              "      <td>흠...포스터보고 초딩영화줄....오버연기조차 가볍지 않구나</td>\n",
              "      <td>1</td>\n",
              "    </tr>\n",
              "    <tr>\n",
              "      <th>2</th>\n",
              "      <td>10265843</td>\n",
              "      <td>너무재밓었다그래서보는것을추천한다</td>\n",
              "      <td>0</td>\n",
              "    </tr>\n",
              "    <tr>\n",
              "      <th>3</th>\n",
              "      <td>9045019</td>\n",
              "      <td>교도소 이야기구먼 ..솔직히 재미는 없다..평점 조정</td>\n",
              "      <td>0</td>\n",
              "    </tr>\n",
              "    <tr>\n",
              "      <th>4</th>\n",
              "      <td>6483659</td>\n",
              "      <td>사이몬페그의 익살스런 연기가 돋보였던 영화!스파이더맨에서 늙어보이기만 했던 커스틴 ...</td>\n",
              "      <td>1</td>\n",
              "    </tr>\n",
              "    <tr>\n",
              "      <th>5</th>\n",
              "      <td>5403919</td>\n",
              "      <td>막 걸음마 뗀 3세부터 초등학교 1학년생인 8살용영화.ㅋㅋㅋ...별반개도 아까움.</td>\n",
              "      <td>0</td>\n",
              "    </tr>\n",
              "    <tr>\n",
              "      <th>6</th>\n",
              "      <td>7797314</td>\n",
              "      <td>원작의 긴장감을 제대로 살려내지못했다.</td>\n",
              "      <td>0</td>\n",
              "    </tr>\n",
              "    <tr>\n",
              "      <th>7</th>\n",
              "      <td>9443947</td>\n",
              "      <td>별 반개도 아깝다 욕나온다 이응경 길용우 연기생활이몇년인지..정말 발로해도 그것보단...</td>\n",
              "      <td>0</td>\n",
              "    </tr>\n",
              "    <tr>\n",
              "      <th>8</th>\n",
              "      <td>7156791</td>\n",
              "      <td>액션이 없는데도 재미 있는 몇안되는 영화</td>\n",
              "      <td>1</td>\n",
              "    </tr>\n",
              "    <tr>\n",
              "      <th>9</th>\n",
              "      <td>5912145</td>\n",
              "      <td>왜케 평점이 낮은건데? 꽤 볼만한데.. 헐리우드식 화려함에만 너무 길들여져 있나?</td>\n",
              "      <td>1</td>\n",
              "    </tr>\n",
              "    <tr>\n",
              "      <th>10</th>\n",
              "      <td>9008700</td>\n",
              "      <td>걍인피니트가짱이다.진짜짱이다♥</td>\n",
              "      <td>1</td>\n",
              "    </tr>\n",
              "    <tr>\n",
              "      <th>11</th>\n",
              "      <td>10217543</td>\n",
              "      <td>볼때마다 눈물나서 죽겠다90년대의 향수자극!!허진호는 감성절제멜로의 달인이다~</td>\n",
              "      <td>1</td>\n",
              "    </tr>\n",
              "    <tr>\n",
              "      <th>12</th>\n",
              "      <td>5957425</td>\n",
              "      <td>울면서 손들고 횡단보도 건널때 뛰쳐나올뻔 이범수 연기 드럽게못해</td>\n",
              "      <td>0</td>\n",
              "    </tr>\n",
              "    <tr>\n",
              "      <th>13</th>\n",
              "      <td>8628627</td>\n",
              "      <td>담백하고 깔끔해서 좋다. 신문기사로만 보다 보면 자꾸 잊어버린다. 그들도 사람이었다...</td>\n",
              "      <td>1</td>\n",
              "    </tr>\n",
              "    <tr>\n",
              "      <th>14</th>\n",
              "      <td>9864035</td>\n",
              "      <td>취향은 존중한다지만 진짜 내생에 극장에서 본 영화중 가장 노잼 노감동임 스토리도 어...</td>\n",
              "      <td>0</td>\n",
              "    </tr>\n",
              "  </tbody>\n",
              "</table>\n",
              "</div>"
            ],
            "text/plain": [
              "          id                                           document  label\n",
              "0    9976970                                아 더빙.. 진짜 짜증나네요 목소리      0\n",
              "1    3819312                  흠...포스터보고 초딩영화줄....오버연기조차 가볍지 않구나      1\n",
              "2   10265843                                  너무재밓었다그래서보는것을추천한다      0\n",
              "3    9045019                      교도소 이야기구먼 ..솔직히 재미는 없다..평점 조정      0\n",
              "4    6483659  사이몬페그의 익살스런 연기가 돋보였던 영화!스파이더맨에서 늙어보이기만 했던 커스틴 ...      1\n",
              "5    5403919      막 걸음마 뗀 3세부터 초등학교 1학년생인 8살용영화.ㅋㅋㅋ...별반개도 아까움.      0\n",
              "6    7797314                              원작의 긴장감을 제대로 살려내지못했다.      0\n",
              "7    9443947  별 반개도 아깝다 욕나온다 이응경 길용우 연기생활이몇년인지..정말 발로해도 그것보단...      0\n",
              "8    7156791                             액션이 없는데도 재미 있는 몇안되는 영화      1\n",
              "9    5912145      왜케 평점이 낮은건데? 꽤 볼만한데.. 헐리우드식 화려함에만 너무 길들여져 있나?      1\n",
              "10   9008700                                   걍인피니트가짱이다.진짜짱이다♥      1\n",
              "11  10217543        볼때마다 눈물나서 죽겠다90년대의 향수자극!!허진호는 감성절제멜로의 달인이다~      1\n",
              "12   5957425                울면서 손들고 횡단보도 건널때 뛰쳐나올뻔 이범수 연기 드럽게못해      0\n",
              "13   8628627  담백하고 깔끔해서 좋다. 신문기사로만 보다 보면 자꾸 잊어버린다. 그들도 사람이었다...      1\n",
              "14   9864035  취향은 존중한다지만 진짜 내생에 극장에서 본 영화중 가장 노잼 노감동임 스토리도 어...      0"
            ]
          },
          "metadata": {},
          "execution_count": 118
        }
      ]
    },
    {
      "cell_type": "markdown",
      "metadata": {
        "id": "X-AU1E30r7Sw"
      },
      "source": [
        "## 데이터 정제하기"
      ]
    },
    {
      "cell_type": "code",
      "metadata": {
        "colab": {
          "base_uri": "https://localhost:8080/"
        },
        "id": "YLCkzMrGrKYu",
        "outputId": "da148d8b-14cf-46e5-a7a2-7b8e82bc9372"
      },
      "source": [
        "train_data['document'].nunique(), train_data['label'].nunique()"
      ],
      "execution_count": 119,
      "outputs": [
        {
          "output_type": "execute_result",
          "data": {
            "text/plain": [
              "(146182, 2)"
            ]
          },
          "metadata": {},
          "execution_count": 119
        }
      ]
    },
    {
      "cell_type": "code",
      "metadata": {
        "id": "27Nshz9_r_w6"
      },
      "source": [
        "train_data.drop_duplicates(subset=['document'], inplace=True) # document 열에서 중복인 내용이 있다면 중복 제거"
      ],
      "execution_count": 120,
      "outputs": []
    },
    {
      "cell_type": "code",
      "metadata": {
        "colab": {
          "base_uri": "https://localhost:8080/"
        },
        "id": "5dHrqRzvsMbn",
        "outputId": "39a9d6b9-e0d3-4e7c-bc56-c769e7434bfa"
      },
      "source": [
        "train_data.info()"
      ],
      "execution_count": 121,
      "outputs": [
        {
          "output_type": "stream",
          "name": "stdout",
          "text": [
            "<class 'pandas.core.frame.DataFrame'>\n",
            "Int64Index: 146183 entries, 0 to 149999\n",
            "Data columns (total 3 columns):\n",
            " #   Column    Non-Null Count   Dtype \n",
            "---  ------    --------------   ----- \n",
            " 0   id        146183 non-null  int64 \n",
            " 1   document  146182 non-null  object\n",
            " 2   label     146183 non-null  int64 \n",
            "dtypes: int64(2), object(1)\n",
            "memory usage: 4.5+ MB\n"
          ]
        }
      ]
    },
    {
      "cell_type": "code",
      "metadata": {
        "colab": {
          "base_uri": "https://localhost:8080/",
          "height": 280
        },
        "id": "8shADf9TsSZs",
        "outputId": "6cd7b5c5-e131-4781-a91d-65a065f130d1"
      },
      "source": [
        "# 편향 확인\n",
        "train_data['label'].value_counts().plot(kind = 'bar')"
      ],
      "execution_count": 122,
      "outputs": [
        {
          "output_type": "execute_result",
          "data": {
            "text/plain": [
              "<matplotlib.axes._subplots.AxesSubplot at 0x7f9df5ac5dd0>"
            ]
          },
          "metadata": {},
          "execution_count": 122
        },
        {
          "output_type": "display_data",
          "data": {
            "image/png": "[encoded data removed]",
            "text/plain": [
              "<Figure size 432x288 with 1 Axes>"
            ]
          },
          "metadata": {
            "needs_background": "light"
          }
        }
      ]
    },
    {
      "cell_type": "code",
      "metadata": {
        "colab": {
          "base_uri": "https://localhost:8080/"
        },
        "id": "wu8fpxknsUMm",
        "outputId": "10ed0764-6d51-47c1-8b11-86395471af1c"
      },
      "source": [
        "print(train_data.isnull().values.any())"
      ],
      "execution_count": 123,
      "outputs": [
        {
          "output_type": "stream",
          "name": "stdout",
          "text": [
            "True\n"
          ]
        }
      ]
    },
    {
      "cell_type": "code",
      "metadata": {
        "colab": {
          "base_uri": "https://localhost:8080/"
        },
        "id": "Z6OyG8oxsdQh",
        "outputId": "f2401f14-dd08-46ee-9705-9fb7412f3aff"
      },
      "source": [
        "print(train_data.isnull().sum())"
      ],
      "execution_count": 124,
      "outputs": [
        {
          "output_type": "stream",
          "name": "stdout",
          "text": [
            "id          0\n",
            "document    1\n",
            "label       0\n",
            "dtype: int64\n"
          ]
        }
      ]
    },
    {
      "cell_type": "code",
      "metadata": {
        "colab": {
          "base_uri": "https://localhost:8080/",
          "height": 80
        },
        "id": "6IYXrP_9seaq",
        "outputId": "13660bb9-78ef-42c4-f985-358688b3a34f"
      },
      "source": [
        "train_data.loc[train_data.document.isnull()]"
      ],
      "execution_count": 125,
      "outputs": [
        {
          "output_type": "execute_result",
          "data": {
            "text/html": [
              "<div>\n",
              "<style scoped>\n",
              "    .dataframe tbody tr th:only-of-type {\n",
              "        vertical-align: middle;\n",
              "    }\n",
              "\n",
              "    .dataframe tbody tr th {\n",
              "        vertical-align: top;\n",
              "    }\n",
              "\n",
              "    .dataframe thead th {\n",
              "        text-align: right;\n",
              "    }\n",
              "</style>\n",
              "<table border=\"1\" class=\"dataframe\">\n",
              "  <thead>\n",
              "    <tr style=\"text-align: right;\">\n",
              "      <th></th>\n",
              "      <th>id</th>\n",
              "      <th>document</th>\n",
              "      <th>label</th>\n",
              "    </tr>\n",
              "  </thead>\n",
              "  <tbody>\n",
              "    <tr>\n",
              "      <th>25857</th>\n",
              "      <td>2172111</td>\n",
              "      <td>NaN</td>\n",
              "      <td>1</td>\n",
              "    </tr>\n",
              "  </tbody>\n",
              "</table>\n",
              "</div>"
            ],
            "text/plain": [
              "            id document  label\n",
              "25857  2172111      NaN      1"
            ]
          },
          "metadata": {},
          "execution_count": 125
        }
      ]
    },
    {
      "cell_type": "code",
      "metadata": {
        "colab": {
          "base_uri": "https://localhost:8080/"
        },
        "id": "pcKvvPQQsgxc",
        "outputId": "684e3b75-0753-4f52-c414-f8050f4872f3"
      },
      "source": [
        "train_data = train_data.dropna(how = 'any') # Null 값이 존재하는 행 제거\n",
        "print(train_data.isnull().values.any()) # Null 값이 존재하는지 확인"
      ],
      "execution_count": 126,
      "outputs": [
        {
          "output_type": "stream",
          "name": "stdout",
          "text": [
            "False\n"
          ]
        }
      ]
    },
    {
      "cell_type": "code",
      "metadata": {
        "colab": {
          "base_uri": "https://localhost:8080/"
        },
        "id": "q94x2HVjsk3e",
        "outputId": "9ee0f29b-da0a-443c-8934-a65d8869068f"
      },
      "source": [
        "print(len(train_data))"
      ],
      "execution_count": 127,
      "outputs": [
        {
          "output_type": "stream",
          "name": "stdout",
          "text": [
            "146182\n"
          ]
        }
      ]
    },
    {
      "cell_type": "code",
      "metadata": {
        "id": "z-fsTuMHsmM4"
      },
      "source": [
        "## 테스트 데이터 확인"
      ],
      "execution_count": 128,
      "outputs": []
    },
    {
      "cell_type": "code",
      "metadata": {
        "colab": {
          "base_uri": "https://localhost:8080/"
        },
        "id": "Ef_OqSJhsyqC",
        "outputId": "9d4e4d7c-ad1f-42a1-dac0-6c2110ddc892"
      },
      "source": [
        "print('훈련용 리뷰 개수 :',len(test_data)) # 훈련용 리뷰 개수 출력"
      ],
      "execution_count": 129,
      "outputs": [
        {
          "output_type": "stream",
          "name": "stdout",
          "text": [
            "훈련용 리뷰 개수 : 50000\n"
          ]
        }
      ]
    },
    {
      "cell_type": "code",
      "metadata": {
        "colab": {
          "base_uri": "https://localhost:8080/"
        },
        "id": "zA-8m-NGs3Tt",
        "outputId": "54c3304d-f7ad-426d-cb0f-49fc32515571"
      },
      "source": [
        "test_data['document'].nunique(), test_data['label'].nunique()"
      ],
      "execution_count": 130,
      "outputs": [
        {
          "output_type": "execute_result",
          "data": {
            "text/plain": [
              "(49157, 2)"
            ]
          },
          "metadata": {},
          "execution_count": 130
        }
      ]
    },
    {
      "cell_type": "code",
      "metadata": {
        "id": "3qUNUtVls6mu"
      },
      "source": [
        "test_data.drop_duplicates(subset=['document'], inplace=True) # document 열에서 중복인 내용이 있다면 중복 제거"
      ],
      "execution_count": 131,
      "outputs": []
    },
    {
      "cell_type": "code",
      "metadata": {
        "colab": {
          "base_uri": "https://localhost:8080/"
        },
        "id": "-G-zA9gDtBIR",
        "outputId": "7c98dee5-d7a8-4134-ffaa-7f28436569f8"
      },
      "source": [
        "test_data.info()"
      ],
      "execution_count": 132,
      "outputs": [
        {
          "output_type": "stream",
          "name": "stdout",
          "text": [
            "<class 'pandas.core.frame.DataFrame'>\n",
            "Int64Index: 49158 entries, 0 to 49999\n",
            "Data columns (total 3 columns):\n",
            " #   Column    Non-Null Count  Dtype \n",
            "---  ------    --------------  ----- \n",
            " 0   id        49158 non-null  int64 \n",
            " 1   document  49157 non-null  object\n",
            " 2   label     49158 non-null  int64 \n",
            "dtypes: int64(2), object(1)\n",
            "memory usage: 1.5+ MB\n"
          ]
        }
      ]
    },
    {
      "cell_type": "code",
      "metadata": {
        "colab": {
          "base_uri": "https://localhost:8080/",
          "height": 280
        },
        "id": "brqFJotgtC6R",
        "outputId": "ca542e79-3c23-46c7-d46c-313f8cdab26c"
      },
      "source": [
        "# 편향 확인\n",
        "test_data['label'].value_counts().plot(kind = 'bar')"
      ],
      "execution_count": 133,
      "outputs": [
        {
          "output_type": "execute_result",
          "data": {
            "text/plain": [
              "<matplotlib.axes._subplots.AxesSubplot at 0x7f9df173fa10>"
            ]
          },
          "metadata": {},
          "execution_count": 133
        },
        {
          "output_type": "display_data",
          "data": {
            "image/png": "[encoded data removed]",
            "text/plain": [
              "<Figure size 432x288 with 1 Axes>"
            ]
          },
          "metadata": {
            "needs_background": "light"
          }
        }
      ]
    },
    {
      "cell_type": "code",
      "metadata": {
        "colab": {
          "base_uri": "https://localhost:8080/"
        },
        "id": "Cn6NWLnptGrN",
        "outputId": "2171e6b2-a8a8-45b0-be76-04c28f929246"
      },
      "source": [
        "print(test_data.isnull().values.any())"
      ],
      "execution_count": 134,
      "outputs": [
        {
          "output_type": "stream",
          "name": "stdout",
          "text": [
            "True\n"
          ]
        }
      ]
    },
    {
      "cell_type": "code",
      "metadata": {
        "colab": {
          "base_uri": "https://localhost:8080/"
        },
        "id": "0juHaIRwtJZ3",
        "outputId": "2b202657-28dd-4ad8-f626-1bfbd306c7f7"
      },
      "source": [
        "print(test_data.isnull().sum())"
      ],
      "execution_count": 135,
      "outputs": [
        {
          "output_type": "stream",
          "name": "stdout",
          "text": [
            "id          0\n",
            "document    1\n",
            "label       0\n",
            "dtype: int64\n"
          ]
        }
      ]
    },
    {
      "cell_type": "code",
      "metadata": {
        "colab": {
          "base_uri": "https://localhost:8080/",
          "height": 80
        },
        "id": "gLOLyfV1tLZu",
        "outputId": "160e6ed8-60d6-4c85-da2a-a06f498e3875"
      },
      "source": [
        "test_data.loc[test_data.document.isnull()]"
      ],
      "execution_count": 136,
      "outputs": [
        {
          "output_type": "execute_result",
          "data": {
            "text/html": [
              "<div>\n",
              "<style scoped>\n",
              "    .dataframe tbody tr th:only-of-type {\n",
              "        vertical-align: middle;\n",
              "    }\n",
              "\n",
              "    .dataframe tbody tr th {\n",
              "        vertical-align: top;\n",
              "    }\n",
              "\n",
              "    .dataframe thead th {\n",
              "        text-align: right;\n",
              "    }\n",
              "</style>\n",
              "<table border=\"1\" class=\"dataframe\">\n",
              "  <thead>\n",
              "    <tr style=\"text-align: right;\">\n",
              "      <th></th>\n",
              "      <th>id</th>\n",
              "      <th>document</th>\n",
              "      <th>label</th>\n",
              "    </tr>\n",
              "  </thead>\n",
              "  <tbody>\n",
              "    <tr>\n",
              "      <th>5746</th>\n",
              "      <td>402110</td>\n",
              "      <td>NaN</td>\n",
              "      <td>1</td>\n",
              "    </tr>\n",
              "  </tbody>\n",
              "</table>\n",
              "</div>"
            ],
            "text/plain": [
              "          id document  label\n",
              "5746  402110      NaN      1"
            ]
          },
          "metadata": {},
          "execution_count": 136
        }
      ]
    },
    {
      "cell_type": "code",
      "metadata": {
        "colab": {
          "base_uri": "https://localhost:8080/"
        },
        "id": "S8aqKTcitOXK",
        "outputId": "d18333b6-40a8-4384-80bf-8f79b1821435"
      },
      "source": [
        "test_data = test_data.dropna(how = 'any') # Null 값이 존재하는 행 제거\n",
        "print(test_data.isnull().values.any()) # Null 값이 존재하는지 확인"
      ],
      "execution_count": 137,
      "outputs": [
        {
          "output_type": "stream",
          "name": "stdout",
          "text": [
            "False\n"
          ]
        }
      ]
    },
    {
      "cell_type": "code",
      "metadata": {
        "colab": {
          "base_uri": "https://localhost:8080/"
        },
        "id": "QKvsgtx8tQzp",
        "outputId": "9307c08a-0306-4295-9bd7-f8e8585029f5"
      },
      "source": [
        "print(len(test_data))"
      ],
      "execution_count": 138,
      "outputs": [
        {
          "output_type": "stream",
          "name": "stdout",
          "text": [
            "49157\n"
          ]
        }
      ]
    },
    {
      "cell_type": "code",
      "metadata": {
        "colab": {
          "base_uri": "https://localhost:8080/",
          "height": 204
        },
        "id": "IXcRjno-tTaR",
        "outputId": "2e537231-9297-40d3-c77e-beebebbfd3c4"
      },
      "source": [
        "# 데이터 정제\n",
        "train_data['document'] = train_data['document'].str.replace(\"[^ㄱ-ㅎㅏ-ㅣ가-힣 ]\",\"\")\n",
        "# 한글과 공백을 제외하고 모두 제거\n",
        "train_data[:5]"
      ],
      "execution_count": 139,
      "outputs": [
        {
          "output_type": "execute_result",
          "data": {
            "text/html": [
              "<div>\n",
              "<style scoped>\n",
              "    .dataframe tbody tr th:only-of-type {\n",
              "        vertical-align: middle;\n",
              "    }\n",
              "\n",
              "    .dataframe tbody tr th {\n",
              "        vertical-align: top;\n",
              "    }\n",
              "\n",
              "    .dataframe thead th {\n",
              "        text-align: right;\n",
              "    }\n",
              "</style>\n",
              "<table border=\"1\" class=\"dataframe\">\n",
              "  <thead>\n",
              "    <tr style=\"text-align: right;\">\n",
              "      <th></th>\n",
              "      <th>id</th>\n",
              "      <th>document</th>\n",
              "      <th>label</th>\n",
              "    </tr>\n",
              "  </thead>\n",
              "  <tbody>\n",
              "    <tr>\n",
              "      <th>0</th>\n",
              "      <td>9976970</td>\n",
              "      <td>아 더빙 진짜 짜증나네요 목소리</td>\n",
              "      <td>0</td>\n",
              "    </tr>\n",
              "    <tr>\n",
              "      <th>1</th>\n",
              "      <td>3819312</td>\n",
              "      <td>흠포스터보고 초딩영화줄오버연기조차 가볍지 않구나</td>\n",
              "      <td>1</td>\n",
              "    </tr>\n",
              "    <tr>\n",
              "      <th>2</th>\n",
              "      <td>10265843</td>\n",
              "      <td>너무재밓었다그래서보는것을추천한다</td>\n",
              "      <td>0</td>\n",
              "    </tr>\n",
              "    <tr>\n",
              "      <th>3</th>\n",
              "      <td>9045019</td>\n",
              "      <td>교도소 이야기구먼 솔직히 재미는 없다평점 조정</td>\n",
              "      <td>0</td>\n",
              "    </tr>\n",
              "    <tr>\n",
              "      <th>4</th>\n",
              "      <td>6483659</td>\n",
              "      <td>사이몬페그의 익살스런 연기가 돋보였던 영화스파이더맨에서 늙어보이기만 했던 커스틴 던...</td>\n",
              "      <td>1</td>\n",
              "    </tr>\n",
              "  </tbody>\n",
              "</table>\n",
              "</div>"
            ],
            "text/plain": [
              "         id                                           document  label\n",
              "0   9976970                                  아 더빙 진짜 짜증나네요 목소리      0\n",
              "1   3819312                         흠포스터보고 초딩영화줄오버연기조차 가볍지 않구나      1\n",
              "2  10265843                                  너무재밓었다그래서보는것을추천한다      0\n",
              "3   9045019                          교도소 이야기구먼 솔직히 재미는 없다평점 조정      0\n",
              "4   6483659  사이몬페그의 익살스런 연기가 돋보였던 영화스파이더맨에서 늙어보이기만 했던 커스틴 던...      1"
            ]
          },
          "metadata": {},
          "execution_count": 139
        }
      ]
    },
    {
      "cell_type": "code",
      "metadata": {
        "colab": {
          "base_uri": "https://localhost:8080/"
        },
        "id": "EA-bTS3LuE9Y",
        "outputId": "fd3c05c4-47f6-4d3a-9331-64c7e7eeae6e"
      },
      "source": [
        "print(train_data.isnull().sum())"
      ],
      "execution_count": 140,
      "outputs": [
        {
          "output_type": "stream",
          "name": "stdout",
          "text": [
            "id          0\n",
            "document    0\n",
            "label       0\n",
            "dtype: int64\n"
          ]
        }
      ]
    },
    {
      "cell_type": "code",
      "metadata": {
        "colab": {
          "base_uri": "https://localhost:8080/"
        },
        "id": "ugIzsfmQuMEK",
        "outputId": "6a1cd82e-bf95-47b7-cf93-eb4ab4f579bf"
      },
      "source": [
        "train_data['document'] = train_data['document'].str.replace('^ +', \"\") # white space 데이터를 empty value로 변경\n",
        "train_data['document'].replace('', np.nan, inplace=True)\n",
        "print(train_data.isnull().sum())"
      ],
      "execution_count": 141,
      "outputs": [
        {
          "output_type": "stream",
          "name": "stdout",
          "text": [
            "id            0\n",
            "document    789\n",
            "label         0\n",
            "dtype: int64\n"
          ]
        }
      ]
    },
    {
      "cell_type": "code",
      "metadata": {
        "colab": {
          "base_uri": "https://localhost:8080/"
        },
        "id": "u4VhP0_uukvr",
        "outputId": "3269102d-db75-484d-a082-8949e5a3d63c"
      },
      "source": [
        "train_data = train_data.dropna(how = 'any') # Null 값이 존재하는 행 제거\n",
        "print(train_data.isnull().values.any()) # Null 값이 존재하는지 확인"
      ],
      "execution_count": 142,
      "outputs": [
        {
          "output_type": "stream",
          "name": "stdout",
          "text": [
            "False\n"
          ]
        }
      ]
    },
    {
      "cell_type": "code",
      "metadata": {
        "colab": {
          "base_uri": "https://localhost:8080/"
        },
        "id": "DTEIqdyIulAF",
        "outputId": "bfe2cb8c-ab59-49ec-e79c-cf6a33d9f650"
      },
      "source": [
        "test_data.drop_duplicates(subset = ['document'], inplace=True) # document 열에서 중복인 내용이 있다면 중복 제거\n",
        "test_data['document'] = test_data['document'].str.replace(\"[^ㄱ-ㅎㅏ-ㅣ가-힣 ]\",\"\") # 정규 표현식 수행\n",
        "test_data['document'] = test_data['document'].str.replace('^ +', \"\") # 공백은 empty 값으로 변경\n",
        "test_data['document'].replace('', np.nan, inplace=True) # 공백은 Null 값으로 변경\n",
        "test_data = test_data.dropna(how='any') # Null 값 제거\n",
        "print('전처리 후 테스트용 샘플의 개수 :',len(test_data))"
      ],
      "execution_count": 143,
      "outputs": [
        {
          "output_type": "stream",
          "name": "stdout",
          "text": [
            "전처리 후 테스트용 샘플의 개수 : 48852\n"
          ]
        }
      ]
    },
    {
      "cell_type": "code",
      "metadata": {
        "id": "V8omSOolum9s"
      },
      "source": [
        "## 작업량 줄이기(데이터가 너무 많아 돌리는데 시간이 오래걸림)\n",
        "# 작업량이 줄어 결과물이 안좋음\n",
        "\n",
        "train_data= train_data[:3000]\n",
        "test_data= test_data[:3000]"
      ],
      "execution_count": 144,
      "outputs": []
    },
    {
      "cell_type": "markdown",
      "metadata": {
        "id": "YXYMXtr3u2Zx"
      },
      "source": [
        "## 토큰화"
      ]
    },
    {
      "cell_type": "code",
      "metadata": {
        "id": "hnkotRpsu1Sw"
      },
      "source": [
        "# 뺄 단어들 추가\n",
        "stopwords = ['의','가','이','은','들','는','좀','잘','걍','과','도','를','으로','자','에','와','한','하다']"
      ],
      "execution_count": 145,
      "outputs": []
    },
    {
      "cell_type": "code",
      "metadata": {
        "colab": {
          "base_uri": "https://localhost:8080/"
        },
        "id": "dhHCdNtju3_2",
        "outputId": "033b6481-f1f7-45e0-a134-e87d5550775f"
      },
      "source": [
        "okt = Okt()\n",
        "okt.morphs('와 이런 것도 영화라고 차라리 뮤직비디오를 만드는 게 나을 뻔', stem = True)\n",
        "# 문장의 단어 토큰화"
      ],
      "execution_count": 146,
      "outputs": [
        {
          "output_type": "execute_result",
          "data": {
            "text/plain": [
              "['오다', '이렇다', '것', '도', '영화', '라고', '차라리', '뮤직비디오', '를', '만들다', '게', '나다', '뻔']"
            ]
          },
          "metadata": {},
          "execution_count": 146
        }
      ]
    },
    {
      "cell_type": "code",
      "metadata": {
        "colab": {
          "base_uri": "https://localhost:8080/"
        },
        "id": "HicOmhZ0u7BO",
        "outputId": "80890afc-e9f6-4382-e796-f41b3db3e83c"
      },
      "source": [
        "# 트레인 데이터 리뷰별 리스트로 묶어 토큰화\n",
        "X_train = []\n",
        "for sentence in tqdm(train_data['document']):\n",
        "    tokenized_sentence = okt.morphs(sentence, stem=True) # 토큰화\n",
        "    stopwords_removed_sentence = [word for word in tokenized_sentence if not word in stopwords] # 불용어 제거\n",
        "    X_train.append(stopwords_removed_sentence)\n"
      ],
      "execution_count": 147,
      "outputs": [
        {
          "output_type": "stream",
          "name": "stderr",
          "text": [
            "100%|██████████| 3000/3000 [00:11<00:00, 263.48it/s]\n"
          ]
        }
      ]
    },
    {
      "cell_type": "code",
      "metadata": {
        "colab": {
          "base_uri": "https://localhost:8080/"
        },
        "id": "28UV-hOJu8LU",
        "outputId": "0c121b09-6f4f-4f69-d725-3bd5f9e73ae8"
      },
      "source": [
        "print(X_train[:3])"
      ],
      "execution_count": 148,
      "outputs": [
        {
          "output_type": "stream",
          "name": "stdout",
          "text": [
            "[['아', '더빙', '진짜', '짜증나다', '목소리'], ['흠', '포스터', '보고', '초딩', '영화', '줄', '오버', '연기', '조차', '가볍다', '않다'], ['너', '무재', '밓었', '다그', '래서', '보다', '추천', '다']]\n"
          ]
        }
      ]
    },
    {
      "cell_type": "code",
      "metadata": {
        "colab": {
          "base_uri": "https://localhost:8080/"
        },
        "id": "A8FUELkAu9Cr",
        "outputId": "a6427e84-225b-4efd-8952-cec46f60b90b"
      },
      "source": [
        "# 테스트데이터 토큰화\n",
        "X_test = []\n",
        "for sentence in tqdm(test_data['document']):\n",
        "    tokenized_sentence = okt.morphs(sentence, stem=True) # 토큰화\n",
        "    stopwords_removed_sentence = [word for word in tokenized_sentence if not word in stopwords] # 불용어 제거\n",
        "    X_test.append(stopwords_removed_sentence)"
      ],
      "execution_count": 149,
      "outputs": [
        {
          "output_type": "stream",
          "name": "stderr",
          "text": [
            "100%|██████████| 3000/3000 [00:10<00:00, 282.06it/s]\n"
          ]
        }
      ]
    },
    {
      "cell_type": "markdown",
      "metadata": {
        "id": "me8Tn-m3u_fH"
      },
      "source": [
        "## 정수 인코딩"
      ]
    },
    {
      "cell_type": "code",
      "metadata": {
        "id": "LZqxD50Ou-12"
      },
      "source": [
        "tokenizer = Tokenizer()\n",
        "tokenizer.fit_on_texts(X_train)\n",
        "# 단어 집합 생성(단어별 고유의 인덱스가 부여됨)\n",
        "# 인덱스는 빈도수가 높은 순서로 부여 됨, 인덱스가 클수록 빈도수가 매우 낮음"
      ],
      "execution_count": 150,
      "outputs": []
    },
    {
      "cell_type": "code",
      "metadata": {
        "colab": {
          "base_uri": "https://localhost:8080/"
        },
        "id": "ImdDmElovB3x",
        "outputId": "8bf42a5c-c87f-448f-d6f3-3616029e6613"
      },
      "source": [
        "print(tokenizer.word_index)"
      ],
      "execution_count": 151,
      "outputs": [
        {
          "output_type": "stream",
          "name": "stdout",
          "text": [
            "{'영화': 1, '보다': 2, '을': 3, '없다': 4, '이다': 5, '있다': 6, '좋다': 7, '다': 8, '만': 9, '정말': 10, '같다': 11, '재밌다': 12, '너무': 13, '진짜': 14, '되다': 15, '적': 16, '아니다': 17, '점': 18, '나오다': 19, '않다': 20, '안': 21, '로': 22, '에서': 23, '인': 24, '평점': 25, '만들다': 26, '연기': 27, '나': 28, '것': 29, '최고': 30, '사람': 31, '드라마': 32, '못': 33, '고': 34, '보고': 35, '내': 36, '그': 37, '말': 38, '스토리': 39, '왜': 40, '생각': 41, '아깝다': 42, '게': 43, '때': 44, '감동': 45, '감독': 46, 'ㅋㅋ': 47, '배우': 48, '하고': 49, '더': 50, '재미있다': 51, '거': 52, '시간': 53, '이렇다': 54, '재미없다': 55, '재미': 56, '그냥': 57, '내용': 58, '주다': 59, '요': 60, '아': 61, '가다': 62, '그렇다': 63, '까지': 64, '지루하다': 65, '네': 66, '사랑': 67, '중': 68, '모르다': 69, '들다': 70, '쓰레기': 71, '뭐': 72, '싶다': 73, '작품': 74, '알다': 75, '볼': 76, '이건': 77, '자다': 78, '주인공': 79, '정도': 80, '지': 81, '수': 82, '이렇게': 83, '하나': 84, '액션': 85, '완전': 86, '돈': 87, '마지막': 88, 'ㅋㅋㅋ': 89, '기': 90, 'ㅠㅠ': 91, '다시': 92, 'ㅋ': 93, '차다': 94, '또': 95, '남다': 96, '역시': 97, '넘다': 98, '라': 99, '인데': 100, '최악': 101, '년': 102, '개': 103, '임': 104, '난': 105, '그리고': 106, '장면': 107, '저': 108, '걸': 109, '연출': 110, '일': 111, '느낌': 112, '많다': 113, '먹다': 114, '하': 115, 'ㅡㅡ': 116, '버리다': 117, '남자': 118, '처음': 119, '지금': 120, '서': 121, '오다': 122, '듯': 123, '별로': 124, '여': 125, '영': 126, '많이': 127, '나다': 128, '이야기': 129, '부터': 130, '명작': 131, '안되다': 132, '꼭': 133, '인생': 134, '아쉽다': 135, '냐': 136, '랑': 137, '느끼다': 138, '죽다': 139, '받다': 140, '무슨': 141, '소재': 142, '별': 143, '면': 144, '한번': 145, '속': 146, '이런': 147, '에게': 148, '좋아하다': 149, '두': 150, '멋지다': 151, '괜찮다': 152, '아름답다': 153, 'ㅎㅎ': 154, '라고': 155, '엔': 156, '이영화': 157, '높다': 158, '솔직하다': 159, '해주다': 160, '이나': 161, '맞다': 162, '어떻다': 163, '대': 164, '보기': 165, '끝': 166, '라는': 167, '님': 168, '모든': 169, '기억': 170, '가슴': 171, '분': 172, '현실': 173, '인간': 174, '살다': 175, '낮다': 176, '알': 177, '건지다': 178, '되어다': 179, '지다': 180, '뿐': 181, '본': 182, '짜증나다': 183, '줄': 184, '무섭다': 185, '전': 186, '지만': 187, '성': 188, '이고': 189, '다른': 190, '함': 191, '움': 192, '이해': 193, '보여주다': 194, '자체': 195, '결말': 196, '화': 197, '마음': 198, '제': 199, '추천': 200, '야': 201, '매력': 202, '공감': 203, '우리': 204, '유치하다': 205, '실망': 206, '쓰다': 207, '급': 208, '때문': 209, '가장': 210, '조금': 211, '끝나다': 212, '뻔하다': 213, '어리다': 214, '없이': 215, '개봉': 216, '번': 217, '보이다': 218, '웃기다': 219, '끄다': 220, '웃다': 221, '건': 222, '인가': 223, '음악': 224, 'ㅜㅜ': 225, '전개': 226, '슬프다': 227, '눈': 228, '시리즈': 229, '제목': 230, '반전': 231, '짱': 232, '이라': 233, '애': 234, '뭔가': 235, '아이': 236, '내내': 237, '울다': 238, '잇다': 239, '이쁘다': 240, '원작': 241, '나름': 242, '대한': 243, '크다': 244, '깊다': 245, '기분': 246, '진심': 247, '전혀': 248, '당시': 249, '여운': 250, '요즘': 251, '밖에': 252, '허다': 253, '귀엽다': 254, '여자': 255, '찍다': 256, '뭔': 257, '욕': 258, '연': 259, '처럼': 260, '돼다': 261, '말다': 262, '근데': 263, '빠지다': 264, '아주': 265, '야하다': 266, '자신': 267, '이란': 268, '표현': 269, '작': 270, '노래': 271, '씨': 272, '극장': 273, '절대': 274, '수준': 275, '대단하다': 276, '일본': 277, '기대': 278, '개인': 279, '이유': 280, '니': 281, '에는': 282, '영상': 283, '부분': 284, '눈물': 285, '점도': 286, '특히': 287, '위': 288, '나가다': 289, '두다': 290, '이라는': 291, '캐릭터': 292, '제일': 293, '모습': 294, '대해': 295, '이제': 296, '짜다': 297, '뭘': 298, '설정': 299, '이상하다': 300, '몰입': 301, '믿다': 302, '하지만': 303, '한국': 304, '미치다': 305, '친구': 306, '감': 307, '애니': 308, '놈': 309, '늘다': 310, '력': 311, '잔잔하다': 312, '웃음': 313, '계속': 314, '이야': 315, '회': 316, '연기력': 317, '대박': 318, '문제': 319, '막장': 320, '알바': 321, '아직': 322, '시키다': 323, '굿': 324, '의미': 325, '인지': 326, '가족': 327, '데': 328, '캐스팅': 329, '한테': 330, '인상': 331, '후': 332, '오랜': 333, '코미디': 334, 'ㅠ': 335, '전쟁': 336, '이상': 337, '결국': 338, '장난': 339, '편': 340, '점수': 341, '몇': 342, '극': 343, '아직도': 344, '작가': 345, '이랑': 346, '떨어지다': 347, '스럽다': 348, '오늘': 349, '쯤': 350, '용': 351, '보지': 352, '시': 353, '예쁘다': 354, '완벽하다': 355, '스릴러': 356, '세상': 357, 'ㅎ': 358, '이지만': 359, '삶': 360, '모두': 361, '재다': 362, '엄청나다': 363, '너': 364, '세': 365, '살리다': 366, '해도': 367, '꽤': 368, '년대': 369, '코': 370, '이라고': 371, '수작': 372, '정신': 373, '이네': 374, '맘': 375, '신선하다': 376, '건가': 377, '한국영': 378, '어느': 379, '상당하다': 380, '물': 381, '제발': 382, '해보다': 383, '이지': 384, '안타깝다': 385, '여기': 386, '느껴지다': 387, '필요없다': 388, '포스터': 389, '긴장감': 390, '딱': 391, '감정': 392, '우리나라': 393, '시청률': 394, '에도': 395, '그래도': 396, 'ㅋㅋㅋㅋ': 397, '머': 398, '따뜻하다': 399, '그만': 400, '서다': 401, '추억': 402, '내다': 403, '중국': 404, '키': 405, '이딴': 406, '이후': 407, '터지다': 408, '차라리': 409, '제대로': 410, '갈수록': 411, '초반': 412, '작다': 413, '그저': 414, '어이없다': 415, '놓다': 416, '다르다': 417, '잼': 418, '힘들다': 419, '나이': 420, '답': 421, '죽이다': 422, '티비': 423, '구성': 424, '대사': 425, '더럽다': 426, '남': 427, '떠나다': 428, '가지': 429, '놀라다': 430, '써다': 431, '공포영화': 432, '장르': 433, '좀비': 434, '낫다': 435, '치다': 436, '노잼': 437, '간': 438, '기대하다': 439, '중간': 440, '위해': 441, '졸작': 442, '새롭다': 443, '로맨스': 444, '해': 445, '질': 446, '뜨다': 447, '그리다': 448, '한마디': 449, '배경': 450, '류': 451, '니까': 452, '책': 453, '소리': 454, '시나리오': 455, '확실하다': 456, '봄': 457, '찾다': 458, '라면': 459, '엉': 460, '얼굴': 461, '같이': 462, '공포': 463, '돋다': 464, '소름': 465, '떼다': 466, '마다': 467, '구': 468, '그래서': 469, '이리': 470, 'ㅉㅉ': 471, '잊다': 472, '행복하다': 473, '빨리': 474, '노력': 475, '몰입도': 476, '시작': 477, '킬링타임': 478, '도대체': 479, '어울리다': 480, '년전': 481, '화이팅': 482, '읽다': 483, '피': 484, '어': 485, '사랑스럽다': 486, '등': 487, '코믹': 488, '날': 489, '시절': 490, '라니': 491, '망하다': 492, '비다': 493, '당신': 494, '여배우': 495, '앞': 496, '얘기': 497, '돌리다': 498, '든': 499, '기다': 500, '싸우다': 501, '다운': 502, '참고': 503, '존나': 504, '자기': 505, '실화': 506, '예술': 507, '분위기': 508, '스파이더맨': 509, '식': 510, '화려하다': 511, '감성': 512, '드럽다': 513, '이르다': 514, '진부하다': 515, '대체': 516, '상': 517, '맛': 518, '소': 519, '짜증': 520, '산': 521, '특유': 522, '쓸다': 523, '또한': 524, '살': 525, '나르다': 526, '멀다': 527, '유쾌하다': 528, '게임': 529, '당하다': 530, '아무': 531, '옛날': 532, '나쁘다': 533, '후회': 534, '순간': 535, '허무하다': 536, '훌륭하다': 537, '극장판': 538, '역사': 539, '엄마': 540, '부': 541, '스릴': 542, '오글거리다': 543, '부족하다': 544, '한심하다': 545, '걸다': 546, '돌아가다': 547, '애니메이션': 548, '시대': 549, '탄탄하다': 550, '멋있다': 551, '최고다': 552, '사건': 553, '그렇게': 554, '빼다': 555, '상영': 556, '통해': 557, '어색하다': 558, '혹은': 559, '영화인': 560, '화면': 561, '팬': 562, '분들': 563, '더빙': 564, '초딩': 565, '막': 566, '반개': 567, '그것': 568, '손': 569, '뻔': 570, '노': 571, '이라도': 572, '발연기': 573, '관객': 574, '명': 575, '가면': 576, '다니다': 577, '에선': 578, '그대로': 579, '다큐': 580, '바로': 581, '살인': 582, '어디': 583, '집': 584, '엉망': 585, '너무나': 586, '잡다': 587, '점점': 588, '만들어지다': 589, '상황': 590, '충분하다': 591, '한편': 592, '완성': 593, '그녀': 594, '예산': 595, '얼마나': 596, '화가': 597, '판': 598, '년도': 599, '래': 600, '훈훈하다': 601, '네이버': 602, '비': 603, '기도': 604, '답답하다': 605, '묻다': 606, '개연': 607, '휴': 608, '비디오': 609, '주': 610, '실제': 611, '진': 612, '누가': 613, '물론': 614, '만화': 615, '엔딩': 616, '미화': 617, '전작': 618, '씬': 619, '전체': 620, '약하다': 621, '만의': 622, '쉬다': 623, '시도': 624, '여주': 625, '이에요': 626, '궁금하다': 627, '접': 628, '죠': 629, '함께': 630, '총': 631, '울': 632, '촬영': 633, '주연': 634, '무엇': 635, '억': 636, '달다': 637, '불편하다': 638, '너무나도': 639, '발': 640, '뒤': 641, '도안': 642, '원': 643, '단순하다': 644, 'ㅇ': 645, '혼자': 646, '적다': 647, '언제': 648, '깊이': 649, '차': 650, '어설프다': 651, '진정': 652, '가요': 653, '에요': 654, '밉다': 655, '인거': 656, '술': 657, '끌': 658, '현': 659, '실감': 660, '순수하다': 661, '이냐': 662, '왠만하다': 663, '어린이': 664, '왠지': 665, '생기다': 666, '따다': 667, '까지도': 668, '꿈': 669, '동': 670, '귀신': 671, '세계': 672, '색다르다': 673, '어디서': 674, '편이': 675, '연인': 676, '장': 677, '영화로': 678, '불쾌하다': 679, '말고': 680, '흥미진진': 681, '화보': 682, '첨': 683, '사실': 684, '형': 685, '흐르다': 686, '보내다': 687, '엄청': 688, '괜히': 689, '필요하다': 690, '관': 691, '영화관': 692, '평생': 693, '곳': 694, '머리': 695, '존재': 696, '상미': 697, '등장': 698, '팔': 699, '군': 700, '지나다': 701, '평': 702, '출연': 703, '기적': 704, '역대': 705, '시즌': 706, '악': 707, '만나다': 708, '바뀌다': 709, '흠': 710, '반복': 711, '멜로': 712, '취향': 713, '이기': 714, '착하다': 715, '방법': 716, '낭비': 717, '뛰어나다': 718, '간다': 719, '오': 720, '소설': 721, '터': 722, '완전하다': 723, '악역': 724, '비슷하다': 725, '들어가다': 726, '억지스럽다': 727, '라서': 728, '매우': 729, '흥행': 730, '때리다': 731, 'ㅋㅋㅋㅋㅋ': 732, '유': 733, '케이블': 734, '화끈하다': 735, '지겹다': 736, '재밋': 737, '순': 738, '죽': 739, '힘드다': 740, '싫다': 741, '판타지': 742, '보': 743, '청춘': 744, '히': 745, '웃기': 746, '닿다': 747, '일단': 748, '댓글': 749, '가보다': 750, '어렵다': 751, '딸': 752, '범죄': 753, '빠져들다': 754, '드': 755, '비추다': 756, 'ㅜ': 757, '부르다': 758, '겁나다': 759, '거기': 760, '슬픔': 761, '인하다': 762, '그러나': 763, '갈다': 764, '조폭': 765, '진행': 766, '사회': 767, '끌다': 768, '망치다': 769, '사다': 770, '며': 771, '감사하다': 772, '선생님': 773, '일이': 774, '생각나다': 775, '억지': 776, '아오': 777, '에서는': 778, '뭐라다': 779, '성하다': 780, '들이다': 781, '아저씨': 782, '역겹다': 783, '께': 784, '드리다': 785, '간만': 786, '명화': 787, '티': 788, '누구': 789, '기억나다': 790, '타다': 791, '그나마': 792, '죽음': 793, '선택': 794, '끼리': 795, '집중': 796, '강': 797, '만하': 798, '으로는': 799, '보다는': 800, '예고편': 801, '훨씬': 802, '각본': 803, '아프다': 804, '가지다': 805, '무조건': 806, '안좋다': 807, '달': 808, '반': 809, '얻다': 810, '배우다': 811, '죄': 812, '가볍다': 813, '마': 814, '초등학교': 815, '학년': 816, '신': 817, '긴장': 818, '중반': 819, '라도': 820, '안나': 821, '평가': 822, '상태': 823, '대다': 824, '충격': 825, '이정': 826, '예전': 827, '삼': 828, '빨': 829, '성룡': 830, '불륜': 831, '전부': 832, '아들': 833, '교훈': 834, '담기다': 835, '에서도': 836, '쩔다': 837, '잔인하다': 838, '조절': 839, '사극': 840, '생': 841, '돌아오다': 842, '이든': 843, '면서': 844, '사로자다': 845, '언': 846, '그때': 847, '조연': 848, '프로': 849, '대가': 850, '란': 851, '역': 852, '묘사': 853, '가치': 854, '액션영화': 855, '적당하다': 856, '즐겁다': 857, '세기': 858, '중요하다': 859, '누군가': 860, '끼다': 861, '예': 862, '감다': 863, '아빠': 864, '의도': 865, '보다도': 866, '진리': 867, '이번': 868, '따르다': 869, '바라다': 870, '그래픽': 871, '망작': 872, '스': 873, '자식': 874, '엇': 875, '짠하다': 876, '잃다': 877, '아픔': 878, '영원하다': 879, '남기다': 880, '아무리': 881, '미안하다': 882, '기술': 883, '약간': 884, '복수': 885, '만으로도': 886, '섬세하다': 887, '남녀': 888, '조': 889, '싫어하다': 890, '타': 891, '희망': 892, '최근': 893, '스타': 894, '께서': 895, '유럽': 896, '행동': 897, '우울하다': 898, '까진': 899, '동시': 900, '아줌마': 901, '맞추다': 902, '그게': 903, '걸작': 904, '맨': 905, '화란': 906, '만점': 907, '요소': 908, '다행': 909, '용도': 910, '쓰래': 911, '게이': 912, '프랑스': 913, '설득': 914, '소녀': 915, '아버지': 916, '꿀잼': 917, '선': 918, '흔하다': 919, '줄거리': 920, '편집': 921, '재': 922, '심리': 923, '비교': 924, '학교': 925, '귀': 926, '오빠': 927, '몸': 928, '거의': 929, '전편': 930, '형제': 931, '목소리': 932, '보단': 933, '볼때': 934, '눈물나다': 935, '절제': 936, '올': 937, '문': 938, '사': 939, '경': 940, '는걸': 941, '주제': 942, '올리다': 943, '북한': 944, '용이': 945, '수도': 946, '동화': 947, '무겁다': 948, '맨날': 949, '온': 950, '말로': 951, '에피소드': 952, '갈등': 953, '별루': 954, 'ㅋㅋㅋㅋㅋㅋ': 955, '강추': 956, '산만하다': 957, '태어나다': 958, '생애': 959, '지난': 960, '헐다': 961, '배역': 962, '젤': 963, '모자라다': 964, '나라': 965, '후반': 966, '퀄리티': 967, '자극': 968, '아끼다': 969, '외국': 970, 'ㅈ': 971, '치고': 972, '지키다': 973, '거슬리다': 974, '어제': 975, '참다': 976, '시종일관': 977, '나서다': 978, '잠': 979, '실력': 980, '짓다': 981, '기존': 982, '만이': 983, '으': 984, '새벽': 985, '필요': 986, '제로': 987, '괴물': 988, '느와르': 989, '본인': 990, '피해자': 991, '짧다': 992, '월': 993, '이름': 994, '몰다': 995, '질질': 996, '지루함': 997, '딱하다': 998, '닮다': 999, '연예인': 1000, '준': 1001, '대작': 1002, '개다': 1003, '둘': 1004, '탑': 1005, '법': 1006, '강하다': 1007, '대한민국': 1008, '제작비': 1009, '메세지': 1010, '인물': 1011, '찝찝하다': 1012, '빌리다': 1013, '나중': 1014, '우연히': 1015, '챙기다': 1016, '정말로': 1017, '즐기다': 1018, '평론가': 1019, '아누': 1020, '밥': 1021, '단': 1022, '영활': 1023, '열심히': 1024, '갑자기': 1025, '그런': 1026, '분명하다': 1027, '다음': 1028, '끌리다': 1029, '주기': 1030, '자막': 1031, '숨다': 1032, '하늘': 1033, '올해': 1034, '무': 1035, '쵝오': 1036, '풀다': 1037, '길': 1038, '관계': 1039, '바람': 1040, '벌써': 1041, '관람': 1042, '접다': 1043, '젠': 1044, '제작': 1045, '낳다': 1046, '영웅': 1047, '설명': 1048, '점주': 1049, '덕분': 1050, '이어서': 1051, '신기하다': 1052, '아련하다': 1053, '여인': 1054, '여서': 1055, '동생': 1056, '뇌': 1057, '쉬': 1058, '식상하다': 1059, '미드': 1060, '청소년': 1061, '황당하다': 1062, '걱정': 1063, '무협': 1064, '영화감독': 1065, '채널': 1066, '개판': 1067, '줌': 1068, '혹시': 1069, '개념': 1070, '동안': 1071, '효과': 1072, '줄다': 1073, '잊혀지다': 1074, '뿐이다': 1075, '저렇게': 1076, '으로도': 1077, '신의': 1078, '안보': 1079, '로는': 1080, '정': 1081, '등장인물': 1082, '풀': 1083, '추하다': 1084, '더욱': 1085, '소중하다': 1086, '지리다': 1087, '참신하다': 1088, '전설': 1089, '이면': 1090, '어휴': 1091, '어른': 1092, '영환': 1093, 'ㄷㄷ': 1094, '원래': 1095, '외': 1096, '몇번': 1097, '환상': 1098, '굿굿': 1099, '유리': 1100, '본성': 1101, '나타나다': 1102, '만큼': 1103, '과거': 1104, '햇': 1105, 'ㅁ': 1106, '찾아보다': 1107, '오버': 1108, '조차': 1109, '사이': 1110, '모': 1111, '엿': 1112, '뛰다': 1113, '어거지': 1114, '냥': 1115, '매번': 1116, '깔다': 1117, '학생': 1118, '평범하다': 1119, '탁월하다': 1120, '열정': 1121, 'ㅇㅇ': 1122, '발견': 1123, '탈': 1124, '리얼리티': 1125, '불가': 1126, '마이너스': 1127, '잠시': 1128, '콩': 1129, '심심하다': 1130, '카리스마': 1131, '당황': 1132, '일상': 1133, '은희': 1134, '극적': 1135, '예요': 1136, '현대': 1137, '학살': 1138, '부작': 1139, '백': 1140, '넣다': 1141, '걸리다': 1142, '코드': 1143, '위대하다': 1144, '내일': 1145, 'ㅎㅎㅎ': 1146, '쫌': 1147, '왕': 1148, '짬뽕': 1149, '망치': 1150, '미국': 1151, '연기자': 1152, '따로': 1153, '쪽': 1154, '한석규': 1155, '살짝': 1156, '만해': 1157, '여전하다': 1158, '혹': 1159, '드니': 1160, '지네': 1161, '유명하다': 1162, '방송': 1163, '심하다': 1164, '김': 1165, '역할': 1166, '로써': 1167, '해내다': 1168, '흥미롭다': 1169, '굉장하다': 1170, '주기도': 1171, '인가요': 1172, '지나치다': 1173, '여정': 1174, '하라': 1175, '짜임새': 1176, '음': 1177, '따라가다': 1178, '낼': 1179, '바라보다': 1180, '겁니다': 1181, '이따위': 1182, '신나다': 1183, '어쩔': 1184, '다시다': 1185, '실패': 1186, '안습': 1187, '전달': 1188, '쇼': 1189, '시선': 1190, '그건': 1191, '굳이': 1192, '호구': 1193, '쓸데없이': 1194, '성도': 1195, '파다': 1196, '천재': 1197, '땐': 1198, '뭉클하다': 1199, '빠순이': 1200, '마저': 1201, '와는': 1202, '꺼': 1203, '역작': 1204, '핵': 1205, '하나님': 1206, '랄': 1207, '평균': 1208, '동영상': 1209, '뛰어넘다': 1210, '히어로': 1211, '놀이': 1212, '중심': 1213, '탈출': 1214, '리얼': 1215, '로봇': 1216, '레전드': 1217, '싸다': 1218, '똥': 1219, '늦다': 1220, '도움': 1221, '바꾸다': 1222, '울리다': 1223, '길다': 1224, '서로': 1225, '거리': 1226, '공부': 1227, '울컥': 1228, '만으로': 1229, '깜짝': 1230, '쥐': 1231, '땜': 1232, '짐승': 1233, '문화': 1234, '치밀하다': 1235, '졸다': 1236, '속편': 1237, '종영': 1238, '잘못': 1239, '매니아': 1240, '이하': 1241, '대안': 1242, '공포물': 1243, '개뿔': 1244, '일찍': 1245, '째': 1246, '가끔': 1247, '촌스럽다': 1248, '몸매': 1249, '기키': 1250, '불': 1251, '내놓다': 1252, '나와라': 1253, '가족영화': 1254, '신경': 1255, '장가': 1256, '깨': 1257, '한계': 1258, '불다': 1259, '종교': 1260, '짓': 1261, '심각하다': 1262, '외계인': 1263, '린다': 1264, '데리': 1265, '첫': 1266, '카메라': 1267, '던데': 1268, '철학': 1269, '남성': 1270, '홍보': 1271, '특별하다': 1272, '어머니': 1273, '이라서': 1274, '그만큼': 1275, '에겐': 1276, '아기': 1277, '시점': 1278, '쏘다': 1279, '과학': 1280, '너무하다': 1281, '너무도': 1282, '빛': 1283, '정작': 1284, '아침': 1285, '약': 1286, '독립영화': 1287, '새': 1288, '방': 1289, '따위': 1290, '자주': 1291, '폭력': 1292, '입다': 1293, '변하다': 1294, '극복': 1295, '짐': 1296, '특이하다': 1297, '확': 1298, '그걸': 1299, '손발': 1300, '후속작': 1301, '지구': 1302, '에로': 1303, '되게': 1304, '현재': 1305, '특수': 1306, '담다': 1307, '마이': 1308, '연결': 1309, '이여': 1310, '먼저': 1311, '으리': 1312, '일부러': 1313, 'ㅉㅉㅉ': 1314, '때매': 1315, '그런데': 1316, '에게도': 1317, '끝내다': 1318, '찬사': 1319, '존경': 1320, '뜬금없이': 1321, '해오다': 1322, '멋': 1323, '지상파': 1324, '마르다': 1325, '으로써': 1326, '땅': 1327, '터미네이터': 1328, '암튼': 1329, '임권택': 1330, '아쉬움': 1331, '내면': 1332, '스케일': 1333, '분석': 1334, '중학교': 1335, '고맙다': 1336, '그림': 1337, '감상': 1338, 'ㅅㅂ': 1339, '에게는': 1340, '커플': 1341, '갑': 1342, '무의미하다': 1343, '끼': 1344, '보라': 1345, '허준': 1346, '수고': 1347, '예상': 1348, '이용': 1349, '이연걸': 1350, '늘리다': 1351, '신동엽': 1352, '여신': 1353, '심장': 1354, '조화': 1355, '앞서': 1356, '관점': 1357, '비판': 1358, '부끄럽다': 1359, '형사': 1360, '늘': 1361, '열': 1362, '어차피': 1363, '흐름': 1364, '부산': 1365, '공': 1366, '동물': 1367, '욕먹다': 1368, '여왕': 1369, '김희선': 1370, '무재': 1371, '돋보이다': 1372, '늙다': 1373, '헐리우드': 1374, '향수': 1375, '울면': 1376, '깔끔하다': 1377, '로만': 1378, 'ㄱ': 1379, '바스코': 1380, '없어지다': 1381, '깨알': 1382, '뜻': 1383, '음식': 1384, '차이': 1385, '납득': 1386, '고추': 1387, '센스': 1388, '꽃': 1389, '죄인': 1390, '은은하다': 1391, '미소': 1392, '한데': 1393, '물건': 1394, '바': 1395, '어쩌라고': 1396, '이라고는': 1397, '차갑다': 1398, '일본인': 1399, '전개도': 1400, '민간인': 1401, '재탕': 1402, '이라니': 1403, '불구': 1404, '만에': 1405, '조작': 1406, '열리다': 1407, '아무나': 1408, '계': 1409, '아햏햏': 1410, '사진': 1411, '단연': 1412, '진창': 1413, '우뢰매': 1414, '쓰러지다': 1415, '골': 1416, '메인': 1417, '떠오르다': 1418, '행복': 1419, '기준': 1420, '흥미': 1421, '허풍': 1422, '고증': 1423, '뭥미': 1424, '상대': 1425, '용기': 1426, '떠들다': 1427, '떨다': 1428, '감히': 1429, '하나로': 1430, '고민': 1431, '국산': 1432, '일품': 1433, '샘': 1434, '타란티노': 1435, '상상': 1436, '대본': 1437, '주된': 1438, '통': 1439, '사운드': 1440, '춤': 1441, '스텝': 1442, '풍': 1443, '돼지': 1444, '무당': 1445, '어린시절': 1446, '지옥': 1447, '초': 1448, '보고오다': 1449, '넘치다': 1450, '지나가다': 1451, '무한': 1452, '이안': 1453, '결정': 1454, '계기': 1455, '생명': 1456, '오우삼': 1457, '설레다': 1458, '특집': 1459, '이의': 1460, '황': 1461, '서스펜스': 1462, '흡입': 1463, '직전': 1464, '발톱': 1465, '최초': 1466, '애니매이션': 1467, '짱짱': 1468, '이구': 1469, '씩': 1470, '언니': 1471, '레알': 1472, '여자애': 1473, '딸리다': 1474, '계시다': 1475, '수록': 1476, '아역': 1477, '토록': 1478, '의문': 1479, '살아가다': 1480, '처': 1481, '매끄럽다': 1482, '민망하다': 1483, '봣는데': 1484, '관객수': 1485, '신분': 1486, '편도': 1487, '탓': 1488, '기사': 1489, '검술': 1490, '마치': 1491, '틀다': 1492, '모으다': 1493, '영화사': 1494, '개그': 1495, '뜬금': 1496, '주제가': 1497, '거부': 1498, '와의': 1499, '공주': 1500, '만약': 1501, '자유': 1502, '견자단': 1503, '순위': 1504, '리브': 1505, '다소': 1506, '스러운': 1507, '간첩': 1508, '애쓰다': 1509, 'ㅡ': 1510, '저런': 1511, '그린': 1512, '압': 1513, '권': 1514, '유대인': 1515, '인척': 1516, '인형': 1517, '찌다': 1518, '변태': 1519, '성공': 1520, '십': 1521, '두근거리다': 1522, '적임': 1523, '대놓고': 1524, '빨갱이': 1525, '지르다': 1526, '그리움': 1527, '군대': 1528, '로버트': 1529, '정치': 1530, '전반': 1531, '베다': 1532, '곳곳': 1533, '복선': 1534, '갖추다': 1535, '싸구려': 1536, '밝혀지다': 1537, '사고': 1538, '별거': 1539, '감수성': 1540, '흘리다': 1541, '웬만하다': 1542, '착각': 1543, '기독교': 1544, '다가오다': 1545, '삭제': 1546, '쩐다': 1547, '스펙': 1548, '응원': 1549, '이니': 1550, '삼류': 1551, '유머': 1552, '형님': 1553, '심형래': 1554, '루즈': 1555, '승부': 1556, '보이지': 1557, '패러디': 1558, '들어서다': 1559, '씁쓸하다': 1560, '세련되다': 1561, '날다': 1562, '원하다': 1563, '강렬하다': 1564, '통쾌하다': 1565, '만족하다': 1566, '메시지': 1567, '꿈꾸다': 1568, '기르다': 1569, '독립': 1570, '박수': 1571, '상처': 1572, '치유': 1573, '의하다': 1574, '무어': 1575, '사기': 1576, '남편': 1577, '단순': 1578, '주온': 1579, '가안': 1580, '무비': 1581, '애틋하다': 1582, '도입': 1583, '세다': 1584, '구역': 1585, '수가': 1586, '주윤발': 1587, '토나오다': 1588, '디': 1589, '절대로': 1590, '맡다': 1591, '로움': 1592, '보통': 1593, '여성': 1594, '베드': 1595, '외모': 1596, '여러가지': 1597, '라이': 1598, '풍기다': 1599, '난해하다': 1600, '라이언': 1601, '에서의': 1602, '조커': 1603, '자연': 1604, '에나': 1605, '선정': 1606, '링': 1607, '안다': 1608, '프레디': 1609, '한다는': 1610, '관심': 1611, '거장': 1612, '우': 1613, '듬': 1614, '만화책': 1615, '똑같다': 1616, '도전': 1617, '마냥': 1618, '시청자': 1619, '사촌동생': 1620, '장애인': 1621, '들어오다': 1622, '천녀유혼': 1623, '강요': 1624, '옆': 1625, '앞뒤': 1626, '자르다': 1627, '로서': 1628, '겠다': 1629, '파트': 1630, '평소': 1631, '정서': 1632, '전형': 1633, '메다': 1634, '이미': 1635, '일어나다': 1636, '전율': 1637, '놀래다': 1638, '던지다': 1639, '거지': 1640, '늑대': 1641, '흑인': 1642, '연예계': 1643, '끝내주다': 1644, '호화': 1645, '우우': 1646, '마리': 1647, '국가': 1648, '무리수': 1649, '더불다': 1650, '도르다': 1651, '굿굿굿': 1652, '새끼': 1653, '옛': 1654, '대로': 1655, '말아먹다': 1656, '불필요하다': 1657, '누나': 1658, '마이클': 1659, '블록버스터': 1660, '성인': 1661, '반갑다': 1662, '곽지민': 1663, '끔찍하다': 1664, '평이': 1665, '어쩌면': 1666, '기만': 1667, '달리': 1668, '경찰': 1669, '스탤론': 1670, '당': 1671, '본격': 1672, '복잡하다': 1673, '의외로': 1674, '스타일': 1675, '그럭저럭': 1676, '늘어지다': 1677, '채우다': 1678, '어이': 1679, '본방': 1680, '사수': 1681, '붙이다': 1682, '배': 1683, '번은': 1684, '이며': 1685, '하하': 1686, '케이': 1687, '과의': 1688, '서른': 1689, '야동': 1690, '심': 1691, '능력': 1692, '이기다': 1693, '결혼': 1694, '가시다': 1695, '합치다': 1696, '혐오': 1697, '편견': 1698, '의학': 1699, '스런': 1700, '개그맨': 1701, '예능': 1702, '줍다': 1703, '수능': 1704, '본적': 1705, '저희': 1706, '로우': 1707, '잘만': 1708, '마을': 1709, '이자벨': 1710, '음모론': 1711, '초점': 1712, '허세': 1713, '잼남': 1714, '성장': 1715, '사용': 1716, '프로그램': 1717, '과정': 1718, '포기': 1719, '우정': 1720, '사신': 1721, '가깝다': 1722, '운': 1723, '무지': 1724, 'ㅜㅠ': 1725, '비노': 1726, '노답': 1727, '이드': 1728, '제시카': 1729, '성의': 1730, '안기다': 1731, 'ㅣ': 1732, '그지같다': 1733, '배다': 1734, '회장': 1735, '질리': 1736, '동성애': 1737, '리메이크': 1738, '꼴': 1739, '동호': 1740, '에서나': 1741, '아바타': 1742, '미래': 1743, '달달': 1744, '돌다': 1745, '추': 1746, '양': 1747, '너희': 1748, '좀더': 1749, '구리': 1750, '아자': 1751, '무서움': 1752, '헤어지다': 1753, '호러영화': 1754, '여러': 1755, '제이슨': 1756, '호러': 1757, '분량': 1758, '보시': 1759, '무료': 1760, '하나같이': 1761, '초등학생': 1762, '트': 1763, '화구': 1764, '작위': 1765, '놀랍다': 1766, '기자': 1767, '오그라들다': 1768, '몇몇': 1769, '부모': 1770, '색감': 1771, '썩다': 1772, '키스': 1773, '감탄': 1774, '외화': 1775, '써로게이트': 1776, '나소': 1777, '망': 1778, '물다': 1779, '감명': 1780, '중국영화': 1781, '마동석': 1782, '강제': 1783, '낚': 1784, '입': 1785, '화나다': 1786, 'ㅠㅠㅠ': 1787, '만세': 1788, '용암': 1789, '멀쩡하다': 1790, '기회': 1791, '발전': 1792, '떡': 1793, '깔리다': 1794, '난리': 1795, '서인국': 1796, '사장': 1797, '연속': 1798, '구나': 1799, '가관': 1800, '항상': 1801, '연상': 1802, '덥다': 1803, '아래': 1804, '가해자': 1805, '그동안': 1806, '신세경': 1807, '각색': 1808, '랑은': 1809, '무너지다': 1810, '다루다': 1811, '바토리': 1812, '영화배우': 1813, '방금': 1814, '깡패': 1815, '고생': 1816, '매다': 1817, '거나': 1818, '목': 1819, '묵주': 1820, '강시': 1821, '오래되다': 1822, '히나타': 1823, '다그': 1824, '조정': 1825, '커스틴': 1826, '걸음': 1827, '생활': 1828, '납치': 1829, '왜케': 1830, '달인': 1831, '이범수': 1832, '담백하다': 1833, '자꾸': 1834, '잊어버리다': 1835, '존중': 1836, '내생': 1837, '재밋음': 1838, '굿바이': 1839, '표절': 1840, '일드': 1841, '변명': 1842, '놀다': 1843, '불가능하다': 1844, '만찬': 1845, '깨닫다': 1846, '검사': 1847, '아시': 1848, '패션': 1849, '키이라': 1850, '알바생': 1851, '싱겁다': 1852, 'ㅜㅡ': 1853, '소소하다': 1854, '이민기': 1855, '초기': 1856, '패': 1857, '뮤비': 1858, '리스': 1859, '누': 1860, '다크': 1861, '월드': 1862, '기본': 1863, '어루만지다': 1864, '세르게이': 1865, '맵다': 1866, '시리': 1867, '꼬마': 1868, '애가': 1869, '푹': 1870, '지독하다': 1871, '상상력': 1872, '예측': 1873, '아무튼': 1874, '밋밋하다': 1875, '느리다': 1876, '컷': 1877, '가슴속': 1878, '듣다': 1879, '명백하다': 1880, '살인자': 1881, '아예': 1882, '박시환': 1883, '이틀': 1884, '안이': 1885, '온몸': 1886, '러시아': 1887, '민중': 1888, '펴다': 1889, '분만': 1890, '서기': 1891, '광고': 1892, '믹스': 1893, '음향': 1894, '투': 1895, '박하다': 1896, '중국인': 1897, '가상하다': 1898, '스스로': 1899, '과대': 1900, '지나': 1901, '숀펜': 1902, '공짜': 1903, '보아': 1904, '욕심': 1905, '만이라도': 1906, '식이': 1907, '전하': 1908, '채': 1909, '그릇': 1910, '여군': 1911, '질린다': 1912, '어떤': 1913, '부가': 1914, '용가리': 1915, '짱짱맨': 1916, '꼽': 1917, '섹시하다': 1918, '상업': 1919, '노출씬': 1920, '보임': 1921, '맥스': 1922, '멀리': 1923, '무술': 1924, '유명': 1925, '의외': 1926, '벌어지다': 1927, '공유': 1928, '앉다': 1929, '일반': 1930, '논리': 1931, '추다': 1932, '꼭두각시': 1933, '극치': 1934, '클래식': 1935, '듣기': 1936, '죄송하다': 1937, '짜지다': 1938, '우웩': 1939, '복귀': 1940, '참가자': 1941, '인격': 1942, '판타지영화': 1943, '금물': 1944, '쏙': 1945, '주네': 1946, '싸이코': 1947, '벗어나다': 1948, '젊음': 1949, '최고봉': 1950, '우물': 1951, '후세': 1952, '출현': 1953, '본능': 1954, '재밋어': 1955, '닥치고': 1956, '미묘하다': 1957, '응답': 1958, '배꼽': 1959, '장끌': 1960, '로드': 1961, '몰락': 1962, '가져오다': 1963, '학창시절': 1964, '배경음악': 1965, '화남': 1966, '형태': 1967, '영양가': 1968, '현충일': 1969, '미로': 1970, '소박하다': 1971, '요리': 1972, '버킷리스트': 1973, '들어주다': 1974, '완존': 1975, '긍정': 1976, '시원하다': 1977, '해피': 1978, '정치인': 1979, '모순': 1980, '주년': 1981, 'ㅄ': 1982, '개그콘서트': 1983, '없애다': 1984, '감각': 1985, '시각': 1986, '생생하다': 1987, 'ㅋㅋㅋㅋㅋㅋㅋㅋㅋㅋㅋㅋㅋㅋ': 1988, '나타내다': 1989, '이적': 1990, '필름': 1991, '값': 1992, '혀': 1993, '할머니': 1994, '익숙하다': 1995, '정은지': 1996, '트로트': 1997, '물폭탄': 1998, '굳다': 1999, '개막': 2000, '애니스톤': 2001, '런가': 2002, '작살': 2003, '야경': 2004, '꾼': 2005, '넘어가다': 2006, '즉': 2007, '훅': 2008, '민폐': 2009, '싸하다': 2010, '킁': 2011, '송강호': 2012, '금지': 2013, '테이프': 2014, '불후': 2015, '해석': 2016, '재치': 2017, '이외': 2018, '당대': 2019, '결코': 2020, '루': 2021, '다리': 2022, '암': 2023, '지고': 2024, '이겠다': 2025, '많아지다': 2026, '비정하다': 2027, '다듬다': 2028, '철': 2029, '비롯': 2030, '군더더기': 2031, '포스': 2032, '다미': 2033, '지대': 2034, 'ㅋㅋㅋㅋㅋㅋㅋ': 2035, '펭귄': 2036, '거짓': 2037, '국민': 2038, '이던': 2039, '이만': 2040, '으로만': 2041, '핀': 2042, '다가': 2043, '높아지다': 2044, '의견': 2045, '지존파': 2046, '정당화': 2047, '정부': 2048, '여부': 2049, '매칭': 2050, '트리스탄': 2051, '흉내': 2052, '쌍': 2053, '미스': 2054, '치르다': 2055, '단지': 2056, '흘러가다': 2057, '알맞다': 2058, '쩝': 2059, '살인마': 2060, '해결': 2061, '정유미': 2062, '앤드류': 2063, '선사': 2064, '영구': 2065, '서글프다': 2066, '성찰': 2067, '미모': 2068, '절망': 2069, '어마어마하다': 2070, '미국인': 2071, '맞서다': 2072, '원주민': 2073, '반하다': 2074, '으로나': 2075, '영화평론가': 2076, '경의': 2077, '살아오다': 2078, '요구': 2079, '도와주다': 2080, '공효진': 2081, '높이다': 2082, '왼쪽': 2083, '사라지다': 2084, '잘생기다': 2085, '장혁': 2086, '샤넬': 2087, '수년': 2088, '세월': 2089, '찰나': 2090, '난감하다': 2091, '용서': 2092, '신화': 2093, '에릭': 2094, '힘내다': 2095, '신하균': 2096, '깜놀': 2097, '남자배우': 2098, '미스캐스팅': 2099, '무기': 2100, '과는': 2101, '한예슬': 2102, '신인': 2103, '디테': 2104, '탕웨이': 2105, '찡': 2106, 'ㅋㅋㅋㅋㅋㅋㅋㅋ': 2107, '반도': 2108, '공통점': 2109, '걸치다': 2110, '변화': 2111, '절실': 2112, '신파': 2113, '빙빙': 2114, '겨': 2115, '번만': 2116, '쩌': 2117, '추가': 2118, '상술': 2119, '함부로': 2120, '글쎄': 2121, '성격': 2122, '성해': 2123, '자동차': 2124, '았': 2125, '정체': 2126, '성은': 2127, '오르다': 2128, '능가': 2129, '제보': 2130, '재방': 2131, '영화계': 2132, '부탁드리다': 2133, '블랙코미디': 2134, '우린': 2135, '노출': 2136, '로나': 2137, '뎀': 2138, '조잡하다': 2139, '이해도': 2140, '웅장': 2141, '들보': 2142, '유치': 2143, '초등': 2144, '근래': 2145, '성인영화': 2146, '멍청하다': 2147, '제작자': 2148, '미흡하다': 2149, '진지하다': 2150, '픽션': 2151, '압축': 2152, '님들': 2153, '이해관계': 2154, '정화': 2155, '다만': 2156, '포르노': 2157, '물이': 2158, '불쌍하다': 2159, '드릴': 2160, '겨우': 2161, '모호하다': 2162, '치고는': 2163, '이크': 2164, '배신': 2165, '정재영': 2166, '파': 2167, '부진': 2168, '데넘': 2169, '업': 2170, '양심': 2171, '끼우다': 2172, '폭발': 2173, '습': 2174, '남고': 2175, '최루성': 2176, '빵빵': 2177, '내리다': 2178, '담배': 2179, '마술': 2180, '붙다': 2181, '형편': 2182, '영화상': 2183, '사망': 2184, '묵직하다': 2185, '슴': 2186, '제제': 2187, '안쓰럽다': 2188, '화질': 2189, '박사': 2190, '묻히다': 2191, '아이디어': 2192, '아기자기하다': 2193, '미스터리': 2194, '윤계상': 2195, '고도': 2196, '이상은': 2197, '중년': 2198, '추잡하다': 2199, '솜': 2200, '왕조현': 2201, '원숭이': 2202, '사무라이': 2203, '모니터링': 2204, '산업': 2205, '입장': 2206, '품': 2207, '욕망': 2208, '전차': 2209, '워': 2210, '부류': 2211, '개도': 2212, '비행기': 2213, '헛웃음': 2214, '주목': 2215, '도통': 2216, '우주': 2217, '낮추다': 2218, '쳐다보다': 2219, '말고도': 2220, '겪다': 2221, '하트넷': 2222, '이미지': 2223, '콜린': 2224, '난이': 2225, 'ㄹ': 2226, '물씬': 2227, '이성재': 2228, '대중': 2229, '에서만': 2230, '오로지': 2231, '청': 2232, '삼국지': 2233, '하고는': 2234, '일병': 2235, '척': 2236, '피해': 2237, '자위': 2238, '삽질': 2239, '처벌': 2240, '공자': 2241, '크리스': 2242, '정신차리다': 2243, '롭고': 2244, '솔로': 2245, '벌이다': 2246, '일리': 2247, '티나': 2248, '대표': 2249, '김치': 2250, '신뢰': 2251, '헤어스타일': 2252, '가게': 2253, '분신': 2254, '크게': 2255, '다니엘헤니': 2256, '설경구': 2257, '러닝': 2258, '타임': 2259, '타고': 2260, '즈': 2261, '출신': 2262, '솜씨': 2263, '베스트': 2264, '레이': 2265, '비밀': 2266, '영향': 2267, '대판': 2268, '하하호호': 2269, '그만하다': 2270, '이래서': 2271, '틀리다': 2272, '어처구니': 2273, '골목': 2274, '려': 2275, '색깔': 2276, '충실하다': 2277, '존내': 2278, '로맨스영화': 2279, '곡': 2280, '화전': 2281, '장편': 2282, '손대다': 2283, '마련': 2284, '적히다': 2285, '낮': 2286, '해리슨': 2287, '포드': 2288, '미학': 2289, '교육': 2290, '여러분': 2291, '실험': 2292, '저만': 2293, '나발': 2294, '컴퓨터': 2295, '누르다': 2296, '리그': 2297, '옴니버스': 2298, '가능하다': 2299, '흠잡다': 2300, '믄': 2301, '와이': 2302, '정당하다': 2303, '거두다': 2304, '연애': 2305, '카타르': 2306, '시스': 2307, '린': 2308, '구경': 2309, '조금씩': 2310, '어쩌': 2311, '낭만': 2312, 'ㅋㅋㅋㅋㅋㅋㅋㅋㅋ': 2313, '구식': 2314, '알리다': 2315, '루크': 2316, '간직': 2317, '나영': 2318, '머싯': 2319, '고래': 2320, '참으로': 2321, '주말': 2322, '홀로': 2323, '캬': 2324, '김소현': 2325, '접영': 2326, '주님': 2327, '다세포': 2328, '근': 2329, '보신': 2330, '오는': 2331, 'ㅠㅠㅠㅠ': 2332, 'ㅋㅋㅋㅋㅋㅋㅋㅋㅋㅋㅋㅋㅋ': 2333, '에일리언': 2334, '심정': 2335, '허전하다': 2336, '고양이': 2337, '대학교': 2338, '최강': 2339, '부대': 2340, '기세': 2341, '년생': 2342, '샷': 2343, '만큼이나': 2344, '맷': 2345, '데이먼': 2346, '미장센': 2347, '노인': 2348, '베이': 2349, '고치다': 2350, '덕': 2351, '바보': 2352, '왕자': 2353, '뻥': 2354, '모텔': 2355, '딱이다': 2356, '질적': 2357, '외면': 2358, '패턴': 2359, '에게로': 2360, '인턴': 2361, '랜턴': 2362, '창': 2363, '일제': 2364, '명복': 2365, '플롯': 2366, '밋': 2367, '잉': 2368, '기한': 2369, '말르다': 2370, '대신': 2371, '전투기': 2372, '이병헌': 2373, '성공하다': 2374, '공룡': 2375, '중때': 2376, '장선우': 2377, '질문': 2378, '첨으로': 2379, '분장': 2380, '김기덕': 2381, '편성': 2382, '쫓겨나다': 2383, '시골': 2384, '나머지': 2385, '막장드라마': 2386, '기법': 2387, '격': 2388, '떨어뜨리다': 2389, '생기': 2390, '일주일': 2391, '만남': 2392, '킴': 2393, '지경': 2394, '서극': 2395, '찬양': 2396, '이도': 2397, '아이유': 2398, '빨다': 2399, '박진': 2400, '시기': 2401, '언제나': 2402, '우디': 2403, '후진': 2404, '송혜교': 2405, 'ㅍ': 2406, '건너': 2407, '한참': 2408, '말고는': 2409, '결': 2410, '니콜라스': 2411, '장동민': 2412, '관계도': 2413, '맺다': 2414, '잡스': 2415, '일요일': 2416, '다섯': 2417, '수지': 2418, '갈래': 2419, '근본': 2420, '오류': 2421, '클린트': 2422, '절정': 2423, '북받치다': 2424, '올라오다': 2425, '언론': 2426, '균형': 2427, '배려': 2428, '진정하다': 2429, '미션임파서블': 2430, '은근': 2431, '비명': 2432, '다이하드': 2433, '기용': 2434, '복습': 2435, '더하다': 2436, '수십': 2437, '게이고': 2438, '행위': 2439, '부여': 2440, '워드': 2441, '어케': 2442, '데이빗': 2443, '종': 2444, '웬디': 2445, '똑같이': 2446, '그닥': 2447, '시사': 2448, '는바': 2449, '측면': 2450, '정답': 2451, '포인트': 2452, '움직이다': 2453, '에다': 2454, '출연료': 2455, '향연': 2456, '타짜': 2457, '봣': 2458, '빨갛다': 2459, '배트맨': 2460, '유일하다': 2461, '태국': 2462, '퍼펙트': 2463, '열다': 2464, '진하다': 2465, '올려놓다': 2466, '낯선': 2467, '섬': 2468, '독특하다': 2469, '벌다': 2470, '쯧쯧': 2471, '궁': 2472, '우아하다': 2473, '성함': 2474, '송승헌': 2475, '팔이': 2476, '주의': 2477, '오래': 2478, '본질': 2479, '강철중': 2480, '지지': 2481, '소화': 2482, '한수': 2483, '그러니까': 2484, '날리다': 2485, '꽝': 2486, 'ㅠㅜ': 2487, '단체': 2488, '볼거리': 2489, '리뷰': 2490, '강력하다': 2491, '풋풋하다': 2492, '화일': 2493, '스럽게': 2494, '두사부일체': 2495, '으로서': 2496, '신다': 2497, '빛나다': 2498, '섹시': 2499, '의심': 2500, '덜': 2501, '깨다': 2502, '제니퍼': 2503, '로렌스': 2504, '집다': 2505, '회사': 2506, '박시후': 2507, '흡혈': 2508, '식물': 2509, '줄리엣': 2510, '보나': 2511, '젛': 2512, '신데렐라': 2513, '톰': 2514, '간지': 2515, '향기': 2516, 'ㅎㄷㄷ': 2517, '창피하다': 2518, '유발': 2519, '손자': 2520, '저급하다': 2521, '순수': 2522, '주지': 2523, '봣엇': 2524, '때우다': 2525, '고어영화': 2526, '히치콕': 2527, '에플렉': 2528, '김지수': 2529, '교수': 2530, '모기': 2531, '매니': 2532, '누님': 2533, '운지': 2534, '홍어': 2535, '장이': 2536, '닥': 2537, '나레이션': 2538, '성우': 2539, '이전': 2540, '아무렇다': 2541, '아놀드': 2542, '어도': 2543, '열연': 2544, '선동': 2545, '원표': 2546, '단막극': 2547, '컬트': 2548, '스탠': 2549, '욬': 2550, '만원': 2551, '고장': 2552, '좋아지다': 2553, '밧다': 2554, '호흡': 2555, '도저히': 2556, '총알': 2557, '런닝타임': 2558, 'ㅁㅇ': 2559, '해님': 2560, '임신': 2561, '입력': 2562, '존론': 2563, '정형': 2564, '만도': 2565, 'ㅂㅅ': 2566, '에바': 2567, '제니': 2568, '라이트': 2569, '손가락': 2570, '진행중': 2571, '짜증스럽다': 2572, '무덤': 2573, '놓치다': 2574, '경악': 2575, '힐링': 2576, '르완다': 2577, '난민': 2578, '남지': 2579, '베리': 2580, '재회': 2581, '게다가': 2582, '아아': 2583, '장벽': 2584, '이루다': 2585, '국적': 2586, '에게만': 2587, '외설': 2588, '논': 2589, '빗대다': 2590, '팔리다': 2591, '윤후': 2592, '로코': 2593, '최후': 2594, '잘나다': 2595, '스페인': 2596, '조카': 2597, '여친': 2598, '살아나다': 2599, '젠장': 2600, '기차': 2601, '최소한': 2602, '뱀파이어': 2603, '압권': 2604, '봣던': 2605, '가을': 2606, '부디': 2607, '해피엔딩': 2608, '묘': 2609, '임팩트': 2610, '누리': 2611, '요새': 2612, '경험': 2613, '도시': 2614, '서서히': 2615, 'ㅈㄴ': 2616, '캐': 2617, '지현우': 2618, '천': 2619, '빵터지다': 2620, '엘리자베스': 2621, '잠깐': 2622, '깨달음': 2623, '살때': 2624, '따지다': 2625, '취해': 2626, '햇음': 2627, '어기다': 2628, '개꿀잼': 2629, '에반게리온': 2630, '자리': 2631, '걸이': 2632, '팝콘': 2633, '찌질하다': 2634, '으로가': 2635, '고이': 2636, '편하다': 2637, '예진': 2638, '일일': 2639, '만족': 2640, '러브': 2641, '까먹다': 2642, '뽜': 2643, '알리': 2644, '쥬산': 2645, '데이': 2646, '시시하다': 2647, '옷': 2648, '헤어': 2649, '아부지': 2650, '장통': 2651, '재미나': 2652, '가제': 2653, '문득': 2654, '야구': 2655, '당연하다': 2656, '옥': 2657, '별개': 2658, '뿌리다': 2659, '물결': 2660, '혼란': 2661, '파이팅': 2662, '확인': 2663, '몬스터왕국': 2664, '우선': 2665, '가수': 2666, '한정': 2667, '공간': 2668, '이보': 2669, '표': 2670, '갖다': 2671, '잠들다': 2672, '부터가': 2673, '하지원': 2674, '호감': 2675, '지기': 2676, '소품': 2677, '김구라': 2678, '눈치': 2679, '객관': 2680, '내공': 2681, '장치': 2682, '첩보': 2683, '웰': 2684, '메이드': 2685, '멘탈': 2686, '무시': 2687, '다른사람': 2688, '마스터피스': 2689, '천국': 2690, '시험': 2691, '놔두다': 2692, '의식': 2693, '진실': 2694, '가왜': 2695, '스트레스': 2696, '끊다': 2697, '요란하다': 2698, '빈': 2699, '졸잼': 2700, '복녀': 2701, '여유': 2702, '밑': 2703, '이종석': 2704, '거지같다': 2705, '세계관': 2706, '레이미': 2707, '피하': 2708, '주원': 2709, '추리': 2710, '졸라': 2711, '휴대폰': 2712, '담': 2713, '무간도': 2714, '침': 2715, '대부': 2716, '출연자': 2717, '스크린': 2718, '케': 2719, '해명': 2720, '한국인': 2721, '투성이': 2722, '고난': 2723, '수다': 2724, '쥐다': 2725, '덤': 2726, '퀼리티': 2727, '재수없다': 2728, '집합': 2729, '마약': 2730, '초능력': 2731, '일지': 2732, '무리': 2733, '닳다': 2734, '압도': 2735, '백배': 2736, '긴박': 2737, '좆': 2738, '잡고': 2739, '신기': 2740, '호강': 2741, '싹': 2742, '려고': 2743, '알파': 2744, '치노': 2745, '김범': 2746, '룰': 2747, '쌈': 2748, '부족': 2749, '깨끗하다': 2750, 'ㅅ': 2751, '어찌': 2752, '때로는': 2753, '어디가': 2754, '접근': 2755, '여기다': 2756, '테러': 2757, 'ㅋㅋㅋㅋㅋㅋㅋㅋㅋㅋㅋㅋ': 2758, '마케팅': 2759, '고딩': 2760, '상실': 2761, '명확하다': 2762, '억울하다': 2763, '완죤': 2764, '루시': 2765, '강용석': 2766, '밖': 2767, '힐러': 2768, '리더': 2769, '프': 2770, '적어도': 2771, '버티다': 2772, '남아': 2773, '청리': 2774, '그렇다고': 2775, '비극': 2776, '담담하다': 2777, '소년': 2778, '기원': 2779, '전쟁영화': 2780, '대의': 2781, '삶다': 2782, '슈퍼맨': 2783, '감정이입': 2784, '존': 2785, '라인': 2786, '이재용': 2787, '간지나다': 2788, '일베': 2789, '비중': 2790, '성폭행': 2791, '악플': 2792, '부동산': 2793, '껏': 2794, '녹화': 2795, '까맣다': 2796, '강물': 2797, '레옹': 2798, '자비': 2799, '허무': 2800, '감안': 2801, '하든': 2802, '보호': 2803, '잘봣습니': 2804, '사할린': 2805, '옳다': 2806, '후지': 2807, '쿵': 2808, '박스오피스': 2809, '공상': 2810, '표정': 2811, '성숙': 2812, '전문가': 2813, '지능': 2814, '던': 2815, '컴퓨터그래픽': 2816, '디즈니': 2817, '밓었': 2818, '래서': 2819, '교도소': 2820, '구먼': 2821, '몬페': 2822, '익살스럽다': 2823, '던스트': 2824, '생인': 2825, '이응경': 2826, '길용우': 2827, '감금': 2828, '길들이다': 2829, '인피니트': 2830, '허진호': 2831, '횡단보도': 2832, '건너다': 2833, '다지': 2834, '락스': 2835, '바비': 2836, '아이돌': 2837, '안달': 2838, '레닌': 2839, '질퍽': 2840, '산뜻하다': 2841, '용구성': 2842, '버무러진': 2843, '약탈': 2844, '심오하다': 2845, '선생': 2846, '바베트': 2847, '남바': 2848, '베트': 2849, '핀란드': 2850, '풍경': 2851, '할랫': 2852, '말씀드리다': 2853, '짤랐을꺼': 2854, '털다': 2855, '카밀라': 2856, '벨': 2857, '재밋는뎅': 2858, '엄포스': 2859, '위력': 2860, '적남': 2861, '명품': 2862, '졸': 2863, '윈': 2864, '투어': 2865, '나이틀리': 2866, '정신장애': 2867, '틱장애': 2868, '허허': 2869, '유령': 2870, '낚임': 2871, '서리': 2872, '굶주리다': 2873, '윤제문': 2874, '머금': 2875, '속지': 2876, '정신의학': 2877, '분노조절': 2878, '장애': 2879, '증상': 2880, '툭하면': 2881, '파손': 2882, '타르': 2883, '가르다': 2884, '엔나': 2885, '용의': 2886, '주인': 2887, '근친상간': 2888, '메': 2889, '니스': 2890, '드래곤': 2891, '토르': 2892, '잡수다': 2893, '선방': 2894, '영혼': 2895, '거치다': 2896, '상사': 2897, '포퐁': 2898, '저그': 2899, '진호': 2900, '난또': 2901, '원한': 2902, '나대다': 2903, '꺼지다': 2904, '활': 2905, '무자비하다': 2906, '백봉기': 2907, '들어맞다': 2908, '불알': 2909, '녹다': 2910, '한두': 2911, '대만': 2912, '헤집다': 2913, '사의': 2914, '단면': 2915, '사죄': 2916, '잡기': 2917, '보도': 2918, '연맹': 2919, '탕': 2920, '사골': 2921, '우려': 2922, '먹듯': 2923, '김남길': 2924, '손예진': 2925, 'ㅈㅈ': 2926, '노래실력': 2927, '뽑다': 2928, '망신': 2929, '활짝': 2930, '문자': 2931, '비번': 2932, '재밋네': 2933, '달팽이': 2934, '부패하다': 2935, '로마노프': 2936, '왕조': 2937, '기리': 2938, '뭣같': 2939, '항거': 2940, '폭도': 2941, '무난': 2942, '화해': 2943, '남발': 2944, '리플릿': 2945, '불안하다': 2946, '럼': 2947, '조미': 2948, '막문위': 2949, '골깜': 2950, '부라리다': 2951, '걸스데이': 2952, '이혜리': 2953, '인공': 2954, '주귀': 2955, '어내스트': 2956, '셀레스틴': 2957, '클라라': 2958, '볼라': 2959, '화신': 2960, '차차': 2961, '신카이': 2962, '마코토': 2963, '작화': 2964, '카나': 2965, '이훨': 2966, '고은님': 2967, '노골': 2968, '크리스마스': 2969, '별루더': 2970, '패널': 2971, '가구': 2972, '서운하다': 2973, '몬스터': 2974, '주식회사': 2975, '과장': 2976, '안간힘': 2977, '거북': 2978, '포장': 2979, '불법체류자': 2980, '우상화': 2981, '삶속': 2982, '드러나다': 2983, '올레': 2984, '라미란': 2985, '빵점': 2986, '베댓': 2987, '잘쓰다': 2988, '도둑': 2989, '뫼비우스': 2990, '믿어지다': 2991, '찌릿짜릿': 2992, '화이': 2993, '주입': 2994, '덴': 2995, '리투': 2996, '차이밍량': 2997, '섞이다': 2998, '엠비씨': 2999, '김혜수': 3000, '어딘': 3001, '에볼라': 3002, '바이러스': 3003, '석': 3004, '모건': 3005, '프리': 3006, '재방송': 3007, '시나': 3008, '끝내': 3009, '바랬다': 3010, '스러웟음': 3011, '찍을껀데': 3012, '면상': 3013, '동심': 3014, '총을드': 3015, '크리스토퍼': 3016, '왈츠': 3017, '조합': 3018, '초월': 3019, '종방': 3020, '방도': 3021, '지치다': 3022, '수백향': 3023, '바른': 3024, '위원회': 3025, '김혜선': 3026, '순정': 3027, '정이': 3028, '팜므파탈': 3029, '논란': 3030, '멍하다': 3031, '존잘': 3032, '상쾌': 3033, '발랄하다': 3034, '껄끄런': 3035, '해설': 3036, '소파': 3037, '로큰롤': 3038, '타겟': 3039, '요원': 3040, '무능력하다': 3041, '뮤지컬': 3042, '녹음': 3043, '말리': 3044, '영국': 3045, '뮤지컬영화': 3046, '맘마미아': 3047, '로맨틱코미디': 3048, '게이물': 3049, '알고싶다': 3050, '익숙해지다': 3051, '현대인': 3052, '뻑뻑': 3053, '볼걸': 3054, '언밸러스': 3055, '뚱뚱하다': 3056, '고역': 3057, '간간히': 3058, '흘러나오다': 3059, '조차도': 3060, '닭목': 3061, '가져가다': 3062, '윤종신': 3063, '이하늘': 3064, '뽑히다': 3065, '심사': 3066, '위원': 3067, '쌓다': 3068, '어허': 3069, '광장': 3070, '멜로영화': 3071, '형식': 3072, '탈피': 3073, '사랑비': 3074, '서준': 3075, '젖다': 3076, '접해': 3077, '만큼은': 3078, '건담': 3079, '개콘': 3080, '코너': 3081, '사다코': 3082, '서린': 3083, '펀치': 3084, '람': 3085, '빼앗다': 3086, '연극': 3087, '이래': 3088, '강수연': 3089, '최정원': 3090, '신음': 3091, '김혜성': 3092, '이현진': 3093, '가발': 3094, '이인상': 3095, '배두나': 3096, '대들다': 3097, '성적': 3098, '호기심': 3099, '각기': 3100, '미국드라마': 3101, '파워': 3102, '은지원': 3103, '컴': 3104, '부실하다': 3105, '제적': 3106, '영웅본색': 3107, '이승기': 3108, '제대': 3109, '휴가': 3110, '다녀오다': 3111, '햇살': 3112, '가득하다': 3113, '부엌': 3114, '신현준': 3115, '장군': 3116, '뿅': 3117, '재생': 3118, '하진': 3119, '소원': 3120, '만큼도': 3121, '밝다': 3122, '인게': 3123, '무표': 3124, '요홍': 3125, '혜정': 3126, '이그': 3127, '마도': 3128, '후련': 3129, '월요일': 3130, '정치범': 3131, '재개': 3132, '봉하': 3133, '대희': 3134, '전화': 3135, '끊음': 3136, '서양': 3137, '싸움판': 3138, '푸하하하': 3139, '구만': 3140, '반공': 3141, '문학': 3142, '무고': 3143, '감옥살이': 3144, '흑인음악': 3145, '아이스': 3146, '큐브': 3147, '건데': 3148, '알리시아': 3149, '옥소리': 3150, '프로필': 3151, '아우': 3152, '재밓당': 3153, '영화롭다': 3154, '모녀': 3155, '토막': 3156, '살해': 3157, '구리지': 3158, '매미': 3159, '매니저': 3160, '역활': 3161, '훨': 3162, 'ㄷㅔ': 3163, '진개': 3164, '천카이거': 3165, '복': 3166, '순이': 3167, '다투다': 3168, '어색': 3169, '연속극': 3170, '인터뷰': 3171, '박스': 3172, '오피스': 3173, '싸움': 3174, '기량': 3175, '조디': 3176, '두기': 3177, '쌀': 3178, '명대사': 3179, '뒷받침': 3180, '저스트': 3181, '위드': 3182, '실망하다': 3183, '맛깔': 3184, '시베리아': 3185, '훈련': 3186, '달이': 3187, '지존': 3188, '추노': 3189, '저급': 3190, '그로': 3191, '즐거움': 3192, '수입': 3193, '새롭웠': 3194, '라파스': 3195, '신봉선': 3196, '재탕하다': 3197, '퀄': 3198, '재기': 3199, '지지다': 3200, '넘어지다': 3201, '유유': 3202, '안개': 3203, '워터': 3204, '마스코트': 3205, '곤': 3206, '사토시': 3207, '뼈': 3208, '독': 3209, '츠무구': 3210, '이구나': 3211, 'ㅝ': 3212, '뼈대': 3213, '가문': 3214, '섞다': 3215, '박정아': 3216, '펼치다': 3217, '긔': 3218, '재밋쎠': 3219, '줄리아': 3220, '로버츠': 3221, '예술가': 3222, '베테': 3223, '류승완': 3224, '한창': 3225, '남북': 3226, '평화로': 3227, '헐리웃': 3228, '알아차리다': 3229, '가정': 3230, '헤드': 3231, '신라': 3232, '달밤': 3233, '푸근하다': 3234, '둑': 3235, '달려가다': 3236, '핑계': 3237, '삼다': 3238, '아더': 3239, '원탁': 3240, '랜슬롯': 3241, '란슬롯': 3242, '검다': 3243, '안대': 3244, '기네': 3245, '비어': 3246, '역도': 3247, '하락': 3248, '종착역': 3249, '대유': 3250, '트레비스': 3251, '네러티브': 3252, '취미': 3253, '올인': 3254, '학위': 3255, '위조': 3256, '성범죄자': 3257, '제자': 3258, '패자부활전': 3259, '뜻밖': 3260, '그랜드': 3261, '부다페스트': 3262, '호텔': 3263, '감기': 3264, '투자': 3265, '아이언맨': 3266, '대적': 3267, '잡히다': 3268, '조달환': 3269, '비록': 3270, '점차': 3271, '땡': 3272, '칠이': 3273, '친척': 3274, '사촌형': 3275, '최신': 3276, '고요하다': 3277, '선속': 3278, '머물다': 3279, '사색': 3280, '펑펑': 3281, 'ㅜㅜㅜ': 3282, '내기': 3283, '박빙': 3284, '심은하': 3285, '눈부시다': 3286, '풀리다': 3287, '잔인함': 3288, '비참하다': 3289, '대하': 3290, '페이스': 3291, '퇴색': 3292, '마르': 3293, '아메리칸': 3294, '투쟁': 3295, '아카데미상': 3296, '부정': 3297, '엇음': 3298, '어딘가': 3299, '일어나고': 3300, '우베': 3301, '정장': 3302, '림프비즈킷': 3303, '쥑': 3304, '엽문': 3305, '오월': 3306, '밤': 3307, '야릇하다': 3308, '명치': 3309, '깨달': 3310, '마는': 3311, '효느': 3312, '대강': 3313, '색휘': 3314, '검증': 3315, '이탈리아': 3316, '절때': 3317, '껄욕': 3318, '환경': 3319, '이이경': 3320, '게뭐': 3321, '가나다라': 3322, '키우다': 3323, '의아': 3324, '예민하다': 3325, '날카로워지다': 3326, '끙끙': 3327, '지수': 3328, '갈팡질팡': 3329, '평수': 3330, '콧대': 3331, '호': 3332, '권상우': 3333, '화산고': 3334, '팔자': 3335, '말랑말랑': 3336, '동행': 3337, '토마스': 3338, '유태인': 3339, '가족사진': 3340, '사슴': 3341, '밟다': 3342, '대변': 3343, '므': 3344, '상대성': 3345, '이론': 3346, '니노': 3347, '이중인격': 3348, '핫': 3349, '돌진': 3350, '유혹': 3351, '센세이션': 3352, '차이나타운': 3353, '베': 3354, '이민정': 3355, '교양': 3356, '몬초': 3357, '단어': 3358, '몬': 3359, '초가': 3360, '울먹이다': 3361, '애기': 3362, '힘겹다': 3363, '조은숙': 3364, '김유미': 3365, '세계대전': 3366, '피고': 3367, '일으키다': 3368, '지휘': 3369, '고위': 3370, '장교': 3371, '김태희': 3372, '적월': 3373, '쌤': 3374, '점때': 3375, '이연서': 3376, '답지': 3377, '뵙다': 3378, '피의자': 3379, '주변': 3380, '녀': 3381, '스피디': 3382, '박자': 3383, '시가전': 3384, '완': 3385, '다망': 3386, '정상': 3387, '보이': 3388, '아수라': 3389, '스포츠영화': 3390, '광기': 3391, '만끽': 3392, '스릴러물': 3393, '도가니탕': 3394, '서나': 3395, '경제': 3396, '함정': 3397, '똑똑하다': 3398, '압삘럽': 3399, '숨막히다': 3400, '김영애': 3401, '경극': 3402, '몸짓': 3403, '평정': 3404, '밀려오다': 3405, '카톡': 3406, '생동감': 3407, '박물관': 3408, '노땅': 3409, '간신히': 3410, '인종차별': 3411, '유괴': 3412, '불협화음': 3413, '고명환': 3414, '후자': 3415, '앨빈': 3416, '밴드': 3417, '로더': 3418, '결투': 3419, '폭풍눈물': 3420, '팝핀현준': 3421, '할아버지': 3422, 'ㄵ': 3423, '선거': 3424, '맙시': 3425, '성향': 3426, '즐': 3427, '줄리': 3428, '델피': 3429, '글쎄요': 3430, '절절': 3431, '비약': 3432, '행간': 3433, '잃어버리다': 3434, '꽉': 3435, '반대': 3436, '스킨헤드': 3437, '절': 3438, '사치': 3439, '일찐': 3440, '개제': 3441, '남극': 3442, '엑소시스트': 3443, '실상': 3444, '처키': 3445, '저조하다': 3446, '귀요미': 3447, '저예산영화': 3448, '다크호스': 3449, '빵': 3450, '뜨겁다': 3451, '조롱': 3452, '대상': 3453, '성기': 3454, '어그': 3455, '촌': 3456, '동네': 3457, '툭툭': 3458, '쌩뚱': 3459, '만들기': 3460, '칠': 3461, '한개': 3462, '꼽히다': 3463, '민국이': 3464, '지아': 3465, '데뷔': 3466, '저리': 3467, '무리하다': 3468, '띄우다': 3469, '이득': 3470, '박얘쁜': 3471, '빠수니': 3472, '죄다': 3473, '코끼리': 3474, '카메오': 3475, '자녀': 3476, '후속': 3477, '찰지다': 3478, '토종': 3479, '가비': 3480, '의향': 3481, '장윤현': 3482, '커피': 3483, '관해': 3484, '쓰시': 3485, '경쾌하다': 3486, '정정은': 3487, '어케된거': 3488, '과도': 3489, '호화롭다': 3490, '아마': 3491, '이본': 3492, '최저': 3493, '캐릭': 3494, '갘': 3495, '능': 3496, '스토리텔링': 3497, '기절': 3498, 'ㅜㅜㅜㅜ': 3499, '미가': 3500, '끙': 3501, '본분': 3502, '또다른': 3503, '희생': 3504, '평작': 3505, '영홥니': 3506, '알럽키': 3507, '중고생': 3508, '마마': 3509, '추어': 3510, '영물': 3511, '넌': 3512, '이승연': 3513, '홍경인': 3514, '브라': 3515, '뿜었다': 3516, '계몽영화': 3517, '고스': 3518, '답습': 3519, '우와': 3520, '마침표': 3521, '세얼간이': 3522, '심혜진': 3523, '창업': 3524, '아이템': 3525, '사업': 3526, '험하다': 3527, '스승': 3528, '지침': 3529, '단념': 3530, '박': 3531, '대소': 3532, '부자간': 3533, '원망': 3534, '낰였다': 3535, '프리미엄': 3536, '이선균': 3537, '김상중': 3538, '계쇠': 3539, '괴롭다': 3540, '달라': 3541, '반감': 3542, 'ㅣㅆ': 3543, '느덕': 3544, '화하다': 3545, '오락가락': 3546, '왠': 3547, '지모': 3548, '영화제': 3549, '퍼스트': 3550, '흐뭇하다': 3551, '대우': 3552, '머릿속': 3553, '지우개': 3554, '오늘이': 3555, '월요커플': 3556, '니당다': 3557, '터키': 3558, '스키': 3559, '추격': 3560, '수많다': 3561, '건너편': 3562, '성남': 3563, '금': 3564, '성녀': 3565, '슈발': 3566, '피다': 3567, '나볼': 3568, '수나': 3569, '리좀': 3570, '수도승': 3571, '떠내려가다': 3572, '게왜': 3573, '물대포': 3574, '쏠때': 3575, '웃겻다': 3576, '부족함': 3577, '고스트라이더': 3578, '스치다': 3579, '뭉치': 3580, '싸대기': 3581, '고고': 3582, '마찬가지': 3583, '뚝방': 3584, '찍지마라': 3585, '육감': 3586, '각도': 3587, '라든지': 3588, '이라든지': 3589, '구림': 3590, '두고두고': 3591, '아닐런지': 3592, '정시': 3593, '번뜩이다': 3594, '우아': 3595, '에로스': 3596, '겸비': 3597, '능청': 3598, '에린': 3599, '프레스토': 3600, '네요': 3601, '효과음': 3602, '막히다': 3603, '강혜정': 3604, '본가': 3605, '꾸준하다': 3606, '진짴': 3607, '타이틀': 3608, '달고나': 3609, '뷰욕': 3610, '퀵이유': 3611, '두번째': 3612, '삼십분': 3613, '명도': 3614, '왜색': 3615, '작고': 3616, '교활하다': 3617, '망상': 3618, '염치': 3619, '소비자': 3620, '상급': 3621, '상호': 3622, '박신혜': 3623, '빠져나오다': 3624, '국민학교': 3625, '저렴하다': 3626, '마구잡이': 3627, '땀': 3628, '고본': 3629, '번째': 3630, '후회되다': 3631, '금단비': 3632, '에만': 3633, '열중': 3634, '기쁨': 3635, '거대하다': 3636, '섭리': 3637, '성미': 3638, '자애': 3639, '고릴라': 3640, '거도': 3641, '섭렵': 3642, '샤워': 3643, '광해': 3644, '나약하다': 3645, '부각': 3646, '파렐': 3647, '사이코': 3648, '속출': 3649, '불교': 3650, '씨바': 3651, '어캐봐': 3652, '꼬옥': 3653, '저격': 3654, '비긴': 3655, '어게인': 3656, '허탈하다': 3657, '카이사르': 3658, '김민종': 3659, '공격': 3660, '유순하다': 3661, '여성성': 3662, '일기토': 3663, '지략': 3664, '맞짱': 3665, '비디오테잎': 3666, '좍좍': 3667, '제외': 3668, '따분': 3669, '헬기': 3670, '마구': 3671, '미군': 3672, '베트공': 3673, '스나이퍼': 3674, '등현': 3675, '극단': 3676, '업햄': 3677, '주위': 3678, '자위대': 3679, '일편': 3680, '브리': 3681, '쪼끔': 3682, '퍼스': 3683, '그랜트': 3684, '한자리': 3685, '아이리스': 3686, '자시': 3687, '접합': 3688, '정우성': 3689, '고소영': 3690, '그토록': 3691, '비트': 3692, '전라도': 3693, '노예': 3694, '업주': 3695, '이슈': 3696, '노자': 3697, '끼리끼리': 3698, '유지': 3699, '이삼': 3700, '덴젤와싱턴': 3701, '모레쯔': 3702, '후덕': 3703, '배틀로얄': 3704, '상류층': 3705, '속물': 3706, '근성': 3707, '국회의원': 3708, '아부': 3709, '도덕': 3710, '가만히': 3711, '씨익': 3712, '정상인': 3713, '샬라샬': 3714, '즁': 3715, '쥬': 3716, '옹졸하다': 3717, '치졸하다': 3718, '빠다': 3719, '이신': 3720, '직접': 3721, '어르신': 3722, '얘길': 3723, '대부분': 3724, '주민': 3725, '로간': 3726, '주로': 3727, '하층': 3728, '민': 3729, '복수심': 3730, '또는': 3731, '군경': 3732, '빨치산': 3733, '수역': 3734, '으이구': 3735, '요점': 3736, '저렇다': 3737, '노찌': 3738, '쯔': 3739, '김명민': 3740, '구해': 3741, '설마설마': 3742, '짝퉁': 3743, '고만': 3744, '모욕감': 3745, '서점': 3746, '보심': 3747, '썰매': 3748, '목적지': 3749, '통제': 3750, '데몰리션맨': 3751, '이퀄리브리엄': 3752, '원조': 3753, '격인': 3754, '해군': 3755, '파란색': 3756, '유오성': 3757, '챔프': 3758, '폭풍': 3759, '오열': 3760, 'ㅠㅜㅠㅍ': 3761, '퓨': 3762, '사소하다': 3763, '이모': 3764, '페이크': 3765, '시미즈': 3766, '업적': 3767, '쌈질': 3768, '낚시질': 3769, '폐지': 3770, '지미': 3771, '애린': 3772, '꼴통': 3773, '페미니즘': 3774, '페미나치': 3775, '마인드': 3776, '지향': 3777, '단것': 3778, '쿨하다': 3779, '이랬는데': 3780, '밤중': 3781, '에몽': 3782, '사과': 3783, '상권': 3784, '대형': 3785, '슈퍼마켓': 3786, '모해': 3787, '껀줄': 3788, '한송이': 3789, '하나라': 3790, '설교': 3791, '거북하다': 3792, '결혼반지': 3793, '담하다': 3794, '개역': 3795, '문성우': 3796, '써주다': 3797, '미취': 3798, '학': 3799, '자랑스럽다': 3800, '재밋습': 3801, '어의': 3802, '잘알다': 3803, '허황': 3804, '윤아': 3805, '작자': 3806, '참여': 3807, '퀭': 3808, '훠': 3809, '얼씬': 3810, '내사': 3811, '나위': 3812, '진과': 3813, '산만': 3814, '무언가': 3815, '화학': 3816, '봣습니닼': 3817, '잼잇엇숩니': 3818, '준비': 3819, '젊다': 3820, '마라천': 3821, '천하다': 3822, '두서': 3823, '오그리다': 3824, '파라': 3825, '노말': 3826, '엑': 3827, '부러': 3828, '문헌': 3829, '문란하다': 3830, '사도세자': 3831, '정조': 3832, '휴일': 3833, '침대': 3834, '눕다': 3835, '틀어주다': 3836, '벌떡': 3837, '영화광': 3838, '안타': 3839, '충분': 3840, '소유': 3841, '서인영': 3842, '흑백': 3843, '쇼핑몰': 3844, '와아': 3845, '두근두근': 3846, '익스트림': 3847, '수트': 3848, '미남': 3849, '으루': 3850, '권유': 3851, '창조': 3852, '중복': 3853, '보드': 3854, '개떡': 3855, '농촌': 3856, '피로': 3857, '얼음': 3858, '단독': 3859, '여호와': 3860, '증인': 3861, '탁재훈': 3862, '재밌': 3863, '라지': 3864, '무치다': 3865, '뒈지다': 3866, '섬머': 3867, '힘알': 3868, '맥': 3869, '엽기': 3870, '괴짜': 3871, '나루토': 3872, '보상': 3873, '일정': 3874, '성취': 3875, '결실': 3876, '아씨': 3877, '여기저기': 3878, '지저분하다': 3879, '갈겨쓰다': 3880, '값지다': 3881, '제이': 3882, '차안': 3883, '전화통화': 3884, '가까이': 3885, '폰부스': 3886, '현기증': 3887, '되돌아보다': 3888, '킬': 3889, '려면': 3890, '어정쩡하다': 3891, '흩어지다': 3892, '일방': 3893, '밀리': 3894, '식인종': 3895, '식인': 3896, '인성': 3897, '말살': 3898, '신도': 3899, '민권': 3900, '운동': 3901, '사르다': 3902, '요약': 3903, '뛰어내리다': 3904, '셈': 3905, '유투브': 3906, '지하철': 3907, '기관사': 3908, '스타워즈': 3909, '다스베이더': 3910, '탄생': 3911, '레이어': 3912, '운명': 3913, '소희': 3914, '졸귀': 3915, '소문나다': 3916, '잔치': 3917, '주성치': 3918, '웃': 3919, '교과서': 3920, '플레이': 3921, '귀찮다': 3922, '꺼내다': 3923, '화영': 3924, '호들갑': 3925, '밤새': 3926, '완주': 3927, '뮬란': 3928, '전쟁씬': 3929, '맑음': 3930, '파문': 3931, '김윤진': 3932, '기획': 3933, '상품': 3934, '아마겟돈': 3935, '악몽': 3936, '고결하다': 3937, '신사': 3938, '하셧을까': 3939, 'ㅎㅎㅎㅎ': 3940, '삐': 3941, '아웃': 3942, '넘어서다': 3943, '왈가': 3944, '왈부': 3945, '또해': 3946, '미성년': 3947, '순결': 3948, '바치': 3949, '데인': 3950, '명문': 3951, '빈센트': 3952, '양반': 3953, '잡': 3954, '흥': 3955, '종인': 3956, '예원': 3957, '통틀어': 3958, '남아돌다': 3959, '전지현': 3960, '피디': 3961, '에여': 3962, '쨋': 3963, '달기지': 3964, '미니어쳐': 3965, '팍팍': 3966, '뢔매': 3967, '정여립': 3968, '정철': 3969, '기축옥사': 3970, '케미': 3971, '실험영화': 3972, '처먹어랔': 3973, '쇼핑': 3974, '어떡하다': 3975, '색채': 3976, '화려': 3977, '리리': 3978, '옌': 3979, '도보': 3980, '사랑받다': 3981, '수이': 3982, '졸업': 3983, '에이즈': 3984, '운동화': 3985, '프렌드': 3986, '년후': 3987, 'ㅅㅎㅎㅎ': 3988, '설리': 3989, '충돌': 3990, '거룩하다': 3991, '구려': 3992, '오오': 3993, '여태': 3994, '얼티': 3995, '메이': 3996, '텀': 3997, '굿윌헌팅도쩐당': 3998, '로그인': 3999, '현정': 4000, '희한하다': 4001, '케릭': 4002, '한나': 4003, '사로잡히다': 4004, '필수': 4005, '메간폭스': 4006, '미달': 4007, '태도': 4008, '파괴': 4009, '알콜중독자': 4010, '중견': 4011, '술사': 4012, '헛': 4013, '실물': 4014, '어유': 4015, '번역': 4016, '거여': 4017, '이집트': 4018, '스퀘어': 4019, '닉스': 4020, '합병': 4021, '소림사': 4022, '관문': 4023, '통과': 4024, 'ㅠㅠㅠㅠㅠㅠㅠㅠ': 4025, '뚫리다': 4026, '펑점': 4027, '그라드': 4028, '글러': 4029, '죠스': 4030, '딥블루씨': 4031, '스캔들': 4032, '류덕환': 4033, '퀴즈': 4034, '에헤헹': 4035, '패턴턴너': 4036, '목격': 4037, '유턴': 4038, '턴': 4039, '훌쩍': 4040, '착지': 4041, '다점': 4042, '무릅쏴': 4043, '사격': 4044, '커트코베인': 4045, '전기': 4046, '고독': 4047, '팬픽': 4048, '배속': 4049, '알려지다': 4050, '재난영화': 4051, '그럴듯하다': 4052, '성과': 4053, '성유리': 4054, '사주다': 4055, '얼른': 4056, '것좀': 4057, '퀸틴': 4058, '포룸': 4059, '어줍다': 4060, '급식': 4061, '충': 4062, '최지우': 4063, '막강': 4064, '짜장면': 4065, '황홀경': 4066, '미그기': 4067, '미사일': 4068, '발사': 4069, '격추': 4070, '줄기': 4071, '돠': 4072, '다다다': 4073, '뭉클': 4074, '딘': 4075, '민감하다': 4076, '안성기': 4077, '육식': 4078, '빌딩': 4079, '딧노': 4080, '모퉁이': 4081, '더듬다': 4082, '쓸쓸하다': 4083, '욕좀': 4084, '상콤': 4085, '행여': 4086, '여름방학': 4087, '특선': 4088, '단편': 4089, '구조': 4090, '당태종': 4091, '최수종': 4092, '왕건': 4093, '대조영': 4094, '장보고': 4095, '박태준': 4096, '에다가': 4097, '짝': 4098, '빠져듬': 4099, '매주': 4100, '삼총사': 4101, '고자': 4102, '올밴': 4103, '광희': 4104, '유세윤': 4105, '음주운전': 4106, '명필름': 4107, '부도': 4108, '심재명': 4109, '부부': 4110, '넉': 4111, '꾸밈': 4112, '꾸미다': 4113, '시내': 4114, '의리': 4115, '모라': 4116, '질감': 4117, '양면': 4118, '두부': 4119, '고어': 4120, '해짐': 4121, '요런': 4122, '시우민': 4123, '엑소': 4124, '교향곡': 4125, '미진하다': 4126, '호러물': 4127, '감격시대': 4128, '거듭': 4129, '반지의제왕': 4130, '날고기': 4131, '코스': 4132, '공존': 4133, '유작': 4134, '미키': 4135, '싱어': 4136, '셰릴': 4137, '린펜': 4138, '조안': 4139, '버런': 4140, '매혹': 4141, '맘껏': 4142, '부리다': 4143, '지명도': 4144, '몰락하다': 4145, '엄따': 4146, '공산당': 4147, '위화': 4148, '한채영': 4149, '장근석': 4150, '서민': 4151, '신동': 4152, '뿌듯하다': 4153, '중령': 4154, '증말': 4155, '록키': 4156, 'ㅆㄹㄱ': 4157, '선교': 4158, '축복': 4159, '하여튼': 4160, '허구': 4161, '헌': 4162, '쓰기': 4163, '화의': 4164, '스타트랙': 4165, '앨런': 4166, '그립다': 4167, '어째서': 4168, '틴토': 4169, '로드리게즈': 4170, '자세하다': 4171, '생략': 4172, '초보': 4173, '장비': 4174, '흔들리다': 4175, '안정': 4176, '졸리다': 4177, '찰흙': 4178, '크리': 4179, '짦': 4180, '그야말로': 4181, '차븟': 4182, 'ㅇㄱ': 4183, '디시': 4184, '의지': 4185, '야말로': 4186, '구제불': 4187, '능이': 4188, '출가': 4189, '김해': 4190, '은하사': 4191, '스티플러': 4192, '고통': 4193, '전무송': 4194, '괴': 4195, '짱구': 4196, '리즈': 4197, '띄다': 4198, '경우': 4199, '봣음': 4200, '그거': 4201, '갖가지': 4202, '연관': 4203, '승전': 4204, '식임': 4205, '박대동': 4206, '홍도': 4207, '쾌': 4208, '결승전': 4209, '공정하다': 4210, '라운드': 4211, '결과물': 4212, '오현민': 4213, '인간성': 4214, '팔다': 4215, '앱스토어': 4216, '애플': 4217, '안드로이드': 4218, '목포': 4219, '붹': 4220, '범죄자': 4221, '이물': 4222, '나인': 4223, '넘사벽': 4224, '맘속': 4225, '동족': 4226, '도울': 4227, '장성택': 4228, '체제': 4229, '자멸': 4230, '호시탐탐': 4231, '노리': 4232, '빼앗기다': 4233, '갓': 4234, '동민': 4235, '야유': 4236, '별점': 4237, '이정우': 4238, '김푸른': 4239, '엄기준': 4240, '최': 4241, '절단': 4242, '닥치다': 4243, '무력하다': 4244, '나오미': 4245, '왓츠': 4246, '앨리': 4247, '파커': 4248, '정준호': 4249, '떄문': 4250, '쇼생크탈출': 4251, '오역': 4252, '이스트': 4253, '우드': 4254, '이중성': 4255, '아이구': 4256, '똘볼수': 4257, '가르치다': 4258, '맹점': 4259, '군중심리': 4260, '파헤치다': 4261, '진영화': 4262, '캣우먼': 4263, '강우석': 4264, '에이브': 4265, '럼스': 4266, '오락': 4267, '상치': 4268, '옥주현': 4269, '찌': 4270, '하윤': 4271, '적절하다': 4272, '토리': 4273, '찔끔': 4274, '몰랑몰랑': 4275, '포탈': 4276, '아이로봇': 4277, '황당': 4278, '용두사미': 4279, '패트레이버': 4280, '점말': 4281, '패륜': 4282, '존쿠삭': 4283, '메트로': 4284, '추리소설': 4285, '트릭': 4286, '정당성': 4287, '헌신': 4288, '용의자': 4289, '카톨릭': 4290, '개신교': 4291, '그리스도교': 4292, '유일신': 4293, '하느님': 4294, '애국가': 4295, '리기': 4296, '점줌': 4297, '기다리다': 4298, '부탁': 4299, '캡틴': 4300, '린치': 4301, '필추': 4302, '년씨짘': 4303, '나올때마닼': 4304, '으헠': 4305, '악당': 4306, '부담': 4307, '스럽지': 4308, '스태프': 4309, '흔적': 4310, '부자연스럽다': 4311, '웹툰': 4312, '돌': 4313, '묵고': 4314, '댕기': 4315, '셀': 4316, '리아나': 4317, '오만': 4318, '그레이': 4319, '토미': 4320, '본업': 4321, '똑바로': 4322, '게스트': 4323, '대지': 4324, '신비하다': 4325, '최하': 4326, '예감': 4327, '관람객': 4328, '평가절하': 4329, '단호': 4330, '왜르케': 4331, '포켓몬스터': 4332, '다해': 4333, '불쌍타': 4334, '종훈': 4335, '이형': 4336, '가오': 4337, '상하': 4338, '착오': 4339, '느': 4340, '어케되는': 4341, '전국': 4342, '내적': 4343, '외적인': 4344, '물체': 4345, '빠르기': 4346, '풍부하다': 4347, '기분좋은날': 4348, '파킨슨병': 4349, '하염없이': 4350, 'ㅋㅋㅋㅋㅋㅋㅋㅋㅋㅋㅋ': 4351, '성욕': 4352, '합리화': 4353, '뭐함': 4354, '조니': 4355, '뎁': 4356, '잭': 4357, '스패': 4358, '바둑': 4359, '급수': 4360, '리가': 4361, '바둑용어': 4362, '자처': 4363, '아트': 4364, '잭맨': 4365, '풍선': 4366, '조엘': 4367, '슈마허': 4368, '로빈': 4369, '것일': 4370, '미덕': 4371, '조명': 4372, '바치다': 4373, '이니까': 4374, '애색긔들': 4375, '깜찍하다': 4376, '엄지': 4377, '사악하다': 4378, '마녀': 4379, '로부터': 4380, '매경': 4381, '갠차다': 4382, '타인': 4383, '까지의': 4384, '전이': 4385, '상반기': 4386, '저수지': 4387, '개폼': 4388, '버젼': 4389, '으로서의': 4390, '냄새': 4391, '뿜': 4392, '불가능': 4393, '조용하다': 4394, '관계씬': 4395, '수학': 4396, '알러뷰': 4397, '하이': 4398, '틴': 4399, '단점': 4400, '든지': 4401, '글쓰기': 4402, '기왕': 4403, '심왜': 4404, '습작': 4405, '지원': 4406, '나수윤': 4407, '배배꼬았다': 4408, '톰크루즈': 4409, '실질': 4410, '점준': 4411, '미술관': 4412, '관조': 4413, '검': 4414, '뷁': 4415, '읹': 4416, '씐': 4417, '제시카알바': 4418, '불러일으키다': 4419, '잡다하다': 4420, '샛길': 4421, '새다': 4422, '만족스럽다': 4423, '죽도': 4424, '저기': 4425, '그룹': 4426, '주진모': 4427, '더럽히다': 4428, '겉멋': 4429, '애국': 4430, '종잡': 4431, '델마와루이스': 4432, '케이스': 4433, '오디션': 4434, '나열하다': 4435, '정신없이': 4436, '지적': 4437, '곳도': 4438, '모음': 4439, '어째': 4440, '그다지': 4441, '스럽지도': 4442, '미이라': 4443, '뵈다': 4444, '점밑': 4445, '흘렷다': 4446, '억이': 4447, '외계': 4448, '길이': 4449, '최상급': 4450, '띠띠디띠': 4451, '숨': 4452, '품다': 4453, '아이폰': 4454, '하아': 4455, '복고': 4456, '컨셉': 4457, '종료': 4458, '년뒤': 4459, '편의': 4460, '수정과': 4461, '마마마': 4462, '우측': 4463, '주장': 4464, '이연희': 4465, '하와': 4466, '고프다': 4467, '자질': 4468, '밖엔': 4469, '가보': 4470, '어처구니없다': 4471, '마지노선': 4472, '달마': 4473, '주유소': 4474, '습격': 4475, '췌밌는데': 4476, '안문숙': 4477, '천하': 4478, '양녕대군': 4479, '브랜드': 4480, '먹어주다': 4481, '삽': 4482, '파내다': 4483, '탐구': 4484, '조선시대': 4485, '대미': 4486, '문의': 4487, '이정재': 4488, '김옥빈': 4489, '데왜': 4490, '말이얌': 4491, '리턴': 4492, '코렌': 4493, '부의': 4494, '이군': 4495, '김태균': 4496, '재능': 4497, '환타지': 4498, '개척': 4499, '시나리오작가': 4500, '성동일': 4501, '시르다': 4502, '만화가': 4503, '최곤데': 4504, '열도': 4505, '대중화': 4506, '춘향전': 4507, '고발': 4508, '연예가중계': 4509, '정일': 4510, '촬영감독': 4511, '수치심': 4512, '소스': 4513, '치': 4514, '고개': 4515, '금정': 4516, '다운로드': 4517, '뉴완다': 4518, '억백만': 4519, '달러': 4520, '라고는': 4521, '농간': 4522, '휼륭하다': 4523, '널리': 4524, '퍼지다': 4525, '엄연하다': 4526, '재력': 4527, '오만해': 4528, '원스': 4529, '삼만리': 4530, '까지야': 4531, '전락': 4532, '초등생': 4533, '소동': 4534, '유사하다': 4535, '택시': 4536, 'ㄷㄷㄷ': 4537, '이뻣다': 4538, '고해': 4539, '감상문': 4540, '서류': 4541, '봉투': 4542, '도망가다': 4543, '남친': 4544, '짱짱하다': 4545, '진임': 4546, '모로': 4547, '도로': 4548, '데니스': 4549, '퀘': 4550, '명연기': 4551, '댄스': 4552, '어깨': 4553, '들썩들썩': 4554, '아젛': 4555, '겨울왕국': 4556, '왜캐': 4557, '넢어': 4558, '천사': 4559, '쿵푸허슬': 4560, '월트디즈니': 4561, '도리': 4562, '빡치다': 4563, '지식인': 4564, '물어보다': 4565, '프리즌브레이크': 4566, '미만': 4567, '콧구멍': 4568, '스캇': 4569, '국내': 4570, '쩌리': 4571, '샤론스톤': 4572, '파리': 4573, '크루즈': 4574, '만은': 4575, '인스피릿': 4576, '비스트': 4577, '궁금증': 4578, '균': 4579, '해병': 4580, '년놈': 4581, '불만': 4582, '해법': 4583, '동의': 4584, '사발': 4585, '젖': 4586, '것때메': 4587, '여자친구': 4588, '날카롭다': 4589, '형이상학적': 4590, '가시': 4591, '찔리다': 4592, '지각': 4593, '공기': 4594, '전해지다': 4595, '홍상수': 4596, 'ㅡㅡㅋ': 4597, '쟁장': 4598, '재밋게보고잇슴니': 4599, '와나': 4600, '넘버원': 4601, 'ㅉㅏ': 4602, '정선경': 4603, '푸다': 4604, '용다': 4605, '완표': 4606, '재영': 4607, '어긋나다': 4608, '에드': 4609, '에든': 4610, '한가지': 4611, '겜블': 4612, '갱': 4613, '형사물': 4614, '펜': 4615, '이하나': 4616, '한재석': 4617, '정겨운': 4618, '최정희': 4619, '태문': 4620, '뉴': 4621, '행': 4622, '층': 4623, '여동생': 4624, '에그': 4625, '분노': 4626, '찬': 4627, '리즈시절': 4628, '미쉘': 4629, '무뚝뚝하다': 4630, '별명': 4631, '마법': 4632, '색': 4633, '예수님': 4634, '부릉부릉': 4635, '땅크': 4636, '맙': 4637, '다오': 4638, '렉': 4639, '준놈': 4640, '년작': 4641, '김재철': 4642, '전사': 4643, '발치': 4644, '누규': 4645, '케이트': 4646, '허드슨': 4647, '유키스': 4648, '유선': 4649, '아나운서': 4650, '라던가': 4651, '훌륭햇음': 4652, '웃대': 4653, '아이디': 4654, '애국자': 4655, '남선': 4656, '아이스크림': 4657, '제한': 4658, '설국열차': 4659, '가루지기': 4660, '약점': 4661, '스트라이커': 4662, '김준': 4663, '살육': 4664, '일어나서': 4665, '것임': 4666, '장진영': 4667, '흡연량': 4668, '고현정': 4669, '근육': 4670, '슈퍼스타': 4671, '참신': 4672, '템포': 4673, '드라들': 4674, '행진': 4675, '시범': 4676, '후딱': 4677, '하품': 4678, '미시': 4679, '감추다': 4680, '윤하': 4681, '관좀': 4682, '귀여니': 4683, '뚬': 4684, '알렉스': 4685, '오로린': 4686, '심심': 4687, '미묘': 4688, '야마카시': 4689, '룸싸롱': 4690, '찌라시': 4691, '개편': 4692, '지상렬': 4693, '이유리': 4694, '까닭': 4695, '온라인': 4696, '서비스': 4697, '오픈': 4698, '오인혜': 4699, '마담': 4700, '세운': 4701, '낚시': 4702, '판단': 4703, '돌아서다': 4704, '승려': 4705, '일대기': 4706, '둔기': 4707, '페드로': 4708, '전화기': 4709, '테레비': 4710, '삐뚤어지다': 4711, '빅뱅': 4712, '풍자': 4713, '나누다': 4714, '베풀다': 4715, '발상': 4716, '뉘': 4717, '쓸데없다': 4718, '무게': 4719, '분대': 4720, '맥주': 4721, '마시다': 4722, '외치': 4723, '퍼뜩': 4724, 'ㅇㄴ': 4725, '추강': 4726, '이솝우화': 4727, '승화': 4728, '반짝반짝': 4729, '종로': 4730, '백곰': 4731, '무장': 4732, '재시': 4733, '키다': 4734, '도데': 4735, '체': 4736, '와이프': 4737, '쩡': 4738, '함축': 4739, '재밋게봐': 4740, '밋엇움': 4741, '평땜': 4742, '환불': 4743, '자음': 4744, '식겁하다': 4745, '소신': 4746, '모양': 4747, '볼륨': 4748, '정신병': 4749, '한지민': 4750, '쓰레길': 4751, '다모': 4752, '혼합': 4753, '자만': 4754, '관장': 4755, '맘대로': 4756, '해먹': 4757, '오버액션': 4758, '여전': 4759, '동창회': 4760, '에손': 4761, '얹다': 4762, '각각': 4763, 'ㅅㅂㅡㅡ': 4764, '불꽃': 4765, '날아가다': 4766, '아낌없다': 4767, '모름': 4768, '바랬어': 4769, '그리기': 4770, '대치': 4771, '웃스': 4772, '질주': 4773, '단조롭다': 4774, '유용하다': 4775, '썻었을거': 4776, '지정학적': 4777, '감우성': 4778, '최강희': 4779, '블랙리스트': 4780, '나살': 4781, '법후': 4782, '발판': 4783, '로세': 4784, '드류': 4785, '모어': 4786, '꼴사납다': 4787, '보건': 4788, '현저': 4789, '금발': 4790, '쌕시': 4791, '시종': 4792, '시샘': 4793, '질투': 4794, '금성': 4795, '샘플': 4796, '느슨하다': 4797, '볼일': 4798, '허비하다': 4799, '노출하다': 4800, '족족': 4801, '진수': 4802, '보때': 4803, '이암': 4804, '컬': 4805, '부전': 4806, '번개': 4807, '시퀀스': 4808, '딴': 4809, '보삼': 4810, '사족': 4811, '드레곤': 4812, '기형': 4813, '덕질': 4814, '하고프다': 4815, '아나킨': 4816, '버러지': 4817, '화단': 4818, '웄던': 4819, '유아': 4820, '틱': 4821, '장난감': 4822, '계열': 4823, '예찬': 4824, '오만상': 4825, '불현듯이': 4826, '이준기': 4827, '프렌치': 4828, '캉캉': 4829, '럴슨': 4830, '이편': 4831, '주근': 4832, '게리': 4833, '송어': 4834, '냉소': 4835, '박종원': 4836, '알콜': 4837, '의존': 4838, '토니': 4839, '서커스': 4840, '이해해': 4841, '머좀': 4842, '무착': 4843, '무뇌': 4844, '무식하다': 4845, '회사원': 4846, '반영': 4847, '부라': 4848, '님드': 4849, '보실': 4850, '선진국': 4851, '지드': 4852, '지내다': 4853, '온통': 4854, '폐허': 4855, '핵전쟁': 4856, '곰신': 4857, '강간범': 4858, '쿵푸': 4859, '탄탄': 4860, '서부': 4861, '가스펠': 4862, '편곡': 4863, '제프': 4864, '브리짓스': 4865, '가래': 4866, '헤일': 4867, '테': 4868, '벨트': 4869, '머리스타일': 4870, '이경실': 4871, '니나': 4872, '본진': 4873, '헤드셋': 4874, '오줌': 4875, '찌릴뻔': 4876, '하얗다': 4877, '눈밭': 4878, '범벅': 4879, '몽롱': 4880, '슬로우': 4881, '모션': 4882, '넋': 4883, '유지태': 4884, '찜찜하다': 4885, '적나라하다': 4886, '뷰': 4887, '이이이이': 4888, '라이오넬': 4889, '다우니': 4890, '주니어': 4891, '부탄가스': 4892, '터뜨리다': 4893, '어수선하다': 4894, '조만간': 4895, '엊그제': 4896, '작년': 4897, '겨울': 4898, '여름': 4899, '사계절': 4900, '에너미': 4901, '오브': 4902, '스테이': 4903, '울음': 4904, '팀': 4905, '로빈스': 4906, '너리': 4907, '리포트': 4908, '사만': 4909, '모튼': 4910, '똥망': 4911, '물소': 4912, '어딨다': 4913, '분투': 4914, '마음속': 4915, '간질': 4916, '긁다': 4917, '소장': 4918, '분신사바': 4919, '근처': 4920, '에라도': 4921, '조그만': 4922, '경쟁': 4923, '치열하다': 4924, '이정현': 4925, '엘리트': 4926, '눈뜨다': 4927, '완점잼': 4928, '임정은': 4929, '부적': 4930, '소질': 4931, '수면제': 4932, '잠자다': 4933, '도기': 4934, '스피드': 4935, '용인': 4936, '이랑은': 4937, '파트너': 4938, '러시아어': 4939, '언급': 4940, '기부': 4941, '봉사활동': 4942, '상관없다': 4943, '양조위': 4944, '장첸': 4945, '상관': 4946, '군상': 4947, '떙떙혹': 4948, '틴틴': 4949, '번인': 4950, '출생': 4951, '종결': 4952, '인지도': 4953, '안녕하다': 4954, '흡사하다': 4955, '배제': 4956, '무방': 4957, '조건': 4958, '편리하다': 4959, '세대': 4960, '벅차다': 4961, '대장': 4962, '달리다': 4963, '패럴': 4964, '리': 4965, '댄서': 4966, '기득권': 4967, '지도': 4968, '민주당': 4969, '형무소': 4970, '유사': 4971, '당당하다': 4972, '오프라인': 4973, '선물': 4974, '이제야': 4975, '김효진': 4976, '꼰다': 4977, '소통': 4978, '세번': 4979, '쓸모없다': 4980, '뻣뻣하다': 4981, '퇴보': 4982, '갈수': 4983, '자료': 4984, '코트': 4985, '헤': 4986, '반즈': 4987, '생생': 4988, '컨저링': 4989, '스완': 4990, '명장': 4991, '이자': 4992, '뭍': 4993, '반쪽': 4994, '영화니': 4995, '활보': 4996, '결과': 4997, '리들리': 4998, '스콧': 4999, '감독판': 5000, '오리진': 5001, '마지막방송': 5002, '신성록': 5003, '이세영': 5004, '백인': 5005, '무한도전': 5006, '부작용': 5007, '권리': 5008, '뺒': 5009, '컴플렉스': 5010, '인들': 5011, '기발하다': 5012, '나본': 5013, '오래오래': 5014, '재수': 5015, '라우': 5016, '욧': 5017, '호기': 5018, '로운': 5019, '이끌다': 5020, '관계자': 5021, '예의': 5022, '갸웃': 5023, '다수': 5024, '자위행위': 5025, '해달라다': 5026, '관용': 5027, '시간대': 5028, '물의': 5029, '처가': 5030, '다방면': 5031, '역쉬': 5032, '아릴': 5033, '한국어': 5034, '발음': 5035, '샬로': 5036, '맹목': 5037, '샬': 5038, '살길': 5039, '아리': 5040, '여가': 5041, '뒤뚱뒤뚱': 5042, '디스': 5043, '퓨티드': 5044, '이두용': 5045, '뽕': 5046, '렸': 5047, '징': 5048, '리자': 5049, '메이크업': 5050, '달아오르다': 5051, '뎈': 5052, '대길': 5053, '덕햇': 5054, '운남': 5055, '사이더': 5056, '하우스': 5057, '여행': 5058, '건조하다': 5059, '아하': 5060, '어우': 5061, '홀리랜드': 5062, '호야': 5063, '가하다': 5064, '떤다': 5065, '후끈': 5066, '후끈하다': 5067, '처절하다': 5068, '태우다': 5069, '가능': 5070, '쌩뚱맞다': 5071, '똥파리': 5072, '장승': 5073, '의사': 5074, '순진하다': 5075, '전투': 5076, '칼': 5077, '아베': 5078, '히로시': 5079, '타무라': 5080, '카': 5081, '키도': 5082, '온돌': 5083, '우기': 5084, '어쩌나': 5085, '단단하다': 5086, '감싸다': 5087, '익히다': 5088, '부드럽다': 5089, '훼': 5090, '가격': 5091, '흥정': 5092, '연주': 5093, '빈번': 5094, '우리네': 5095, '직시': 5096, '다나': 5097, '어메이징': 5098, '리버': 5099, '피닉스': 5100, '화답': 5101, '폐해': 5102, '막연하다': 5103, '넘기다': 5104, '난무': 5105, '문단속': 5106, '중요성': 5107, '불사': 5108, '숨바꼭질': 5109, '어둠': 5110, '이상자': 5111, '정식': 5112, '진작': 5113, '쏘우': 5114, '쵝오네': 5115, '박영화': 5116, '한동안': 5117, '훔치다': 5118, '게살': 5119, '애둘맘': 5120, '애둘': 5121, '재우다': 5122, '낙': 5123, '낚으시네': 5124, '오늘밤': 5125, '악몸': 5126, '꾸다': 5127, '짱꼴라': 5128, '중화사상': 5129, '쏟아지다': 5130, '새삼': 5131, 'ㅏ': 5132, '시초': 5133, '고르다': 5134, '왕가위': 5135, '실소': 5136, '괜찬': 5137, '유니크': 5138, '요호': 5139, '보너스': 5140, '상투': 5141, '오도': 5142, '넬': 5143, '결혼식': 5144, '깽': 5145, '판도': 5146, '옥택연': 5147, '마누라': 5148, '나누기': 5149, '상의': 5150, '고참': 5151, '우발': 5152, '실수': 5153, '한반도': 5154, '편협': 5155, '까지와': 5156, '판치다': 5157, '엇네': 5158, '난뭐': 5159, '홥': 5160, '프로젝트': 5161, '키리시': 5162, '뒤지다': 5163, '어보': 5164, '어지럽다': 5165, '출렁이다': 5166, '어머님께': 5167, '외할아버지': 5168, '외할머니': 5169, '헐겁다': 5170, '정돈': 5171, '그중': 5172, '이나영': 5173, '나머진': 5174, '바규': 5175, '갈리다': 5176, '직장': 5177, '동료': 5178, '선후배': 5179, '짜리몽땅': 5180, '구관': 5181, '명관': 5182, '천식': 5183, '오히려': 5184, '적요': 5185, '하루히': 5186, '클릭': 5187, '유전': 5188, '무죄': 5189, '무전': 5190, '유죄': 5191, '김준호': 5192, '이자나': 5193, '격투': 5194, '경전': 5195, '다예': 5196, '간략하다': 5197, '불편': 5198, '서울시장': 5199, '후보': 5200, '아내': 5201, '엄정화': 5202, '착': 5203, '달라붙다': 5204, '의상': 5205, '시방': 5206, '이브': 5207, '마디': 5208, '앙증맞다': 5209, '김선빈': 5210, '걸왜': 5211, '보물찾기': 5212, '미지': 5213, '모험': 5214, '희극배우': 5215, '찰리채플린': 5216, '질리다': 5217, '우승': 5218, '송민호': 5219, '뮤직': 5220, '비됴': 5221, '집기': 5222, '실습': 5223, '일수': 5224, '대국민': 5225, '투표': 5226, '하숙집': 5227, '하숙': 5228, '사궈': 5229, '최최최': 5230, '불쾌감': 5231, '심다': 5232, '명의': 5233, '데뷰': 5234, '불행하다': 5235, '신경질': 5236, '떽땍거리': 5237, '버전': 5238, '측은하다': 5239, '등등': 5240, '도발': 5241, '자매': 5242, '카페': 5243, '였음': 5244, '썰렁하다': 5245, '관련': 5246, 'ㅅㅅ': 5247, '썰전': 5248, '막상': 5249, '인맥': 5250, '레벨': 5251, '위인': 5252, '영호': 5253, '두렵다': 5254, '추락': 5255, '시킴': 5256, '후기': 5257, '볼랫더': 5258, '패스': 5259, '파르비스': 5260, '라츠': 5261, '흡사': 5262, '무림': 5263, '고수': 5264, '눈빛': 5265, '태클': 5266, '이상형': 5267, '아이고': 5268, '가리다': 5269, '정은채': 5270, '녹이다': 5271, '레기': 5272, '버': 5273, '유연석': 5274, '손호준': 5275, '섭외': 5276, '요청': 5277, '거절': 5278, '읭': 5279, '인정': 5280, '저건': 5281, '후처': 5282, '벌': 5283, '이징': 5284, '거때메': 5285, '실': 5286, '씨발': 5287, '바쁘다': 5288, '찍': 5289, '직선': 5290, '획기': 5291, '특권': 5292, '듬뿍': 5293, '로맨틱': 5294, '괴기': 5295, '흔': 5296, '하디': 5297, '선희': 5298, '덩어리': 5299, '입도': 5300, '힘': 5301, '서프라이즈': 5302, '패닉': 5303, '따오다': 5304, '열차': 5305, '멈추다': 5306, '폭탄': 5307, '해체': 5308, '수갑': 5309, '쩍': 5310, '스티븐': 5311, '마무리': 5312, '참말': 5313, '레젼드': 5314, '미인': 5315, '골빈': 5316, '된장': 5317, '성형': 5318, '사라졋으': 5319, '기간': 5320, '봄내': 5321, '혜결': 5322, '기여': 5323, '누군지': 5324, '닥본할끙': 5325, '장나라': 5326, '이념': 5327, '죄파': 5328, '안해': 5329, '대학로': 5330, '방송국': 5331, '소녀시대': 5332, '경쟁자': 5333, '기수': 5334, '미도': 5335, '휴머니즘': 5336, '망가지다': 5337, '에이리언': 5338, '안마방': 5339, '잏': 5340, '무산': 5341, '듭니': 5342, '리부트': 5343, '확장': 5344, '토비': 5345, '맥과이어': 5346, '둘째': 5347, '루저': 5348, '설': 5349, '임의': 5350, '토끼': 5351, '마라톤': 5352, '연습': 5353, '매일': 5354, '건강': 5355, '일석이조': 5356, '고로': 5357, '첨부': 5358, '너와나': 5359, '김아중': 5360, '뽀로로': 5361, '가주': 5362, '말투': 5363, '산드라': 5364, '블록': 5365, '찾아다니다': 5366, '감탄사': 5367, '버지니아': 5368, '클레어': 5369, '자유롭다': 5370, '집합소': 5371, 'ㅋㅋㅋㅋㅋㅋㅋㅋㅋㅋ': 5372, 'ㅋㅋㅋㅋㅋㅋㅋㅋㅋㅋㅋㅋㅋㅋㅋㅋㅋ': 5373, '쉽다': 5374, '병사': 5375, '싯달': 5376, '겄': 5377, '꾹': 5378, 'ㅗㅃㅋ': 5379, '꼬맹일때': 5380, '딱지': 5381, '떄': 5382, '일삼': 5383, '말년': 5384, '웨스턴': 5385, '이별': 5386, '고하': 5387, '파일': 5388, '더구나': 5389, '괜츈타': 5390, '이방인': 5391, '왜왜왜': 5392, '증거': 5393, '미궁': 5394, '못하겄내': 5395, '하문': 5396, '미제': 5397, '느그': 5398, '중거': 5399, '따리': 5400, '군인': 5401, '백성현': 5402, '최불암': 5403, '차인표': 5404, '전광렬': 5405, '점안': 5406, '그러면': 5407, '전용': 5408, '손손': 5409, '대역': 5410, '드넹': 5411, '속단': 5412, '걷다': 5413, '먹방': 5414, '꼴레오네': 5415, '바로바로': 5416, '뒷': 5417, '욱일승천기': 5418, '일장기': 5419, '일맥상통': 5420, '샤워씬': 5421, '추기경': 5422, '교황': 5423, '격었': 5424, '카이': 5425, '시네마': 5426, '왜곡': 5427, '웟': 5428, '워낙': 5429, '그다음': 5430, '김프': 5431, '리맨': 5432, '쟁이': 5433, '강도': 5434, '인질': 5435, '절댜': 5436, '가당': 5437, '민세': 5438, '박영린': 5439, '만드': 5440, '목적': 5441, '앞서다': 5442, '관념': 5443, '공중파': 5444, '순도': 5445, '소임': 5446, '오시': 5447, '마모루': 5448, '일박이일': 5449, '멘타리': 5450, '진도': 5451, '성장하다': 5452, '반면': 5453, '제자리걸음': 5454, '퇴화': 5455, 'ㅠㅠㅠㅠㅠ': 5456, '데스노트': 5457, '도라에몽': 5458, '세영': 5459, '사표': 5460, '돌아보다': 5461, '이따': 5462, '구야': 5463, '쓰나미': 5464, '임요환': 5465, '선수': 5466, '전략': 5467, '찾아가다': 5468, '그나저나': 5469, '신기하': 5470, '넹': 5471, '다주': 5472, '보디가드': 5473, '홍콩영화': 5474, '어설품': 5475, '다소간': 5476, '시리다': 5477, '푸른': 5478, '아리다': 5479, '정윤희': 5480, '탁': 5481, '돌파': 5482, '일케': 5483, '구사': 5484, '잠기다': 5485, '쇠발개쉐기': 5486, '파워레인저': 5487, '과찬': 5488, '황제': 5489, '황후': 5490, '불화': 5491, '수의': 5492, '에야': 5493, '벗다': 5494, '공중부양': 5495, '형광등': 5496, '호프만': 5497, '의료': 5498, '보장': 5499, '잼슴': 5500, 'ㅇㅎ': 5501, '단발머리': 5502, '뭐임': 5503, '거뭐': 5504, '편찮다': 5505, '만만하다': 5506, '혼나다': 5507, '구멍': 5508, '자각': 5509, '상도': 5510, '선덕여왕': 5511, '닥터진': 5512, '신부': 5513, '신고': 5514, '바탕': 5515, '진해': 5516, '종이': 5517, '동무': 5518, '악평': 5519, '트렌드': 5520, '스피디함': 5521, '돌발': 5522, '뭣': 5523, '황보라': 5524, '이종혁': 5525, '잘맞다': 5526, '원주율': 5527, 'ㅠㅂㅠ': 5528, '원망하다': 5529, '미군정': 5530, '이승': 5531, '행적': 5532, '규명': 5533, 'ㅋㅋㅋㅋㅋㅋㅋㅋㅋㅋㅋㅋㅋㅋㅋㅋㅋㅋㅋㅋㅋㅋㅋㅋㅋㅋㅋㅋㅋㅋㅋㅋㅋ': 5534, '소유자': 5535, '아시안': 5536, '굴렁쇠': 5537, '벗기다': 5538, '정사': 5539, '갑날': 5540, '료코': 5541, '브루스': 5542, '니깐': 5543, '판이': 5544, '조이스틱': 5545, '장악': 5546, '지그': 5547, '한텐': 5548, '빅매치': 5549, '컴텨': 5550, '비쥬': 5551, '얼': 5552, '예고': 5553, '김조광수': 5554, '장점': 5555, '아성': 5556, '쓰레긴데': 5557, '옼': 5558, '앟': 5559, '드르륵': 5560, '처넌': 5561, '부녀': 5562, '래야': 5563, '이해력': 5564, '신세계': 5565, '은위': 5566, '로그': 5567, '두드리다': 5568, '감돈': 5569, '만난': 5570, '터치': 5571, '삼가다': 5572, '고인': 5573, '존멋': 5574, '뼈채': 5575, '대략': 5576, '쇼생': 5577, '서사시': 5578, '올려주다': 5579, '맥락': 5580, '근대': 5581, '중요시': 5582, '최헌': 5583, '대풍수': 5584, '교체': 5585, '헛짓임': 5586, '방해': 5587, '실사영화': 5588, '김정훈': 5589, '투사': 5590, '순결하다': 5591, '곧다': 5592, '불과': 5593, '우습다': 5594, '요하': 5595, '감당': 5596, '얍얍': 5597, '뚝딱': 5598, '외로이': 5599, '떠돌다': 5600, '쪽나': 5601, '해전': 5602, '네버엔딩': 5603, '멸망': 5604, '윤시윤': 5605, '세트': 5606, '디자인': 5607, '남매': 5608, '특': 5609, '유의': 5610, '따스하다': 5611, '행크스': 5612, '외우다': 5613, '별것': 5614, '윌': 5615, '향': 5616, '소리치다': 5617, '손톱': 5618, '째다': 5619, '에로영화': 5620, '차원': 5621, '청국장': 5622, '데드풀': 5623, '응사': 5624, '한혜진': 5625, '지진희': 5626, '애절하다': 5627, '연민': 5628, '시트콤': 5629, '사랑과전쟁': 5630, '정선': 5631, '다이아나': 5632, '쫓아오다': 5633, '퀸': 5634, '불발': 5635, '전의': 5636, '봣을떄': 5637, '벨아미': 5638, '로버트패틴슨': 5639, '스필버그': 5640, '우연이': 5641, '빼놓다': 5642, '붙여넣기': 5643, '대충': 5644, '얼버무리다': 5645, '타령': 5646, '나눔': 5647, '실종': 5648, '당근': 5649, '좆선': 5650, '삼성': 5651, '대기업': 5652, '당장': 5653, '비난': 5654, '일베충': 5655, '황추생': 5656, '오진우': 5657, '정신병원': 5658, '복도': 5659, '살리에리': 5660, '사하다': 5661, '모차르트': 5662, '빠닼': 5663, '가방': 5664, '걸레': 5665, '압꿘': 5666, '팼다': 5667, '이역': 5668, '마법사': 5669, '실비': 5670, '블렉코메디': 5671, '메딘': 5672, '브래드피트': 5673, '워킹데드': 5674, '중딩': 5675, '터미널': 5676, 'ㅗ': 5677, '일부': 5678, '해대': 5679, '이수만': 5680, '교묘하다': 5681, '미천하다': 5682, '속상하다': 5683, '과유': 5684, '불급': 5685, '인터스텔라': 5686, '지는': 5687, '대전': 5688, '네덜란드인': 5689, '일제시대': 5690, '어떠하다': 5691, '외세': 5692, '침입': 5693, '종류': 5694, '나뉘다': 5695, '애완견': 5696, '복종': 5697, '배신자': 5698, '척결': 5699, '부럽다': 5700, '분명': 5701, '추접': 5702, '으로써는': 5703, '정준': 5704, '용씨': 5705, '섹스': 5706, '마직': 5707, '막부': 5708, '식스센스': 5709, '유주얼서스펙트': 5710, '캐롤': 5711, '첫사랑': 5712, '웨이': 5713, '지밀': 5714, '이요원': 5715, '직업': 5716, '버시': 5717, '디카프리오': 5718, '답임': 5719, '글': 5720, '평화': 5721, '도구로': 5722, '주소': 5723, '마파도': 5724, '꼬': 5725, '라기': 5726, '특성': 5727, '출하': 5728, '오직': 5729, '무도': 5730, '몫': 5731, '에르': 5732, '체베트': 5733, '왕족': 5734, '희생양': 5735, '비운': 5736, '곰': 5737, '거참': 5738, '역량': 5739, '필요성': 5740, '아완': 5741, '죤': 5742, '팡': 5743, '지엔': 5744, '자도': 5745, '되살리다': 5746, '약물': 5747, '스나입스': 5748, '신랄하다': 5749, '파김치': 5750, '백악관': 5751, '뚫다': 5752, '휘': 5753, '잘라먹다': 5754, '지우다': 5755, '싫어지다': 5756, '화초': 5757, '힌트': 5758, '애매하다': 5759, '키포인트': 5760, '치사하다': 5761, '짱개': 5762, '대요': 5763, '태반': 5764, '쏟다': 5765, '다람쥐': 5766, '여울': 5767, '의젖': 5768, '읭응': 5769, '분동': 5770, '핸드': 5771, '사납다': 5772, '다다': 5773, '괴물영화': 5774, '매드': 5775, '황금': 5776, '밤시': 5777, '어요': 5778, '회볼때': 5779, '구라': 5780, '발라': 5781, '도아': 5782, '감사': 5783, '초록': 5784, '몽환': 5785, '요도': 5786, '완득이': 5787, '는가': 5788, '갠': 5789, '변신': 5790, '농담': 5791, '따먹다': 5792, '라비': 5793, '앙': 5794, '로즈': 5795, '인연': 5796, '누굴까': 5797, '해봤다': 5798, '이디스': 5799, '치코': 5800, '나우': 5801, '건물': 5802, '지하가': 5803, '더보': 5804, '콩코드기': 5805, '끝장': 5806, '최소': 5807, '양도': 5808, '헝편없어': 5809, '다크나이트': 5810, '라이즈': 5811, '롱롱롱': 5812, '테이크': 5813, '환장하다': 5814, '재난': 5815, '대책': 5816, '손색': 5817, '붕뜬': 5818, '지점': 5819, '차마': 5820, '처참하다': 5821, '잠기': 5822, '살이': 5823, 'ㅋㅋㅋㄱ': 5824, '트레일러': 5825, '난후': 5826, '분간': 5827, '멍': 5828, '로드리게스': 5829, '라스': 5830, '셀마': 5831, '쩔어요': 5832, '멕': 5833, '허니': 5834, '포도': 5835, '딸기': 5836, '드디어': 5837, '디센트': 5838, '이기광': 5839, '주행': 5840, '획': 5841, '었': 5842, 'ㄹㅇ': 5843, '썪는줄': 5844, '비둘기': 5845, '성애자': 5846, '들르다': 5847, '오랫동안': 5848, '해드리다': 5849, '티켓': 5850, '절반': 5851, '할인': 5852, '헉': 5853, '중국사람': 5854, '보조': 5855, '마크': 5856, '명성': 5857, '순응': 5858, '복제인간': 5859, '세밀': 5860, '적극': 5861, '원인': 5862, '과오': 5863, '로드무비': 5864, '정보': 5865, '진국': 5866, '올랜도': 5867, '블룸': 5868, '심취': 5869, '나카타': 5870, '디다': 5871, '레슬리': 5872, '닐슨': 5873, '기념비': 5874, '구입': 5875, '소지섭': 5876, '김하늘': 5877, '뒤늦다': 5878, '김조한': 5879, '쏭': 5880, '현태': 5881, 'ㅠㅠㅠㅠㅠㅠㅠㅠㅠㅠㅠ': 5882, '솔직': 5883, '긴박하다': 5884, '강대국': 5885, '개입': 5886, '남일': 5887, '설레임': 5888, '옴': 5889, '개선': 5890, '랬': 5891, '달콤하다': 5892, '거짓말': 5893, '멋쪙': 5894, '남규리': 5895, '효민': 5896, '눈살': 5897, '찌푸리다': 5898, '대화': 5899, '이라기': 5900, '저절로': 5901, '되드라구': 5902, '기담': 5903, '인어': 5904, '꼬리': 5905, '신비롭다': 5906, '못자다': 5907, '엄지원': 5908, '이지아': 5909, '죨': 5910, '해품달': 5911, '슈퍼': 5912, '앵글': 5913, '깡': 5914, '삼계탕': 5915, '후라이드': 5916, '삼겹살': 5917, '드럼': 5918, '왓으': 5919, '흐접': 5920, '찌랭': 5921, '타락': 5922, '사정': 5923, '뎅': 5924, '이도영': 5925, '힝': 5926, '상응': 5927, '개살구': 5928, '여강': 5929, '난입': 5930, '뱉다': 5931, '빼어나다': 5932, '지하실': 5933, '고사': 5934, '조정래': 5935, '오래도록': 5936, '김현주': 5937, '얼마': 5938, '살색': 5939, '법적': 5940, '열쇠': 5941, '계획': 5942, '헤롱헤롱': 5943, '술처': 5944, '어쩜이리': 5945, '징글': 5946, '한결같다': 5947, '울버린': 5948, '화합': 5949, '야인시대': 5950, '밀양': 5951, '깊숙하다': 5952, '뽐내다': 5953, '무려': 5954, '백만불': 5955, '천만': 5956, '오씨': 5957, '디아나': 5958, '암프': 5959, '뭘말': 5960, '투철': 5961, '어필': 5962, '못만드': 5963, '스톱모션': 5964, '정성': 5965, '억지로': 5966, '노다메': 5967, '살기': 5968, '배구': 5969, '뻘짓': 5970, '멘붕': 5971, '페러다임': 5972, '케로로': 5973, '몰상식하다': 5974, '이어지다': 5975, '빠뜨리다': 5976, '은퇴': 5977, '면알': 5978, '가증': 5979, '해외': 5980, '쑈할때': 5981, '탈세': 5982, '행각': 5983, '뻔뻔': 5984, '천안함프로젝트': 5985, '입원': 5986, '세명': 5987, '가드': 5988, '낭비하다': 5989, '리암': 5990, '슨': 5991, '잼없드': 5992, '임정': 5993, '조민수': 5994, '잼남앞': 5995, '순순하다': 5996, '상저': 5997, '맑다': 5998, '웅': 5999, '무너': 6000, '요망': 6001, '주정뱅이': 6002, '횡설수설': 6003, '대절': 6004, '린아': 6005, '따라서': 6006, '종은': 6007, '표지판': 6008, '빨랑멈처': 6009, '린지': 6010, '우롱': 6011, '디배': 6012, '긋다': 6013, '향상': 6014, '악물다': 6015, '앤': 6016, '해서웨이': 6017, '라이브': 6018, '조르다': 6019, '매': 6020, '자랑': 6021, '사병': 6022, '난점': 6023, '망설이다': 6024, '자국': 6025, '여덟': 6026, '전환': 6027, '합': 6028, '하자': 6029, '봉': 6030, '사도': 6031, '장사': 6032, '박평': 6033, '뚜껑': 6034, '배급사': 6035, '구상': 6036, '상징': 6037, '거겟': 6038, '일반인': 6039, '찾기': 6040, '우연': 6041, '기대다': 6042, '심리학자': 6043, '탐정': 6044, '상담': 6045, '직소': 6046, '퍼즐': 6047, '고스톱': 6048, '도가니': 6049, '치킨': 6050, '캐리': 6051, '빅': 6052, '가구야': 6053, '나니': 6054, '가사': 6055, '뒷이야기': 6056, '들리다': 6057, '용치': 6058, '년안': 6059, '할리우드': 6060, '작품하나': 6061, '패션쇼': 6062, '뻔햇': 6063, '눈알': 6064, '어따': 6065, '제주도': 6066, '한화': 6067, '콘도': 6068, '꽁': 6069, '모욕죄': 6070, '성립': 6071, '가능성': 6072, '올라가다': 6073, 'ㅅㅋ': 6074, '어이없이': 6075, '지켜보다': 6076, '그랬는데': 6077, '도크': 6078, '며칠': 6079, '이지나': 6080, '제비': 6081, '킹오파': 6082, '책임': 6083, '모성애': 6084, '겉': 6085, '번지르르하다': 6086, '사라예보': 6087, '반대편': 6088, '이대로': 6089, '큰일': 6090, '톱스타': 6091, '외다': 6092, '힙합': 6093, '선전': 6094, '박정희': 6095, '불행중': 6096, '코엑스': 6097, '공각기동대': 6098, '움직임': 6099, '잔': 6100, '상이': 6101, '아랫쪽': 6102, '배치': 6103, '컴터': 6104, '모니터': 6105, '락': 6106, '스토': 6107, '린데': 6108, '벌거숭이': 6109, '임금님': 6110, '덩달아': 6111, '등록': 6112, '소름끼치다': 6113, '아치': 6114, '범': 6115, '가나다': 6116, '라마': 6117, '바사': 6118, '신선': 6119, '핵꿀잼': 6120, '밋게봣': 6121, '감회': 6122, '궁가': 6123, '바랫': 6124, '건만': 6125, '대세': 6126, '강점': 6127, '징용': 6128, '한인': 6129, '천명': 6130, '가운데': 6131, '상당수': 6132, '노역': 6133, '패전': 6134, '마감': 6135, '조상': 6136, '방지법': 6137, '원빈': 6138, '기인': 6139, '시아란': 6140, '힌즈': 6141, '해지': 6142, '서영희': 6143, '분한': 6144, '갑갑하다': 6145, '콩쾌': 6146, '에이': 6147, '모야': 6148, '블레이드': 6149, '제데로': 6150, '닌': 6151, '기초': 6152, '강심장': 6153, '뽱': 6154, '말빨': 6155, '솔': 6156, '왜욕해': 6157, '더락': 6158, '존시나': 6159, '셧': 6160, '꼽으': 6161, '레슬링': 6162, '전무후무': 6163, '피식': 6164, '어떻든': 6165, '대리': 6166, '맞장구': 6167, 'ㅐ': 6168, '업다': 6169, '대사도': 6170, '대학입시': 6171, '추악하다': 6172, '졸료': 6173, '아슬아슬하다': 6174, '무궁무진': 6175, '또다시': 6176, '훨훨': 6177, '임수정': 6178, '예뻣다': 6179, '써머': 6180, '관성': 6181, '걸핏하면': 6182, '깨지다': 6183, '이혼': 6184, '재혼': 6185, '통한': 6186, '조울증': 6187, '냉혹하다': 6188, '괴리감': 6189, '떨치다': 6190, '엄': 6191, '김진수': 6192, '나오넥': 6193, '호평': 6194, '예매': 6195, '직장인': 6196, '선하다': 6197, '멜로디': 6198, '안도': 6199, '박용우': 6200, '크리스틴': 6201, '크': 6202, '룩': 6203, '스웨덴': 6204, '쫓아가다': 6205, '클로이': 6206, '흐헬': 6207, '막판': 6208, '이상향': 6209, '시꺼멓다': 6210, '면모': 6211, '병맛': 6212, '이쯤': 6213, '배짱': 6214, '인구': 6215, '이기만': 6216, '중박': 6217, '히스': 6218, '레저': 6219, '중단': 6220, '재탄생': 6221, '따름': 6222, '이슬람교': 6223, '절묘하다': 6224, '어둡다': 6225, '방식': 6226, '거만하다': 6227, '사형수': 6228, '재현': 6229, '생뚱맞': 6230, '트란안훙꺼': 6231, '가도': 6232, '늦가을': 6233, '도쿄': 6234, '산책': 6235, '경향': 6236, '고전': 6237, '활발하다': 6238, '활동': 6239, '드하': 6240, '저러다': 6241, '원더풀': 6242, '데이즈': 6243, '원보': 6244, '오유': 6245, '스마트': 6246, '김지석': 6247, '천막': 6248, '장만옥': 6249, '수녀': 6250, '정확하다': 6251, '토익': 6252, '스리': 6253, '킵': 6254, '무빙': 6255, '포워드': 6256, '글래머': 6257, '순대볶음': 6258, '교회': 6259, '자칭': 6260, '한국판': 6261, '콘스탄틴': 6262, '인심': 6263, '찡끗': 6264, '레': 6265, '이영하': 6266, '불법': 6267, '외국인': 6268, '노동자': 6269, '하그': 6270, '그늘': 6271, 'ㅇㅅㅇ': 6272, '학원': 6273, '초때': 6274, '감흥': 6275, '대감': 6276, '본연': 6277, '무니': 6278, '인증': 6279, '떡밥': 6280, '범인': 6281, '방향': 6282, '기묘하다': 6283, '쉬망': 6284, '연감': 6285, '환타': 6286, '진입': 6287, '칠하다': 6288, '천배': 6289, '아이맥스': 6290, '조우': 6291, '퇴보하다': 6292, '미라': 6293, '르': 6294, '발킬머': 6295, '스케이트장': 6296, '금은': 6297, '폐가': 6298, '감고': 6299, '운율': 6300, '하루': 6301, '고급': 6302, '알포인트': 6303, '노리다': 6304, '연구': 6305, '애초': 6306, '비현실적': 6307, '쎄다': 6308, '호킨스': 6309, '샘슨': 6310, '뚝뚝': 6311, '홍콩': 6312, '엉터리': 6313, '이러니': 6314, '국어': 6315, '낭랑하다': 6316, '리딩': 6317, '레드라이트': 6318, '심지어': 6319, '존트라볼타': 6320, '팥': 6321, '붕어빵': 6322, '비우다': 6323, '예수': 6324, '저스틴': 6325, '팀버': 6326, '레이크': 6327, '거만': 6328, '학력': 6329, '중졸': 6330, '큰소리치다': 6331, '김우빈': 6332, '좔좔': 6333, '와사비': 6334, '왕따': 6335, '거울': 6336, '리차드': 6337, '기어': 6338, '비로소': 6339, '카사노바': 6340, '가난': 6341, '누드': 6342, '쎼뇨리따': 6343, '다스': 6344, '탭': 6345, '친': 6346, 'ㄴ': 6347, 'ㅔ': 6348, '이버': 6349, '콧물': 6350, '급전': 6351, '라스트': 6352, '목도리': 6353, '육': 6354, '백화': 6355, '외로': 6356, '내보내다': 6357, '마츠야': 6358, '켄': 6359, '갑작스레': 6360, '벡실': 6361, '플': 6362, '시드': 6363, '즐감': 6364, '츽오': 6365, '도하': 6366, '띠워': 6367, '방학': 6368, '뉴코아': 6369, '지배': 6370, '주옥': 6371, '서정': 6372, '장동건': 6373, '가득': 6374, '머나멀다': 6375, '중이병': 6376, '바벨': 6377, '강정': 6378, '그램': 6379, '만들긔': 6380, '낮아지다': 6381, '맑은': 6382, '세탁기': 6383, '티라노': 6384, '뭐햇': 6385, '텐션': 6386, '순식간': 6387, '깎다': 6388, '퍼시픽림': 6389, '스등': 6390, '자살': 6391, '강력': 6392, '조기': 6393, '안내': 6394, '축소': 6395, '무척': 6396, '공개': 6397, '죄송': 6398, '드랍': 6399, '위만': 6400, '어화': 6401, '위로': 6402, '가나': 6403, '전성기': 6404, '빙점': 6405, '개잼': 6406, '닯': 6407, '플라이': 6408, '캬캬캬': 6409, '전두환': 6410, '희다': 6411, '흐리다': 6412, '오현경': 6413, '기립박수': 6414, '오멘': 6415, '저주': 6416, '알프레드': 6417, '엉뚱하다': 6418, '녀석': 6419, '투비': 6420, '와일드': 6421, '임마': 6422, '괜츈': 6423, '닷': 6424, '봣으': 6425, '살며시': 6426, '스며들다': 6427, '체적': 6428, '난국': 6429, '왤케': 6430, '평론': 6431, '참나': 6432, '왜봣': 6433, '열심': 6434, '스탭': 6435, '슬론': 6436, '영감': 6437, '생텀': 6438, '속임수': 6439, '인런글': 6440, '자서': 6441, '잇엇으': 6442, '원씨': 6443, '차태현': 6444, '사투리': 6445, '형용': 6446, '별하나': 6447, '까지라도': 6448, '만듭시': 6449, '독하다': 6450, '무명': 6451, '페제': 6452, '다양하다': 6453, '그린호넷': 6454, '보고서': 6455, '박상면': 6456, '낚였어': 6457, '김여정': 6458, '찡하다': 6459, '장쯔이': 6460, '총구': 6461, '입속': 6462, '치루는일': 6463, '명불허전': 6464, '제리': 6465}\n"
          ]
        }
      ]
    },
    {
      "cell_type": "code",
      "metadata": {
        "colab": {
          "base_uri": "https://localhost:8080/"
        },
        "id": "t0v73Iq0vCwB",
        "outputId": "afd82bda-3c98-4d08-894a-e2adb8752f94"
      },
      "source": [
        "# 빈도수가 낮은 단어를 자연어 처리에서 배제함\n",
        "# 등장 빈도수가 3회 미만인 단어의 비중 확인\n",
        "threshold = 3 # 빈도수\n",
        "total_cnt = len(tokenizer.word_index) # 총 단어의 수\n",
        "rare_cnt = 0 # 등장 빈도수가 threshold보다 작은 단어의 개수를 카운트\n",
        "total_freq = 0 # 훈련 데이터의 전체 단어 빈도수 총 합\n",
        "rare_freq = 0 # 등장 빈도수가 threshold보다 작은 단어의 등장 빈도수의 총 합\n",
        "\n",
        "# 단어와 빈도수의 쌍(pair)을 key와 value로 받는다.\n",
        "for key, value in tokenizer.word_counts.items():\n",
        "    total_freq = total_freq + value\n",
        "\n",
        "    # 단어의 등장 빈도수가 threshold보다 작으면\n",
        "    if(value < threshold):\n",
        "        rare_cnt = rare_cnt + 1\n",
        "        rare_freq = rare_freq + value\n",
        "\n",
        "print('단어 집합(vocabulary)의 크기 :',total_cnt)\n",
        "print('등장 빈도가 %s회 미만인 희귀 단어의 수: %s'%(threshold, rare_cnt))\n",
        "print(\"단어 집합에서 희귀 단어의 비율: \", (rare_cnt / total_cnt)*100)\n",
        "print(\"전체 등장 빈도에서 희귀 단어 등장 빈도 비율:\", (rare_freq / total_freq)*100)"
      ],
      "execution_count": 152,
      "outputs": [
        {
          "output_type": "stream",
          "name": "stdout",
          "text": [
            "단어 집합(vocabulary)의 크기 : 6465\n",
            "등장 빈도가 3회 미만인 희귀 단어의 수: 4642\n",
            "단어 집합에서 희귀 단어의 비율:  71.80201082753287\n",
            "전체 등장 빈도에서 희귀 단어 등장 빈도 비율: 17.12809603403738\n"
          ]
        }
      ]
    },
    {
      "cell_type": "code",
      "metadata": {
        "colab": {
          "base_uri": "https://localhost:8080/"
        },
        "id": "mjkBKsH_xN9w",
        "outputId": "4183cfa7-c98f-4abf-f3ff-a12b33fee31f"
      },
      "source": [
        "total_cnt"
      ],
      "execution_count": 153,
      "outputs": [
        {
          "output_type": "execute_result",
          "data": {
            "text/plain": [
              "6465"
            ]
          },
          "metadata": {},
          "execution_count": 153
        }
      ]
    },
    {
      "cell_type": "code",
      "metadata": {
        "colab": {
          "base_uri": "https://localhost:8080/"
        },
        "id": "S5owGixGvEfq",
        "outputId": "354d4144-489b-481b-f9b5-f920eceedb43"
      },
      "source": [
        "# 전체 단어 개수 중 빈도수 2이하인 단어는 제거.\n",
        "# 0번 패딩 토큰을 고려하여 + 1\n",
        "vocab_size = total_cnt - rare_cnt + 1\n",
        "print('단어 집합의 크기 :',vocab_size)"
      ],
      "execution_count": 154,
      "outputs": [
        {
          "output_type": "stream",
          "name": "stdout",
          "text": [
            "단어 집합의 크기 : 1824\n"
          ]
        }
      ]
    },
    {
      "cell_type": "code",
      "metadata": {
        "id": "oRCYBFG9vGgy"
      },
      "source": [
        "tokenizer = Tokenizer(vocab_size) \n",
        "tokenizer.fit_on_texts(X_train)\n",
        "X_train = tokenizer.texts_to_sequences(X_train)\n",
        "X_test = tokenizer.texts_to_sequences(X_test)"
      ],
      "execution_count": 155,
      "outputs": []
    },
    {
      "cell_type": "code",
      "metadata": {
        "colab": {
          "base_uri": "https://localhost:8080/"
        },
        "id": "gVLTwjT0vHyk",
        "outputId": "59747f90-293e-4b03-be6b-d937e0124524"
      },
      "source": [
        "print(X_train[:3])"
      ],
      "execution_count": 156,
      "outputs": [
        {
          "output_type": "stream",
          "name": "stdout",
          "text": [
            "[[61, 564, 14, 183, 932], [710, 389, 35, 565, 1, 184, 1108, 27, 1109, 813, 20], [364, 1371, 2, 200, 8]]\n"
          ]
        }
      ]
    },
    {
      "cell_type": "code",
      "metadata": {
        "id": "vhzrLPjuvJna"
      },
      "source": [
        "y_train = np.array(train_data['label'])\n",
        "y_test = np.array(test_data['label'])"
      ],
      "execution_count": 157,
      "outputs": []
    },
    {
      "cell_type": "markdown",
      "metadata": {
        "id": "qy9ePeWjvMzW"
      },
      "source": [
        "## 빈 샘플 제거"
      ]
    },
    {
      "cell_type": "code",
      "metadata": {
        "id": "sr5KhxdAvL0E"
      },
      "source": [
        "## 빈도수가 낮은 단어삭제는 빈도수가 낮은 단어로만 구성된 샘플이 NaN값이 됨\n",
        "# NaN 테이블 따로 분류\n",
        "drop_train = [index for index, sentence in enumerate(X_train) if len(sentence) < 1]"
      ],
      "execution_count": 158,
      "outputs": []
    },
    {
      "cell_type": "code",
      "metadata": {
        "colab": {
          "base_uri": "https://localhost:8080/"
        },
        "id": "e82-r_ZBvO_c",
        "outputId": "ec1f7100-18f2-439d-ba2a-6fc4d73ce00f"
      },
      "source": [
        "# 빈 샘플들을 제거\n",
        "X_train = np.delete(X_train, drop_train, axis=0)\n",
        "y_train = np.delete(y_train, drop_train, axis=0)\n",
        "print(len(X_train))\n",
        "print(len(y_train))"
      ],
      "execution_count": 159,
      "outputs": [
        {
          "output_type": "stream",
          "name": "stdout",
          "text": [
            "2972\n",
            "2972\n"
          ]
        },
        {
          "output_type": "stream",
          "name": "stderr",
          "text": [
            "/usr/local/lib/python3.7/dist-packages/numpy/core/_asarray.py:83: VisibleDeprecationWarning: Creating an ndarray from ragged nested sequences (which is a list-or-tuple of lists-or-tuples-or ndarrays with different lengths or shapes) is deprecated. If you meant to do this, you must specify 'dtype=object' when creating the ndarray\n",
            "  return array(a, dtype, copy=False, order=order)\n"
          ]
        }
      ]
    },
    {
      "cell_type": "markdown",
      "metadata": {
        "id": "HH1wunudvQ_-"
      },
      "source": [
        "## 패딩"
      ]
    },
    {
      "cell_type": "code",
      "metadata": {
        "colab": {
          "base_uri": "https://localhost:8080/",
          "height": 318
        },
        "id": "nYLjVlKevQEh",
        "outputId": "f9b4afec-4e5a-4c33-9360-be9ab31470fd"
      },
      "source": [
        "# 패딩 : 서로 다른길이의 샘플의 길이를 맞춰주는 작업을 위해 리뷰의 길이 확인\n",
        "print('리뷰의 최대 길이 :',max(len(l) for l in X_train)) # 단어 토큰 갯수 확인\n",
        "print('리뷰의 평균 길이 :',sum(map(len, X_train))/len(X_train))\n",
        "plt.hist([len(s) for s in X_train], bins=50) # 그래프로 도식화\n",
        "plt.xlabel('length of samples') # 단어 길이\n",
        "plt.ylabel('number of samples') # 리뷰 갯수\n",
        "plt.show()"
      ],
      "execution_count": 160,
      "outputs": [
        {
          "output_type": "stream",
          "name": "stdout",
          "text": [
            "리뷰의 최대 길이 : 44\n",
            "리뷰의 평균 길이 : 9.175302826379543\n"
          ]
        },
        {
          "output_type": "display_data",
          "data": {
            "image/png": "[encoded data removed]",
            "text/plain": [
              "<Figure size 432x288 with 1 Axes>"
            ]
          },
          "metadata": {
            "needs_background": "light"
          }
        }
      ]
    },
    {
      "cell_type": "code",
      "metadata": {
        "id": "LXhKw6_SvTCt"
      },
      "source": [
        "def below_threshold_len(max_len, nested_list):\n",
        "  count = 0\n",
        "  for sentence in nested_list:\n",
        "    if(len(sentence) <= max_len):\n",
        "        count = count + 1\n",
        "  print('전체 샘플 중 길이가 %s 이하인 샘플의 비율: %s'%(max_len, (count / len(nested_list))*100))"
      ],
      "execution_count": 161,
      "outputs": []
    },
    {
      "cell_type": "code",
      "metadata": {
        "colab": {
          "base_uri": "https://localhost:8080/"
        },
        "id": "lroUg-uKvWbV",
        "outputId": "831de847-5db4-41f2-b845-fb3eab9e1be2"
      },
      "source": [
        "max_len = 30\n",
        "below_threshold_len(max_len, X_train)\n",
        "# 샘플길이 30이하인 샘플이 96%로 30으로 셋팅"
      ],
      "execution_count": 162,
      "outputs": [
        {
          "output_type": "stream",
          "name": "stdout",
          "text": [
            "전체 샘플 중 길이가 30 이하인 샘플의 비율: 96.60161507402422\n"
          ]
        }
      ]
    },
    {
      "cell_type": "code",
      "metadata": {
        "id": "N4Uh3x8yvanM"
      },
      "source": [
        "# 길이 제한(긴건 자르고 짧은건 패딩으로 맞춰줌)\n",
        "X_train = pad_sequences(X_train, maxlen = max_len)\n",
        "X_test = pad_sequences(X_test, maxlen = max_len)"
      ],
      "execution_count": 163,
      "outputs": []
    },
    {
      "cell_type": "markdown",
      "metadata": {
        "id": "F1_25u44vcWU"
      },
      "source": [
        "## LSTM으로 네이버 영화 리뷰 감성 분류하기"
      ]
    },
    {
      "cell_type": "code",
      "metadata": {
        "id": "6YodBLwqvbs4"
      },
      "source": [
        "from tensorflow.keras.layers import Embedding, Dense, LSTM\n",
        "from tensorflow.keras.models import Sequential\n",
        "from tensorflow.keras.models import load_model\n",
        "from tensorflow.keras.callbacks import EarlyStopping, ModelCheckpoint"
      ],
      "execution_count": 164,
      "outputs": []
    },
    {
      "cell_type": "code",
      "metadata": {
        "id": "mFMHl6ZIvf-Y"
      },
      "source": [
        "embedding_dim = 100\n",
        "hidden_units = 128\n",
        "\n",
        "model = Sequential()\n",
        "model.add(Embedding(vocab_size, embedding_dim))\n",
        "model.add(LSTM(hidden_units))\n",
        "model.add(Dense(1, activation='sigmoid'))"
      ],
      "execution_count": 165,
      "outputs": []
    },
    {
      "cell_type": "code",
      "metadata": {
        "id": "7iRTvmS3vhLQ"
      },
      "source": [
        "es = EarlyStopping(monitor='val_loss', mode='min', verbose=1, patience=4)\n",
        "mc = ModelCheckpoint('best_model.h5', monitor='val_acc', mode='max', verbose=1, save_best_only=True)\n",
        "# es : 검증 데이터 손실(val_loss)이 증가하면, 과적합 징후므로 검증 데이터 손실이 4회 증가하면 학습을 조기 종료(Early Stopping)합니다. \n",
        "# mc : 또한, ModelCheckpoint를 사용하여 검증 데이터의 정확도(val_acc)가 이전보다 좋아질 경우에만 모델을 저장합니다."
      ],
      "execution_count": 166,
      "outputs": []
    },
    {
      "cell_type": "code",
      "metadata": {
        "colab": {
          "base_uri": "https://localhost:8080/"
        },
        "id": "WtrnuKukvill",
        "outputId": "899da59c-2028-4808-ecb7-888a9f6f17c0"
      },
      "source": [
        "model.compile(optimizer='rmsprop', loss='binary_crossentropy', metrics=['acc'])\n",
        "history = model.fit(X_train, y_train, epochs=15, callbacks=[es, mc], batch_size=64, validation_split=0.2)"
      ],
      "execution_count": 167,
      "outputs": [
        {
          "output_type": "stream",
          "name": "stdout",
          "text": [
            "Epoch 1/15\n",
            "38/38 [==============================] - 6s 113ms/step - loss: 0.6574 - acc: 0.6155 - val_loss: 0.5759 - val_acc: 0.7210\n",
            "\n",
            "Epoch 00001: val_acc improved from -inf to 0.72101, saving model to best_model.h5\n",
            "Epoch 2/15\n",
            "38/38 [==============================] - 3s 79ms/step - loss: 0.4713 - acc: 0.7951 - val_loss: 0.5048 - val_acc: 0.7613\n",
            "\n",
            "Epoch 00002: val_acc improved from 0.72101 to 0.76134, saving model to best_model.h5\n",
            "Epoch 3/15\n",
            "38/38 [==============================] - 3s 80ms/step - loss: 0.3539 - acc: 0.8612 - val_loss: 0.4997 - val_acc: 0.7664\n",
            "\n",
            "Epoch 00003: val_acc improved from 0.76134 to 0.76639, saving model to best_model.h5\n",
            "Epoch 4/15\n",
            "38/38 [==============================] - 3s 79ms/step - loss: 0.2889 - acc: 0.8847 - val_loss: 0.4942 - val_acc: 0.7748\n",
            "\n",
            "Epoch 00004: val_acc improved from 0.76639 to 0.77479, saving model to best_model.h5\n",
            "Epoch 5/15\n",
            "38/38 [==============================] - 3s 83ms/step - loss: 0.2404 - acc: 0.9045 - val_loss: 0.5339 - val_acc: 0.7748\n",
            "\n",
            "Epoch 00005: val_acc did not improve from 0.77479\n",
            "Epoch 6/15\n",
            "38/38 [==============================] - 3s 84ms/step - loss: 0.2246 - acc: 0.9121 - val_loss: 0.5473 - val_acc: 0.7714\n",
            "\n",
            "Epoch 00006: val_acc did not improve from 0.77479\n",
            "Epoch 7/15\n",
            "38/38 [==============================] - 3s 83ms/step - loss: 0.1844 - acc: 0.9272 - val_loss: 0.5986 - val_acc: 0.7697\n",
            "\n",
            "Epoch 00007: val_acc did not improve from 0.77479\n",
            "Epoch 8/15\n",
            "38/38 [==============================] - 4s 93ms/step - loss: 0.1820 - acc: 0.9293 - val_loss: 0.5769 - val_acc: 0.7647\n",
            "\n",
            "Epoch 00008: val_acc did not improve from 0.77479\n",
            "Epoch 00008: early stopping\n"
          ]
        }
      ]
    },
    {
      "cell_type": "code",
      "metadata": {
        "colab": {
          "base_uri": "https://localhost:8080/"
        },
        "id": "VcK436revj_0",
        "outputId": "eb3f4da4-e0b7-4230-9d87-c6c0650cc328"
      },
      "source": [
        "loaded_model = load_model('best_model.h5')\n",
        "print(\"\\n 테스트 정확도: %.4f\" % (loaded_model.evaluate(X_test, y_test)[1]))"
      ],
      "execution_count": 168,
      "outputs": [
        {
          "output_type": "stream",
          "name": "stdout",
          "text": [
            "94/94 [==============================] - 2s 12ms/step - loss: 0.5322 - acc: 0.7703\n",
            "\n",
            " 테스트 정확도: 0.7703\n"
          ]
        }
      ]
    },
    {
      "cell_type": "markdown",
      "metadata": {
        "id": "vh-SOf5Wvnfu"
      },
      "source": [
        "## 리뷰 예측해보기"
      ]
    },
    {
      "cell_type": "code",
      "metadata": {
        "id": "BN5cQUnnvori"
      },
      "source": [
        "def sentiment_predict(new_sentence):\n",
        "  new_sentence = re.sub(r'[^ㄱ-ㅎㅏ-ㅣ가-힣 ]','', new_sentence)\n",
        "  new_sentence = okt.morphs(new_sentence, stem=True) # 토큰화\n",
        "  new_sentence = [word for word in new_sentence if not word in stopwords] # 불용어 제거\n",
        "  encoded = tokenizer.texts_to_sequences([new_sentence]) # 정수 인코딩\n",
        "  pad_new = pad_sequences(encoded, maxlen = max_len) # 패딩\n",
        "  score = float(loaded_model.predict(pad_new)) # 예측\n",
        "  if(score > 0.5):\n",
        "    print(\"{:.2f}% 확률로 긍정 리뷰입니다.\\n\".format(score * 100))\n",
        "  else:\n",
        "    print(\"{:.2f}% 확률로 부정 리뷰입니다.\\n\".format((1 - score) * 100))"
      ],
      "execution_count": 169,
      "outputs": []
    },
    {
      "cell_type": "code",
      "metadata": {
        "colab": {
          "base_uri": "https://localhost:8080/"
        },
        "id": "vjdcEkncvqZE",
        "outputId": "cf453bbc-21c9-4b03-aa66-981599c27105"
      },
      "source": [
        "sentiment_predict('이 영화 개꿀잼 ㅋㅋㅋ')"
      ],
      "execution_count": 170,
      "outputs": [
        {
          "output_type": "stream",
          "name": "stdout",
          "text": [
            "54.57% 확률로 긍정 리뷰입니다.\n",
            "\n"
          ]
        }
      ]
    },
    {
      "cell_type": "code",
      "metadata": {
        "colab": {
          "base_uri": "https://localhost:8080/"
        },
        "id": "ETLXAsvUvrdw",
        "outputId": "bb33d2b9-dd9b-4ad7-857c-49539ddfc79a"
      },
      "source": [
        "sentiment_predict('이 영화 핵노잼 ㅠㅠ')"
      ],
      "execution_count": 171,
      "outputs": [
        {
          "output_type": "stream",
          "name": "stdout",
          "text": [
            "65.22% 확률로 부정 리뷰입니다.\n",
            "\n"
          ]
        }
      ]
    },
    {
      "cell_type": "code",
      "metadata": {
        "colab": {
          "base_uri": "https://localhost:8080/"
        },
        "id": "M6OYEL8yvsf-",
        "outputId": "4c6cc602-30d4-4ee8-f237-9caec0e8a0e2"
      },
      "source": [
        "sentiment_predict('이딴게 영화냐 ㅉㅉ')"
      ],
      "execution_count": 172,
      "outputs": [
        {
          "output_type": "stream",
          "name": "stdout",
          "text": [
            "99.61% 확률로 부정 리뷰입니다.\n",
            "\n"
          ]
        }
      ]
    },
    {
      "cell_type": "code",
      "metadata": {
        "colab": {
          "base_uri": "https://localhost:8080/"
        },
        "id": "vkRWYLWOvtpo",
        "outputId": "a4a1213b-b4f5-44c9-bf82-e1cc3352ba2c"
      },
      "source": [
        "sentiment_predict('감독 뭐하는 놈이냐?')"
      ],
      "execution_count": 173,
      "outputs": [
        {
          "output_type": "stream",
          "name": "stdout",
          "text": [
            "96.39% 확률로 부정 리뷰입니다.\n",
            "\n"
          ]
        }
      ]
    },
    {
      "cell_type": "code",
      "metadata": {
        "colab": {
          "base_uri": "https://localhost:8080/"
        },
        "id": "Qc61bLtEvuvN",
        "outputId": "f6ac68b8-d61a-4c82-da6e-4fb78fa2f6e5"
      },
      "source": [
        "sentiment_predict('와 개쩐다 정말 세계관 최강자들의 영화다')"
      ],
      "execution_count": 174,
      "outputs": [
        {
          "output_type": "stream",
          "name": "stdout",
          "text": [
            "63.56% 확률로 부정 리뷰입니다.\n",
            "\n"
          ]
        }
      ]
    },
    {
      "cell_type": "code",
      "metadata": {
        "id": "we-J_rAlvv4t"
      },
      "source": [
        ""
      ],
      "execution_count": 174,
      "outputs": []
    }
  ]
}
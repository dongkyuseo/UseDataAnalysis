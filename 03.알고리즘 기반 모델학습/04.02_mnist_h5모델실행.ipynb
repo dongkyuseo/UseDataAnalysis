{
  "nbformat": 4,
  "nbformat_minor": 0,
  "metadata": {
    "colab": {
      "name": "04.02_mnist_h5모델실행.ipynb",
      "provenance": [],
      "collapsed_sections": []
    },
    "kernelspec": {
      "name": "python3",
      "display_name": "Python 3"
    },
    "language_info": {
      "name": "python"
    }
  },
  "cells": [
    {
      "cell_type": "code",
      "metadata": {
        "colab": {
          "base_uri": "https://localhost:8080/"
        },
        "id": "HEg4YR-nHaj0",
        "outputId": "aa65afef-1d25-4963-d4df-5cc2ead7b32e"
      },
      "source": [
        "## 코렙 드라이브 마운트합니다.\n",
        "from google.colab import drive\n",
        "drive.mount('/content/drive')"
      ],
      "execution_count": 1,
      "outputs": [
        {
          "output_type": "stream",
          "name": "stdout",
          "text": [
            "Mounted at /content/drive\n"
          ]
        }
      ]
    },
    {
      "cell_type": "code",
      "metadata": {
        "colab": {
          "base_uri": "https://localhost:8080/"
        },
        "id": "SddsxdfHHwek",
        "outputId": "8a7dae82-d826-4550-e036-06b88dcebbbd"
      },
      "source": [
        "cd /content/drive/MyDrive/data/img"
      ],
      "execution_count": 2,
      "outputs": [
        {
          "output_type": "stream",
          "name": "stdout",
          "text": [
            "/content/drive/MyDrive/data/img\n"
          ]
        }
      ]
    },
    {
      "cell_type": "markdown",
      "metadata": {
        "id": "eqKpFa2QK240"
      },
      "source": [
        "## 모델에 사용될 이미지 전처리\n",
        "- h5모델 제작할때와 같은 상황을 만들어야 함\n",
        "- 이번 작업에서는 아래의 작업을 하기전에 숫자3개를 나누어야 함.\n",
        "- h5모델에 들어간 x자료의 특징\n",
        "  1. 사이즈는 28*28\n",
        "  2. 그레이스케일이다(2차원)\n",
        "  3. 배경이 어둡고 내용이 밝다\n",
        "  4. 0~1사이다(/255)\n",
        "  5. 28*28을 (1, 784)로 변경하였다.\n",
        "\n"
      ]
    },
    {
      "cell_type": "code",
      "metadata": {
        "id": "CvzlbqWoMWyo"
      },
      "source": [
        "import numpy as np\n",
        "import matplotlib.pyplot as plt\n"
      ],
      "execution_count": 27,
      "outputs": []
    },
    {
      "cell_type": "code",
      "metadata": {
        "id": "02PTJhgpH2k3"
      },
      "source": [
        "# 단순한 모듈로 시작 PIL\n",
        "# 이미지 관련 모듈은 대표적으로 PIL과 openCV가 있음\n",
        "from PIL import  Image"
      ],
      "execution_count": 3,
      "outputs": []
    },
    {
      "cell_type": "code",
      "metadata": {
        "colab": {
          "base_uri": "https://localhost:8080/",
          "height": 448
        },
        "id": "dHbv8W4eLNay",
        "outputId": "052f13a6-4822-422d-841e-714e29c83c3b"
      },
      "source": [
        "img = Image.open('number.png')\n",
        "img"
      ],
      "execution_count": 4,
      "outputs": [
        {
          "output_type": "execute_result",
          "data": {
            "image/png": "[encoded data removed]",
            "text/plain": [
              "<PIL.PngImagePlugin.PngImageFile image mode=RGB size=166x431 at 0x7F44FBE79590>"
            ]
          },
          "metadata": {},
          "execution_count": 4
        }
      ]
    },
    {
      "cell_type": "code",
      "metadata": {
        "colab": {
          "base_uri": "https://localhost:8080/"
        },
        "id": "VtOfOTs2Lacj",
        "outputId": "0f7b111b-ab19-4d6e-86ee-07a7b2c7f6ba"
      },
      "source": [
        "# 이미지의 크기 확인\n",
        "img.size\n",
        "# PIL로 부른 파일의 size 결과는 (가로크기, 세로크기) = (열, 행)\n",
        "# np.shape로 변환하면 행 열로 보임 (431, 166)"
      ],
      "execution_count": 7,
      "outputs": [
        {
          "output_type": "execute_result",
          "data": {
            "text/plain": [
              "(166, 431)"
            ]
          },
          "metadata": {},
          "execution_count": 7
        }
      ]
    },
    {
      "cell_type": "code",
      "metadata": {
        "colab": {
          "base_uri": "https://localhost:8080/"
        },
        "id": "x6xQJlBeLyGC",
        "outputId": "aed0b536-6540-4948-9135-f35e11ca5980"
      },
      "source": [
        "np.shape(img)\n",
        "# (431, 166, 3) > 한개자료만 읽었는데 1, 2, 3까지 나오면 행, 열 채널갯수 -> 채널갯수가 3은 컬러임 3=흑백을 의미"
      ],
      "execution_count": 9,
      "outputs": [
        {
          "output_type": "execute_result",
          "data": {
            "text/plain": [
              "(431, 166, 3)"
            ]
          },
          "metadata": {},
          "execution_count": 9
        }
      ]
    },
    {
      "cell_type": "code",
      "metadata": {
        "colab": {
          "base_uri": "https://localhost:8080/",
          "height": 789
        },
        "id": "pg2zygToMa9v",
        "outputId": "948ef607-04d5-45a2-ad4e-d9eea60a098a"
      },
      "source": [
        "# image crop 'PILLOW에서 그림자르기' 와 같이 구글에서 검색하기\n",
        "# img.crop(start left, start up, end right, end down)\n",
        "# img.crop(시작열, 시작행, 끝 열, 끝행)\n",
        "img1 = img.crop((20,0,120,100))\n",
        "plt.imshow(np.array(img1))\n",
        "plt.show()\n",
        "\n",
        "img2 = img.crop((0,130,166,285))\n",
        "plt.imshow(np.array(img2))\n",
        "plt.show()\n",
        "\n",
        "img3 = img.crop((20,310,120,420))\n",
        "plt.imshow(np.array(img3))"
      ],
      "execution_count": 163,
      "outputs": [
        {
          "output_type": "display_data",
          "data": {
            "image/png": "[encoded data removed]",
            "text/plain": [
              "<Figure size 432x288 with 1 Axes>"
            ]
          },
          "metadata": {
            "needs_background": "light"
          }
        },
        {
          "output_type": "display_data",
          "data": {
            "image/png": "[encoded data removed]",
            "text/plain": [
              "<Figure size 432x288 with 1 Axes>"
            ]
          },
          "metadata": {
            "needs_background": "light"
          }
        },
        {
          "output_type": "execute_result",
          "data": {
            "text/plain": [
              "<matplotlib.image.AxesImage at 0x7f44a16e2a50>"
            ]
          },
          "metadata": {},
          "execution_count": 163
        },
        {
          "output_type": "display_data",
          "data": {
            "image/png": "[encoded data removed]",
            "text/plain": [
              "<Figure size 432x288 with 1 Axes>"
            ]
          },
          "metadata": {
            "needs_background": "light"
          }
        }
      ]
    },
    {
      "cell_type": "markdown",
      "metadata": {
        "id": "q3Gfm5nTSpEy"
      },
      "source": [
        "- h5모델에 들어간 x자료의 특징\n",
        "1. 사이즈는 28*28\n",
        "2. 그레이스케일이다(2차원)\n",
        "3. 배경이 어둡고 내용이 밝다\n",
        "4. 0~1사이다(/255)\n",
        "5. 28*28을 (1, 784)로 변경하였다."
      ]
    },
    {
      "cell_type": "code",
      "metadata": {
        "colab": {
          "base_uri": "https://localhost:8080/"
        },
        "id": "JDCyTE3yOnyG",
        "outputId": "f96ce2d8-7f74-45d0-9b28-eb3ef94ee7a1"
      },
      "source": [
        "# plt.imshow에 들어가는 자료는 반드시 색상숫자값이어야 함. 이미지를 숫자로 변경하려면 array로 변경해야함.\n",
        "# [1] 사이즈 변경 # (가로, 세로)=(열, 행) PIL 규칙을 따름\n",
        "img_re1 = img2.resize((28,28))\n",
        "\n",
        "# [2]그레이스케일 변경 ( 회색영역 색보정 : 백색과 흑색의 비율을 변화시킨 색보정)\n",
        "img_gr1 = img_re1.convert('L') \n",
        "\n",
        "# (행, 열) 크기 확인(np는 행열)\n",
        "np.shape(img_gr1)             "
      ],
      "execution_count": 164,
      "outputs": [
        {
          "output_type": "execute_result",
          "data": {
            "text/plain": [
              "(28, 28)"
            ]
          },
          "metadata": {},
          "execution_count": 164
        }
      ]
    },
    {
      "cell_type": "code",
      "metadata": {
        "colab": {
          "base_uri": "https://localhost:8080/",
          "height": 283
        },
        "id": "0FkI6UqYS0RX",
        "outputId": "31e6722a-0671-4d24-b359-0bfdd3b44609"
      },
      "source": [
        "# [3]이미지 반전\n",
        "import PIL.ImageOps\n",
        "img_con_1 = PIL.ImageOps.invert(img_gr1)   # 이미지 반전 (글씨를 하얗게 배경을 검정으로)\n",
        "plt.imshow(np.array(img_con_1), cmap='gray')"
      ],
      "execution_count": 165,
      "outputs": [
        {
          "output_type": "execute_result",
          "data": {
            "text/plain": [
              "<matplotlib.image.AxesImage at 0x7f44a15f97d0>"
            ]
          },
          "metadata": {},
          "execution_count": 165
        },
        {
          "output_type": "display_data",
          "data": {
            "image/png": "[encoded data removed]",
            "text/plain": [
              "<Figure size 432x288 with 1 Axes>"
            ]
          },
          "metadata": {
            "needs_background": "light"
          }
        }
      ]
    },
    {
      "cell_type": "code",
      "metadata": {
        "colab": {
          "base_uri": "https://localhost:8080/",
          "height": 283
        },
        "id": "DM8UuZ31TV5H",
        "outputId": "4b960ac4-90ce-47f4-f494-23c53bf81dae"
      },
      "source": [
        "# [4] 0~1사이값이다. (모델링 작업에서한 스케일링과 똑같이 해야 함.)\n",
        "img_sc_1 = np.array(img_con_1)/255\n",
        "plt.imshow(img_sc_1, cmap='gray') #스케일링된 자료는 plt.imshow() 가능"
      ],
      "execution_count": 166,
      "outputs": [
        {
          "output_type": "execute_result",
          "data": {
            "text/plain": [
              "<matplotlib.image.AxesImage at 0x7f44a1c98090>"
            ]
          },
          "metadata": {},
          "execution_count": 166
        },
        {
          "output_type": "display_data",
          "data": {
            "image/png": "[encoded data removed]",
            "text/plain": [
              "<Figure size 432x288 with 1 Axes>"
            ]
          },
          "metadata": {
            "needs_background": "light"
          }
        }
      ]
    },
    {
      "cell_type": "code",
      "metadata": {
        "colab": {
          "base_uri": "https://localhost:8080/"
        },
        "id": "1JXP9ieEWeYP",
        "outputId": "f56b7bc7-bdd0-4ea6-82f8-5e3608eb7bc6"
      },
      "source": [
        "# [5] 28*28을 (1,784)로 변경\n",
        "img_re_1 = img_sc_1.reshape(1, -1) # 1,784 와 동일\n",
        "img_re_1.shape\n"
      ],
      "execution_count": 167,
      "outputs": [
        {
          "output_type": "execute_result",
          "data": {
            "text/plain": [
              "(1, 784)"
            ]
          },
          "metadata": {},
          "execution_count": 167
        }
      ]
    },
    {
      "cell_type": "markdown",
      "metadata": {
        "id": "6ctU9XdoXXkk"
      },
      "source": [
        "## 숫자인식하는 h5모델을 불러오고 그 모델에 img_re_1을 넣어서 예측을 해보려 함."
      ]
    },
    {
      "cell_type": "code",
      "metadata": {
        "colab": {
          "base_uri": "https://localhost:8080/",
          "height": 283
        },
        "id": "ElqvcXKLXVPh",
        "outputId": "6816d76a-9862-4d4c-d6a9-ea4113cb34e2"
      },
      "source": [
        "## 이미지를 명확하게 하는 방법론 1\n",
        "tmp = img_re_1\n",
        "for cnt in range(len(tmp[0])):\n",
        "  if tmp[0][cnt] != 0:\n",
        "    tmp[0][cnt] = 1.0\n",
        "\n",
        "plt.imshow(tmp.reshape(28,28), cmap='gray')"
      ],
      "execution_count": 168,
      "outputs": [
        {
          "output_type": "execute_result",
          "data": {
            "text/plain": [
              "<matplotlib.image.AxesImage at 0x7f44a1738890>"
            ]
          },
          "metadata": {},
          "execution_count": 168
        },
        {
          "output_type": "display_data",
          "data": {
            "image/png": "[encoded data removed]",
            "text/plain": [
              "<Figure size 432x288 with 1 Axes>"
            ]
          },
          "metadata": {
            "needs_background": "light"
          }
        }
      ]
    },
    {
      "cell_type": "code",
      "metadata": {
        "colab": {
          "base_uri": "https://localhost:8080/"
        },
        "id": "RvlsPGwkYSW9",
        "outputId": "306698c7-b8b8-4f02-f05c-918e33d461e5"
      },
      "source": [
        "# 이전에 만들어둔 모델 불러오기\n",
        "import tensorflow as tf\n",
        "load_model = tf.keras.models.load_model('my_mnist.h5')\n",
        "load_model.summary()"
      ],
      "execution_count": 135,
      "outputs": [
        {
          "output_type": "stream",
          "name": "stdout",
          "text": [
            "Model: \"sequential\"\n",
            "_________________________________________________________________\n",
            "Layer (type)                 Output Shape              Param #   \n",
            "=================================================================\n",
            "dense (Dense)                (None, 64)                50240     \n",
            "_________________________________________________________________\n",
            "dense_1 (Dense)              (None, 32)                2080      \n",
            "_________________________________________________________________\n",
            "dense_2 (Dense)              (None, 10)                330       \n",
            "=================================================================\n",
            "Total params: 52,650\n",
            "Trainable params: 52,650\n",
            "Non-trainable params: 0\n",
            "_________________________________________________________________\n"
          ]
        }
      ]
    },
    {
      "cell_type": "code",
      "metadata": {
        "colab": {
          "base_uri": "https://localhost:8080/"
        },
        "id": "eeJQm235Ztzk",
        "outputId": "1b144b6d-193d-460e-8894-6bd13d6706bd"
      },
      "source": [
        "result = load_model.predict(img_re_1)\n",
        "result    \n",
        "# 모델작성할때 최종 레이어의 dense의 유닛 갯수가 10개(y_train 값의 unique갯수와 같음.)여서 그 10개에 각각의 비중이 출력됨"
      ],
      "execution_count": 169,
      "outputs": [
        {
          "output_type": "execute_result",
          "data": {
            "text/plain": [
              "array([[1.8418793e-11, 1.1492033e-14, 9.9251900e-12, 7.1348621e-14,\n",
              "        7.8529433e-11, 2.7048860e-15, 9.9999988e-01, 2.8853906e-14,\n",
              "        1.7441161e-07, 2.0578542e-16]], dtype=float32)"
            ]
          },
          "metadata": {},
          "execution_count": 169
        }
      ]
    },
    {
      "cell_type": "code",
      "metadata": {
        "colab": {
          "base_uri": "https://localhost:8080/"
        },
        "id": "zEKQwKP7Zygs",
        "outputId": "6b863a97-dd2d-4bac-b08d-94ff2c11d84b"
      },
      "source": [
        "np.sum(result)\n",
        "# 0~9 까지 의 예측율이 나와 전부 합치면 1이 됨"
      ],
      "execution_count": 170,
      "outputs": [
        {
          "output_type": "execute_result",
          "data": {
            "text/plain": [
              "1.0"
            ]
          },
          "metadata": {},
          "execution_count": 170
        }
      ]
    },
    {
      "cell_type": "code",
      "metadata": {
        "colab": {
          "base_uri": "https://localhost:8080/"
        },
        "id": "Gq38p88maLvi",
        "outputId": "5c8b46d1-ac8d-4a2b-bdbf-7186a51e0b04"
      },
      "source": [
        "print(np.argmax(result))\n",
        "# 가장 유력한 값 확인"
      ],
      "execution_count": 171,
      "outputs": [
        {
          "output_type": "stream",
          "name": "stdout",
          "text": [
            "6\n"
          ]
        }
      ]
    },
    {
      "cell_type": "code",
      "metadata": {
        "colab": {
          "base_uri": "https://localhost:8080/"
        },
        "id": "Tdv52n4UaePC",
        "outputId": "29887afd-358b-4544-8a59-3c80b15587c5"
      },
      "source": [
        "# tmp로 확인(숫자를 명확하게 한것)\n",
        "result=load_model.predict(tmp)\n",
        "np.argmax(result)"
      ],
      "execution_count": 172,
      "outputs": [
        {
          "output_type": "execute_result",
          "data": {
            "text/plain": [
              "6"
            ]
          },
          "metadata": {},
          "execution_count": 172
        }
      ]
    },
    {
      "cell_type": "code",
      "metadata": {
        "id": "pLF3HzAIasUf"
      },
      "source": [
        ""
      ],
      "execution_count": 79,
      "outputs": []
    }
  ]
}
{
 "cells": [
  {
   "cell_type": "code",
   "execution_count": 1,
   "metadata": {
    "colab": {
     "base_uri": "https://localhost:8080/"
    },
    "executionInfo": {
     "elapsed": 3128,
     "status": "ok",
     "timestamp": 1633573737978,
     "user": {
      "displayName": "so pj",
      "photoUrl": "https://lh3.googleusercontent.com/a/default-user=s64",
      "userId": "02574474388741964814"
     },
     "user_tz": -540
    },
    "id": "ZNgtoDoFlD-5",
    "outputId": "010e2fa4-1a1b-4454-ca40-53019e991e4b"
   },
   "outputs": [
    {
     "data": {
      "text/plain": [
       "(4, 2)"
      ]
     },
     "execution_count": 1,
     "metadata": {},
     "output_type": "execute_result"
    }
   ],
   "source": [
    "import tensorflow as tf\n",
    "import numpy as np\n",
    "\n",
    "from tensorflow.keras.models import Sequential  # 층 구성하겠다.\n",
    "from tensorflow.keras.layers import Dense       # 층에대한 노드갯수를 지정\n",
    "from tensorflow.keras.optimizers import SGD     # 최적화함수에 대하여 설정\n",
    "from tensorflow.keras.losses import mse         # 로스 지정\n",
    "\n",
    "tf.random.set_seed(777)\n",
    "\n",
    "# 데이터 준비하기 \n",
    "data = np.array([[0, 0], [1, 0], [0, 1], [1, 1]])  # 입력데이터셋의 형태는 신경망의 input값에 사용됨. 입력의 갯수와 신경망의 input의갯수가 다르면 error\n",
    "label = np.array([[0], [1], [1], [1]])   # y값의 결과에 따라 다양한 활성화 함수가 사용됨. 활성화 함수는 11시40분에 얘기함.\n",
    "\n",
    "np.shape(data)"
   ]
  },
  {
   "cell_type": "markdown",
   "metadata": {
    "id": "BKtnxquRltgj"
   },
   "source": [
    "## 인공신경망 모델\n",
    "- 배치사이즈: 오차계산하고 w,b값 갱신할 데이터 단위임\n",
    "- 현재 4개의 x값이 있으며 배치를 1로 하면  1번째데이터/4개의모든데이터중, 2/4, 3/4, 4/4임\n",
    "- 배치를 3으로 하면   1(1,2,3데이터)/4,   2(4번째데이터)/4 임\n",
    "- 배치사이즈는 사용자가 정의하지 않아도 됨.(optimizer에서 배치를 자동으로 결정함)\n",
    "- epochs: 전체데이터를 몇번더 돌릴건지, (epochs할때마다 가중치가 갱신됨)"
   ]
  },
  {
   "cell_type": "markdown",
   "metadata": {
    "id": "fomaRKDamWaq"
   },
   "source": [
    "## Dense 1개"
   ]
  },
  {
   "cell_type": "code",
   "execution_count": 2,
   "metadata": {
    "colab": {
     "base_uri": "https://localhost:8080/"
    },
    "executionInfo": {
     "elapsed": 1190,
     "status": "ok",
     "timestamp": 1633573971413,
     "user": {
      "displayName": "so pj",
      "photoUrl": "https://lh3.googleusercontent.com/a/default-user=s64",
      "userId": "02574474388741964814"
     },
     "user_tz": -540
    },
    "id": "a6MQTv2elbvn",
    "outputId": "55e40d33-83eb-4411-ca93-c98ce6849c18"
   },
   "outputs": [
    {
     "name": "stdout",
     "output_type": "stream",
     "text": [
      "Epoch 1/2\n",
      "4/4 [==============================] - 0s 4ms/step - loss: 1.3605 - acc: 0.5000\n",
      "Epoch 2/2\n",
      "4/4 [==============================] - 0s 3ms/step - loss: 1.1247 - acc: 0.5000\n"
     ]
    },
    {
     "data": {
      "text/plain": [
       "<keras.callbacks.History at 0x7f2702a50cd0>"
      ]
     },
     "execution_count": 2,
     "metadata": {},
     "output_type": "execute_result"
    }
   ],
   "source": [
    "# 모델 구성하기: Dense1개\n",
    "model = Sequential()  # tensorflow.keras.models.Sequential()\n",
    "model.add(Dense(1, input_shape = (2,), activation = 'linear')) # 활성화함수 wx+b \n",
    "model.compile(optimizer = SGD(), loss = mse, metrics = ['acc']) # list 형태로 평가지표를 전달합니다\n",
    "model.fit(data, label, epochs = 2,batch_size=1)   "
   ]
  },
  {
   "cell_type": "code",
   "execution_count": 3,
   "metadata": {
    "colab": {
     "base_uri": "https://localhost:8080/"
    },
    "executionInfo": {
     "elapsed": 245,
     "status": "ok",
     "timestamp": 1633574006959,
     "user": {
      "displayName": "so pj",
      "photoUrl": "https://lh3.googleusercontent.com/a/default-user=s64",
      "userId": "02574474388741964814"
     },
     "user_tz": -540
    },
    "id": "qXAbxAAomKwW",
    "outputId": "0dad48ce-bbc3-4a7e-e10c-f34b86e739a1"
   },
   "outputs": [
    {
     "name": "stdout",
     "output_type": "stream",
     "text": [
      "Model: \"sequential\"\n",
      "_________________________________________________________________\n",
      "Layer (type)                 Output Shape              Param #   \n",
      "=================================================================\n",
      "dense (Dense)                (None, 1)                 3         \n",
      "=================================================================\n",
      "Total params: 3\n",
      "Trainable params: 3\n",
      "Non-trainable params: 0\n",
      "_________________________________________________________________\n"
     ]
    }
   ],
   "source": [
    "model.summary()   # Param의 갯수는 노드에서 나가는 선의 갯수\n",
    "#input의 x값이 2개임으로 w1,w2,b 3개의 노드가 있어서 Param갯수가 3임."
   ]
  },
  {
   "cell_type": "code",
   "execution_count": 7,
   "metadata": {
    "colab": {
     "base_uri": "https://localhost:8080/"
    },
    "executionInfo": {
     "elapsed": 243,
     "status": "ok",
     "timestamp": 1633574147692,
     "user": {
      "displayName": "so pj",
      "photoUrl": "https://lh3.googleusercontent.com/a/default-user=s64",
      "userId": "02574474388741964814"
     },
     "user_tz": -540
    },
    "id": "suBCDSPMmka3",
    "outputId": "c8902e5b-e24b-48d9-8f59-28b74f309adb"
   },
   "outputs": [
    {
     "name": "stdout",
     "output_type": "stream",
     "text": [
      "[array([[ 0.60903174],\n",
      "       [-0.7888963 ]], dtype=float32), array([0.13410476], dtype=float32)]\n"
     ]
    }
   ],
   "source": [
    "paramValue=model.get_weights()  # Param갯수만큼 출력됨.   [w1,w2], [b]\n",
    "print(paramValue)"
   ]
  },
  {
   "cell_type": "code",
   "execution_count": 8,
   "metadata": {
    "colab": {
     "base_uri": "https://localhost:8080/"
    },
    "executionInfo": {
     "elapsed": 246,
     "status": "ok",
     "timestamp": 1633574212830,
     "user": {
      "displayName": "so pj",
      "photoUrl": "https://lh3.googleusercontent.com/a/default-user=s64",
      "userId": "02574474388741964814"
     },
     "user_tz": -540
    },
    "id": "hL39JAqDm2r1",
    "outputId": "b8631382-39e0-4bd2-80b9-eb1ff9137360"
   },
   "outputs": [
    {
     "data": {
      "text/plain": [
       "array([ 0.13410476,  0.7431365 , -0.65479156, -0.04575983])"
      ]
     },
     "execution_count": 8,
     "metadata": {},
     "output_type": "execute_result"
    }
   ],
   "source": [
    "# 직접 예측값 계산해보기\n",
    "x1=data[:,0] ; x2=data[:,1]\n",
    "w1=paramValue[0][0] ; w2=paramValue[0][1]; b=paramValue[1]\n",
    "y_pred=x1*w1+x2*w2+b\n",
    "y_pred"
   ]
  },
  {
   "cell_type": "code",
   "execution_count": 10,
   "metadata": {
    "colab": {
     "base_uri": "https://localhost:8080/"
    },
    "executionInfo": {
     "elapsed": 250,
     "status": "ok",
     "timestamp": 1633574273727,
     "user": {
      "displayName": "so pj",
      "photoUrl": "https://lh3.googleusercontent.com/a/default-user=s64",
      "userId": "02574474388741964814"
     },
     "user_tz": -540
    },
    "id": "quXH-8qDnGKT",
    "outputId": "e99be923-4df9-47e8-b24f-69e294017393"
   },
   "outputs": [
    {
     "name": "stdout",
     "output_type": "stream",
     "text": [
      "예측값 [0.13410476] - 정답 [0]\n",
      "예측값 [0.7431365] - 정답 [1]\n",
      "예측값 [-0.6547916] - 정답 [1]\n",
      "예측값 [-0.04575983] - 정답 [1]\n"
     ]
    }
   ],
   "source": [
    "## 텐서제공 예측값 계산하기\n",
    "\n",
    "# predict(): 예측을 진행합니다.\n",
    "preds = model.predict(data)\n",
    "for a, b in zip(preds, label):\n",
    "    print(f\"예측값 {a} - 정답 {b}\")"
   ]
  },
  {
   "cell_type": "markdown",
   "metadata": {
    "id": "HoAAMI9NnW3O"
   },
   "source": [
    "# Dense2개"
   ]
  },
  {
   "cell_type": "code",
   "execution_count": 11,
   "metadata": {
    "colab": {
     "base_uri": "https://localhost:8080/"
    },
    "executionInfo": {
     "elapsed": 629,
     "status": "ok",
     "timestamp": 1633574322641,
     "user": {
      "displayName": "so pj",
      "photoUrl": "https://lh3.googleusercontent.com/a/default-user=s64",
      "userId": "02574474388741964814"
     },
     "user_tz": -540
    },
    "id": "iIaUu-zGncUV",
    "outputId": "acbb0dbc-6c6e-4701-e406-31eec2b19430"
   },
   "outputs": [
    {
     "name": "stdout",
     "output_type": "stream",
     "text": [
      "Epoch 1/2\n",
      "4/4 [==============================] - 0s 3ms/step - loss: 0.9936 - acc: 0.2500\n",
      "Epoch 2/2\n",
      "4/4 [==============================] - 0s 3ms/step - loss: 0.9022 - acc: 0.2500\n",
      "Model: \"sequential_1\"\n",
      "_________________________________________________________________\n",
      "Layer (type)                 Output Shape              Param #   \n",
      "=================================================================\n",
      "dense_1 (Dense)              (None, 2)                 6         \n",
      "=================================================================\n",
      "Total params: 6\n",
      "Trainable params: 6\n",
      "Non-trainable params: 0\n",
      "_________________________________________________________________\n"
     ]
    }
   ],
   "source": [
    "# 모델 구성하기: Dense1개\n",
    "model = Sequential()  # tensorflow.keras.models.Sequential()\n",
    "model.add(Dense(2, input_shape = (2,), activation = 'linear')) # 활성화함수 wx+b \n",
    "model.compile(optimizer = SGD(), loss = mse, metrics = ['acc']) # list 형태로 평가지표를 전달합니다\n",
    "model.fit(data, label, epochs = 2,batch_size=1)   \n",
    "\n",
    "model.summary()   # Param의 갯수는 노드에서 나가는 선의 갯수\n",
    "#input의 x값이 2개임으로 w1,w2,b 3개의 노드가 있어서 Param갯수가 3임.\n",
    "# 이러한 3개의 파람을 갖는 세트가 2개있음.(Dense=2) 총 6개임"
   ]
  },
  {
   "cell_type": "code",
   "execution_count": 12,
   "metadata": {
    "colab": {
     "base_uri": "https://localhost:8080/"
    },
    "executionInfo": {
     "elapsed": 399,
     "status": "ok",
     "timestamp": 1633574389878,
     "user": {
      "displayName": "so pj",
      "photoUrl": "https://lh3.googleusercontent.com/a/default-user=s64",
      "userId": "02574474388741964814"
     },
     "user_tz": -540
    },
    "id": "MssMTz3_npAE",
    "outputId": "52065cb2-fdba-408a-aaf5-d28bba71e80a"
   },
   "outputs": [
    {
     "name": "stdout",
     "output_type": "stream",
     "text": [
      "[array([[-0.15591462,  0.60665405],\n",
      "       [ 0.4868804 , -0.8903257 ]], dtype=float32), array([0.04647271, 0.07136649], dtype=float32)]\n"
     ]
    }
   ],
   "source": [
    "paramValue=model.get_weights()  # Param갯수만큼 출력됨.   [[w1,w2],[w1,w2]],[b,b]  ==> [[Dense1의 w1,w2],[Dense2의 w1,w2]],[Dense1의b,Dense2의b]\n",
    "print(paramValue)"
   ]
  },
  {
   "cell_type": "code",
   "execution_count": 30,
   "metadata": {
    "colab": {
     "base_uri": "https://localhost:8080/"
    },
    "executionInfo": {
     "elapsed": 253,
     "status": "ok",
     "timestamp": 1633575480855,
     "user": {
      "displayName": "so pj",
      "photoUrl": "https://lh3.googleusercontent.com/a/default-user=s64",
      "userId": "02574474388741964814"
     },
     "user_tz": -540
    },
    "id": "QL-bv-r6n7Qa",
    "outputId": "4febfd07-eb22-412b-97b4-4665ecb97d54"
   },
   "outputs": [
    {
     "name": "stdout",
     "output_type": "stream",
     "text": [
      "[ 0.04647271  0.04647271  0.04647271 -0.04811353] [ 0.07136649  0.07136649  0.07136649 -0.36211565]\n"
     ]
    }
   ],
   "source": [
    "Dense_1_w=paramValue[0][0] \n",
    "Dense_2_w=paramValue[0][1]\n",
    "Dense_1_b=paramValue[1][0]\n",
    "Dense_2_b=paramValue[1][1]\n",
    "\n",
    "y_pred_1=x1*Dense_1_w[0] * x2 *Dense_1_w[1] + Dense_1_b\n",
    "y_pred_2=x1*Dense_2_w[0] * x2 *Dense_2_w[1] + Dense_2_b\n",
    "\n",
    "print(y_pred_1,y_pred_2)  # 강의할때는 y_pred_1이 아니라 y_pred로 해서 결과가 다르게 나온것임"
   ]
  },
  {
   "cell_type": "code",
   "execution_count": 19,
   "metadata": {
    "colab": {
     "base_uri": "https://localhost:8080/"
    },
    "executionInfo": {
     "elapsed": 252,
     "status": "ok",
     "timestamp": 1633575306952,
     "user": {
      "displayName": "so pj",
      "photoUrl": "https://lh3.googleusercontent.com/a/default-user=s64",
      "userId": "02574474388741964814"
     },
     "user_tz": -540
    },
    "id": "rFaC67Gloj5b",
    "outputId": "23574c40-e2a9-4646-88c4-f12aab5d29b3"
   },
   "outputs": [
    {
     "name": "stdout",
     "output_type": "stream",
     "text": [
      "예측값 [0.04647271 0.07136649] - 정답 [0]\n",
      "예측값 [-0.10944191  0.67802054] - 정답 [1]\n",
      "예측값 [ 0.5333531  -0.81895924] - 정답 [1]\n",
      "예측값 [ 0.37743846 -0.21230519] - 정답 [1]\n"
     ]
    }
   ],
   "source": [
    "## 텐서제공 예측값 계산하기\n",
    "\n",
    "# predict(): 예측을 진행합니다.\n",
    "preds = model.predict(data)\n",
    "for a, b in zip(preds, label):\n",
    "    print(f\"예측값 {a} - 정답 {b}\")"
   ]
  },
  {
   "cell_type": "markdown",
   "metadata": {
    "id": "RXCJyW4lr9Bq"
   },
   "source": [
    "# 활성화함수\n",
    "- 현재 linear 함수를 사용했기 때문에 wx+b값이 되면서 결과값이 무한대의 숫자값중 한개가 나옴\n",
    "- linear를 sigmoid함수를 사용하면 0또는1의 사이값만 출력됨\n",
    "\n",
    "\n",
    "## \n",
    "활성화함수 (dense층의 결과를 계산하는 공식)\n",
    "\n",
    "\n",
    "중간Dense는 다음Dense에 넘어가기에 적합한 값을 의미 (Relu 라는 함수를 사용)\n",
    "\n",
    "최종Dense는 원하는 y값을 의미\n",
    "  y값은 무한대의 숫자인 선형회귀 이거나, 결과는 무한대의 숫자중 1개  (활성화함수 기재안함)\n",
    "        0또는1값중 한개인 이항분류이거나\n",
    "                                        결과1은 0또는1의 한개의 비트  (활성화함수 시그모이드)\n",
    "                                        결과2는 0값을[1,0] 1값을[0,1]의 두개의 비트로 표현하는 원핫인코딩(활성화함수 소프트맥스)\n",
    "        \n",
    "        여러개의 다항분류이거나  무조건 분류갯수만큼 원핫인코딩 (활성화함수 softmax)\n",
    "            예) 개,고양이,사자,사슴  4개의분류가 있으면 개는1, 고양이는2, 사자는3,사슴은4\n",
    "                개는[1,0,0,0]   고양이는[0,1,0,0,]  사자는 [0,0,1,0]  사슴은 [0,0,0,1]"
   ]
  },
  {
   "cell_type": "markdown",
   "metadata": {
    "id": "yqs5uuDBtMcE"
   },
   "source": [
    "## 활성화함수 linear함수"
   ]
  },
  {
   "cell_type": "code",
   "execution_count": 46,
   "metadata": {
    "colab": {
     "base_uri": "https://localhost:8080/"
    },
    "executionInfo": {
     "elapsed": 681,
     "status": "ok",
     "timestamp": 1633576058827,
     "user": {
      "displayName": "so pj",
      "photoUrl": "https://lh3.googleusercontent.com/a/default-user=s64",
      "userId": "02574474388741964814"
     },
     "user_tz": -540
    },
    "id": "XOsfdMO8sZBi",
    "outputId": "b7db891a-3b65-4313-abd3-94f869b6d235"
   },
   "outputs": [
    {
     "data": {
      "text/plain": [
       "<keras.callbacks.History at 0x7f26f46545d0>"
      ]
     },
     "execution_count": 46,
     "metadata": {},
     "output_type": "execute_result"
    }
   ],
   "source": [
    "data = np.array([[5, 20], [3, 0], [8, 1], [1, 1]])  # 입력데이터셋의 형태는 신경망의 input값에 사용됨. 입력의 갯수와 신경망의 input의갯수가 다르면 error\n",
    "label = np.array([[0], [1], [1], [1]]) \n",
    "\n",
    "model = Sequential() \n",
    "model.add(Dense(1, input_shape = (2,), activation = 'linear')) \n",
    "#model.add(Dense(1, input_shape = (2,))) # activation을 사용하지 않아도 선형식이 됨. 단 w,b의 랜덤값이 다르게 나옴\n",
    "\n",
    "model.compile(optimizer = SGD(), loss = mse, metrics = ['acc']) \n",
    "model.fit(data, label, epochs = 2,batch_size=1,verbose=0) # verbose=0 실행화면 안나옴"
   ]
  },
  {
   "cell_type": "code",
   "execution_count": 47,
   "metadata": {
    "colab": {
     "base_uri": "https://localhost:8080/"
    },
    "executionInfo": {
     "elapsed": 412,
     "status": "ok",
     "timestamp": 1633576061109,
     "user": {
      "displayName": "so pj",
      "photoUrl": "https://lh3.googleusercontent.com/a/default-user=s64",
      "userId": "02574474388741964814"
     },
     "user_tz": -540
    },
    "id": "JnLMngc9sgjW",
    "outputId": "0ef6aa4a-ad8e-4ba9-8b56-58397c4ceb82"
   },
   "outputs": [
    {
     "name": "stdout",
     "output_type": "stream",
     "text": [
      "예측값 [41.362] - 정답 [0]\n",
      "예측값 [-1.5218228] - 정답 [1]\n",
      "예측값 [-1.8910033] - 정답 [1]\n",
      "예측값 [1.6995274] - 정답 [1]\n"
     ]
    }
   ],
   "source": [
    "# linear 함수이기때문에 무한대의 숫자값이 나옴\n",
    "preds = model.predict(data)\n",
    "for a, b in zip(preds, label):\n",
    "    print(f\"예측값 {a} - 정답 {b}\")"
   ]
  },
  {
   "cell_type": "code",
   "execution_count": 49,
   "metadata": {
    "colab": {
     "base_uri": "https://localhost:8080/"
    },
    "executionInfo": {
     "elapsed": 249,
     "status": "ok",
     "timestamp": 1633576078310,
     "user": {
      "displayName": "so pj",
      "photoUrl": "https://lh3.googleusercontent.com/a/default-user=s64",
      "userId": "02574474388741964814"
     },
     "user_tz": -540
    },
    "id": "wHN7Ha2EthHi",
    "outputId": "8ad82e4c-1035-4875-c58a-10bcd54c7829"
   },
   "outputs": [
    {
     "data": {
      "text/plain": [
       "array([41.36199927, -1.52182282, -1.8910032 ,  1.69952749])"
      ]
     },
     "execution_count": 49,
     "metadata": {},
     "output_type": "execute_result"
    }
   ],
   "source": [
    "paramValue=model.get_weights()  # Param갯수만큼 출력됨.   [[w1,w2],[w1,w2]],[b,b]  ==> [[Dense1의 w1,w2],[Dense2의 w1,w2]],[Dense1의b,Dense2의b]\n",
    "\n",
    "# 직접 예측값 계산해보기\n",
    "x1=data[:,0] ; x2=data[:,1]\n",
    "w1=paramValue[0][0] ; w2=paramValue[0][1]; b=paramValue[1]\n",
    "y_pred=x1*w1+x2*w2+b\n",
    "y_pred"
   ]
  },
  {
   "cell_type": "markdown",
   "metadata": {
    "id": "CuSb4VxuuN1G"
   },
   "source": [
    "## 활성화함수 0과1값 사이만  나오게 하는 sigmoid"
   ]
  },
  {
   "cell_type": "code",
   "execution_count": 50,
   "metadata": {
    "colab": {
     "base_uri": "https://localhost:8080/"
    },
    "executionInfo": {
     "elapsed": 649,
     "status": "ok",
     "timestamp": 1633576118214,
     "user": {
      "displayName": "so pj",
      "photoUrl": "https://lh3.googleusercontent.com/a/default-user=s64",
      "userId": "02574474388741964814"
     },
     "user_tz": -540
    },
    "id": "IjyhQEVPuSis",
    "outputId": "e02d6a86-f5c0-49ce-c4fe-a6f019819ce0"
   },
   "outputs": [
    {
     "data": {
      "text/plain": [
       "<keras.callbacks.History at 0x7f26f45948d0>"
      ]
     },
     "execution_count": 50,
     "metadata": {},
     "output_type": "execute_result"
    }
   ],
   "source": [
    "data = np.array([[5, 20], [3, 0], [8, 1], [1, 1]])  # 입력데이터셋의 형태는 신경망의 input값에 사용됨. 입력의 갯수와 신경망의 input의갯수가 다르면 error\n",
    "label = np.array([[0], [1], [1], [1]]) \n",
    "\n",
    "model = Sequential() \n",
    "model.add(Dense(1, input_shape = (2,), activation = 'sigmoid')) \n",
    "#model.add(Dense(1, input_shape = (2,))) # activation을 사용하지 않아도 선형식이 됨. 단 w,b의 랜덤값이 다르게 나옴\n",
    "\n",
    "model.compile(optimizer = SGD(), loss = mse, metrics = ['acc']) \n",
    "model.fit(data, label, epochs = 2,batch_size=1,verbose=0) # verbose=0 실행화면 안나옴"
   ]
  },
  {
   "cell_type": "code",
   "execution_count": 52,
   "metadata": {
    "colab": {
     "base_uri": "https://localhost:8080/"
    },
    "executionInfo": {
     "elapsed": 361,
     "status": "ok",
     "timestamp": 1633576149378,
     "user": {
      "displayName": "so pj",
      "photoUrl": "https://lh3.googleusercontent.com/a/default-user=s64",
      "userId": "02574474388741964814"
     },
     "user_tz": -540
    },
    "id": "JlQwWDeNuYum",
    "outputId": "3abdf35d-ceb4-4d6e-b8fa-016a0d625e3d"
   },
   "outputs": [
    {
     "name": "stdout",
     "output_type": "stream",
     "text": [
      "예측값 [0.99987] - 정답 [0]\n",
      "예측값 [0.2829689] - 정답 [1]\n",
      "예측값 [0.12171587] - 정답 [1]\n",
      "예측값 [0.5558347] - 정답 [1]\n"
     ]
    }
   ],
   "source": [
    "# sigmoid 함수이기때문에 0또는1 사이의 숫자값이 나옴\n",
    "preds = model.predict(data)\n",
    "for a, b in zip(preds, label):\n",
    "    print(f\"예측값 {a} - 정답 {b}\")"
   ]
  },
  {
   "cell_type": "markdown",
   "metadata": {
    "id": "smRVNVI5uh2i"
   },
   "source": [
    "## 활성화함수 softmax함수"
   ]
  },
  {
   "cell_type": "code",
   "execution_count": 57,
   "metadata": {
    "colab": {
     "base_uri": "https://localhost:8080/"
    },
    "executionInfo": {
     "elapsed": 240,
     "status": "ok",
     "timestamp": 1633576410322,
     "user": {
      "displayName": "so pj",
      "photoUrl": "https://lh3.googleusercontent.com/a/default-user=s64",
      "userId": "02574474388741964814"
     },
     "user_tz": -540
    },
    "id": "EuOf0un1utNS",
    "outputId": "26fa2377-af98-44fd-df16-fdeb24e4375a"
   },
   "outputs": [
    {
     "name": "stdout",
     "output_type": "stream",
     "text": [
      "[[1. 0.]\n",
      " [0. 1.]\n",
      " [0. 1.]\n",
      " [0. 1.]]\n"
     ]
    }
   ],
   "source": [
    "data = np.array([[5, 20], [3, 0], [8, 1], [1, 1]])  # 입력데이터셋의 형태는 신경망의 input값에 사용됨. 입력의 갯수와 신경망의 input의갯수가 다르면 error\n",
    "label = np.array([[0], [1], [1], [1]]) \n",
    "\n",
    "label_onehot = tf.keras.utils.to_categorical(label,num_classes=2) \n",
    "print(label_onehot)\n"
   ]
  },
  {
   "cell_type": "code",
   "execution_count": 62,
   "metadata": {
    "colab": {
     "base_uri": "https://localhost:8080/"
    },
    "executionInfo": {
     "elapsed": 620,
     "status": "ok",
     "timestamp": 1633576483396,
     "user": {
      "displayName": "so pj",
      "photoUrl": "https://lh3.googleusercontent.com/a/default-user=s64",
      "userId": "02574474388741964814"
     },
     "user_tz": -540
    },
    "id": "4FHMmwQjuuhp",
    "outputId": "4a71bfdd-2ac8-4ca6-d2f4-58bd1e357f94"
   },
   "outputs": [
    {
     "data": {
      "text/plain": [
       "<keras.callbacks.History at 0x7f26f41a6290>"
      ]
     },
     "execution_count": 62,
     "metadata": {},
     "output_type": "execute_result"
    }
   ],
   "source": [
    "model = Sequential() \n",
    "model.add(Dense(2, input_shape = (2,), activation = 'softmax')) \n",
    "\n",
    "model.compile(optimizer = SGD(), loss = mse, metrics = ['acc']) \n",
    "model.fit(data, label_onehot, epochs = 2,batch_size=1,verbose=0) # verbose=0 실행화면 안나옴"
   ]
  },
  {
   "cell_type": "code",
   "execution_count": 64,
   "metadata": {
    "colab": {
     "base_uri": "https://localhost:8080/"
    },
    "executionInfo": {
     "elapsed": 241,
     "status": "ok",
     "timestamp": 1633576566885,
     "user": {
      "displayName": "so pj",
      "photoUrl": "https://lh3.googleusercontent.com/a/default-user=s64",
      "userId": "02574474388741964814"
     },
     "user_tz": -540
    },
    "id": "dd679qhJvlDG",
    "outputId": "67ed8c8f-e07c-4ea6-beeb-68edd8932187"
   },
   "outputs": [
    {
     "name": "stdout",
     "output_type": "stream",
     "text": [
      "예측값 [1.0000000e+00 1.2913601e-10] - 정답 [1. 0.]\n",
      "예측값 [0.45071217 0.54928786] - 정답 [0. 1.]\n",
      "예측값 [0.6634835 0.3365165] - 정답 [0. 1.]\n",
      "예측값 [0.74403864 0.25596133] - 정답 [0. 1.]\n"
     ]
    }
   ],
   "source": [
    "# sigmoid 함수이기때문에 0또는1 사이의 숫자값이 나옴\n",
    "preds = model.predict(data)\n",
    "for a, b in zip(preds, label_onehot):\n",
    "    print(f\"예측값 {a} - 정답 {b}\")"
   ]
  },
  {
   "cell_type": "code",
   "execution_count": null,
   "metadata": {
    "id": "PHpqFpi3ow77"
   },
   "outputs": [],
   "source": []
  },
  {
   "cell_type": "markdown",
   "metadata": {
    "id": "2DU-CT7VwJnM"
   },
   "source": [
    "# 정리\n",
    "- 인공신경망은 사용자가 x값의 input갯수와, 출력y값의 갯수\n",
    "y값의 활성화함수를 신경써야함. \n",
    "- model.add 에 dense를 구성하는 노드갯수를 설정하여 Param갯수를 정할수 있음\n",
    "- 최종 y값에 따라 활성화함수를 다르게 지정하여야함.\n",
    "- 활성화함수는 오차계산법도 다르게 지정하여야함.\n",
    "- 일반적으로\n",
    "    - 선형회귀는 mse, mae \n",
    "    - 시그모이드는 binary_crossentropy \n",
    "    - 소프트맥스는 categorical_crossentropy \n",
    "       - 단 onehot인코딩 안한상태에서 원핫인코딩하면서 오차 계산해주는 식 사용가능 SparseCategoricalCrossentropy\n",
    "\n",
    "\n",
    "\n",
    "- model.add가 많을수록 수많은 weight가 생성됨.\n",
    "- weight가 많으면 많을수록 훈련데이터에 잘 맞추어서 overffing(훈련만 잘맞고,검증은 잘 안맞음) 될수 있음.\n",
    "- 이 오버피팅을 없애는방법중 하나로 dense중간층에 dropout(비율)을 사용하기도함."
   ]
  },
  {
   "cell_type": "code",
   "execution_count": null,
   "metadata": {
    "id": "vgWvjvrFyZrl"
   },
   "outputs": [],
   "source": [
    "\n"
   ]
  }
 ],
 "metadata": {
  "colab": {
   "authorship_tag": "ABX9TyPFfwrQ3iSswlRK1gh+j7sK",
   "name": "1. 텐서첫걸음 모델의 이해_ 교재76.ipynb",
   "provenance": []
  },
  "kernelspec": {
   "display_name": "Python 3",
   "language": "python",
   "name": "python3"
  },
  "language_info": {
   "codemirror_mode": {
    "name": "ipython",
    "version": 3
   },
   "file_extension": ".py",
   "mimetype": "text/x-python",
   "name": "python",
   "nbconvert_exporter": "python",
   "pygments_lexer": "ipython3",
   "version": "3.8.8"
  }
 },
 "nbformat": 4,
 "nbformat_minor": 1
}

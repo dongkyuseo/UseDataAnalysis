{
  "nbformat": 4,
  "nbformat_minor": 0,
  "metadata": {
    "colab": {
      "name": "01_텐서플로우_수업정리.ipynb",
      "provenance": []
    },
    "kernelspec": {
      "name": "python3",
      "display_name": "Python 3"
    },
    "language_info": {
      "name": "python"
    }
  },
  "cells": [
    {
      "cell_type": "code",
      "metadata": {
        "id": "FtN1V4fEAwX4"
      },
      "source": [
        "import tensorflow as tf"
      ],
      "execution_count": 1,
      "outputs": []
    },
    {
      "cell_type": "code",
      "metadata": {
        "id": "GXZ4u6rxZMox"
      },
      "source": [
        "tf.random.set_seed(777) # 시드를 설정합니다"
      ],
      "execution_count": 2,
      "outputs": []
    },
    {
      "cell_type": "code",
      "metadata": {
        "id": "YOjohkjHZQzj"
      },
      "source": [
        "import numpy as np\n",
        "from tensorflow.keras.models import Sequential # 문법을 간단히 하기 위함, 층을 구성하겠다\n",
        "from tensorflow.keras.layers import Dense      # 층을 구성하는 함수, 층에대한 노드갯수를 지정\n",
        "from tensorflow.keras.optimizers import SGD    # 최적화 함수에 대하여 설정\n",
        "from tensorflow.keras.losses import mse        # 로스 지정"
      ],
      "execution_count": 3,
      "outputs": []
    },
    {
      "cell_type": "code",
      "metadata": {
        "colab": {
          "base_uri": "https://localhost:8080/"
        },
        "id": "ImrL7I0FhAZG",
        "outputId": "99c01a34-d99a-4e8b-fb47-f9fc8b6569c7"
      },
      "source": [
        "# 데이터 준비하기(선형회귀)\n",
        "data = np.array([[0,0], [1,0], [0,1], [1,1]]) # 입력 데이터셋의 형태는 신경망의 input값에 사용됨. 입력의 갯수와 신경망의 input의 갯수가 다르면 error\n",
        "label = np.array([[0], [1], [1], [1]]) # y 값의 결과에 따라 다양한 활성화 함수가 사용됨.\n",
        "\n",
        "np.shape(data)"
      ],
      "execution_count": 20,
      "outputs": [
        {
          "output_type": "execute_result",
          "data": {
            "text/plain": [
              "(4, 2)"
            ]
          },
          "metadata": {},
          "execution_count": 20
        }
      ]
    },
    {
      "cell_type": "markdown",
      "metadata": {
        "id": "iXrasBz1mDdB"
      },
      "source": [
        "## 인공신경망 모델\n",
        "- 배치사이즈 : 오차 계산하고 w,b값 갱신할 데이터 단위\n",
        "- 현재 4개의 x값이 있으며 배치를 1로하면 1번째 데이터/ 4개의 모든 데이터중, 2/4, 3/4, 4/4 임\n",
        "- 배치를 3으로하면 1(1,2,3데이터),/ 4,2(4번째데이터)/4 임\n",
        "- 배치사이즈는 사용자가 정의하지 않아도 됨(optimizer에서 배치를 자동으로 결정함)\n",
        "- epochs: 전체데이터에서 반복할 횟수"
      ]
    },
    {
      "cell_type": "code",
      "metadata": {
        "colab": {
          "base_uri": "https://localhost:8080/"
        },
        "id": "RH3jxUuwZ3PS",
        "outputId": "6637bc24-d773-4622-b889-9487ff8962af"
      },
      "source": [
        "\n",
        "#모델구성하기\n",
        "model = Sequential() # tensorflow.keras.models.Sequential()\n",
        "model.add(Dense(2, input_shape = (2,), activation = 'linear')) # 활성화 함수 wx+b\n",
        "model.add(Dense(1, activation = 'linear')) # 활성화 함수 wx+b\n",
        "              # 층 2개, data[0,0]의 데이터 갯수 를의미, linear = wx+b\n",
        "\n",
        "# 모델 준비하기\n",
        "model.compile(optimizer=SGD(), loss = mse, metrics = ['acc']) # list 형태로 평가지표를 전달함\n",
        "\n",
        "# 학습시키기\n",
        "model.fit(data, label, epochs = 2, batch_size= 1)"
      ],
      "execution_count": 35,
      "outputs": [
        {
          "output_type": "stream",
          "name": "stdout",
          "text": [
            "Epoch 1/2\n",
            "4/4 [==============================] - 0s 2ms/step - loss: 0.1324 - acc: 0.7500\n",
            "Epoch 2/2\n",
            "4/4 [==============================] - 0s 2ms/step - loss: 0.1266 - acc: 0.7500\n"
          ]
        },
        {
          "output_type": "execute_result",
          "data": {
            "text/plain": [
              "<keras.callbacks.History at 0x7f5ea6caecd0>"
            ]
          },
          "metadata": {},
          "execution_count": 35
        }
      ]
    },
    {
      "cell_type": "code",
      "metadata": {
        "colab": {
          "base_uri": "https://localhost:8080/"
        },
        "id": "uFCV4srxhX_u",
        "outputId": "6cf66830-6480-46e6-d972-a57e65830d21"
      },
      "source": [
        "model.summary()"
      ],
      "execution_count": 36,
      "outputs": [
        {
          "output_type": "stream",
          "name": "stdout",
          "text": [
            "Model: \"sequential_12\"\n",
            "_________________________________________________________________\n",
            "Layer (type)                 Output Shape              Param #   \n",
            "=================================================================\n",
            "dense_12 (Dense)             (None, 2)                 6         \n",
            "_________________________________________________________________\n",
            "dense_13 (Dense)             (None, 1)                 3         \n",
            "=================================================================\n",
            "Total params: 9\n",
            "Trainable params: 9\n",
            "Non-trainable params: 0\n",
            "_________________________________________________________________\n"
          ]
        }
      ]
    },
    {
      "cell_type": "code",
      "metadata": {
        "colab": {
          "base_uri": "https://localhost:8080/"
        },
        "id": "2S218Wy_htf9",
        "outputId": "689eb3cd-ac5a-404f-edcb-6b4336624aca"
      },
      "source": [
        "# Dense 층이 2개로 되어 층이 2개가 생김\n",
        "\n",
        "model.get_weights()\n",
        "# [w1-1, 1-2], [w2-1, 2-2], [b1, b2]"
      ],
      "execution_count": 37,
      "outputs": [
        {
          "output_type": "execute_result",
          "data": {
            "text/plain": [
              "[array([[ 0.8200642 , -0.51085764],\n",
              "        [ 0.01414693, -0.6049201 ]], dtype=float32),\n",
              " array([ 0.01296437, -0.00963994], dtype=float32),\n",
              " array([[ 0.7287892 ],\n",
              "        [-0.55357766]], dtype=float32),\n",
              " array([0.01767095], dtype=float32)]"
            ]
          },
          "metadata": {},
          "execution_count": 37
        }
      ]
    },
    {
      "cell_type": "code",
      "metadata": {
        "colab": {
          "base_uri": "https://localhost:8080/"
        },
        "id": "3xb0PURIh9-u",
        "outputId": "3e0771c1-5fdc-4cb4-f63b-473da1525314"
      },
      "source": [
        "\n",
        "#모델구성하기\n",
        "model = Sequential() # tensorflow.keras.models.Sequential()\n",
        "model.add(Dense(1, input_shape = (2,), activation = 'linear')) # 활성화 함수 wx+b\n",
        "            # 층 1개, data[0,0]의 데이터 갯수 를의미, linear = wx+b\n",
        "\n",
        "# 모델 준비하기\n",
        "model.compile(optimizer=SGD(), loss = mse, metrics = ['acc']) # list 형태로 평가지표를 전달함\n",
        "\n",
        "# 학습시키기\n",
        "model.fit(data, label, epochs = 10, batch_size= 1)"
      ],
      "execution_count": 31,
      "outputs": [
        {
          "output_type": "stream",
          "name": "stdout",
          "text": [
            "Epoch 1/10\n",
            "4/4 [==============================] - 0s 3ms/step - loss: 0.2906 - acc: 0.7500\n",
            "Epoch 2/10\n",
            "4/4 [==============================] - 0s 2ms/step - loss: 0.2801 - acc: 0.7500\n",
            "Epoch 3/10\n",
            "4/4 [==============================] - 0s 2ms/step - loss: 0.2701 - acc: 0.7500\n",
            "Epoch 4/10\n",
            "4/4 [==============================] - 0s 2ms/step - loss: 0.2609 - acc: 0.7500\n",
            "Epoch 5/10\n",
            "4/4 [==============================] - 0s 2ms/step - loss: 0.2525 - acc: 0.7500\n",
            "Epoch 6/10\n",
            "4/4 [==============================] - 0s 3ms/step - loss: 0.2445 - acc: 0.7500\n",
            "Epoch 7/10\n",
            "4/4 [==============================] - 0s 2ms/step - loss: 0.2366 - acc: 0.7500\n",
            "Epoch 8/10\n",
            "4/4 [==============================] - 0s 3ms/step - loss: 0.2295 - acc: 0.7500\n",
            "Epoch 9/10\n",
            "4/4 [==============================] - 0s 2ms/step - loss: 0.2228 - acc: 0.7500\n",
            "Epoch 10/10\n",
            "4/4 [==============================] - 0s 3ms/step - loss: 0.2166 - acc: 0.7500\n"
          ]
        },
        {
          "output_type": "execute_result",
          "data": {
            "text/plain": [
              "<keras.callbacks.History at 0x7f5ea6ca8e10>"
            ]
          },
          "metadata": {},
          "execution_count": 31
        }
      ]
    },
    {
      "cell_type": "code",
      "metadata": {
        "colab": {
          "base_uri": "https://localhost:8080/"
        },
        "id": "3BC5Je6SamoL",
        "outputId": "9137243e-7ae3-460f-ef35-e1a83ca39067"
      },
      "source": [
        "# x1과 x2의 자료를 가지고, x1의 w1, x2의 w2, b 한개\n",
        "# model.get_weights() = [w1, w2], b\n",
        "\n",
        "model.get_weights()"
      ],
      "execution_count": 32,
      "outputs": [
        {
          "output_type": "execute_result",
          "data": {
            "text/plain": [
              "[array([[1.1371895 ],\n",
              "        [0.11297257]], dtype=float32), array([0.06839774], dtype=float32)]"
            ]
          },
          "metadata": {},
          "execution_count": 32
        }
      ]
    },
    {
      "cell_type": "code",
      "metadata": {
        "colab": {
          "base_uri": "https://localhost:8080/"
        },
        "id": "jPd8o9gwbUar",
        "outputId": "e82aab13-07fa-4877-9ec7-91cbd86a9299"
      },
      "source": [
        "we = model.get_weights()\n",
        "w1 = we[0][0] # x1의 w1\n",
        "w2 = we[0][1] # x2의 w2\n",
        "b = we[1]    # b\n",
        "\n",
        "y_pred = data[:,0]*w1+data[:,1]*w2+b\n",
        "y_pred"
      ],
      "execution_count": 33,
      "outputs": [
        {
          "output_type": "execute_result",
          "data": {
            "text/plain": [
              "array([0.06839774, 1.20558725, 0.18137031, 1.31855982])"
            ]
          },
          "metadata": {},
          "execution_count": 33
        }
      ]
    },
    {
      "cell_type": "code",
      "metadata": {
        "colab": {
          "base_uri": "https://localhost:8080/"
        },
        "id": "iyfiynLycgxl",
        "outputId": "2d79bf51-8db8-4852-cf18-9ce58eec5a8f"
      },
      "source": [
        "# Param y값을 계산하기 위한 노드의 갯수(x의 갯수 + 1 (b는 1* b 를 더해주기 때문))\n",
        "# 현재 노드 x1, x2, b 항\n",
        "# 여기에 계산되는 가중치가 Param의 갯수임(3 = w1, w2, b)\n",
        "# w는 같은 배열에 넣고 [w1, w2]\n",
        "# b는 한개의 항으로 제공 b\n",
        "model.summary()"
      ],
      "execution_count": 34,
      "outputs": [
        {
          "output_type": "stream",
          "name": "stdout",
          "text": [
            "Model: \"sequential_11\"\n",
            "_________________________________________________________________\n",
            "Layer (type)                 Output Shape              Param #   \n",
            "=================================================================\n",
            "dense_11 (Dense)             (None, 1)                 3         \n",
            "=================================================================\n",
            "Total params: 3\n",
            "Trainable params: 3\n",
            "Non-trainable params: 0\n",
            "_________________________________________________________________\n"
          ]
        }
      ]
    },
    {
      "cell_type": "code",
      "metadata": {
        "colab": {
          "base_uri": "https://localhost:8080/"
        },
        "id": "Xt9MeSTuc3pD",
        "outputId": "30cf5aef-203d-4393-efd6-651c08e54dfb"
      },
      "source": [
        "# evaluate(): 평가를 진행합니다\n",
        "model.evaluate(data, label)\n",
        "\n",
        "# predict(): 예측을 합니다\n",
        "preds = model.predict(data)\n",
        "for a, b in zip(preds, label):\n",
        "  print(f'예측값 {a} - 정답{b} ')\n"
      ],
      "execution_count": 26,
      "outputs": [
        {
          "output_type": "stream",
          "name": "stdout",
          "text": [
            "1/1 [==============================] - 0s 132ms/step - loss: 0.1575 - acc: 0.2500\n",
            "예측값 [0.00581406 0.01011508] - 정답[0] \n",
            "예측값 [1.1174381 0.9463097] - 정답[1] \n",
            "예측값 [0.23556681 0.3083048 ] - 정답[1] \n",
            "예측값 [1.3471909 1.2444993] - 정답[1] \n"
          ]
        }
      ]
    },
    {
      "cell_type": "code",
      "metadata": {
        "id": "45vN2hzCjQnn"
      },
      "source": [
        "# 위 내용은 정형 데이터셋에 사용되는 방법론임 \n",
        "# 컴퓨터가 W와 b를 어떻게 인지하는지에 대해"
      ],
      "execution_count": 27,
      "outputs": []
    },
    {
      "cell_type": "markdown",
      "metadata": {
        "id": "-meJHfB7o3Kj"
      },
      "source": [
        "## 활성화함수\n",
        "Dense층의 결과를 계산하는 공식임\n",
        "\n",
        "중간 Dense는 다음Dense에 넘어가기에 적합한 중간값 (대부분 Relu라는 함수를 사용함)(Relu : min = 0, max = 1)\n",
        "\n",
        "최종 Dense는 원하는 y값을 의미함\n",
        "- y값은 무한대의 숫자인 선형회귀이거나, \n",
        "> 결과는 무한대의 숫자중 1개 (활성화함수 기재안함)\n",
        "- 0 또는 1값중 한개인 이항분류이거나, \n",
        "> 결과1은 0또는 1의 한개의 비트 (활성화함수 시그모이드)\n",
        "> 결과2는 [1,0], [0,1]의 두개의 비트로 표현(활성화함수 소프트맥스)\n",
        "- 여러개의 다항분류이거나, 무조건 분류갯수만큼 원핫인코딩함\n",
        "> ex) 개, 고양이, 사자, 사슴 4개의 분류가있으면 개는 1, 고양이 2, 사자는 3, 사슴은 4, 개[1,0,0,0], 고양이는 [0,1,0,0] 과 같이 표현(활성화함수 소프트맥스)"
      ]
    },
    {
      "cell_type": "code",
      "metadata": {
        "id": "tXI8_b3QqfpX"
      },
      "source": [
        ""
      ],
      "execution_count": null,
      "outputs": []
    }
  ]
}